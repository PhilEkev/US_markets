{
 "cells": [
  {
   "cell_type": "markdown",
   "id": "ddbb6f22",
   "metadata": {},
   "source": [
    "# Baseline model"
   ]
  },
  {
   "cell_type": "code",
   "execution_count": 1,
   "id": "4659f4c3",
   "metadata": {},
   "outputs": [],
   "source": [
    "#Imports\n",
    "from sklearn.metrics import mean_squared_error,r2_score\n",
    "import pandas as pd\n",
    "import datetime as dt\n",
    "import numpy as np\n",
    "import matplotlib.pyplot as plt\n",
    "%matplotlib inline"
   ]
  },
  {
   "cell_type": "code",
   "execution_count": 2,
   "id": "708b318e",
   "metadata": {},
   "outputs": [],
   "source": [
    "#Load DataFrame\n",
    "df = pd.read_csv('../raw_data/stock_prices_latest.csv',nrows=20000)"
   ]
  },
  {
   "cell_type": "code",
   "execution_count": null,
   "id": "e5b07d6a",
   "metadata": {},
   "outputs": [],
   "source": [
    "#Have a look at data\n",
    "df"
   ]
  },
  {
   "cell_type": "code",
   "execution_count": 3,
   "id": "28bf3eaa",
   "metadata": {},
   "outputs": [],
   "source": [
    "#Convert to datetime\n",
    "df['date'] = pd.to_datetime(df['date'])"
   ]
  },
  {
   "cell_type": "code",
   "execution_count": 4,
   "id": "61959e1b",
   "metadata": {},
   "outputs": [],
   "source": [
    "#Create Df's to plot (MSFT uniquement pour le BASELINE)\n",
    "df0=df[df['symbol']=='MSFT'].reset_index()#symbols_lst[0]].reset_index()\n",
    "df0 = df0[(df0.date.dt.year >= 2018 ) & (df0.date.dt.year <= 2018)]\n",
    "df0 = df0[['date','close_adjusted']]\n",
    "df0.columns = ['ds', 'y']\n",
    "df0.sort_values(by=['ds'],inplace=True)"
   ]
  },
  {
   "cell_type": "code",
   "execution_count": 5,
   "id": "89b92529",
   "metadata": {},
   "outputs": [],
   "source": [
    "#Create Baseline df's\n",
    "df0.reset_index(inplace=True)"
   ]
  },
  {
   "cell_type": "code",
   "execution_count": 6,
   "id": "3d3cd50c",
   "metadata": {},
   "outputs": [],
   "source": [
    "df0.drop(['index'],axis=1,inplace=True)"
   ]
  },
  {
   "cell_type": "code",
   "execution_count": 7,
   "id": "fa06a6bd",
   "metadata": {},
   "outputs": [],
   "source": [
    "for i in df0['y'].index:\n",
    "    if i > 0:\n",
    "        df0['yhat']=df0['y'].shift(1)"
   ]
  },
  {
   "cell_type": "code",
   "execution_count": 8,
   "id": "6b1abe25",
   "metadata": {},
   "outputs": [],
   "source": [
    "df0.dropna(inplace=True)"
   ]
  },
  {
   "cell_type": "code",
   "execution_count": null,
   "id": "af73ab47",
   "metadata": {},
   "outputs": [],
   "source": []
  }
 ],
 "metadata": {
  "kernelspec": {
   "display_name": "Python 3",
   "language": "python",
   "name": "python3"
  },
  "language_info": {
   "codemirror_mode": {
    "name": "ipython",
    "version": 3
   },
   "file_extension": ".py",
   "mimetype": "text/x-python",
   "name": "python",
   "nbconvert_exporter": "python",
   "pygments_lexer": "ipython3",
   "version": "3.8.6"
  },
  "toc": {
   "base_numbering": 1,
   "nav_menu": {},
   "number_sections": true,
   "sideBar": true,
   "skip_h1_title": false,
   "title_cell": "Table of Contents",
   "title_sidebar": "Contents",
   "toc_cell": false,
   "toc_position": {},
   "toc_section_display": true,
   "toc_window_display": false
  }
 },
 "nbformat": 4,
 "nbformat_minor": 5
}
