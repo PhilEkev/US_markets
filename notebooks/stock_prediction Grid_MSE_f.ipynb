{
 "cells": [
  {
   "cell_type": "markdown",
   "metadata": {
    "id": "k_Djzu2SAl-H"
   },
   "source": [
    "# Predict Stock price\n",
    "\n",
    "This is a notebook illustrating how to predict stock price from [Yahoo Finance](https://finance.yahoo.com/) data with a recurrent neural network."
   ]
  },
  {
   "cell_type": "code",
   "execution_count": 1,
   "metadata": {
    "colab": {
     "base_uri": "https://localhost:8080/"
    },
    "id": "1UmAmERoB7kG",
    "outputId": "97c7c3a9-b4d8-437f-a24e-a6144440d341"
   },
   "outputs": [
    {
     "name": "stdout",
     "output_type": "stream",
     "text": [
      "Requirement already satisfied: yfinance in /home/fawn/.pyenv/versions/3.8.6/envs/lewagon/lib/python3.8/site-packages (0.1.59)\n",
      "Requirement already satisfied: multitasking>=0.0.7 in /home/fawn/.pyenv/versions/3.8.6/envs/lewagon/lib/python3.8/site-packages (from yfinance) (0.0.9)\n",
      "Requirement already satisfied: requests>=2.20 in /home/fawn/.pyenv/versions/3.8.6/envs/lewagon/lib/python3.8/site-packages (from yfinance) (2.25.1)\n",
      "Requirement already satisfied: numpy>=1.15 in /home/fawn/.pyenv/versions/3.8.6/envs/lewagon/lib/python3.8/site-packages (from yfinance) (1.18.5)\n",
      "Requirement already satisfied: lxml>=4.5.1 in /home/fawn/.pyenv/versions/3.8.6/envs/lewagon/lib/python3.8/site-packages (from yfinance) (4.6.3)\n",
      "Requirement already satisfied: pandas>=0.24 in /home/fawn/.pyenv/versions/3.8.6/envs/lewagon/lib/python3.8/site-packages (from yfinance) (1.2.4)\n",
      "Requirement already satisfied: pytz>=2017.3 in /home/fawn/.pyenv/versions/3.8.6/envs/lewagon/lib/python3.8/site-packages (from pandas>=0.24->yfinance) (2021.1)\n",
      "Requirement already satisfied: python-dateutil>=2.7.3 in /home/fawn/.pyenv/versions/3.8.6/envs/lewagon/lib/python3.8/site-packages (from pandas>=0.24->yfinance) (2.8.1)\n",
      "Requirement already satisfied: six>=1.5 in /home/fawn/.pyenv/versions/3.8.6/envs/lewagon/lib/python3.8/site-packages (from python-dateutil>=2.7.3->pandas>=0.24->yfinance) (1.15.0)\n",
      "Requirement already satisfied: chardet<5,>=3.0.2 in /home/fawn/.pyenv/versions/3.8.6/envs/lewagon/lib/python3.8/site-packages (from requests>=2.20->yfinance) (4.0.0)\n",
      "Requirement already satisfied: certifi>=2017.4.17 in /home/fawn/.pyenv/versions/3.8.6/envs/lewagon/lib/python3.8/site-packages (from requests>=2.20->yfinance) (2020.12.5)\n",
      "Requirement already satisfied: urllib3<1.27,>=1.21.1 in /home/fawn/.pyenv/versions/3.8.6/envs/lewagon/lib/python3.8/site-packages (from requests>=2.20->yfinance) (1.26.4)\n",
      "Requirement already satisfied: idna<3,>=2.5 in /home/fawn/.pyenv/versions/3.8.6/envs/lewagon/lib/python3.8/site-packages (from requests>=2.20->yfinance) (2.10)\n"
     ]
    }
   ],
   "source": [
    "# Install library for fetching Yahoo Finance data\n",
    "!pip install yfinance"
   ]
  },
  {
   "cell_type": "code",
   "execution_count": 2,
   "metadata": {
    "id": "Et_lSzUwCEat"
   },
   "outputs": [],
   "source": [
    "import yfinance as yf\n",
    "import matplotlib.pyplot as plt\n",
    "from pandas import DataFrame, Series\n",
    "from typing import Dict, List, Tuple, Union\n",
    "from numpy import array, arange, zeros\n",
    "from numpy.random import permutation, randint, uniform\n",
    "from pathlib import Path\n",
    "from datetime import datetime, timedelta\n",
    "\n",
    "plt.rcParams['figure.figsize'] = [12, 9]  # plot larger than default"
   ]
  },
  {
   "cell_type": "markdown",
   "metadata": {
    "id": "6SuxbKnF25Rv"
   },
   "source": [
    "Define some constants (adapt the values to your use case):"
   ]
  },
  {
   "cell_type": "code",
   "execution_count": 3,
   "metadata": {
    "id": "dUmkwqnnETdz"
   },
   "outputs": [],
   "source": [
    "stock = 'AAPL'\n",
    "# Train model with daily data between `start` and `end`\n",
    "start = (datetime.now() - timedelta(days=3*365+1)).strftime(\"%Y-%m-%d\")\n",
    "end = (datetime.now() - timedelta(days=1)).strftime(\"%Y-%m-%d\")\n",
    "target = 'Adj Close'\n",
    "# We will use the `n_prior` previous days to predict the nex `n_to_predict` days\n",
    "n_prior = 30\n",
    "n_to_predict = 7\n",
    "# Proportion of validation and test data\n",
    "p_val = .1\n",
    "p_test = .2 "
   ]
  },
  {
   "cell_type": "markdown",
   "metadata": {
    "id": "ueSqgtuxDe1C"
   },
   "source": [
    "## Fetching data\n",
    "Fetch data directly from the *yfinance* library"
   ]
  },
  {
   "cell_type": "code",
   "execution_count": 4,
   "metadata": {
    "colab": {
     "base_uri": "https://localhost:8080/"
    },
    "id": "S-HD3SLCApHj",
    "outputId": "557cb66d-ea0d-4330-e121-7acd2b48dc7e"
   },
   "outputs": [
    {
     "name": "stdout",
     "output_type": "stream",
     "text": [
      "[*********************100%***********************]  1 of 1 completed\n"
     ]
    }
   ],
   "source": [
    "data = yf.download(tickers=stock, period='1d', start=start, end=end)"
   ]
  },
  {
   "cell_type": "code",
   "execution_count": 5,
   "metadata": {
    "colab": {
     "base_uri": "https://localhost:8080/",
     "height": 455
    },
    "id": "BMuJUezaBOlG",
    "outputId": "36043ebf-73c8-4291-f571-8f41a5e89b80"
   },
   "outputs": [
    {
     "data": {
      "text/html": [
       "<div>\n",
       "<style scoped>\n",
       "    .dataframe tbody tr th:only-of-type {\n",
       "        vertical-align: middle;\n",
       "    }\n",
       "\n",
       "    .dataframe tbody tr th {\n",
       "        vertical-align: top;\n",
       "    }\n",
       "\n",
       "    .dataframe thead th {\n",
       "        text-align: right;\n",
       "    }\n",
       "</style>\n",
       "<table border=\"1\" class=\"dataframe\">\n",
       "  <thead>\n",
       "    <tr style=\"text-align: right;\">\n",
       "      <th></th>\n",
       "      <th>Open</th>\n",
       "      <th>High</th>\n",
       "      <th>Low</th>\n",
       "      <th>Close</th>\n",
       "      <th>Adj Close</th>\n",
       "      <th>Volume</th>\n",
       "    </tr>\n",
       "    <tr>\n",
       "      <th>Date</th>\n",
       "      <th></th>\n",
       "      <th></th>\n",
       "      <th></th>\n",
       "      <th></th>\n",
       "      <th></th>\n",
       "      <th></th>\n",
       "    </tr>\n",
       "  </thead>\n",
       "  <tbody>\n",
       "    <tr>\n",
       "      <th>2018-06-14</th>\n",
       "      <td>47.887501</td>\n",
       "      <td>47.892502</td>\n",
       "      <td>47.555000</td>\n",
       "      <td>47.700001</td>\n",
       "      <td>46.119915</td>\n",
       "      <td>86440400</td>\n",
       "    </tr>\n",
       "    <tr>\n",
       "      <th>2018-06-15</th>\n",
       "      <td>47.507500</td>\n",
       "      <td>47.540001</td>\n",
       "      <td>47.064999</td>\n",
       "      <td>47.209999</td>\n",
       "      <td>45.646137</td>\n",
       "      <td>246876800</td>\n",
       "    </tr>\n",
       "    <tr>\n",
       "      <th>2018-06-18</th>\n",
       "      <td>46.970001</td>\n",
       "      <td>47.305000</td>\n",
       "      <td>46.799999</td>\n",
       "      <td>47.185001</td>\n",
       "      <td>45.621964</td>\n",
       "      <td>73939600</td>\n",
       "    </tr>\n",
       "    <tr>\n",
       "      <th>2018-06-19</th>\n",
       "      <td>46.285000</td>\n",
       "      <td>46.582500</td>\n",
       "      <td>45.862499</td>\n",
       "      <td>46.422501</td>\n",
       "      <td>44.884731</td>\n",
       "      <td>134314000</td>\n",
       "    </tr>\n",
       "    <tr>\n",
       "      <th>2018-06-20</th>\n",
       "      <td>46.587502</td>\n",
       "      <td>46.799999</td>\n",
       "      <td>46.432499</td>\n",
       "      <td>46.625000</td>\n",
       "      <td>45.080524</td>\n",
       "      <td>82514800</td>\n",
       "    </tr>\n",
       "    <tr>\n",
       "      <th>...</th>\n",
       "      <td>...</td>\n",
       "      <td>...</td>\n",
       "      <td>...</td>\n",
       "      <td>...</td>\n",
       "      <td>...</td>\n",
       "      <td>...</td>\n",
       "    </tr>\n",
       "    <tr>\n",
       "      <th>2021-06-07</th>\n",
       "      <td>126.169998</td>\n",
       "      <td>126.320000</td>\n",
       "      <td>124.830002</td>\n",
       "      <td>125.900002</td>\n",
       "      <td>125.900002</td>\n",
       "      <td>71057600</td>\n",
       "    </tr>\n",
       "    <tr>\n",
       "      <th>2021-06-08</th>\n",
       "      <td>126.599998</td>\n",
       "      <td>128.460007</td>\n",
       "      <td>126.209999</td>\n",
       "      <td>126.739998</td>\n",
       "      <td>126.739998</td>\n",
       "      <td>74403800</td>\n",
       "    </tr>\n",
       "    <tr>\n",
       "      <th>2021-06-09</th>\n",
       "      <td>127.209999</td>\n",
       "      <td>127.750000</td>\n",
       "      <td>126.519997</td>\n",
       "      <td>127.129997</td>\n",
       "      <td>127.129997</td>\n",
       "      <td>56877900</td>\n",
       "    </tr>\n",
       "    <tr>\n",
       "      <th>2021-06-10</th>\n",
       "      <td>127.019997</td>\n",
       "      <td>128.190002</td>\n",
       "      <td>125.940002</td>\n",
       "      <td>126.110001</td>\n",
       "      <td>126.110001</td>\n",
       "      <td>71186400</td>\n",
       "    </tr>\n",
       "    <tr>\n",
       "      <th>2021-06-11</th>\n",
       "      <td>126.529999</td>\n",
       "      <td>127.440002</td>\n",
       "      <td>126.099998</td>\n",
       "      <td>127.349998</td>\n",
       "      <td>127.349998</td>\n",
       "      <td>53415300</td>\n",
       "    </tr>\n",
       "  </tbody>\n",
       "</table>\n",
       "<p>754 rows × 6 columns</p>\n",
       "</div>"
      ],
      "text/plain": [
       "                  Open        High         Low       Close   Adj Close  \\\n",
       "Date                                                                     \n",
       "2018-06-14   47.887501   47.892502   47.555000   47.700001   46.119915   \n",
       "2018-06-15   47.507500   47.540001   47.064999   47.209999   45.646137   \n",
       "2018-06-18   46.970001   47.305000   46.799999   47.185001   45.621964   \n",
       "2018-06-19   46.285000   46.582500   45.862499   46.422501   44.884731   \n",
       "2018-06-20   46.587502   46.799999   46.432499   46.625000   45.080524   \n",
       "...                ...         ...         ...         ...         ...   \n",
       "2021-06-07  126.169998  126.320000  124.830002  125.900002  125.900002   \n",
       "2021-06-08  126.599998  128.460007  126.209999  126.739998  126.739998   \n",
       "2021-06-09  127.209999  127.750000  126.519997  127.129997  127.129997   \n",
       "2021-06-10  127.019997  128.190002  125.940002  126.110001  126.110001   \n",
       "2021-06-11  126.529999  127.440002  126.099998  127.349998  127.349998   \n",
       "\n",
       "               Volume  \n",
       "Date                   \n",
       "2018-06-14   86440400  \n",
       "2018-06-15  246876800  \n",
       "2018-06-18   73939600  \n",
       "2018-06-19  134314000  \n",
       "2018-06-20   82514800  \n",
       "...               ...  \n",
       "2021-06-07   71057600  \n",
       "2021-06-08   74403800  \n",
       "2021-06-09   56877900  \n",
       "2021-06-10   71186400  \n",
       "2021-06-11   53415300  \n",
       "\n",
       "[754 rows x 6 columns]"
      ]
     },
     "execution_count": 5,
     "metadata": {},
     "output_type": "execute_result"
    }
   ],
   "source": [
    "data"
   ]
  },
  {
   "cell_type": "markdown",
   "metadata": {
    "id": "rJ3v3bHhD4YX"
   },
   "source": [
    "We want only the `target` values:"
   ]
  },
  {
   "cell_type": "code",
   "execution_count": 6,
   "metadata": {
    "id": "Rk5S7Px-BV_R"
   },
   "outputs": [],
   "source": [
    "data = data[[target]]"
   ]
  },
  {
   "cell_type": "code",
   "execution_count": 7,
   "metadata": {
    "colab": {
     "base_uri": "https://localhost:8080/",
     "height": 538
    },
    "id": "_alp-YAED-lM",
    "outputId": "da0d697e-1ed3-4d28-9427-00ee4c75b271"
   },
   "outputs": [
    {
     "data": {
      "image/png": "[encoded data removed]",
      "text/plain": [
       "<Figure size 864x648 with 1 Axes>"
      ]
     },
     "metadata": {
      "needs_background": "light"
     },
     "output_type": "display_data"
    }
   ],
   "source": [
    "data.plot()\n",
    "plt.xlabel(f'Date')\n",
    "plt.ylabel(f'{stock} price ($)')\n",
    "plt.title(f'{stock} price between {start} and {end}')\n",
    "plt.show()"
   ]
  },
  {
   "cell_type": "markdown",
   "metadata": {
    "id": "AULpGIBSIqb2"
   },
   "source": [
    "## Prepare training data\n",
    "First we define a function `build_x_y()` that will take slices from the column `target` of `data`. Each slice will be split into a range of `n_prior` days for `X` and the following `n_to_predict` day for `y`.\n",
    "\n",
    "### Create `X` and `y`"
   ]
  },
  {
   "cell_type": "code",
   "execution_count": 8,
   "metadata": {
    "id": "x9OKE8gyGllO"
   },
   "outputs": [],
   "source": [
    "def build_x_y(data: DataFrame, target: str = 'Close',  n_prior: int = 21, \n",
    "              n_to_predict: int = 14) -> Tuple[array, array]:\n",
    "    \"\"\" Split `df` into X and y. X is a 2-dimensional numpy array. The first \n",
    "    dimension corresponds to the sample, the second to the sequence in a sample \n",
    "    and the third to the features in each element of the sequence. `y` is a \n",
    "    2-dimensional array, the first is for the samples and the second for the \n",
    "    output values of the corresponding sequence.\n",
    "\n",
    "    Args:\n",
    "        data (DataFrame): Preprocessed input dataset\n",
    "        target (str, optional): Column name of the target variable in `data`. \n",
    "            Defaults to 'Close'.\n",
    "        n_prior (int, optional): Number of days in the past used in each sample\n",
    "           of the training dataset. Defaults to 21.\n",
    "        n_to_predict (int, optional): Numbers of day to predict ahead. \n",
    "            Defaults to 14.\n",
    "\n",
    "    Returns:\n",
    "        Tuple[array, array]: Input and output corresponding to the preprocessed \n",
    "          samples in `data`.\n",
    "    \"\"\"\n",
    "    n = n_prior + n_to_predict  # batch \"width\"\n",
    "    s0, s1 = data.shape[0], data.shape[1]\n",
    "    s = s0 - n  # size of training data\n",
    "\n",
    "    X, y = zeros(shape=(s, n_prior, s1)), zeros(shape=(s, n_to_predict))\n",
    "    shuffled_order = permutation(arange(0, s, 1)) # shuffle data directly\n",
    "    for i in shuffled_order:\n",
    "        X[i] = data.iloc[i: i + n_prior,:].values\n",
    "        y[i] = data[target][i + n_prior: i + n]\n",
    "        # Normalize each batch individually\n",
    "        min_value, max_value = X[i].min(), X[i].max()\n",
    "        X[i] = (X[i] - min_value) / (max_value - min_value) \n",
    "        y[i] = (y[i] - min_value) / (max_value - min_value)\n",
    "        \n",
    "    return X, y"
   ]
  },
  {
   "cell_type": "code",
   "execution_count": 9,
   "metadata": {
    "id": "Vm-lTZg8H74L"
   },
   "outputs": [],
   "source": [
    "X, y = build_x_y(data=data, target='Adj Close', n_prior=n_prior, n_to_predict=n_to_predict)"
   ]
  },
  {
   "cell_type": "markdown",
   "metadata": {
    "id": "ZK-WLxOALyEe"
   },
   "source": [
    "### Split `X` and `y`\n",
    "Compute where to split `X` and `y` to obtain a proportion `p_val` of validation data and `p_test` of test data:"
   ]
  },
  {
   "cell_type": "code",
   "execution_count": 10,
   "metadata": {
    "id": "C8TEgt2RJ9hQ"
   },
   "outputs": [],
   "source": [
    "def get_split_inds(size: int, p_val: float = .1, p_test: float = .2, \n",
    "                   do_shuffle: bool = False) -> Tuple[array, array, array]:\n",
    "    \"\"\" Compute indices corresponding to the random splitting of `size` samples in train, validation and test sets \n",
    "    with size corresponding to `p_test` and `p_val`.\n",
    "\n",
    "    Args:\n",
    "        size (int): Number of samples in the dataset to split.\n",
    "        p_val (float, optional): Proportion of validation data in the split. Defaults to .1.\n",
    "        p_test (float, optional): Proportion of test data in the split. Defaults to .2.\n",
    "\n",
    "    Returns:\n",
    "        Tuple[array, array, array]: Three arrays corresponding to the indices of the train, validation and test sets.\n",
    "    \"\"\"\n",
    "    indices = arange(0, size, 1)\n",
    "    if do_shuffle:\n",
    "      indices = permutation(indices)\n",
    "\n",
    "    val_split_ind = round(size * (1 - p_test - p_val))\n",
    "    test_split_ind = round(size * (1 - p_test))\n",
    "\n",
    "    train_inds = indices[:val_split_ind]\n",
    "    val_inds = indices[val_split_ind: test_split_ind]\n",
    "    test_inds = indices[test_split_ind:]\n",
    "    \n",
    "    return train_inds, val_inds, test_inds"
   ]
  },
  {
   "cell_type": "code",
   "execution_count": 11,
   "metadata": {
    "id": "FI4jBHsRMIbK"
   },
   "outputs": [],
   "source": [
    "size = X.shape[0]\n",
    "train_inds, val_inds, test_inds = get_split_inds(size=size, p_val=p_val, p_test=p_test)\n",
    "X_train, X_val, X_test = X[train_inds], X[val_inds], X[test_inds]\n",
    "y_train, y_val, y_test = y[train_inds], y[val_inds], y[test_inds]"
   ]
  },
  {
   "cell_type": "markdown",
   "metadata": {
    "id": "NS7Xdc0gPCvk"
   },
   "source": [
    "## Modelization\n",
    "\n"
   ]
  },
  {
   "cell_type": "code",
   "execution_count": 12,
   "metadata": {
    "id": "av1lwHsSp1BT"
   },
   "outputs": [],
   "source": [
    "from tensorflow.keras.layers import Input, GRU, Lambda, Dense, Dropout\n",
    "from tensorflow.keras.models import Model\n",
    "from tensorflow.keras.callbacks import EarlyStopping, LearningRateScheduler, History\n",
    "from tensorflow.keras.optimizers import Adam\n",
    "from tensorflow.keras.losses import Huber\n",
    "from tensorflow.keras.metrics import MeanAbsolutePercentageError,MeanSquaredError\n",
    "from tensorflow import expand_dims, matmul\n",
    "from tensorflow.nn import softmax"
   ]
  },
  {
   "cell_type": "markdown",
   "metadata": {
    "id": "nQUgua962_0j"
   },
   "source": [
    "Define some model trainin specific constants:"
   ]
  },
  {
   "cell_type": "code",
   "execution_count": 13,
   "metadata": {
    "id": "bIEPvilITFA_"
   },
   "outputs": [],
   "source": [
    "from os import getcwd\n",
    "n_recurrent_units = 100  # size of the recurrent layers\n",
    "n_dense_units = 64  # size of the final dense layer\n",
    "scale = .05  # scale for attention layer\n",
    "lr = 1e-2  # learning rate\n",
    "dr = .9  # decay rate\n",
    "max_epochs = 300\n",
    "patience = 10\n",
    "batch_size = 32\n",
    "model_path = getcwd()+'/models'  # if None: will not be persisted"
   ]
  },
  {
   "cell_type": "markdown",
   "metadata": {
    "id": "SjNnh9yPTAc1"
   },
   "source": [
    "Define a function to provide a deep recurrent model:"
   ]
  },
  {
   "cell_type": "code",
   "execution_count": 14,
   "metadata": {
    "id": "ushSAEhMOs4W"
   },
   "outputs": [],
   "source": [
    "def attention_seq(query_value, scale):\n",
    "    \"\"\" Define time series specific attention layer\n",
    "    see: https://stackoverflow.com/questions/61757475/sequence-to-sequence-for-time-series-prediction \"\"\"\n",
    "    query, value = query_value\n",
    "    score = matmul(query, value, transpose_b=True) # (batch, timestamp, 1)\n",
    "    score = scale * score # scale with a fixed number (it can be finetuned or learned during train)\n",
    "    score = softmax(score, axis=1) # softmax on timestamp axis\n",
    "    score = score * query # (batch, timestamp, feat)\n",
    "    return score\n",
    "\n",
    "\n",
    "def get_model(n_prior: int, n_features: int, n_to_predict: int, scale: float = .05,\n",
    "              n_recurrent_units: int = 100, n_dense_units=62) -> Model:\n",
    "    \"\"\" Build and return a recurrent auto-encoder model for predicting.\n",
    "\n",
    "    Args:\n",
    "        n_prior (int): number of days in the past used in each sample of the training dataset.\n",
    "        n_features (int): number of  (columns) in the input dataset.\n",
    "        n_to_predict (int): numbers of day to predict ahead\n",
    "        n_units (int): size of the recurrent layer\n",
    "\n",
    "    Returns:\n",
    "        tf.keras.models.Model: reccurent auto-encoder model for predicting\n",
    "    \"\"\"\n",
    "    inp = Input((n_prior, n_features))\n",
    "    seq, state = GRU(n_recurrent_units, activation='relu',\n",
    "                    return_state=True, return_sequences=True)(inp)\n",
    "    att = Lambda(attention_seq, arguments={'scale': scale})([seq, expand_dims(state, 1)])\n",
    "    x = GRU(n_recurrent_units, activation='relu')(att)\n",
    "    \n",
    "    x = Dense(n_dense_units, activation='relu')(x)\n",
    "    x = Dropout(0.2)(x)\n",
    "    out = Dense(n_to_predict)(x)\n",
    "\n",
    "    model = Model(inp, out)\n",
    "    return model"
   ]
  },
  {
   "cell_type": "markdown",
   "metadata": {
    "id": "LD6Oe7SwRBgv"
   },
   "source": [
    "Define a function for training the model:"
   ]
  },
  {
   "cell_type": "code",
   "execution_count": 15,
   "metadata": {
    "id": "7DSZzfXCMwu6"
   },
   "outputs": [],
   "source": [
    "def train_persist_model(model: Model, X_train: DataFrame, X_val: DataFrame, X_test: DataFrame, y_train: Series,\n",
    "                        y_val: Series, y_test: Series, model_name: str, model_path: Union[str, Path, None], lr: float = 1e-3, dr: float = .99, \n",
    "                        max_epochs: int = 300, patience: int = 10, batch_size: int = 32, plot: bool = True, verbose: int = 0) -> None:\n",
    "    \"\"\" Train and persist a model for predicting.\n",
    "\n",
    "    Args:\n",
    "        model (tf.keras.models.Model): Tensorflow Keras model to train and persist\n",
    "        X_train (DataFrame): Training input dataset corresponding to past data with their features\n",
    "        X_val (DataFrame): Validation input dataset. Used at each batch to monitor model performance.\n",
    "        X_test (DataFrame): Test input dataset, for measuring model performance after training.\n",
    "        y_train (Series): Training output ground truth\n",
    "        y_val (Series): Validation output ground truth\n",
    "        y_test (Series): Test output ground truth.\n",
    "        model_name (str): name of the model\n",
    "        model_path (Union[str, Path]): Path under which the model will be persisted. If None, the model will not be persisted.\n",
    "        lr (float, optional): Learning rate for the optimizer training the model. Defaults to 1e-3.\n",
    "        dr (float, optional): Decay rate for the learning rate. Defaults to .99.\n",
    "        max_epochs (int, optional): Max. number of epochs for training the model. Defaults to 300.\n",
    "        patience (int, optional): number of epochs without improvement of val_loss before stopping\n",
    "        batch_size (int, optional): Number of training data samples in each batch. Defaults to 32.\n",
    "        plot (bool, optional): If to generate and persist plot corresponding to the training history. Defaults to True.\n",
    "        verbose (int, optional): If to print details during the training. Defaults to 0.\n",
    "    \"\"\"\n",
    "    reduce_lr = LearningRateScheduler(lambda x: lr * dr ** x)\n",
    "    early_stopping = EarlyStopping(monitor='val_loss',\n",
    "                                   patience=patience,\n",
    "                                   mode='min',\n",
    "                                   restore_best_weights=True)\n",
    "\n",
    "\n",
    "    model.compile(optimizer=Adam(),\n",
    "                loss='mse')#,\n",
    "                #metrics=[MeanAbsolutePercentageError()])\n",
    "\n",
    "    history = model.fit(X_train, y_train, \n",
    "                        epochs=max_epochs, \n",
    "                        validation_data=(X_val, y_val),\n",
    "                        batch_size=batch_size,\n",
    "                        verbose=verbose,\n",
    "                        callbacks=[reduce_lr, early_stopping])\n",
    "\n",
    "    if plot:\n",
    "        plot_training(history=history, model_name=model_name)\n",
    "    \n",
    "    if model_path:\n",
    "      model.save(model_path)\n",
    "      print(f'INFO: model {model_path} saved under {model_path}')\n",
    "\n",
    "    results = model.evaluate(X_test, y_test)\n",
    "    test_loss=results#, test_mape = results[0], results[1]\n",
    "    print(f'INFO: model evaluation on test data:\\n\\tMSE: {test_loss}')#'\\n\\tMAPE: {test_mape}')\n",
    "    return test_loss"
   ]
  },
  {
   "cell_type": "markdown",
   "metadata": {
    "id": "V8TFkjbPSHnq"
   },
   "source": [
    "And finally, define a function to plot the model training:"
   ]
  },
  {
   "cell_type": "code",
   "execution_count": 16,
   "metadata": {
    "id": "e3RqRCYRRLd9"
   },
   "outputs": [],
   "source": [
    "def plot_training(history: History, model_name: str) -> None:\n",
    "    \"\"\" Plot history of model training. The model must contain MAE as a metric.\n",
    "        Saves the plot in the folder `plots_dir` defined in *parameters.py* under the name `model_name`.jpg\n",
    "    Args:\n",
    "        history (tf.keras.callbacks.History): model history resulting from `.fit()`\n",
    "        model_name (str): [description]\n",
    "    \"\"\"\n",
    "    fig, (ax2) = plt.subplots()\n",
    "    fig.suptitle(f'{model_name} training')\n",
    "    \n",
    "    #ax1.plot(history.history['mean_absolute_percentage_error'])\n",
    "    #ax1.plot(history.history['val_mean_absolute_percentage_error'])\n",
    "    #ax1.set_title(f'{model_name} mean_absolute_percentage_error')\n",
    "    #ax1.set(xlabel='epoch', ylabel='mean_absolute_error')\n",
    "    #ax1.legend(['train', 'val'], loc='upper left')\n",
    "    # summarize history for loss\n",
    "    ax2.plot(history.history['loss'])\n",
    "    ax2.plot(history.history['val_loss'])\n",
    "    ax2.set_title(f'{model_name} MSE')\n",
    "    ax2.set(xlabel='epoch', ylabel='MSE')\n",
    "    ax2.legend(['train', 'val'], loc='upper left')\n",
    "    \n",
    "    plt.show()"
   ]
  },
  {
   "cell_type": "markdown",
   "metadata": {
    "id": "v6iG2mDQWMF2"
   },
   "source": [
    "Now combine all this to train the model:"
   ]
  },
  {
   "cell_type": "code",
   "execution_count": 17,
   "metadata": {
    "colab": {
     "base_uri": "https://localhost:8080/"
    },
    "id": "R_-w5MkOSOEh",
    "outputId": "314f2e7b-2ec8-4a0f-bd38-8b5d8f6d1d11",
    "scrolled": false
   },
   "outputs": [
    {
     "name": "stdout",
     "output_type": "stream",
     "text": [
      "Model: \"model\"\n",
      "__________________________________________________________________________________________________\n",
      "Layer (type)                    Output Shape         Param #     Connected to                     \n",
      "==================================================================================================\n",
      "input_1 (InputLayer)            [(None, 30, 1)]      0                                            \n",
      "__________________________________________________________________________________________________\n",
      "gru (GRU)                       [(None, 30, 100), (N 30900       input_1[0][0]                    \n",
      "__________________________________________________________________________________________________\n",
      "tf.expand_dims (TFOpLambda)     (None, 1, 100)       0           gru[0][1]                        \n",
      "__________________________________________________________________________________________________\n",
      "lambda (Lambda)                 (None, 30, 100)      0           gru[0][0]                        \n",
      "                                                                 tf.expand_dims[0][0]             \n",
      "__________________________________________________________________________________________________\n",
      "gru_1 (GRU)                     (None, 100)          60600       lambda[0][0]                     \n",
      "__________________________________________________________________________________________________\n",
      "dense (Dense)                   (None, 64)           6464        gru_1[0][0]                      \n",
      "__________________________________________________________________________________________________\n",
      "dropout (Dropout)               (None, 64)           0           dense[0][0]                      \n",
      "__________________________________________________________________________________________________\n",
      "dense_1 (Dense)                 (None, 7)            455         dropout[0][0]                    \n",
      "==================================================================================================\n",
      "Total params: 98,419\n",
      "Trainable params: 98,419\n",
      "Non-trainable params: 0\n",
      "__________________________________________________________________________________________________\n"
     ]
    }
   ],
   "source": [
    "model = get_model(n_prior=n_prior, n_features=1, n_to_predict=n_to_predict, scale=scale, n_recurrent_units=n_recurrent_units, n_dense_units=n_dense_units)\n",
    "model.summary()"
   ]
  },
  {
   "cell_type": "code",
   "execution_count": 18,
   "metadata": {
    "colab": {
     "base_uri": "https://localhost:8080/",
     "height": 1000
    },
    "id": "ZfqW9WHZeEbI",
    "outputId": "b3c27cad-03c0-44ef-8909-38c13e2e8e16",
    "scrolled": false
   },
   "outputs": [
    {
     "name": "stdout",
     "output_type": "stream",
     "text": [
      "Epoch 1/300\n",
      "16/16 [==============================] - 4s 103ms/step - loss: 0.5448 - val_loss: 0.2121\n",
      "Epoch 2/300\n",
      "16/16 [==============================] - 1s 58ms/step - loss: 0.1978 - val_loss: 0.1774\n",
      "Epoch 3/300\n",
      "16/16 [==============================] - 1s 60ms/step - loss: 0.1329 - val_loss: 0.1721\n",
      "Epoch 4/300\n",
      "16/16 [==============================] - 1s 58ms/step - loss: 0.1101 - val_loss: 0.1418\n",
      "Epoch 5/300\n",
      "16/16 [==============================] - 1s 59ms/step - loss: 0.1002 - val_loss: 0.1371\n",
      "Epoch 6/300\n",
      "16/16 [==============================] - 1s 62ms/step - loss: 0.0916 - val_loss: 0.1372\n",
      "Epoch 7/300\n",
      "16/16 [==============================] - 1s 59ms/step - loss: 0.0854 - val_loss: 0.1387\n",
      "Epoch 8/300\n",
      "16/16 [==============================] - 1s 62ms/step - loss: 0.0933 - val_loss: 0.1353\n",
      "Epoch 9/300\n",
      "16/16 [==============================] - 1s 61ms/step - loss: 0.0896 - val_loss: 0.1337\n",
      "Epoch 10/300\n",
      "16/16 [==============================] - 1s 61ms/step - loss: 0.0903 - val_loss: 0.1379\n",
      "Epoch 11/300\n",
      "16/16 [==============================] - 1s 61ms/step - loss: 0.0960 - val_loss: 0.1327\n",
      "Epoch 12/300\n",
      "16/16 [==============================] - 1s 61ms/step - loss: 0.0855 - val_loss: 0.1343\n",
      "Epoch 13/300\n",
      "16/16 [==============================] - 1s 57ms/step - loss: 0.0943 - val_loss: 0.1358\n",
      "Epoch 14/300\n",
      "16/16 [==============================] - 1s 63ms/step - loss: 0.0835 - val_loss: 0.1500\n",
      "Epoch 15/300\n",
      "16/16 [==============================] - 1s 67ms/step - loss: 0.0956 - val_loss: 0.1405\n",
      "Epoch 16/300\n",
      "16/16 [==============================] - 1s 58ms/step - loss: 0.0965 - val_loss: 0.1359\n",
      "Epoch 17/300\n",
      "16/16 [==============================] - 1s 58ms/step - loss: 0.0759 - val_loss: 0.1414\n",
      "Epoch 18/300\n",
      "16/16 [==============================] - 1s 58ms/step - loss: 0.0827 - val_loss: 0.1426\n",
      "Epoch 19/300\n",
      "16/16 [==============================] - 1s 56ms/step - loss: 0.0899 - val_loss: 0.1355\n",
      "Epoch 20/300\n",
      "16/16 [==============================] - 1s 64ms/step - loss: 0.0916 - val_loss: 0.1371\n",
      "Epoch 21/300\n",
      "16/16 [==============================] - 1s 61ms/step - loss: 0.0854 - val_loss: 0.1357\n"
     ]
    },
    {
     "data": {
      "image/png": "[encoded data removed]",
      "text/plain": [
       "<Figure size 864x648 with 1 Axes>"
      ]
     },
     "metadata": {
      "needs_background": "light"
     },
     "output_type": "display_data"
    },
    {
     "name": "stdout",
     "output_type": "stream",
     "text": [
      "INFO:tensorflow:Assets written to: /home/fawn/code/PhilEkev/US_markets/notebooks/models/assets\n",
      "INFO: model /home/fawn/code/PhilEkev/US_markets/notebooks/models saved under /home/fawn/code/PhilEkev/US_markets/notebooks/models\n",
      "5/5 [==============================] - 0s 15ms/step - loss: 0.0812\n",
      "INFO: model evaluation on test data:\n",
      "\tMSE: 0.08121944963932037\n"
     ]
    },
    {
     "data": {
      "text/plain": [
       "0.08121944963932037"
      ]
     },
     "execution_count": 18,
     "metadata": {},
     "output_type": "execute_result"
    }
   ],
   "source": [
    "train_persist_model(model=model, X_train=X_train, X_val=X_val, X_test=X_test, \n",
    "                    y_train=y_train, y_val=y_val, y_test=y_test, \n",
    "                    model_name=f'{stock} {target} price', model_path=model_path, lr=lr, dr=dr,\n",
    "                    max_epochs=max_epochs, patience=patience, \n",
    "                    batch_size=batch_size, plot=True, verbose=1)"
   ]
  },
  {
   "cell_type": "markdown",
   "metadata": {
    "id": "RLU2WLLmVChL"
   },
   "source": [
    "## Grid search optimal model and training hyperparameters"
   ]
  },
  {
   "cell_type": "code",
   "execution_count": 19,
   "metadata": {
    "id": "c1SMz74BVNKk"
   },
   "outputs": [],
   "source": [
    "def evaluate_hp(hp: Dict):\n",
    "  model = get_model(n_prior=n_prior, n_features=1, n_to_predict=n_to_predict,\n",
    "              scale = hp.get('scale'),\n",
    "              n_recurrent_units=hp.get('n_recurrent_units'), \n",
    "              n_dense_units=hp.get('n_dense_units'))\n",
    "  error = train_persist_model(model=model, X_train=X_train, X_val=X_val, X_test=X_test, \n",
    "                    y_train=y_train, y_val=y_val, y_test=y_test, \n",
    "                    model_name=f'{stock} {target} price', model_path=None, \n",
    "                    lr=hp.get('lr'), dr=hp.get('dr'),\n",
    "                    max_epochs=max_epochs, patience=patience, \n",
    "                    batch_size=batch_size, plot=False, verbose=0)\n",
    "  return error\n",
    "  \n",
    "\n",
    "def random_grid_search(n_trials: int = 100, \n",
    "                        n_recurrent_units_min: int = 10, \n",
    "                        n_recurrent_units_max: int = 100, \n",
    "                        n_dense_units_min: int = 20, \n",
    "                        n_dense_units_max: int = 100,\n",
    "                        scale_min: float = .01, scale_max: float = .1,\n",
    "                        lr_min: float = 1e-4, lr_max: float = 1e-1, \n",
    "                        dr_min: float = 0.8, dr_max: float = 0.999):\n",
    "  mapping = {'n_recurrent_units': [n_recurrent_units_min, n_recurrent_units_max, 'int'], \n",
    "              'n_dense_units': [n_dense_units_min, n_dense_units_max, 'int'],\n",
    "              'scale': [scale_min, scale_max, 'float'],\n",
    "              'lr': [lr_min, lr_max, 'float'], \n",
    "              'dr': [dr_min, dr_max, 'float']}\n",
    "  res = []\n",
    "  for _ in range(n_trials):\n",
    "    hp = dict()\n",
    "    for name, parameters in mapping.items():\n",
    "      if parameters[2] == 'int':\n",
    "        value = int(randint(low=parameters[0], high=parameters[1]))\n",
    "      else:\n",
    "        value = uniform(low=parameters[0], high=parameters[1])\n",
    "      hp[name] = value\n",
    "    print(f'INFO: trying {hp}...')\n",
    "    error = evaluate_hp(hp)\n",
    "    print(f'INFO: MSE: {error}')\n",
    "    res.append({'hp': hp, 'MSE': error})\n",
    "  return res\n",
    "  "
   ]
  },
  {
   "cell_type": "markdown",
   "metadata": {
    "id": "WHPe1E-Ub3V4"
   },
   "source": [
    "Define parameters for random grid search:"
   ]
  },
  {
   "cell_type": "code",
   "execution_count": 20,
   "metadata": {
    "id": "AsqcW-iTboTP"
   },
   "outputs": [],
   "source": [
    "n_trials = 30\n",
    "n_recurrent_units_min = 10, \n",
    "n_recurrent_units_max = 100, \n",
    "n_dense_units_min = 20\n",
    "n_dense_units_max = 100\n",
    "scale_min = .01\n",
    "scale_max = .1\n",
    "lr_min = 1e-4\n",
    "lr_max = 1e-1\n",
    "dr_min = 0.8\n",
    "dr_max = 0.999"
   ]
  },
  {
   "cell_type": "code",
   "execution_count": 21,
   "metadata": {
    "colab": {
     "base_uri": "https://localhost:8080/"
    },
    "id": "wvtrHSCrb-2v",
    "outputId": "61ec3cbb-7f7b-4adc-94c1-8c590fc2d28d",
    "scrolled": false
   },
   "outputs": [
    {
     "name": "stdout",
     "output_type": "stream",
     "text": [
      "INFO: trying {'n_recurrent_units': 48, 'n_dense_units': 63, 'scale': 0.04900397273010799, 'lr': 0.03794242717210954, 'dr': 0.8556702934007279}...\n",
      "5/5 [==============================] - 0s 12ms/step - loss: 0.0842\n",
      "INFO: model evaluation on test data:\n",
      "\tMSE: 0.08416172116994858\n",
      "INFO: MSE: 0.08416172116994858\n",
      "INFO: trying {'n_recurrent_units': 38, 'n_dense_units': 20, 'scale': 0.0843704914507915, 'lr': 0.07921980689401503, 'dr': 0.8605897702140868}...\n",
      "5/5 [==============================] - 0s 12ms/step - loss: 0.1754\n",
      "INFO: model evaluation on test data:\n",
      "\tMSE: 0.17538140714168549\n",
      "INFO: MSE: 0.17538140714168549\n",
      "INFO: trying {'n_recurrent_units': 97, 'n_dense_units': 93, 'scale': 0.024962775711912723, 'lr': 0.026523081960861717, 'dr': 0.801059854596387}...\n",
      "5/5 [==============================] - 0s 16ms/step - loss: 0.0804\n",
      "INFO: model evaluation on test data:\n",
      "\tMSE: 0.0803576335310936\n",
      "INFO: MSE: 0.0803576335310936\n",
      "INFO: trying {'n_recurrent_units': 79, 'n_dense_units': 37, 'scale': 0.048661747564414076, 'lr': 0.05322783165024612, 'dr': 0.9399495572920782}...\n",
      "5/5 [==============================] - 0s 15ms/step - loss: 0.0863\n",
      "INFO: model evaluation on test data:\n",
      "\tMSE: 0.08633308857679367\n",
      "INFO: MSE: 0.08633308857679367\n",
      "INFO: trying {'n_recurrent_units': 11, 'n_dense_units': 64, 'scale': 0.08784498767576022, 'lr': 0.006302838576523011, 'dr': 0.8225994338403636}...\n",
      "5/5 [==============================] - 0s 13ms/step - loss: 0.1026\n",
      "INFO: model evaluation on test data:\n",
      "\tMSE: 0.10259416699409485\n",
      "INFO: MSE: 0.10259416699409485\n",
      "INFO: trying {'n_recurrent_units': 57, 'n_dense_units': 41, 'scale': 0.06991879036923707, 'lr': 0.02303604100608808, 'dr': 0.8430187044902177}...\n",
      "5/5 [==============================] - 0s 14ms/step - loss: 0.0953\n",
      "INFO: model evaluation on test data:\n",
      "\tMSE: 0.09533625841140747\n",
      "INFO: MSE: 0.09533625841140747\n",
      "INFO: trying {'n_recurrent_units': 71, 'n_dense_units': 49, 'scale': 0.09488508987949826, 'lr': 0.035843422583475705, 'dr': 0.8616603717953505}...\n",
      "5/5 [==============================] - 0s 14ms/step - loss: 0.1598\n",
      "INFO: model evaluation on test data:\n",
      "\tMSE: 0.159829780459404\n",
      "INFO: MSE: 0.159829780459404\n",
      "INFO: trying {'n_recurrent_units': 51, 'n_dense_units': 63, 'scale': 0.08801722935581655, 'lr': 0.046385882364885916, 'dr': 0.8980783819615142}...\n",
      "5/5 [==============================] - 0s 14ms/step - loss: 0.0847\n",
      "INFO: model evaluation on test data:\n",
      "\tMSE: 0.08473925292491913\n",
      "INFO: MSE: 0.08473925292491913\n",
      "INFO: trying {'n_recurrent_units': 48, 'n_dense_units': 66, 'scale': 0.06884479282831328, 'lr': 0.037644224587055033, 'dr': 0.9537370617945347}...\n",
      "5/5 [==============================] - 0s 15ms/step - loss: 0.1777\n",
      "INFO: model evaluation on test data:\n",
      "\tMSE: 0.17772236466407776\n",
      "INFO: MSE: 0.17772236466407776\n",
      "INFO: trying {'n_recurrent_units': 77, 'n_dense_units': 73, 'scale': 0.06652228190233817, 'lr': 0.06834313883483499, 'dr': 0.9147768554899395}...\n",
      "5/5 [==============================] - 0s 15ms/step - loss: 0.1706\n",
      "INFO: model evaluation on test data:\n",
      "\tMSE: 0.17055492103099823\n",
      "INFO: MSE: 0.17055492103099823\n",
      "INFO: trying {'n_recurrent_units': 76, 'n_dense_units': 90, 'scale': 0.02208383629428738, 'lr': 0.08888662155964042, 'dr': 0.9036341989037763}...\n",
      "5/5 [==============================] - 0s 15ms/step - loss: 0.1753\n",
      "INFO: model evaluation on test data:\n",
      "\tMSE: 0.17525005340576172\n",
      "INFO: MSE: 0.17525005340576172\n",
      "INFO: trying {'n_recurrent_units': 73, 'n_dense_units': 52, 'scale': 0.012866059816273366, 'lr': 0.023245236195489676, 'dr': 0.9947092979290467}...\n",
      "5/5 [==============================] - 0s 14ms/step - loss: 0.0833\n",
      "INFO: model evaluation on test data:\n",
      "\tMSE: 0.08333081007003784\n",
      "INFO: MSE: 0.08333081007003784\n",
      "INFO: trying {'n_recurrent_units': 26, 'n_dense_units': 31, 'scale': 0.08003726220151958, 'lr': 0.04686539265502925, 'dr': 0.8469459493608259}...\n",
      "5/5 [==============================] - 0s 13ms/step - loss: 0.0845\n",
      "INFO: model evaluation on test data:\n",
      "\tMSE: 0.0844772532582283\n",
      "INFO: MSE: 0.0844772532582283\n",
      "INFO: trying {'n_recurrent_units': 81, 'n_dense_units': 41, 'scale': 0.09266568846710317, 'lr': 0.09659105823099416, 'dr': 0.8428322776730096}...\n",
      "5/5 [==============================] - 0s 14ms/step - loss: 0.0948\n",
      "INFO: model evaluation on test data:\n",
      "\tMSE: 0.09476926922798157\n",
      "INFO: MSE: 0.09476926922798157\n",
      "INFO: trying {'n_recurrent_units': 98, 'n_dense_units': 60, 'scale': 0.0800268433806928, 'lr': 0.09845046265647354, 'dr': 0.8679051879917754}...\n",
      "5/5 [==============================] - 0s 16ms/step - loss: 0.1090\n",
      "INFO: model evaluation on test data:\n",
      "\tMSE: 0.10898375511169434\n",
      "INFO: MSE: 0.10898375511169434\n",
      "INFO: trying {'n_recurrent_units': 90, 'n_dense_units': 46, 'scale': 0.05116210761745634, 'lr': 0.09615822450570805, 'dr': 0.9743886580481838}...\n",
      "5/5 [==============================] - 0s 15ms/step - loss: 0.0795\n",
      "INFO: model evaluation on test data:\n",
      "\tMSE: 0.07951290160417557\n",
      "INFO: MSE: 0.07951290160417557\n",
      "INFO: trying {'n_recurrent_units': 60, 'n_dense_units': 70, 'scale': 0.08774910095833352, 'lr': 0.09836404814335462, 'dr': 0.8800706645426901}...\n",
      "5/5 [==============================] - 0s 14ms/step - loss: 0.1801\n",
      "INFO: model evaluation on test data:\n",
      "\tMSE: 0.18008358776569366\n",
      "INFO: MSE: 0.18008358776569366\n",
      "INFO: trying {'n_recurrent_units': 43, 'n_dense_units': 24, 'scale': 0.06479152449248798, 'lr': 0.0033478772842213404, 'dr': 0.9040365622931534}...\n",
      "5/5 [==============================] - 0s 13ms/step - loss: 0.0956\n",
      "INFO: model evaluation on test data:\n",
      "\tMSE: 0.09560754895210266\n",
      "INFO: MSE: 0.09560754895210266\n",
      "INFO: trying {'n_recurrent_units': 96, 'n_dense_units': 34, 'scale': 0.08674134820797628, 'lr': 0.07061582394098077, 'dr': 0.8308266873975181}...\n",
      "5/5 [==============================] - 0s 14ms/step - loss: 0.6255\n",
      "INFO: model evaluation on test data:\n",
      "\tMSE: 0.6254516839981079\n",
      "INFO: MSE: 0.6254516839981079\n",
      "INFO: trying {'n_recurrent_units': 56, 'n_dense_units': 65, 'scale': 0.09609220927959279, 'lr': 0.04351608133446166, 'dr': 0.8250474754081272}...\n",
      "5/5 [==============================] - 0s 14ms/step - loss: 0.0967\n",
      "INFO: model evaluation on test data:\n",
      "\tMSE: 0.09667213261127472\n",
      "INFO: MSE: 0.09667213261127472\n",
      "INFO: trying {'n_recurrent_units': 16, 'n_dense_units': 65, 'scale': 0.06493021075235976, 'lr': 0.06487199097461965, 'dr': 0.8925489959002404}...\n",
      "5/5 [==============================] - 0s 12ms/step - loss: 0.0833\n",
      "INFO: model evaluation on test data:\n",
      "\tMSE: 0.08327976614236832\n",
      "INFO: MSE: 0.08327976614236832\n",
      "INFO: trying {'n_recurrent_units': 28, 'n_dense_units': 39, 'scale': 0.04311545577744287, 'lr': 0.04961156113726758, 'dr': 0.8988053351338818}...\n",
      "5/5 [==============================] - 0s 14ms/step - loss: 0.0836\n",
      "INFO: model evaluation on test data:\n",
      "\tMSE: 0.08360166847705841\n",
      "INFO: MSE: 0.08360166847705841\n",
      "INFO: trying {'n_recurrent_units': 38, 'n_dense_units': 79, 'scale': 0.023571890253305222, 'lr': 0.053913573613305024, 'dr': 0.8266737565314229}...\n",
      "5/5 [==============================] - 0s 13ms/step - loss: 0.1644\n",
      "INFO: model evaluation on test data:\n",
      "\tMSE: 0.1643669307231903\n",
      "INFO: MSE: 0.1643669307231903\n",
      "INFO: trying {'n_recurrent_units': 18, 'n_dense_units': 87, 'scale': 0.04171717446651494, 'lr': 0.02666278722312714, 'dr': 0.8145794818284484}...\n",
      "5/5 [==============================] - 0s 12ms/step - loss: 0.0848\n",
      "INFO: model evaluation on test data:\n",
      "\tMSE: 0.08484538644552231\n",
      "INFO: MSE: 0.08484538644552231\n",
      "INFO: trying {'n_recurrent_units': 72, 'n_dense_units': 22, 'scale': 0.03715902342372474, 'lr': 0.0510617926860471, 'dr': 0.9393668667473813}...\n",
      "5/5 [==============================] - 0s 14ms/step - loss: 0.0783\n",
      "INFO: model evaluation on test data:\n",
      "\tMSE: 0.07828111201524734\n",
      "INFO: MSE: 0.07828111201524734\n",
      "INFO: trying {'n_recurrent_units': 56, 'n_dense_units': 82, 'scale': 0.05630893614006625, 'lr': 0.048885808566254095, 'dr': 0.8658008523668823}...\n",
      "5/5 [==============================] - 0s 14ms/step - loss: 0.0960\n",
      "INFO: model evaluation on test data:\n",
      "\tMSE: 0.09596538543701172\n",
      "INFO: MSE: 0.09596538543701172\n",
      "INFO: trying {'n_recurrent_units': 63, 'n_dense_units': 59, 'scale': 0.02602733257897636, 'lr': 0.07524788513007362, 'dr': 0.9460854844620665}...\n",
      "5/5 [==============================] - 0s 15ms/step - loss: 0.4048\n"
     ]
    },
    {
     "name": "stdout",
     "output_type": "stream",
     "text": [
      "INFO: model evaluation on test data:\n",
      "\tMSE: 0.4048348665237427\n",
      "INFO: MSE: 0.4048348665237427\n",
      "INFO: trying {'n_recurrent_units': 69, 'n_dense_units': 61, 'scale': 0.047557532693788256, 'lr': 0.002952250443186258, 'dr': 0.8112571350237694}...\n",
      "5/5 [==============================] - 0s 15ms/step - loss: 0.1098\n",
      "INFO: model evaluation on test data:\n",
      "\tMSE: 0.10982030630111694\n",
      "INFO: MSE: 0.10982030630111694\n",
      "INFO: trying {'n_recurrent_units': 14, 'n_dense_units': 51, 'scale': 0.055408531885350186, 'lr': 0.008509424243672051, 'dr': 0.826615935552262}...\n",
      "5/5 [==============================] - 0s 12ms/step - loss: 0.1140\n",
      "INFO: model evaluation on test data:\n",
      "\tMSE: 0.11399400979280472\n",
      "INFO: MSE: 0.11399400979280472\n",
      "INFO: trying {'n_recurrent_units': 61, 'n_dense_units': 27, 'scale': 0.07242474971068863, 'lr': 0.047078537178476036, 'dr': 0.8894802852888192}...\n",
      "5/5 [==============================] - 0s 13ms/step - loss: 0.0870\n",
      "INFO: model evaluation on test data:\n",
      "\tMSE: 0.08699978142976761\n",
      "INFO: MSE: 0.08699978142976761\n"
     ]
    }
   ],
   "source": [
    "rgs_result = random_grid_search(n_trials=n_trials, \n",
    "                        n_recurrent_units_min=n_recurrent_units_min, \n",
    "                        n_recurrent_units_max=n_recurrent_units_max, \n",
    "                                \n",
    "                        n_dense_units_min=n_dense_units_min, \n",
    "                        n_dense_units_max=n_dense_units_max,\n",
    "                        scale_min=scale_min, scale_max=scale_max,\n",
    "                        lr_min=lr_min, lr_max=lr_max, \n",
    "                        dr_min=dr_min, dr_max=dr_max)"
   ]
  },
  {
   "cell_type": "code",
   "execution_count": 22,
   "metadata": {
    "colab": {
     "base_uri": "https://localhost:8080/",
     "height": 1000
    },
    "id": "GrmYGM_RhpKY",
    "outputId": "c16f1211-e15e-4767-d941-84e991b96a7d",
    "scrolled": false
   },
   "outputs": [
    {
     "data": {
      "image/png": "[encoded data removed]",
      "text/plain": [
       "<Figure size 864x648 with 1 Axes>"
      ]
     },
     "metadata": {
      "needs_background": "light"
     },
     "output_type": "display_data"
    },
    {
     "data": {
      "image/png": "[encoded data removed]",
      "text/plain": [
       "<Figure size 864x648 with 1 Axes>"
      ]
     },
     "metadata": {
      "needs_background": "light"
     },
     "output_type": "display_data"
    },
    {
     "data": {
      "image/png": "[encoded data removed]",
      "text/plain": [
       "<Figure size 864x648 with 1 Axes>"
      ]
     },
     "metadata": {
      "needs_background": "light"
     },
     "output_type": "display_data"
    },
    {
     "data": {
      "image/png": "[encoded data removed]",
      "text/plain": [
       "<Figure size 864x648 with 1 Axes>"
      ]
     },
     "metadata": {
      "needs_background": "light"
     },
     "output_type": "display_data"
    },
    {
     "data": {
      "image/png": "[encoded data removed]",
      "text/plain": [
       "<Figure size 864x648 with 1 Axes>"
      ]
     },
     "metadata": {
      "needs_background": "light"
     },
     "output_type": "display_data"
    }
   ],
   "source": [
    "hyperparameters = list(rgs_result[0].get('hp').keys())\n",
    "ys = [d.get('MSE') for d in rgs_result]\n",
    "for hyperparameter in hyperparameters:\n",
    "  xs = [d.get('hp').get(hyperparameter) for d in rgs_result]\n",
    "  plt.scatter(xs, ys)\n",
    "  plt.xlabel(hyperparameter)\n",
    "  plt.ylabel('MSE')\n",
    "  plt.title(f'MSE by {hyperparameter}')\n",
    "  plt.show()"
   ]
  },
  {
   "cell_type": "code",
   "execution_count": 23,
   "metadata": {
    "id": "izw57AV72b_J"
   },
   "outputs": [],
   "source": [
    "def get_best_hp(rgs_result: List[Dict]):\n",
    "  best_error = None\n",
    "  for r in rgs_result:\n",
    "    if r.get('MSE') is None:\n",
    "      continue\n",
    "    if best_error is None or r.get('MSE') < best_error:\n",
    "      best_hp = r.get('hp')\n",
    "      best_error = r.get('MSE')\n",
    "  return best_hp, best_error"
   ]
  },
  {
   "cell_type": "code",
   "execution_count": 24,
   "metadata": {
    "colab": {
     "base_uri": "https://localhost:8080/"
    },
    "id": "Oxtv8mg73LsF",
    "outputId": "cd0c176a-0027-454b-c1b0-88a045bcbab9"
   },
   "outputs": [
    {
     "name": "stdout",
     "output_type": "stream",
     "text": [
      "best_hp: {'n_recurrent_units': 72, 'n_dense_units': 22, 'scale': 0.03715902342372474, 'lr': 0.0510617926860471, 'dr': 0.9393668667473813}\n",
      "Corresponding best_error: 0.07828111201524734\n"
     ]
    }
   ],
   "source": [
    "best_hp, best_error = get_best_hp(rgs_result)\n",
    "print(f'best_hp: {best_hp}\\nCorresponding best_MSE: {best_error}')"
   ]
  },
  {
   "cell_type": "code",
   "execution_count": 25,
   "metadata": {
    "colab": {
     "base_uri": "https://localhost:8080/"
    },
    "id": "yvddyQ4w4Dpn",
    "outputId": "eac85249-e0b6-4195-bb45-6b229873fc9d"
   },
   "outputs": [
    {
     "name": "stdout",
     "output_type": "stream",
     "text": [
      "5/5 [==============================] - 0s 15ms/step - loss: 0.0807\n",
      "INFO: model evaluation on test data:\n",
      "\tMSE: 0.0807061642408371\n"
     ]
    },
    {
     "data": {
      "text/plain": [
       "0.0807061642408371"
      ]
     },
     "execution_count": 25,
     "metadata": {},
     "output_type": "execute_result"
    }
   ],
   "source": [
    "model = get_model(n_prior=n_prior, n_features=1, n_to_predict=n_to_predict,\n",
    "              scale = best_hp.get('scale'),\n",
    "              n_recurrent_units=best_hp.get('n_recurrent_units'), \n",
    "              n_dense_units=best_hp.get('n_dense_units'))\n",
    "\n",
    "train_persist_model(model=model, X_train=X_train, X_val=X_val, X_test=X_test, \n",
    "                  y_train=y_train, y_val=y_val, y_test=y_test, \n",
    "                  model_name=f'{stock} {target} price', model_path=None, \n",
    "                  lr=best_hp.get('lr'), dr=best_hp.get('dr'),\n",
    "                  max_epochs=max_epochs, patience=patience, \n",
    "                  batch_size=batch_size, plot=False, verbose=0)"
   ]
  },
  {
   "cell_type": "markdown",
   "metadata": {
    "id": "611SyKwjZ4kG"
   },
   "source": [
    "## Make prediction"
   ]
  },
  {
   "cell_type": "code",
   "execution_count": 26,
   "metadata": {
    "id": "Vn-peZHKaQn8"
   },
   "outputs": [],
   "source": [
    "def generate_prediction(predict_from: str, stock: str, target: str, model: Model, \n",
    "                        n_prior: int = 21, valid: bool = False) -> None:\n",
    "  \"\"\" Generate predictions from the date `predict_from` based on the `n_prior` \n",
    "  previous values for the price `target` of `stock`\n",
    "    Args:\n",
    "        predict_from (str): format 'yyyy-mm-dd', date after which the predictions will start\n",
    "        stock (str): code of the stock on Yahoo Finance\n",
    "        target (str): target price to predict (e.g. 'Close')\n",
    "        model (Model): Tensorflow model trained for making predictions\n",
    "        n_prior (int): number of previous values to use for the prediction \n",
    "            (must be the same than the one used to train the `model`)\n",
    "        valid (bool): if to plot the actual vs. the predicted values \n",
    "            (only if the prediction time range lies in the past)\n",
    "    \"\"\"\n",
    "  predict_from_dt = datetime.strptime(predict_from, '%Y-%m-%d')\n",
    "  start_dt = predict_from_dt - timedelta(days=int(n_prior * 1.5))\n",
    "  start = start_dt.strftime('%Y-%m-%d')\n",
    "  data = yf.download(tickers=stock, period='1d', start=start, end=predict_from)\n",
    "  data = data[target]\n",
    "  # Normalize\n",
    "  min_value, max_value = data.min(), data.max()\n",
    "  data = (data - min_value) / (max_value - min_value)\n",
    "  data = data.values[data.shape[0] - n_prior:].reshape(1, -1, 1)\n",
    "\n",
    "  predictions = model.predict(data)\n",
    "  predictions = predictions * (max_value - min_value) + min_value # de-normalize\n",
    "  predictions = predictions.flatten()\n",
    "  prediction_dates = [predict_from_dt + timedelta(days=i+1) for i in range(predictions.shape[0])]\n",
    "  predictions = DataFrame({'date': prediction_dates, 'prediction': predictions})\n",
    "  predictions = predictions.set_index('date')\n",
    "  if valid:\n",
    "    start_valid = predict_from_dt + timedelta(days=1)\n",
    "    end_valid = predict_from_dt + timedelta(int(1.5 * predictions.shape[0]))\n",
    "    start_valid = start_valid.strftime('%Y-%m-%d')\n",
    "    end_valid = end_valid.strftime('%Y-%m-%d')\n",
    "    true_values = yf.download(tickers=stock, period='1d', start=start_valid, end=end_valid)\n",
    "    true_values = true_values[[target]].loc[:predictions.index.max(),:]\n",
    "    fig, ax = plt.subplots(1)\n",
    "    ax.plot(true_values, label='actual')\n",
    "    ax.plot(predictions, label='predicted')\n",
    "    ax.set_title(f'Actual vs. Prediction for stock {stock} between {start_valid} and {end_valid}')\n",
    "    ax.set(xlabel='day', ylabel=f'{stock} ${target} price ($)')\n",
    "    ax.legend()\n",
    "    plt.show()\n",
    "  return predictions"
   ]
  },
  {
   "cell_type": "code",
   "execution_count": 27,
   "metadata": {
    "colab": {
     "base_uri": "https://localhost:8080/",
     "height": 602
    },
    "id": "QzXZGuIaaWTW",
    "outputId": "e555c78b-94b5-4995-8f14-23eedcc5f45a"
   },
   "outputs": [
    {
     "name": "stdout",
     "output_type": "stream",
     "text": [
      "[*********************100%***********************]  1 of 1 completed\n",
      "[*********************100%***********************]  1 of 1 completed\n",
      "\n",
      "1 Failed download:\n",
      "- AAPL: Data doesn't exist for startDate = 1623967200, endDate = 1624744800\n"
     ]
    },
    {
     "data": {
      "image/png": "[encoded data removed]",
      "text/plain": [
       "<Figure size 864x648 with 1 Axes>"
      ]
     },
     "metadata": {
      "needs_background": "light"
     },
     "output_type": "display_data"
    }
   ],
   "source": [
    "predict_from = '2021-6-17'\n",
    "predictions = generate_prediction(predict_from=predict_from, stock=stock, \n",
    "                                  target=target, model=model, n_prior=n_prior, \n",
    "                                  valid=True)"
   ]
  },
  {
   "cell_type": "code",
   "execution_count": 28,
   "metadata": {
    "id": "__MswHX8bH_Z"
   },
   "outputs": [
    {
     "data": {
      "text/html": [
       "<div>\n",
       "<style scoped>\n",
       "    .dataframe tbody tr th:only-of-type {\n",
       "        vertical-align: middle;\n",
       "    }\n",
       "\n",
       "    .dataframe tbody tr th {\n",
       "        vertical-align: top;\n",
       "    }\n",
       "\n",
       "    .dataframe thead th {\n",
       "        text-align: right;\n",
       "    }\n",
       "</style>\n",
       "<table border=\"1\" class=\"dataframe\">\n",
       "  <thead>\n",
       "    <tr style=\"text-align: right;\">\n",
       "      <th></th>\n",
       "      <th>prediction</th>\n",
       "    </tr>\n",
       "    <tr>\n",
       "      <th>date</th>\n",
       "      <th></th>\n",
       "    </tr>\n",
       "  </thead>\n",
       "  <tbody>\n",
       "    <tr>\n",
       "      <th>2021-06-18</th>\n",
       "      <td>131.178207</td>\n",
       "    </tr>\n",
       "    <tr>\n",
       "      <th>2021-06-19</th>\n",
       "      <td>131.288315</td>\n",
       "    </tr>\n",
       "    <tr>\n",
       "      <th>2021-06-20</th>\n",
       "      <td>131.535583</td>\n",
       "    </tr>\n",
       "    <tr>\n",
       "      <th>2021-06-21</th>\n",
       "      <td>131.730377</td>\n",
       "    </tr>\n",
       "    <tr>\n",
       "      <th>2021-06-22</th>\n",
       "      <td>131.831619</td>\n",
       "    </tr>\n",
       "    <tr>\n",
       "      <th>2021-06-23</th>\n",
       "      <td>131.987656</td>\n",
       "    </tr>\n",
       "    <tr>\n",
       "      <th>2021-06-24</th>\n",
       "      <td>132.116379</td>\n",
       "    </tr>\n",
       "  </tbody>\n",
       "</table>\n",
       "</div>"
      ],
      "text/plain": [
       "            prediction\n",
       "date                  \n",
       "2021-06-18  131.178207\n",
       "2021-06-19  131.288315\n",
       "2021-06-20  131.535583\n",
       "2021-06-21  131.730377\n",
       "2021-06-22  131.831619\n",
       "2021-06-23  131.987656\n",
       "2021-06-24  132.116379"
      ]
     },
     "execution_count": 28,
     "metadata": {},
     "output_type": "execute_result"
    }
   ],
   "source": [
    "predictions"
   ]
  },
  {
   "cell_type": "code",
   "execution_count": null,
   "metadata": {
    "id": "w9Zvkh8K03e9"
   },
   "outputs": [],
   "source": []
  }
 ],
 "metadata": {
  "colab": {
   "name": "stock_prediction.ipynb",
   "provenance": []
  },
  "kernelspec": {
   "display_name": "Python 3",
   "language": "python",
   "name": "python3"
  },
  "language_info": {
   "codemirror_mode": {
    "name": "ipython",
    "version": 3
   },
   "file_extension": ".py",
   "mimetype": "text/x-python",
   "name": "python",
   "nbconvert_exporter": "python",
   "pygments_lexer": "ipython3",
   "version": "3.8.6"
  },
  "toc": {
   "base_numbering": 1,
   "nav_menu": {},
   "number_sections": true,
   "sideBar": true,
   "skip_h1_title": false,
   "title_cell": "Table of Contents",
   "title_sidebar": "Contents",
   "toc_cell": false,
   "toc_position": {},
   "toc_section_display": true,
   "toc_window_display": false
  }
 },
 "nbformat": 4,
 "nbformat_minor": 1
}
