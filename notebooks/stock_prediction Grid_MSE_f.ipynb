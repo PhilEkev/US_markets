{
 "cells": [
  {
   "cell_type": "markdown",
   "metadata": {
    "id": "k_Djzu2SAl-H"
   },
   "source": [
    "# Predict Stock price\n",
    "\n",
    "This is a notebook illustrating how to predict stock price from [Yahoo Finance](https://finance.yahoo.com/) data with a recurrent neural network."
   ]
  },
  {
   "cell_type": "code",
   "execution_count": 1,
   "metadata": {
    "colab": {
     "base_uri": "https://localhost:8080/"
    },
    "id": "1UmAmERoB7kG",
    "outputId": "97c7c3a9-b4d8-437f-a24e-a6144440d341"
   },
   "outputs": [
    {
     "name": "stdout",
     "output_type": "stream",
     "text": [
      "Requirement already satisfied: yfinance in /home/fawn/.pyenv/versions/3.8.6/envs/lewagon/lib/python3.8/site-packages (0.1.59)\n",
      "Requirement already satisfied: pandas>=0.24 in /home/fawn/.pyenv/versions/3.8.6/envs/lewagon/lib/python3.8/site-packages (from yfinance) (1.2.4)\n",
      "Requirement already satisfied: lxml>=4.5.1 in /home/fawn/.pyenv/versions/3.8.6/envs/lewagon/lib/python3.8/site-packages (from yfinance) (4.6.3)\n",
      "Requirement already satisfied: requests>=2.20 in /home/fawn/.pyenv/versions/3.8.6/envs/lewagon/lib/python3.8/site-packages (from yfinance) (2.25.1)\n",
      "Requirement already satisfied: numpy>=1.15 in /home/fawn/.pyenv/versions/3.8.6/envs/lewagon/lib/python3.8/site-packages (from yfinance) (1.18.5)\n",
      "Requirement already satisfied: multitasking>=0.0.7 in /home/fawn/.pyenv/versions/3.8.6/envs/lewagon/lib/python3.8/site-packages (from yfinance) (0.0.9)\n",
      "Requirement already satisfied: python-dateutil>=2.7.3 in /home/fawn/.pyenv/versions/3.8.6/envs/lewagon/lib/python3.8/site-packages (from pandas>=0.24->yfinance) (2.8.1)\n",
      "Requirement already satisfied: pytz>=2017.3 in /home/fawn/.pyenv/versions/3.8.6/envs/lewagon/lib/python3.8/site-packages (from pandas>=0.24->yfinance) (2021.1)\n",
      "Requirement already satisfied: six>=1.5 in /home/fawn/.pyenv/versions/3.8.6/envs/lewagon/lib/python3.8/site-packages (from python-dateutil>=2.7.3->pandas>=0.24->yfinance) (1.15.0)\n",
      "Requirement already satisfied: certifi>=2017.4.17 in /home/fawn/.pyenv/versions/3.8.6/envs/lewagon/lib/python3.8/site-packages (from requests>=2.20->yfinance) (2020.12.5)\n",
      "Requirement already satisfied: chardet<5,>=3.0.2 in /home/fawn/.pyenv/versions/3.8.6/envs/lewagon/lib/python3.8/site-packages (from requests>=2.20->yfinance) (4.0.0)\n",
      "Requirement already satisfied: idna<3,>=2.5 in /home/fawn/.pyenv/versions/3.8.6/envs/lewagon/lib/python3.8/site-packages (from requests>=2.20->yfinance) (2.10)\n",
      "Requirement already satisfied: urllib3<1.27,>=1.21.1 in /home/fawn/.pyenv/versions/3.8.6/envs/lewagon/lib/python3.8/site-packages (from requests>=2.20->yfinance) (1.26.4)\n"
     ]
    }
   ],
   "source": [
    "# Install library for fetching Yahoo Finance data\n",
    "!pip install yfinance"
   ]
  },
  {
   "cell_type": "code",
   "execution_count": 2,
   "metadata": {
    "id": "Et_lSzUwCEat"
   },
   "outputs": [],
   "source": [
    "import yfinance as yf\n",
    "import matplotlib.pyplot as plt\n",
    "from pandas import DataFrame, Series\n",
    "from typing import Dict, List, Tuple, Union\n",
    "from numpy import array, arange, zeros\n",
    "from numpy.random import permutation, randint, uniform\n",
    "from pathlib import Path\n",
    "from datetime import datetime, timedelta\n",
    "\n",
    "plt.rcParams['figure.figsize'] = [12, 9]  # plot larger than default"
   ]
  },
  {
   "cell_type": "markdown",
   "metadata": {
    "id": "6SuxbKnF25Rv"
   },
   "source": [
    "Define some constants (adapt the values to your use case):"
   ]
  },
  {
   "cell_type": "code",
   "execution_count": 3,
   "metadata": {
    "id": "dUmkwqnnETdz"
   },
   "outputs": [],
   "source": [
    "stock = 'AAPL'\n",
    "# Train model with daily data between `start` and `end`\n",
    "start = (datetime.now() - timedelta(days=3*365+1)).strftime(\"%Y-%m-%d\")\n",
    "end = (datetime.now() - timedelta(days=1)).strftime(\"%Y-%m-%d\")\n",
    "target = 'Adj Close'\n",
    "# We will use the `n_prior` previous days to predict the nex `n_to_predict` days\n",
    "n_prior = 30\n",
    "n_to_predict = 7\n",
    "# Proportion of validation and test data\n",
    "p_val = .1\n",
    "p_test = .2 "
   ]
  },
  {
   "cell_type": "markdown",
   "metadata": {
    "id": "ueSqgtuxDe1C"
   },
   "source": [
    "## Fetching data\n",
    "Fetch data directly from the *yfinance* library"
   ]
  },
  {
   "cell_type": "code",
   "execution_count": 4,
   "metadata": {
    "colab": {
     "base_uri": "https://localhost:8080/"
    },
    "id": "S-HD3SLCApHj",
    "outputId": "557cb66d-ea0d-4330-e121-7acd2b48dc7e"
   },
   "outputs": [
    {
     "name": "stdout",
     "output_type": "stream",
     "text": [
      "[*********************100%***********************]  1 of 1 completed\n"
     ]
    }
   ],
   "source": [
    "data = yf.download(tickers=stock, period='1d', start=start, end=end)"
   ]
  },
  {
   "cell_type": "code",
   "execution_count": 5,
   "metadata": {
    "colab": {
     "base_uri": "https://localhost:8080/",
     "height": 455
    },
    "id": "BMuJUezaBOlG",
    "outputId": "36043ebf-73c8-4291-f571-8f41a5e89b80"
   },
   "outputs": [
    {
     "data": {
      "text/html": [
       "<div>\n",
       "<style scoped>\n",
       "    .dataframe tbody tr th:only-of-type {\n",
       "        vertical-align: middle;\n",
       "    }\n",
       "\n",
       "    .dataframe tbody tr th {\n",
       "        vertical-align: top;\n",
       "    }\n",
       "\n",
       "    .dataframe thead th {\n",
       "        text-align: right;\n",
       "    }\n",
       "</style>\n",
       "<table border=\"1\" class=\"dataframe\">\n",
       "  <thead>\n",
       "    <tr style=\"text-align: right;\">\n",
       "      <th></th>\n",
       "      <th>Open</th>\n",
       "      <th>High</th>\n",
       "      <th>Low</th>\n",
       "      <th>Close</th>\n",
       "      <th>Adj Close</th>\n",
       "      <th>Volume</th>\n",
       "    </tr>\n",
       "    <tr>\n",
       "      <th>Date</th>\n",
       "      <th></th>\n",
       "      <th></th>\n",
       "      <th></th>\n",
       "      <th></th>\n",
       "      <th></th>\n",
       "      <th></th>\n",
       "    </tr>\n",
       "  </thead>\n",
       "  <tbody>\n",
       "    <tr>\n",
       "      <th>2018-06-14</th>\n",
       "      <td>47.887501</td>\n",
       "      <td>47.892502</td>\n",
       "      <td>47.555000</td>\n",
       "      <td>47.700001</td>\n",
       "      <td>46.119915</td>\n",
       "      <td>86440400</td>\n",
       "    </tr>\n",
       "    <tr>\n",
       "      <th>2018-06-15</th>\n",
       "      <td>47.507500</td>\n",
       "      <td>47.540001</td>\n",
       "      <td>47.064999</td>\n",
       "      <td>47.209999</td>\n",
       "      <td>45.646137</td>\n",
       "      <td>246876800</td>\n",
       "    </tr>\n",
       "    <tr>\n",
       "      <th>2018-06-18</th>\n",
       "      <td>46.970001</td>\n",
       "      <td>47.305000</td>\n",
       "      <td>46.799999</td>\n",
       "      <td>47.185001</td>\n",
       "      <td>45.621964</td>\n",
       "      <td>73939600</td>\n",
       "    </tr>\n",
       "    <tr>\n",
       "      <th>2018-06-19</th>\n",
       "      <td>46.285000</td>\n",
       "      <td>46.582500</td>\n",
       "      <td>45.862499</td>\n",
       "      <td>46.422501</td>\n",
       "      <td>44.884731</td>\n",
       "      <td>134314000</td>\n",
       "    </tr>\n",
       "    <tr>\n",
       "      <th>2018-06-20</th>\n",
       "      <td>46.587502</td>\n",
       "      <td>46.799999</td>\n",
       "      <td>46.432499</td>\n",
       "      <td>46.625000</td>\n",
       "      <td>45.080524</td>\n",
       "      <td>82514800</td>\n",
       "    </tr>\n",
       "    <tr>\n",
       "      <th>...</th>\n",
       "      <td>...</td>\n",
       "      <td>...</td>\n",
       "      <td>...</td>\n",
       "      <td>...</td>\n",
       "      <td>...</td>\n",
       "      <td>...</td>\n",
       "    </tr>\n",
       "    <tr>\n",
       "      <th>2021-06-07</th>\n",
       "      <td>126.169998</td>\n",
       "      <td>126.320000</td>\n",
       "      <td>124.830002</td>\n",
       "      <td>125.900002</td>\n",
       "      <td>125.900002</td>\n",
       "      <td>71057600</td>\n",
       "    </tr>\n",
       "    <tr>\n",
       "      <th>2021-06-08</th>\n",
       "      <td>126.599998</td>\n",
       "      <td>128.460007</td>\n",
       "      <td>126.209999</td>\n",
       "      <td>126.739998</td>\n",
       "      <td>126.739998</td>\n",
       "      <td>74403800</td>\n",
       "    </tr>\n",
       "    <tr>\n",
       "      <th>2021-06-09</th>\n",
       "      <td>127.209999</td>\n",
       "      <td>127.750000</td>\n",
       "      <td>126.519997</td>\n",
       "      <td>127.129997</td>\n",
       "      <td>127.129997</td>\n",
       "      <td>56877900</td>\n",
       "    </tr>\n",
       "    <tr>\n",
       "      <th>2021-06-10</th>\n",
       "      <td>127.019997</td>\n",
       "      <td>128.190002</td>\n",
       "      <td>125.940002</td>\n",
       "      <td>126.110001</td>\n",
       "      <td>126.110001</td>\n",
       "      <td>71186400</td>\n",
       "    </tr>\n",
       "    <tr>\n",
       "      <th>2021-06-11</th>\n",
       "      <td>126.529999</td>\n",
       "      <td>127.440002</td>\n",
       "      <td>126.099998</td>\n",
       "      <td>127.349998</td>\n",
       "      <td>127.349998</td>\n",
       "      <td>53415300</td>\n",
       "    </tr>\n",
       "  </tbody>\n",
       "</table>\n",
       "<p>754 rows × 6 columns</p>\n",
       "</div>"
      ],
      "text/plain": [
       "                  Open        High         Low       Close   Adj Close  \\\n",
       "Date                                                                     \n",
       "2018-06-14   47.887501   47.892502   47.555000   47.700001   46.119915   \n",
       "2018-06-15   47.507500   47.540001   47.064999   47.209999   45.646137   \n",
       "2018-06-18   46.970001   47.305000   46.799999   47.185001   45.621964   \n",
       "2018-06-19   46.285000   46.582500   45.862499   46.422501   44.884731   \n",
       "2018-06-20   46.587502   46.799999   46.432499   46.625000   45.080524   \n",
       "...                ...         ...         ...         ...         ...   \n",
       "2021-06-07  126.169998  126.320000  124.830002  125.900002  125.900002   \n",
       "2021-06-08  126.599998  128.460007  126.209999  126.739998  126.739998   \n",
       "2021-06-09  127.209999  127.750000  126.519997  127.129997  127.129997   \n",
       "2021-06-10  127.019997  128.190002  125.940002  126.110001  126.110001   \n",
       "2021-06-11  126.529999  127.440002  126.099998  127.349998  127.349998   \n",
       "\n",
       "               Volume  \n",
       "Date                   \n",
       "2018-06-14   86440400  \n",
       "2018-06-15  246876800  \n",
       "2018-06-18   73939600  \n",
       "2018-06-19  134314000  \n",
       "2018-06-20   82514800  \n",
       "...               ...  \n",
       "2021-06-07   71057600  \n",
       "2021-06-08   74403800  \n",
       "2021-06-09   56877900  \n",
       "2021-06-10   71186400  \n",
       "2021-06-11   53415300  \n",
       "\n",
       "[754 rows x 6 columns]"
      ]
     },
     "execution_count": 5,
     "metadata": {},
     "output_type": "execute_result"
    }
   ],
   "source": [
    "data"
   ]
  },
  {
   "cell_type": "markdown",
   "metadata": {
    "id": "rJ3v3bHhD4YX"
   },
   "source": [
    "We want only the `target` values:"
   ]
  },
  {
   "cell_type": "code",
   "execution_count": 6,
   "metadata": {
    "id": "Rk5S7Px-BV_R"
   },
   "outputs": [],
   "source": [
    "data = data[[target]]"
   ]
  },
  {
   "cell_type": "code",
   "execution_count": 7,
   "metadata": {
    "colab": {
     "base_uri": "https://localhost:8080/",
     "height": 538
    },
    "id": "_alp-YAED-lM",
    "outputId": "da0d697e-1ed3-4d28-9427-00ee4c75b271"
   },
   "outputs": [
    {
     "data": {
      "image/png": "[encoded data removed]",
      "text/plain": [
       "<Figure size 864x648 with 1 Axes>"
      ]
     },
     "metadata": {
      "needs_background": "light"
     },
     "output_type": "display_data"
    }
   ],
   "source": [
    "data.plot()\n",
    "plt.xlabel(f'Date')\n",
    "plt.ylabel(f'{stock} price ($)')\n",
    "plt.title(f'{stock} price between {start} and {end}')\n",
    "plt.show()"
   ]
  },
  {
   "cell_type": "markdown",
   "metadata": {
    "id": "AULpGIBSIqb2"
   },
   "source": [
    "## Prepare training data\n",
    "First we define a function `build_x_y()` that will take slices from the column `target` of `data`. Each slice will be split into a range of `n_prior` days for `X` and the following `n_to_predict` day for `y`.\n",
    "\n",
    "### Create `X` and `y`"
   ]
  },
  {
   "cell_type": "code",
   "execution_count": 8,
   "metadata": {
    "id": "x9OKE8gyGllO"
   },
   "outputs": [],
   "source": [
    "def build_x_y(data: DataFrame, target: str = 'Close',  n_prior: int = 21, \n",
    "              n_to_predict: int = 14) -> Tuple[array, array]:\n",
    "    \"\"\" Split `df` into X and y. X is a 2-dimensional numpy array. The first \n",
    "    dimension corresponds to the sample, the second to the sequence in a sample \n",
    "    and the third to the features in each element of the sequence. `y` is a \n",
    "    2-dimensional array, the first is for the samples and the second for the \n",
    "    output values of the corresponding sequence.\n",
    "\n",
    "    Args:\n",
    "        data (DataFrame): Preprocessed input dataset\n",
    "        target (str, optional): Column name of the target variable in `data`. \n",
    "            Defaults to 'Close'.\n",
    "        n_prior (int, optional): Number of days in the past used in each sample\n",
    "           of the training dataset. Defaults to 21.\n",
    "        n_to_predict (int, optional): Numbers of day to predict ahead. \n",
    "            Defaults to 14.\n",
    "\n",
    "    Returns:\n",
    "        Tuple[array, array]: Input and output corresponding to the preprocessed \n",
    "          samples in `data`.\n",
    "    \"\"\"\n",
    "    n = n_prior + n_to_predict  # batch \"width\"\n",
    "    s0, s1 = data.shape[0], data.shape[1]\n",
    "    s = s0 - n  # size of training data\n",
    "\n",
    "    X, y = zeros(shape=(s, n_prior, s1)), zeros(shape=(s, n_to_predict))\n",
    "    shuffled_order = permutation(arange(0, s, 1)) # shuffle data directly\n",
    "    for i in shuffled_order:\n",
    "        X[i] = data.iloc[i: i + n_prior,:].values\n",
    "        y[i] = data[target][i + n_prior: i + n]\n",
    "        # Normalize each batch individually\n",
    "        min_value, max_value = X[i].min(), X[i].max()\n",
    "        X[i] = (X[i] - min_value) / (max_value - min_value) \n",
    "        y[i] = (y[i] - min_value) / (max_value - min_value)\n",
    "        \n",
    "    return X, y"
   ]
  },
  {
   "cell_type": "code",
   "execution_count": 9,
   "metadata": {
    "id": "Vm-lTZg8H74L"
   },
   "outputs": [],
   "source": [
    "X, y = build_x_y(data=data, target='Adj Close', n_prior=n_prior, n_to_predict=n_to_predict)"
   ]
  },
  {
   "cell_type": "markdown",
   "metadata": {
    "id": "ZK-WLxOALyEe"
   },
   "source": [
    "### Split `X` and `y`\n",
    "Compute where to split `X` and `y` to obtain a proportion `p_val` of validation data and `p_test` of test data:"
   ]
  },
  {
   "cell_type": "code",
   "execution_count": 10,
   "metadata": {
    "id": "C8TEgt2RJ9hQ"
   },
   "outputs": [],
   "source": [
    "def get_split_inds(size: int, p_val: float = .1, p_test: float = .2, \n",
    "                   do_shuffle: bool = False) -> Tuple[array, array, array]:\n",
    "    \"\"\" Compute indices corresponding to the random splitting of `size` samples in train, validation and test sets \n",
    "    with size corresponding to `p_test` and `p_val`.\n",
    "\n",
    "    Args:\n",
    "        size (int): Number of samples in the dataset to split.\n",
    "        p_val (float, optional): Proportion of validation data in the split. Defaults to .1.\n",
    "        p_test (float, optional): Proportion of test data in the split. Defaults to .2.\n",
    "\n",
    "    Returns:\n",
    "        Tuple[array, array, array]: Three arrays corresponding to the indices of the train, validation and test sets.\n",
    "    \"\"\"\n",
    "    indices = arange(0, size, 1)\n",
    "    if do_shuffle:\n",
    "      indices = permutation(indices)\n",
    "\n",
    "    val_split_ind = round(size * (1 - p_test - p_val))\n",
    "    test_split_ind = round(size * (1 - p_test))\n",
    "\n",
    "    train_inds = indices[:val_split_ind]\n",
    "    val_inds = indices[val_split_ind: test_split_ind]\n",
    "    test_inds = indices[test_split_ind:]\n",
    "    \n",
    "    return train_inds, val_inds, test_inds"
   ]
  },
  {
   "cell_type": "code",
   "execution_count": 11,
   "metadata": {
    "id": "FI4jBHsRMIbK"
   },
   "outputs": [],
   "source": [
    "size = X.shape[0]\n",
    "train_inds, val_inds, test_inds = get_split_inds(size=size, p_val=p_val, p_test=p_test)\n",
    "X_train, X_val, X_test = X[train_inds], X[val_inds], X[test_inds]\n",
    "y_train, y_val, y_test = y[train_inds], y[val_inds], y[test_inds]"
   ]
  },
  {
   "cell_type": "markdown",
   "metadata": {
    "id": "NS7Xdc0gPCvk"
   },
   "source": [
    "## Modelization\n",
    "\n"
   ]
  },
  {
   "cell_type": "code",
   "execution_count": 12,
   "metadata": {
    "id": "av1lwHsSp1BT"
   },
   "outputs": [],
   "source": [
    "from tensorflow.keras.layers import Input, GRU, Lambda, Dense, Dropout\n",
    "from tensorflow.keras.models import Model\n",
    "from tensorflow.keras.callbacks import EarlyStopping, LearningRateScheduler, History\n",
    "from tensorflow.keras.optimizers import Adam\n",
    "from tensorflow.keras.losses import Huber\n",
    "from tensorflow.keras.metrics import MeanAbsolutePercentageError,MeanSquaredError\n",
    "from tensorflow import expand_dims, matmul\n",
    "from tensorflow.nn import softmax"
   ]
  },
  {
   "cell_type": "markdown",
   "metadata": {
    "id": "nQUgua962_0j"
   },
   "source": [
    "Define some model trainin specific constants:"
   ]
  },
  {
   "cell_type": "code",
   "execution_count": 13,
   "metadata": {
    "id": "bIEPvilITFA_"
   },
   "outputs": [],
   "source": [
    "from os import getcwd\n",
    "n_recurrent_units = 100  # size of the recurrent layers\n",
    "n_dense_units = 64  # size of the final dense layer\n",
    "scale = .05  # scale for attention layer\n",
    "lr = 1e-2  # learning rate\n",
    "dr = .9  # decay rate\n",
    "max_epochs = 300\n",
    "patience = 10\n",
    "batch_size = 32\n",
    "model_path = getcwd()+'/models'  # if None: will not be persisted"
   ]
  },
  {
   "cell_type": "markdown",
   "metadata": {
    "id": "SjNnh9yPTAc1"
   },
   "source": [
    "Define a function to provide a deep recurrent model:"
   ]
  },
  {
   "cell_type": "code",
   "execution_count": 14,
   "metadata": {
    "id": "ushSAEhMOs4W"
   },
   "outputs": [],
   "source": [
    "def attention_seq(query_value, scale):\n",
    "    \"\"\" Define time series specific attention layer\n",
    "    see: https://stackoverflow.com/questions/61757475/sequence-to-sequence-for-time-series-prediction \"\"\"\n",
    "    query, value = query_value\n",
    "    score = matmul(query, value, transpose_b=True) # (batch, timestamp, 1)\n",
    "    score = scale * score # scale with a fixed number (it can be finetuned or learned during train)\n",
    "    score = softmax(score, axis=1) # softmax on timestamp axis\n",
    "    score = score * query # (batch, timestamp, feat)\n",
    "    return score\n",
    "\n",
    "\n",
    "def get_model(n_prior: int, n_features: int, n_to_predict: int, scale: float = .05,\n",
    "              n_recurrent_units: int = 100, n_dense_units=62) -> Model:\n",
    "    \"\"\" Build and return a recurrent auto-encoder model for predicting.\n",
    "\n",
    "    Args:\n",
    "        n_prior (int): number of days in the past used in each sample of the training dataset.\n",
    "        n_features (int): number of  (columns) in the input dataset.\n",
    "        n_to_predict (int): numbers of day to predict ahead\n",
    "        n_units (int): size of the recurrent layer\n",
    "\n",
    "    Returns:\n",
    "        tf.keras.models.Model: reccurent auto-encoder model for predicting\n",
    "    \"\"\"\n",
    "    inp = Input((n_prior, n_features))\n",
    "    seq, state = GRU(n_recurrent_units, activation='relu',\n",
    "                    return_state=True, return_sequences=True)(inp)\n",
    "    att = Lambda(attention_seq, arguments={'scale': scale})([seq, expand_dims(state, 1)])\n",
    "    x = GRU(n_recurrent_units, activation='relu')(att)\n",
    "    \n",
    "    x = Dense(n_dense_units, activation='relu')(x)\n",
    "    x = Dropout(0.2)(x)\n",
    "    out = Dense(n_to_predict)(x)\n",
    "\n",
    "    model = Model(inp, out)\n",
    "    return model"
   ]
  },
  {
   "cell_type": "markdown",
   "metadata": {
    "id": "LD6Oe7SwRBgv"
   },
   "source": [
    "Define a function for training the model:"
   ]
  },
  {
   "cell_type": "code",
   "execution_count": 15,
   "metadata": {
    "id": "7DSZzfXCMwu6"
   },
   "outputs": [],
   "source": [
    "def train_persist_model(model: Model, X_train: DataFrame, X_val: DataFrame, X_test: DataFrame, y_train: Series,\n",
    "                        y_val: Series, y_test: Series, model_name: str, model_path: Union[str, Path, None], lr: float = 1e-3, dr: float = .99, \n",
    "                        max_epochs: int = 300, patience: int = 10, batch_size: int = 32, plot: bool = True, verbose: int = 0) -> None:\n",
    "    \"\"\" Train and persist a model for predicting.\n",
    "\n",
    "    Args:\n",
    "        model (tf.keras.models.Model): Tensorflow Keras model to train and persist\n",
    "        X_train (DataFrame): Training input dataset corresponding to past data with their features\n",
    "        X_val (DataFrame): Validation input dataset. Used at each batch to monitor model performance.\n",
    "        X_test (DataFrame): Test input dataset, for measuring model performance after training.\n",
    "        y_train (Series): Training output ground truth\n",
    "        y_val (Series): Validation output ground truth\n",
    "        y_test (Series): Test output ground truth.\n",
    "        model_name (str): name of the model\n",
    "        model_path (Union[str, Path]): Path under which the model will be persisted. If None, the model will not be persisted.\n",
    "        lr (float, optional): Learning rate for the optimizer training the model. Defaults to 1e-3.\n",
    "        dr (float, optional): Decay rate for the learning rate. Defaults to .99.\n",
    "        max_epochs (int, optional): Max. number of epochs for training the model. Defaults to 300.\n",
    "        patience (int, optional): number of epochs without improvement of val_loss before stopping\n",
    "        batch_size (int, optional): Number of training data samples in each batch. Defaults to 32.\n",
    "        plot (bool, optional): If to generate and persist plot corresponding to the training history. Defaults to True.\n",
    "        verbose (int, optional): If to print details during the training. Defaults to 0.\n",
    "    \"\"\"\n",
    "    reduce_lr = LearningRateScheduler(lambda x: lr * dr ** x)\n",
    "    early_stopping = EarlyStopping(monitor='val_loss',\n",
    "                                   patience=patience,\n",
    "                                   mode='min',\n",
    "                                   restore_best_weights=True)\n",
    "\n",
    "\n",
    "    model.compile(optimizer=Adam(),\n",
    "                loss='mse')#,\n",
    "                #metrics=[MeanAbsolutePercentageError()])\n",
    "\n",
    "    history = model.fit(X_train, y_train, \n",
    "                        epochs=max_epochs, \n",
    "                        validation_data=(X_val, y_val),\n",
    "                        batch_size=batch_size,\n",
    "                        verbose=verbose,\n",
    "                        callbacks=[reduce_lr, early_stopping])\n",
    "\n",
    "    if plot:\n",
    "        plot_training(history=history, model_name=model_name)\n",
    "    \n",
    "    if model_path:\n",
    "      model.save(model_path)\n",
    "      print(f'INFO: model {model_path} saved under {model_path}')\n",
    "\n",
    "    results = model.evaluate(X_test, y_test)\n",
    "    test_loss=results#, test_mape = results[0], results[1]\n",
    "    print(f'INFO: model evaluation on test data:\\n\\tMSE: {test_loss}')#'\\n\\tMAPE: {test_mape}')\n",
    "    return test_loss"
   ]
  },
  {
   "cell_type": "markdown",
   "metadata": {
    "id": "V8TFkjbPSHnq"
   },
   "source": [
    "And finally, define a function to plot the model training:"
   ]
  },
  {
   "cell_type": "code",
   "execution_count": 16,
   "metadata": {
    "id": "e3RqRCYRRLd9"
   },
   "outputs": [],
   "source": [
    "def plot_training(history: History, model_name: str) -> None:\n",
    "    \"\"\" Plot history of model training. The model must contain MAE as a metric.\n",
    "        Saves the plot in the folder `plots_dir` defined in *parameters.py* under the name `model_name`.jpg\n",
    "    Args:\n",
    "        history (tf.keras.callbacks.History): model history resulting from `.fit()`\n",
    "        model_name (str): [description]\n",
    "    \"\"\"\n",
    "    fig, (ax2) = plt.subplots()\n",
    "    fig.suptitle(f'{model_name} training')\n",
    "    \n",
    "    #ax1.plot(history.history['mean_absolute_percentage_error'])\n",
    "    #ax1.plot(history.history['val_mean_absolute_percentage_error'])\n",
    "    #ax1.set_title(f'{model_name} mean_absolute_percentage_error')\n",
    "    #ax1.set(xlabel='epoch', ylabel='mean_absolute_error')\n",
    "    #ax1.legend(['train', 'val'], loc='upper left')\n",
    "    # summarize history for loss\n",
    "    ax2.plot(history.history['loss'])\n",
    "    ax2.plot(history.history['val_loss'])\n",
    "    ax2.set_title(f'{model_name} MSE')\n",
    "    ax2.set(xlabel='epoch', ylabel='MSE')\n",
    "    ax2.legend(['train', 'val'], loc='upper left')\n",
    "    \n",
    "    plt.show()"
   ]
  },
  {
   "cell_type": "markdown",
   "metadata": {
    "id": "v6iG2mDQWMF2"
   },
   "source": [
    "Now combine all this to train the model:"
   ]
  },
  {
   "cell_type": "code",
   "execution_count": 17,
   "metadata": {
    "colab": {
     "base_uri": "https://localhost:8080/"
    },
    "id": "R_-w5MkOSOEh",
    "outputId": "314f2e7b-2ec8-4a0f-bd38-8b5d8f6d1d11",
    "scrolled": false
   },
   "outputs": [
    {
     "name": "stdout",
     "output_type": "stream",
     "text": [
      "Model: \"model\"\n",
      "__________________________________________________________________________________________________\n",
      "Layer (type)                    Output Shape         Param #     Connected to                     \n",
      "==================================================================================================\n",
      "input_1 (InputLayer)            [(None, 30, 1)]      0                                            \n",
      "__________________________________________________________________________________________________\n",
      "gru (GRU)                       [(None, 30, 100), (N 30900       input_1[0][0]                    \n",
      "__________________________________________________________________________________________________\n",
      "tf.expand_dims (TFOpLambda)     (None, 1, 100)       0           gru[0][1]                        \n",
      "__________________________________________________________________________________________________\n",
      "lambda (Lambda)                 (None, 30, 100)      0           gru[0][0]                        \n",
      "                                                                 tf.expand_dims[0][0]             \n",
      "__________________________________________________________________________________________________\n",
      "gru_1 (GRU)                     (None, 100)          60600       lambda[0][0]                     \n",
      "__________________________________________________________________________________________________\n",
      "dense (Dense)                   (None, 64)           6464        gru_1[0][0]                      \n",
      "__________________________________________________________________________________________________\n",
      "dropout (Dropout)               (None, 64)           0           dense[0][0]                      \n",
      "__________________________________________________________________________________________________\n",
      "dense_1 (Dense)                 (None, 7)            455         dropout[0][0]                    \n",
      "==================================================================================================\n",
      "Total params: 98,419\n",
      "Trainable params: 98,419\n",
      "Non-trainable params: 0\n",
      "__________________________________________________________________________________________________\n"
     ]
    }
   ],
   "source": [
    "model = get_model(n_prior=n_prior, n_features=1, n_to_predict=n_to_predict, scale=scale, n_recurrent_units=n_recurrent_units, n_dense_units=n_dense_units)\n",
    "model.summary()"
   ]
  },
  {
   "cell_type": "code",
   "execution_count": 18,
   "metadata": {
    "colab": {
     "base_uri": "https://localhost:8080/",
     "height": 1000
    },
    "id": "ZfqW9WHZeEbI",
    "outputId": "b3c27cad-03c0-44ef-8909-38c13e2e8e16",
    "scrolled": false
   },
   "outputs": [
    {
     "name": "stdout",
     "output_type": "stream",
     "text": [
      "Epoch 1/300\n",
      "16/16 [==============================] - 4s 107ms/step - loss: 0.7423 - val_loss: 0.4222\n",
      "Epoch 2/300\n",
      "16/16 [==============================] - 1s 60ms/step - loss: 0.4518 - val_loss: 0.2607\n",
      "Epoch 3/300\n",
      "16/16 [==============================] - 1s 57ms/step - loss: 0.2686 - val_loss: 0.2247\n",
      "Epoch 4/300\n",
      "16/16 [==============================] - 1s 60ms/step - loss: 0.2161 - val_loss: 0.1803\n",
      "Epoch 5/300\n",
      "16/16 [==============================] - 1s 57ms/step - loss: 0.1421 - val_loss: 0.1667\n",
      "Epoch 6/300\n",
      "16/16 [==============================] - 1s 58ms/step - loss: 0.1110 - val_loss: 0.1786\n",
      "Epoch 7/300\n",
      "16/16 [==============================] - 1s 60ms/step - loss: 0.1020 - val_loss: 0.1516\n",
      "Epoch 8/300\n",
      "16/16 [==============================] - 1s 57ms/step - loss: 0.0983 - val_loss: 0.1497\n",
      "Epoch 9/300\n",
      "16/16 [==============================] - 1s 57ms/step - loss: 0.1040 - val_loss: 0.1480\n",
      "Epoch 10/300\n",
      "16/16 [==============================] - 1s 57ms/step - loss: 0.1009 - val_loss: 0.1439\n",
      "Epoch 11/300\n",
      "16/16 [==============================] - 1s 58ms/step - loss: 0.0903 - val_loss: 0.1538\n",
      "Epoch 12/300\n",
      "16/16 [==============================] - 1s 57ms/step - loss: 0.0960 - val_loss: 0.1630\n",
      "Epoch 13/300\n",
      "16/16 [==============================] - 1s 58ms/step - loss: 0.1084 - val_loss: 0.1511\n",
      "Epoch 14/300\n",
      "16/16 [==============================] - 1s 57ms/step - loss: 0.0945 - val_loss: 0.1535\n",
      "Epoch 15/300\n",
      "16/16 [==============================] - 1s 57ms/step - loss: 0.0978 - val_loss: 0.1431\n",
      "Epoch 16/300\n",
      "16/16 [==============================] - 1s 56ms/step - loss: 0.1000 - val_loss: 0.1458\n",
      "Epoch 17/300\n",
      "16/16 [==============================] - 1s 56ms/step - loss: 0.1032 - val_loss: 0.1435\n",
      "Epoch 18/300\n",
      "16/16 [==============================] - 1s 61ms/step - loss: 0.1025 - val_loss: 0.1461\n",
      "Epoch 19/300\n",
      "16/16 [==============================] - 1s 58ms/step - loss: 0.0868 - val_loss: 0.1438\n",
      "Epoch 20/300\n",
      "16/16 [==============================] - 1s 56ms/step - loss: 0.0921 - val_loss: 0.1446\n",
      "Epoch 21/300\n",
      "16/16 [==============================] - 1s 56ms/step - loss: 0.0882 - val_loss: 0.1437\n",
      "Epoch 22/300\n",
      "16/16 [==============================] - 1s 57ms/step - loss: 0.1044 - val_loss: 0.1478\n",
      "Epoch 23/300\n",
      "16/16 [==============================] - 1s 57ms/step - loss: 0.1013 - val_loss: 0.1462\n",
      "Epoch 24/300\n",
      "16/16 [==============================] - 1s 57ms/step - loss: 0.0854 - val_loss: 0.1453\n",
      "Epoch 25/300\n",
      "16/16 [==============================] - 1s 56ms/step - loss: 0.0951 - val_loss: 0.1442\n"
     ]
    },
    {
     "data": {
      "image/png": "[encoded data removed]",
      "text/plain": [
       "<Figure size 864x648 with 1 Axes>"
      ]
     },
     "metadata": {
      "needs_background": "light"
     },
     "output_type": "display_data"
    },
    {
     "name": "stdout",
     "output_type": "stream",
     "text": [
      "INFO:tensorflow:Assets written to: /home/fawn/code/PhilEkev/US_markets/notebooks/models/assets\n",
      "INFO: model /home/fawn/code/PhilEkev/US_markets/notebooks/models saved under /home/fawn/code/PhilEkev/US_markets/notebooks/models\n",
      "5/5 [==============================] - 0s 14ms/step - loss: 0.0846\n",
      "INFO: model evaluation on test data:\n",
      "\tMSE: 0.08458337932825089\n"
     ]
    },
    {
     "data": {
      "text/plain": [
       "0.08458337932825089"
      ]
     },
     "execution_count": 18,
     "metadata": {},
     "output_type": "execute_result"
    }
   ],
   "source": [
    "train_persist_model(model=model, X_train=X_train, X_val=X_val, X_test=X_test, \n",
    "                    y_train=y_train, y_val=y_val, y_test=y_test, \n",
    "                    model_name=f'{stock} {target} price', model_path=model_path, lr=lr, dr=dr,\n",
    "                    max_epochs=max_epochs, patience=patience, \n",
    "                    batch_size=batch_size, plot=True, verbose=1)"
   ]
  },
  {
   "cell_type": "markdown",
   "metadata": {
    "id": "RLU2WLLmVChL"
   },
   "source": [
    "## Grid search optimal model and training hyperparameters"
   ]
  },
  {
   "cell_type": "code",
   "execution_count": 19,
   "metadata": {
    "id": "c1SMz74BVNKk"
   },
   "outputs": [],
   "source": [
    "def evaluate_hp(hp: Dict):\n",
    "  model = get_model(n_prior=n_prior, n_features=1, n_to_predict=n_to_predict,\n",
    "              scale = hp.get('scale'),\n",
    "              n_recurrent_units=hp.get('n_recurrent_units'), \n",
    "              n_dense_units=hp.get('n_dense_units'))\n",
    "  error = train_persist_model(model=model, X_train=X_train, X_val=X_val, X_test=X_test, \n",
    "                    y_train=y_train, y_val=y_val, y_test=y_test, \n",
    "                    model_name=f'{stock} {target} price', model_path=None, \n",
    "                    lr=hp.get('lr'), dr=hp.get('dr'),\n",
    "                    max_epochs=max_epochs, patience=patience, \n",
    "                    batch_size=batch_size, plot=False, verbose=0)\n",
    "  return error\n",
    "  \n",
    "\n",
    "def random_grid_search(n_trials: int = 100, \n",
    "                        n_recurrent_units_min: int = 10, \n",
    "                        n_recurrent_units_max: int = 100, \n",
    "                        n_dense_units_min: int = 20, \n",
    "                        n_dense_units_max: int = 100,\n",
    "                        scale_min: float = .01, scale_max: float = .1,\n",
    "                        lr_min: float = 1e-4, lr_max: float = 1e-1, \n",
    "                        dr_min: float = 0.8, dr_max: float = 0.999):\n",
    "  mapping = {'n_recurrent_units': [n_recurrent_units_min, n_recurrent_units_max, 'int'], \n",
    "              'n_dense_units': [n_dense_units_min, n_dense_units_max, 'int'],\n",
    "              'scale': [scale_min, scale_max, 'float'],\n",
    "              'lr': [lr_min, lr_max, 'float'], \n",
    "              'dr': [dr_min, dr_max, 'float']}\n",
    "  res = []\n",
    "  for _ in range(n_trials):\n",
    "    hp = dict()\n",
    "    for name, parameters in mapping.items():\n",
    "      if parameters[2] == 'int':\n",
    "        value = int(randint(low=parameters[0], high=parameters[1]))\n",
    "      else:\n",
    "        value = uniform(low=parameters[0], high=parameters[1])\n",
    "      hp[name] = value\n",
    "    print(f'INFO: trying {hp}...')\n",
    "    error = evaluate_hp(hp)\n",
    "    print(f'INFO: MSE: {error}')\n",
    "    res.append({'hp': hp, 'MSE': error})\n",
    "  return res\n",
    "  "
   ]
  },
  {
   "cell_type": "markdown",
   "metadata": {
    "id": "WHPe1E-Ub3V4"
   },
   "source": [
    "Define parameters for random grid search:"
   ]
  },
  {
   "cell_type": "code",
   "execution_count": 20,
   "metadata": {
    "id": "AsqcW-iTboTP"
   },
   "outputs": [],
   "source": [
    "n_trials = 30\n",
    "n_recurrent_units_min = 10, \n",
    "n_recurrent_units_max = 100, \n",
    "n_dense_units_min = 20\n",
    "n_dense_units_max = 100\n",
    "scale_min = .01\n",
    "scale_max = .1\n",
    "lr_min = 1e-4\n",
    "lr_max = 1e-1\n",
    "dr_min = 0.8\n",
    "dr_max = 0.999"
   ]
  },
  {
   "cell_type": "code",
   "execution_count": 21,
   "metadata": {
    "colab": {
     "base_uri": "https://localhost:8080/"
    },
    "id": "wvtrHSCrb-2v",
    "outputId": "61ec3cbb-7f7b-4adc-94c1-8c590fc2d28d",
    "scrolled": false
   },
   "outputs": [
    {
     "name": "stdout",
     "output_type": "stream",
     "text": [
      "INFO: trying {'n_recurrent_units': 30, 'n_dense_units': 75, 'scale': 0.049624248115086624, 'lr': 0.08338463211676432, 'dr': 0.9315099134271794}...\n",
      "5/5 [==============================] - 0s 13ms/step - loss: 0.1735\n",
      "INFO: model evaluation on test data:\n",
      "\tMSE: 0.17347010970115662\n",
      "INFO: MSE: 0.17347010970115662\n",
      "INFO: trying {'n_recurrent_units': 50, 'n_dense_units': 94, 'scale': 0.09811578766824954, 'lr': 0.06136490543229613, 'dr': 0.8606883005090471}...\n",
      "5/5 [==============================] - 0s 12ms/step - loss: 0.0781\n",
      "INFO: model evaluation on test data:\n",
      "\tMSE: 0.07809661328792572\n",
      "INFO: MSE: 0.07809661328792572\n",
      "INFO: trying {'n_recurrent_units': 86, 'n_dense_units': 90, 'scale': 0.0867554789150514, 'lr': 0.04242226825219957, 'dr': 0.9131009633592757}...\n",
      "5/5 [==============================] - 0s 15ms/step - loss: 0.0854\n",
      "INFO: model evaluation on test data:\n",
      "\tMSE: 0.08543627709150314\n",
      "INFO: MSE: 0.08543627709150314\n",
      "INFO: trying {'n_recurrent_units': 37, 'n_dense_units': 97, 'scale': 0.02599658765530318, 'lr': 0.02898908732372978, 'dr': 0.8840150954835923}...\n",
      "5/5 [==============================] - 0s 14ms/step - loss: 0.0792\n",
      "INFO: model evaluation on test data:\n",
      "\tMSE: 0.07924693077802658\n",
      "INFO: MSE: 0.07924693077802658\n",
      "INFO: trying {'n_recurrent_units': 49, 'n_dense_units': 60, 'scale': 0.01652587477891035, 'lr': 0.0002683162191488034, 'dr': 0.9844325060965087}...\n",
      "5/5 [==============================] - 0s 13ms/step - loss: 0.1306\n",
      "INFO: model evaluation on test data:\n",
      "\tMSE: 0.13059332966804504\n",
      "INFO: MSE: 0.13059332966804504\n",
      "INFO: trying {'n_recurrent_units': 36, 'n_dense_units': 63, 'scale': 0.06112568091437007, 'lr': 0.05908824829513495, 'dr': 0.832539731824428}...\n",
      "5/5 [==============================] - 0s 14ms/step - loss: 0.0885\n",
      "INFO: model evaluation on test data:\n",
      "\tMSE: 0.08851715922355652\n",
      "INFO: MSE: 0.08851715922355652\n",
      "INFO: trying {'n_recurrent_units': 44, 'n_dense_units': 90, 'scale': 0.06235211388737872, 'lr': 0.08332316220919407, 'dr': 0.9952246542582314}...\n",
      "5/5 [==============================] - 0s 14ms/step - loss: 0.1441\n",
      "INFO: model evaluation on test data:\n",
      "\tMSE: 0.14413829147815704\n",
      "INFO: MSE: 0.14413829147815704\n",
      "INFO: trying {'n_recurrent_units': 11, 'n_dense_units': 48, 'scale': 0.07500104479268711, 'lr': 0.030941145941047386, 'dr': 0.8457196867036528}...\n",
      "5/5 [==============================] - 0s 14ms/step - loss: 0.0823\n",
      "INFO: model evaluation on test data:\n",
      "\tMSE: 0.0823374018073082\n",
      "INFO: MSE: 0.0823374018073082\n",
      "INFO: trying {'n_recurrent_units': 52, 'n_dense_units': 52, 'scale': 0.08749107394590824, 'lr': 0.007201851825875815, 'dr': 0.9455271790481005}...\n",
      "5/5 [==============================] - 0s 12ms/step - loss: 0.0846\n",
      "INFO: model evaluation on test data:\n",
      "\tMSE: 0.08459867537021637\n",
      "INFO: MSE: 0.08459867537021637\n",
      "INFO: trying {'n_recurrent_units': 84, 'n_dense_units': 60, 'scale': 0.09887912048246332, 'lr': 0.09074880579825663, 'dr': 0.9589286121179426}...\n",
      "5/5 [==============================] - 0s 14ms/step - loss: 0.1768\n",
      "INFO: model evaluation on test data:\n",
      "\tMSE: 0.17679913341999054\n",
      "INFO: MSE: 0.17679913341999054\n",
      "INFO: trying {'n_recurrent_units': 49, 'n_dense_units': 21, 'scale': 0.08324341901436239, 'lr': 0.08763089652905671, 'dr': 0.963285735186729}...\n",
      "5/5 [==============================] - 0s 12ms/step - loss: 0.0838\n",
      "INFO: model evaluation on test data:\n",
      "\tMSE: 0.0838044062256813\n",
      "INFO: MSE: 0.0838044062256813\n",
      "INFO: trying {'n_recurrent_units': 80, 'n_dense_units': 88, 'scale': 0.08127738796707545, 'lr': 0.014201875560865078, 'dr': 0.9340777531410352}...\n",
      "5/5 [==============================] - 0s 13ms/step - loss: 0.0830\n",
      "INFO: model evaluation on test data:\n",
      "\tMSE: 0.08298380672931671\n",
      "INFO: MSE: 0.08298380672931671\n",
      "INFO: trying {'n_recurrent_units': 33, 'n_dense_units': 31, 'scale': 0.04941742102954766, 'lr': 0.06737327824409545, 'dr': 0.8479301257244559}...\n",
      "5/5 [==============================] - 0s 11ms/step - loss: 0.1262\n",
      "INFO: model evaluation on test data:\n",
      "\tMSE: 0.12618626654148102\n",
      "INFO: MSE: 0.12618626654148102\n",
      "INFO: trying {'n_recurrent_units': 31, 'n_dense_units': 56, 'scale': 0.09344930091726027, 'lr': 0.0911772053076582, 'dr': 0.943841489305622}...\n",
      "5/5 [==============================] - 0s 12ms/step - loss: 0.1783\n",
      "INFO: model evaluation on test data:\n",
      "\tMSE: 0.1782679557800293\n",
      "INFO: MSE: 0.1782679557800293\n",
      "INFO: trying {'n_recurrent_units': 91, 'n_dense_units': 20, 'scale': 0.011982157849499207, 'lr': 0.06227027181871319, 'dr': 0.8954669550199015}...\n",
      "5/5 [==============================] - 0s 15ms/step - loss: 0.0910\n",
      "INFO: model evaluation on test data:\n",
      "\tMSE: 0.09103710949420929\n",
      "INFO: MSE: 0.09103710949420929\n",
      "INFO: trying {'n_recurrent_units': 99, 'n_dense_units': 77, 'scale': 0.04024824308958758, 'lr': 0.02914183429744697, 'dr': 0.8550240979431354}...\n",
      "5/5 [==============================] - 0s 15ms/step - loss: 0.0842\n",
      "INFO: model evaluation on test data:\n",
      "\tMSE: 0.08421872556209564\n",
      "INFO: MSE: 0.08421872556209564\n",
      "INFO: trying {'n_recurrent_units': 27, 'n_dense_units': 52, 'scale': 0.08529181126461333, 'lr': 0.08671912517674434, 'dr': 0.8513656090294335}...\n",
      "5/5 [==============================] - 0s 11ms/step - loss: 0.1855\n",
      "INFO: model evaluation on test data:\n",
      "\tMSE: 0.1854580044746399\n",
      "INFO: MSE: 0.1854580044746399\n",
      "INFO: trying {'n_recurrent_units': 26, 'n_dense_units': 84, 'scale': 0.04498750965623575, 'lr': 0.026122552342782514, 'dr': 0.839309150233949}...\n",
      "5/5 [==============================] - 0s 11ms/step - loss: 0.0893\n",
      "INFO: model evaluation on test data:\n",
      "\tMSE: 0.08934678882360458\n",
      "INFO: MSE: 0.08934678882360458\n",
      "INFO: trying {'n_recurrent_units': 13, 'n_dense_units': 76, 'scale': 0.08796441339932899, 'lr': 0.09256671766619735, 'dr': 0.9412852009769908}...\n",
      "5/5 [==============================] - 0s 11ms/step - loss: 0.0890\n",
      "INFO: model evaluation on test data:\n",
      "\tMSE: 0.08901160955429077\n",
      "INFO: MSE: 0.08901160955429077\n",
      "INFO: trying {'n_recurrent_units': 31, 'n_dense_units': 99, 'scale': 0.062022425009505645, 'lr': 0.08658539560052597, 'dr': 0.8914838597850488}...\n",
      "5/5 [==============================] - 0s 13ms/step - loss: 0.1807\n",
      "INFO: model evaluation on test data:\n",
      "\tMSE: 0.1806863248348236\n",
      "INFO: MSE: 0.1806863248348236\n",
      "INFO: trying {'n_recurrent_units': 14, 'n_dense_units': 52, 'scale': 0.027512526552783363, 'lr': 0.08602180446542484, 'dr': 0.8480647330000456}...\n",
      "5/5 [==============================] - 0s 12ms/step - loss: 0.1777\n",
      "INFO: model evaluation on test data:\n",
      "\tMSE: 0.1776815801858902\n",
      "INFO: MSE: 0.1776815801858902\n",
      "INFO: trying {'n_recurrent_units': 26, 'n_dense_units': 78, 'scale': 0.04883336505412983, 'lr': 0.061089038124575626, 'dr': 0.8829002824174313}...\n",
      "5/5 [==============================] - 0s 12ms/step - loss: 0.1815\n",
      "INFO: model evaluation on test data:\n",
      "\tMSE: 0.18152682483196259\n",
      "INFO: MSE: 0.18152682483196259\n",
      "INFO: trying {'n_recurrent_units': 40, 'n_dense_units': 67, 'scale': 0.061420842610662565, 'lr': 0.008745354174420399, 'dr': 0.9500757488411669}...\n",
      "5/5 [==============================] - 0s 14ms/step - loss: 0.0817\n",
      "INFO: model evaluation on test data:\n",
      "\tMSE: 0.08166398853063583\n",
      "INFO: MSE: 0.08166398853063583\n",
      "INFO: trying {'n_recurrent_units': 92, 'n_dense_units': 65, 'scale': 0.02816092877307099, 'lr': 0.02683171629478432, 'dr': 0.9645325500671078}...\n",
      "5/5 [==============================] - 0s 15ms/step - loss: 0.0797\n",
      "INFO: model evaluation on test data:\n",
      "\tMSE: 0.0797315165400505\n",
      "INFO: MSE: 0.0797315165400505\n",
      "INFO: trying {'n_recurrent_units': 58, 'n_dense_units': 35, 'scale': 0.013181020452877808, 'lr': 0.020375164444685408, 'dr': 0.9696939567667475}...\n",
      "5/5 [==============================] - 0s 13ms/step - loss: 0.0834\n",
      "INFO: model evaluation on test data:\n",
      "\tMSE: 0.08336061984300613\n",
      "INFO: MSE: 0.08336061984300613\n",
      "INFO: trying {'n_recurrent_units': 77, 'n_dense_units': 25, 'scale': 0.0611629793584468, 'lr': 0.01687948819454518, 'dr': 0.84348483478081}...\n",
      "5/5 [==============================] - 0s 13ms/step - loss: 0.0832\n",
      "INFO: model evaluation on test data:\n",
      "\tMSE: 0.08316700905561447\n",
      "INFO: MSE: 0.08316700905561447\n",
      "INFO: trying {'n_recurrent_units': 61, 'n_dense_units': 27, 'scale': 0.07839822863457173, 'lr': 0.07941016653306594, 'dr': 0.8064329428368029}...\n",
      "5/5 [==============================] - 0s 13ms/step - loss: 0.0907\n",
      "INFO: model evaluation on test data:\n",
      "\tMSE: 0.09067275375127792\n",
      "INFO: MSE: 0.09067275375127792\n",
      "INFO: trying {'n_recurrent_units': 67, 'n_dense_units': 49, 'scale': 0.07764864426638034, 'lr': 0.02519061215158559, 'dr': 0.9627344121078563}...\n"
     ]
    },
    {
     "name": "stdout",
     "output_type": "stream",
     "text": [
      "5/5 [==============================] - 0s 15ms/step - loss: 0.0936\n",
      "INFO: model evaluation on test data:\n",
      "\tMSE: 0.09363501518964767\n",
      "INFO: MSE: 0.09363501518964767\n",
      "INFO: trying {'n_recurrent_units': 18, 'n_dense_units': 29, 'scale': 0.048833660623241446, 'lr': 0.07648530133363884, 'dr': 0.8015904155120736}...\n",
      "5/5 [==============================] - 0s 11ms/step - loss: 0.1780\n",
      "INFO: model evaluation on test data:\n",
      "\tMSE: 0.17796124517917633\n",
      "INFO: MSE: 0.17796124517917633\n",
      "INFO: trying {'n_recurrent_units': 81, 'n_dense_units': 52, 'scale': 0.08356516225126542, 'lr': 0.0953048185381867, 'dr': 0.9771909492484551}...\n",
      "5/5 [==============================] - 0s 14ms/step - loss: 0.0964\n",
      "INFO: model evaluation on test data:\n",
      "\tMSE: 0.0964457094669342\n",
      "INFO: MSE: 0.0964457094669342\n"
     ]
    }
   ],
   "source": [
    "rgs_result = random_grid_search(n_trials=n_trials, \n",
    "                        n_recurrent_units_min=n_recurrent_units_min, \n",
    "                        n_recurrent_units_max=n_recurrent_units_max, \n",
    "                                \n",
    "                        n_dense_units_min=n_dense_units_min, \n",
    "                        n_dense_units_max=n_dense_units_max,\n",
    "                        scale_min=scale_min, scale_max=scale_max,\n",
    "                        lr_min=lr_min, lr_max=lr_max, \n",
    "                        dr_min=dr_min, dr_max=dr_max)"
   ]
  },
  {
   "cell_type": "code",
   "execution_count": 22,
   "metadata": {
    "colab": {
     "base_uri": "https://localhost:8080/",
     "height": 1000
    },
    "id": "GrmYGM_RhpKY",
    "outputId": "c16f1211-e15e-4767-d941-84e991b96a7d",
    "scrolled": false
   },
   "outputs": [
    {
     "data": {
      "image/png": "[encoded data removed]",
      "text/plain": [
       "<Figure size 864x648 with 1 Axes>"
      ]
     },
     "metadata": {
      "needs_background": "light"
     },
     "output_type": "display_data"
    },
    {
     "data": {
      "image/png": "[encoded data removed]",
      "text/plain": [
       "<Figure size 864x648 with 1 Axes>"
      ]
     },
     "metadata": {
      "needs_background": "light"
     },
     "output_type": "display_data"
    },
    {
     "data": {
      "image/png": "[encoded data removed]",
      "text/plain": [
       "<Figure size 864x648 with 1 Axes>"
      ]
     },
     "metadata": {
      "needs_background": "light"
     },
     "output_type": "display_data"
    },
    {
     "data": {
      "image/png": "[encoded data removed]",
      "text/plain": [
       "<Figure size 864x648 with 1 Axes>"
      ]
     },
     "metadata": {
      "needs_background": "light"
     },
     "output_type": "display_data"
    },
    {
     "data": {
      "image/png": "[encoded data removed]",
      "text/plain": [
       "<Figure size 864x648 with 1 Axes>"
      ]
     },
     "metadata": {
      "needs_background": "light"
     },
     "output_type": "display_data"
    }
   ],
   "source": [
    "hyperparameters = list(rgs_result[0].get('hp').keys())\n",
    "ys = [d.get('MSE') for d in rgs_result]\n",
    "for hyperparameter in hyperparameters:\n",
    "  xs = [d.get('hp').get(hyperparameter) for d in rgs_result]\n",
    "  plt.scatter(xs, ys)\n",
    "  plt.xlabel(hyperparameter)\n",
    "  plt.ylabel('MSE')\n",
    "  plt.title(f'MSE by {hyperparameter}')\n",
    "  plt.show()"
   ]
  },
  {
   "cell_type": "code",
   "execution_count": 23,
   "metadata": {
    "id": "izw57AV72b_J"
   },
   "outputs": [],
   "source": [
    "def get_best_hp(rgs_result: List[Dict]):\n",
    "  best_error = None\n",
    "  for r in rgs_result:\n",
    "    if r.get('MSE') is None:\n",
    "      continue\n",
    "    if best_error is None or r.get('MSE') < best_error:\n",
    "      best_hp = r.get('hp')\n",
    "      best_error = r.get('MSE')\n",
    "  return best_hp, best_error"
   ]
  },
  {
   "cell_type": "code",
   "execution_count": 24,
   "metadata": {
    "colab": {
     "base_uri": "https://localhost:8080/"
    },
    "id": "Oxtv8mg73LsF",
    "outputId": "cd0c176a-0027-454b-c1b0-88a045bcbab9"
   },
   "outputs": [
    {
     "name": "stdout",
     "output_type": "stream",
     "text": [
      "best_hp: {'n_recurrent_units': 50, 'n_dense_units': 94, 'scale': 0.09811578766824954, 'lr': 0.06136490543229613, 'dr': 0.8606883005090471}\n",
      "Corresponding best_MSE: 0.07809661328792572\n"
     ]
    }
   ],
   "source": [
    "best_hp, best_error = get_best_hp(rgs_result)\n",
    "print(f'best_hp: {best_hp}\\nCorresponding best_MSE: {best_error}')"
   ]
  },
  {
   "cell_type": "code",
   "execution_count": 25,
   "metadata": {
    "colab": {
     "base_uri": "https://localhost:8080/"
    },
    "id": "yvddyQ4w4Dpn",
    "outputId": "eac85249-e0b6-4195-bb45-6b229873fc9d"
   },
   "outputs": [
    {
     "name": "stdout",
     "output_type": "stream",
     "text": [
      "5/5 [==============================] - 0s 14ms/step - loss: 0.1771\n",
      "INFO: model evaluation on test data:\n",
      "\tMSE: 0.17708314955234528\n"
     ]
    },
    {
     "data": {
      "text/plain": [
       "0.17708314955234528"
      ]
     },
     "execution_count": 25,
     "metadata": {},
     "output_type": "execute_result"
    }
   ],
   "source": [
    "model = get_model(n_prior=n_prior, n_features=1, n_to_predict=n_to_predict,\n",
    "              scale = best_hp.get('scale'),\n",
    "              n_recurrent_units=best_hp.get('n_recurrent_units'), \n",
    "              n_dense_units=best_hp.get('n_dense_units'))\n",
    "\n",
    "train_persist_model(model=model, X_train=X_train, X_val=X_val, X_test=X_test, \n",
    "                  y_train=y_train, y_val=y_val, y_test=y_test, \n",
    "                  model_name=f'{stock} {target} price', model_path=None, \n",
    "                  lr=best_hp.get('lr'), dr=best_hp.get('dr'),\n",
    "                  max_epochs=max_epochs, patience=patience, \n",
    "                  batch_size=batch_size, plot=False, verbose=0)"
   ]
  },
  {
   "cell_type": "markdown",
   "metadata": {
    "id": "611SyKwjZ4kG"
   },
   "source": [
    "## Make prediction"
   ]
  },
  {
   "cell_type": "code",
   "execution_count": 26,
   "metadata": {
    "id": "Vn-peZHKaQn8"
   },
   "outputs": [],
   "source": [
    "def generate_prediction(predict_from: str, stock: str, target: str, model: Model, \n",
    "                        n_prior: int = 21, valid: bool = False) -> None:\n",
    "  \"\"\" Generate predictions from the date `predict_from` based on the `n_prior` \n",
    "  previous values for the price `target` of `stock`\n",
    "    Args:\n",
    "        predict_from (str): format 'yyyy-mm-dd', date after which the predictions will start\n",
    "        stock (str): code of the stock on Yahoo Finance\n",
    "        target (str): target price to predict (e.g. 'Close')\n",
    "        model (Model): Tensorflow model trained for making predictions\n",
    "        n_prior (int): number of previous values to use for the prediction \n",
    "            (must be the same than the one used to train the `model`)\n",
    "        valid (bool): if to plot the actual vs. the predicted values \n",
    "            (only if the prediction time range lies in the past)\n",
    "    \"\"\"\n",
    "  predict_from_dt = datetime.strptime(predict_from, '%Y-%m-%d')\n",
    "  start_dt = predict_from_dt - timedelta(days=int(n_prior * 1.5))\n",
    "  start = start_dt.strftime('%Y-%m-%d')\n",
    "  data = yf.download(tickers=stock, period='1d', start=start, end=predict_from)\n",
    "  data = data[target]\n",
    "  # Normalize\n",
    "  min_value, max_value = data.min(), data.max()\n",
    "  data = (data - min_value) / (max_value - min_value)\n",
    "  data = data.values[data.shape[0] - n_prior:].reshape(1, -1, 1)\n",
    "\n",
    "  predictions = model.predict(data)\n",
    "  predictions = predictions * (max_value - min_value) + min_value # de-normalize\n",
    "  predictions = predictions.flatten()\n",
    "  prediction_dates = [predict_from_dt + timedelta(days=i+1) for i in range(predictions.shape[0])]\n",
    "  predictions = DataFrame({'date': prediction_dates, 'prediction': predictions})\n",
    "  predictions = predictions.set_index('date')\n",
    "  if valid:\n",
    "    start_valid = predict_from_dt + timedelta(days=1)\n",
    "    end_valid = predict_from_dt + timedelta(int(1.5 * predictions.shape[0]))\n",
    "    start_valid = start_valid.strftime('%Y-%m-%d')\n",
    "    end_valid = end_valid.strftime('%Y-%m-%d')\n",
    "    true_values = yf.download(tickers=stock, period='1d', start=start_valid, end=end_valid)\n",
    "    true_values = true_values[[target]].loc[:predictions.index.max(),:]\n",
    "    fig, ax = plt.subplots(1)\n",
    "    ax.plot(true_values, label='actual')\n",
    "    ax.plot(predictions, label='predicted')\n",
    "    ax.set_title(f'Actual vs. Prediction for stock {stock} between {start_valid} and {end_valid}')\n",
    "    ax.set(xlabel='day', ylabel=f'{stock} ${target} price ($)')\n",
    "    ax.legend()\n",
    "    plt.show()\n",
    "  return predictions"
   ]
  },
  {
   "cell_type": "code",
   "execution_count": 27,
   "metadata": {
    "colab": {
     "base_uri": "https://localhost:8080/",
     "height": 602
    },
    "id": "QzXZGuIaaWTW",
    "outputId": "e555c78b-94b5-4995-8f14-23eedcc5f45a"
   },
   "outputs": [
    {
     "name": "stdout",
     "output_type": "stream",
     "text": [
      "[*********************100%***********************]  1 of 1 completed\n",
      "[*********************100%***********************]  1 of 1 completed\n"
     ]
    },
    {
     "data": {
      "image/png": "[encoded data removed]",
      "text/plain": [
       "<Figure size 864x648 with 1 Axes>"
      ]
     },
     "metadata": {
      "needs_background": "light"
     },
     "output_type": "display_data"
    }
   ],
   "source": [
    "predict_from = '2021-2-17'\n",
    "predictions = generate_prediction(predict_from=predict_from, stock=stock, \n",
    "                                  target=target, model=model, n_prior=n_prior, \n",
    "                                  valid=True)"
   ]
  },
  {
   "cell_type": "code",
   "execution_count": 28,
   "metadata": {
    "id": "__MswHX8bH_Z"
   },
   "outputs": [
    {
     "data": {
      "text/html": [
       "<div>\n",
       "<style scoped>\n",
       "    .dataframe tbody tr th:only-of-type {\n",
       "        vertical-align: middle;\n",
       "    }\n",
       "\n",
       "    .dataframe tbody tr th {\n",
       "        vertical-align: top;\n",
       "    }\n",
       "\n",
       "    .dataframe thead th {\n",
       "        text-align: right;\n",
       "    }\n",
       "</style>\n",
       "<table border=\"1\" class=\"dataframe\">\n",
       "  <thead>\n",
       "    <tr style=\"text-align: right;\">\n",
       "      <th></th>\n",
       "      <th>prediction</th>\n",
       "    </tr>\n",
       "    <tr>\n",
       "      <th>date</th>\n",
       "      <th></th>\n",
       "    </tr>\n",
       "  </thead>\n",
       "  <tbody>\n",
       "    <tr>\n",
       "      <th>2021-02-18</th>\n",
       "      <td>137.863342</td>\n",
       "    </tr>\n",
       "    <tr>\n",
       "      <th>2021-02-19</th>\n",
       "      <td>136.039413</td>\n",
       "    </tr>\n",
       "    <tr>\n",
       "      <th>2021-02-20</th>\n",
       "      <td>136.988449</td>\n",
       "    </tr>\n",
       "    <tr>\n",
       "      <th>2021-02-21</th>\n",
       "      <td>138.173248</td>\n",
       "    </tr>\n",
       "    <tr>\n",
       "      <th>2021-02-22</th>\n",
       "      <td>138.926865</td>\n",
       "    </tr>\n",
       "    <tr>\n",
       "      <th>2021-02-23</th>\n",
       "      <td>137.408173</td>\n",
       "    </tr>\n",
       "    <tr>\n",
       "      <th>2021-02-24</th>\n",
       "      <td>139.359665</td>\n",
       "    </tr>\n",
       "  </tbody>\n",
       "</table>\n",
       "</div>"
      ],
      "text/plain": [
       "            prediction\n",
       "date                  \n",
       "2021-02-18  137.863342\n",
       "2021-02-19  136.039413\n",
       "2021-02-20  136.988449\n",
       "2021-02-21  138.173248\n",
       "2021-02-22  138.926865\n",
       "2021-02-23  137.408173\n",
       "2021-02-24  139.359665"
      ]
     },
     "execution_count": 28,
     "metadata": {},
     "output_type": "execute_result"
    }
   ],
   "source": [
    "predictions"
   ]
  },
  {
   "cell_type": "code",
   "execution_count": null,
   "metadata": {
    "id": "w9Zvkh8K03e9"
   },
   "outputs": [],
   "source": []
  }
 ],
 "metadata": {
  "colab": {
   "name": "stock_prediction.ipynb",
   "provenance": []
  },
  "kernelspec": {
   "display_name": "Python 3",
   "language": "python",
   "name": "python3"
  },
  "language_info": {
   "codemirror_mode": {
    "name": "ipython",
    "version": 3
   },
   "file_extension": ".py",
   "mimetype": "text/x-python",
   "name": "python",
   "nbconvert_exporter": "python",
   "pygments_lexer": "ipython3",
   "version": "3.8.6"
  },
  "toc": {
   "base_numbering": 1,
   "nav_menu": {},
   "number_sections": true,
   "sideBar": true,
   "skip_h1_title": false,
   "title_cell": "Table of Contents",
   "title_sidebar": "Contents",
   "toc_cell": false,
   "toc_position": {},
   "toc_section_display": true,
   "toc_window_display": false
  }
 },
 "nbformat": 4,
 "nbformat_minor": 1
}
