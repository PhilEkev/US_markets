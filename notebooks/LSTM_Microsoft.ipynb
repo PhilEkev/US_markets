{
 "cells": [
  {
   "cell_type": "code",
   "execution_count": 25,
   "id": "cf08c142",
   "metadata": {},
   "outputs": [
    {
     "data": {
      "text/html": [
       "<div>\n",
       "<style scoped>\n",
       "    .dataframe tbody tr th:only-of-type {\n",
       "        vertical-align: middle;\n",
       "    }\n",
       "\n",
       "    .dataframe tbody tr th {\n",
       "        vertical-align: top;\n",
       "    }\n",
       "\n",
       "    .dataframe thead th {\n",
       "        text-align: right;\n",
       "    }\n",
       "</style>\n",
       "<table border=\"1\" class=\"dataframe\">\n",
       "  <thead>\n",
       "    <tr style=\"text-align: right;\">\n",
       "      <th></th>\n",
       "      <th>Date</th>\n",
       "      <th>Open</th>\n",
       "      <th>High</th>\n",
       "      <th>Low</th>\n",
       "      <th>Close</th>\n",
       "      <th>Adj Close</th>\n",
       "      <th>Volume</th>\n",
       "    </tr>\n",
       "  </thead>\n",
       "  <tbody>\n",
       "    <tr>\n",
       "      <th>0</th>\n",
       "      <td>2016-06-10</td>\n",
       "      <td>45.478001</td>\n",
       "      <td>45.594002</td>\n",
       "      <td>43.683998</td>\n",
       "      <td>43.757999</td>\n",
       "      <td>43.757999</td>\n",
       "      <td>30133000</td>\n",
       "    </tr>\n",
       "    <tr>\n",
       "      <th>1</th>\n",
       "      <td>2016-06-13</td>\n",
       "      <td>43.900002</td>\n",
       "      <td>45.153999</td>\n",
       "      <td>43.532001</td>\n",
       "      <td>43.574001</td>\n",
       "      <td>43.574001</td>\n",
       "      <td>20965000</td>\n",
       "    </tr>\n",
       "    <tr>\n",
       "      <th>2</th>\n",
       "      <td>2016-06-14</td>\n",
       "      <td>43.776001</td>\n",
       "      <td>44.439999</td>\n",
       "      <td>42.506001</td>\n",
       "      <td>42.992001</td>\n",
       "      <td>42.992001</td>\n",
       "      <td>17901000</td>\n",
       "    </tr>\n",
       "    <tr>\n",
       "      <th>3</th>\n",
       "      <td>2016-06-15</td>\n",
       "      <td>43.389999</td>\n",
       "      <td>44.380001</td>\n",
       "      <td>43.026001</td>\n",
       "      <td>43.540001</td>\n",
       "      <td>43.540001</td>\n",
       "      <td>14542500</td>\n",
       "    </tr>\n",
       "    <tr>\n",
       "      <th>4</th>\n",
       "      <td>2016-06-16</td>\n",
       "      <td>43.484001</td>\n",
       "      <td>43.608002</td>\n",
       "      <td>42.700001</td>\n",
       "      <td>43.585999</td>\n",
       "      <td>43.585999</td>\n",
       "      <td>12201500</td>\n",
       "    </tr>\n",
       "  </tbody>\n",
       "</table>\n",
       "</div>"
      ],
      "text/plain": [
       "         Date       Open       High        Low      Close  Adj Close    Volume\n",
       "0  2016-06-10  45.478001  45.594002  43.683998  43.757999  43.757999  30133000\n",
       "1  2016-06-13  43.900002  45.153999  43.532001  43.574001  43.574001  20965000\n",
       "2  2016-06-14  43.776001  44.439999  42.506001  42.992001  42.992001  17901000\n",
       "3  2016-06-15  43.389999  44.380001  43.026001  43.540001  43.540001  14542500\n",
       "4  2016-06-16  43.484001  43.608002  42.700001  43.585999  43.585999  12201500"
      ]
     },
     "execution_count": 25,
     "metadata": {},
     "output_type": "execute_result"
    }
   ],
   "source": [
    "#Load and Check Data\n",
    "import numpy as np\n",
    "import pandas as pd\n",
    "import datetime as dt\n",
    "from prophet import Prophet\n",
    "\n",
    "data = pd.read_csv(\"../raw_data/TSLA.csv\",parse_dates = True)\n",
    "data.head()"
   ]
  },
  {
   "cell_type": "code",
   "execution_count": 27,
   "id": "c02754dc",
   "metadata": {},
   "outputs": [],
   "source": [
    "data['Date'] = pd.to_datetime(data['Date'])"
   ]
  },
  {
   "cell_type": "code",
   "execution_count": 28,
   "id": "c033411f",
   "metadata": {},
   "outputs": [
    {
     "data": {
      "text/plain": [
       "Date         datetime64[ns]\n",
       "Open                float64\n",
       "High                float64\n",
       "Low                 float64\n",
       "Close               float64\n",
       "Adj Close           float64\n",
       "Volume                int64\n",
       "dtype: object"
      ]
     },
     "execution_count": 28,
     "metadata": {},
     "output_type": "execute_result"
    }
   ],
   "source": [
    "data.dtypes"
   ]
  },
  {
   "cell_type": "code",
   "execution_count": 29,
   "id": "2876d017",
   "metadata": {},
   "outputs": [
    {
     "data": {
      "text/plain": [
       "(1258, 7)"
      ]
     },
     "execution_count": 29,
     "metadata": {},
     "output_type": "execute_result"
    }
   ],
   "source": [
    "data.shape"
   ]
  },
  {
   "cell_type": "code",
   "execution_count": 30,
   "id": "8a00ea68",
   "metadata": {},
   "outputs": [],
   "source": [
    "#Split the data as train and test\n",
    "\n",
    "training_size = int(len(data)*0.80)\n",
    "data_len = len(data)\n",
    "\n",
    "train, test = data[0:training_size],data[training_size:data_len]"
   ]
  },
  {
   "cell_type": "code",
   "execution_count": 31,
   "id": "99463584",
   "metadata": {},
   "outputs": [
    {
     "name": "stdout",
     "output_type": "stream",
     "text": [
      "Training Size -->  1006\n",
      "total length of data -->  1258\n",
      "Train length -->  1006\n",
      "Test length -->  252\n"
     ]
    }
   ],
   "source": [
    "print(\"Training Size --> \", training_size)\n",
    "print(\"total length of data --> \", data_len)\n",
    "print(\"Train length --> \", len(train))\n",
    "print(\"Test length --> \", len(test))"
   ]
  },
  {
   "cell_type": "code",
   "execution_count": 32,
   "id": "e3ff26e3",
   "metadata": {},
   "outputs": [
    {
     "data": {
      "text/plain": [
       "array([[0.05165056],\n",
       "       [0.05045724],\n",
       "       [0.04668268],\n",
       "       ...,\n",
       "       [0.91664835],\n",
       "       [1.        ],\n",
       "       [0.98800187]])"
      ]
     },
     "execution_count": 32,
     "metadata": {},
     "output_type": "execute_result"
    }
   ],
   "source": [
    "# Normalize data \n",
    "# the part of data that we will use as training.\n",
    "train = train.loc[:, [\"Adj Close\"]].values\n",
    "\n",
    "from sklearn.preprocessing import MinMaxScaler\n",
    "scaler = MinMaxScaler(feature_range=(0, 1))\n",
    "train_scaled = scaler.fit_transform(train)\n",
    "train_scaled "
   ]
  },
  {
   "cell_type": "code",
   "execution_count": 33,
   "id": "6a7b9c62",
   "metadata": {},
   "outputs": [],
   "source": [
    "import numpy as np\n",
    "\n",
    "#We will separate the normalized data into x_train and y_train.\n",
    "#We will make this distinction 40 steps 40 steps. So we will train in 40 steps\n",
    "\n",
    "\n",
    "end_len = len(train_scaled)\n",
    "X_train = []\n",
    "y_train = []\n",
    "timesteps = 40\n",
    "\n",
    "for i in range(timesteps, end_len):\n",
    "    X_train.append(train_scaled[i - timesteps:i, 0])\n",
    "    y_train.append(train_scaled[i, 0])\n",
    "X_train, y_train = np.array(X_train), np.array(y_train)"
   ]
  },
  {
   "cell_type": "code",
   "execution_count": 34,
   "id": "4850c383",
   "metadata": {},
   "outputs": [
    {
     "name": "stdout",
     "output_type": "stream",
     "text": [
      "X_train -->  (966, 40, 1)\n",
      "y_train shape -->  (966,)\n"
     ]
    }
   ],
   "source": [
    "# Reshape\n",
    "\n",
    "X_train = np.reshape(X_train, (X_train.shape[0], X_train.shape[1], 1))\n",
    "print(\"X_train --> \", X_train.shape)\n",
    "print(\"y_train shape --> \", y_train.shape)"
   ]
  },
  {
   "cell_type": "code",
   "execution_count": 35,
   "id": "88f5fc31",
   "metadata": {},
   "outputs": [],
   "source": [
    "# LSTM model\n",
    "\n",
    "import tensorflow as tf\n",
    "from tensorflow import keras\n",
    "from tensorflow.keras import layers\n",
    "\n",
    "\n",
    "from tensorflow.keras.models import Sequential\n",
    "from tensorflow.keras.layers import Dense\n",
    "from tensorflow.keras.layers import LSTM\n",
    "from tensorflow.keras.layers import Dropout"
   ]
  },
  {
   "cell_type": "code",
   "execution_count": 36,
   "id": "2eabcf37",
   "metadata": {},
   "outputs": [],
   "source": [
    "regressor = Sequential()\n",
    "\n",
    "regressor.add(LSTM(units = 50, return_sequences = True, input_shape = (X_train.shape[1],1)))\n",
    "regressor.add(Dropout(0.2))\n",
    "\n",
    "regressor.add(LSTM(units = 50, return_sequences = True))\n",
    "regressor.add(Dropout(0.2))\n",
    "\n",
    "regressor.add(LSTM(units = 50, return_sequences = True))\n",
    "regressor.add(Dropout(0.2))\n",
    "\n",
    "regressor.add(LSTM(units = 50))\n",
    "regressor.add(Dropout(0.2))\n",
    "\n",
    "regressor.add(Dense(units = 1))"
   ]
  },
  {
   "cell_type": "code",
   "execution_count": 37,
   "id": "8c31d4eb",
   "metadata": {},
   "outputs": [],
   "source": [
    "# Compile Model\n",
    "regressor.compile(optimizer= \"adam\", loss = \"mean_squared_error\")"
   ]
  },
  {
   "cell_type": "code",
   "execution_count": 38,
   "id": "bb5225df",
   "metadata": {},
   "outputs": [],
   "source": [
    "epochs = 50 \n",
    "batch_size = 32"
   ]
  },
  {
   "cell_type": "code",
   "execution_count": 39,
   "id": "372c7a42",
   "metadata": {},
   "outputs": [
    {
     "name": "stdout",
     "output_type": "stream",
     "text": [
      "Epoch 1/50\n",
      "31/31 [==============================] - 9s 79ms/step - loss: 0.0290\n",
      "Epoch 2/50\n",
      "31/31 [==============================] - 2s 79ms/step - loss: 0.0078\n",
      "Epoch 3/50\n",
      "31/31 [==============================] - 3s 83ms/step - loss: 0.0065\n",
      "Epoch 4/50\n",
      "31/31 [==============================] - 2s 75ms/step - loss: 0.0052\n",
      "Epoch 5/50\n",
      "31/31 [==============================] - 2s 76ms/step - loss: 0.0057\n",
      "Epoch 6/50\n",
      "31/31 [==============================] - 2s 78ms/step - loss: 0.0034\n",
      "Epoch 7/50\n",
      "31/31 [==============================] - 2s 73ms/step - loss: 0.0033\n",
      "Epoch 8/50\n",
      "31/31 [==============================] - 2s 72ms/step - loss: 0.0031\n",
      "Epoch 9/50\n",
      "31/31 [==============================] - 2s 75ms/step - loss: 0.0026\n",
      "Epoch 10/50\n",
      "31/31 [==============================] - 2s 72ms/step - loss: 0.0031\n",
      "Epoch 11/50\n",
      "31/31 [==============================] - 2s 74ms/step - loss: 0.0032\n",
      "Epoch 12/50\n",
      "31/31 [==============================] - 2s 74ms/step - loss: 0.0029\n",
      "Epoch 13/50\n",
      "31/31 [==============================] - 2s 74ms/step - loss: 0.0031\n",
      "Epoch 14/50\n",
      "31/31 [==============================] - 2s 76ms/step - loss: 0.0027\n",
      "Epoch 15/50\n",
      "31/31 [==============================] - 2s 75ms/step - loss: 0.0026\n",
      "Epoch 16/50\n",
      "31/31 [==============================] - 2s 76ms/step - loss: 0.0028\n",
      "Epoch 17/50\n",
      "31/31 [==============================] - 2s 74ms/step - loss: 0.0032\n",
      "Epoch 18/50\n",
      "31/31 [==============================] - 2s 73ms/step - loss: 0.0030\n",
      "Epoch 19/50\n",
      "31/31 [==============================] - 3s 82ms/step - loss: 0.0021\n",
      "Epoch 20/50\n",
      "31/31 [==============================] - 2s 78ms/step - loss: 0.0033\n",
      "Epoch 21/50\n",
      "31/31 [==============================] - 3s 99ms/step - loss: 0.0024\n",
      "Epoch 22/50\n",
      "31/31 [==============================] - 3s 84ms/step - loss: 0.0026\n",
      "Epoch 23/50\n",
      "31/31 [==============================] - 2s 75ms/step - loss: 0.0025\n",
      "Epoch 24/50\n",
      "31/31 [==============================] - 2s 74ms/step - loss: 0.0025\n",
      "Epoch 25/50\n",
      "31/31 [==============================] - 2s 70ms/step - loss: 0.0020\n",
      "Epoch 26/50\n",
      "31/31 [==============================] - 2s 76ms/step - loss: 0.0027\n",
      "Epoch 27/50\n",
      "31/31 [==============================] - 3s 87ms/step - loss: 0.0022\n",
      "Epoch 28/50\n",
      "31/31 [==============================] - 2s 75ms/step - loss: 0.0022\n",
      "Epoch 29/50\n",
      "31/31 [==============================] - 2s 72ms/step - loss: 0.0022\n",
      "Epoch 30/50\n",
      "31/31 [==============================] - 2s 74ms/step - loss: 0.0022\n",
      "Epoch 31/50\n",
      "31/31 [==============================] - 2s 77ms/step - loss: 0.0021\n",
      "Epoch 32/50\n",
      "31/31 [==============================] - 4s 129ms/step - loss: 0.0026\n",
      "Epoch 33/50\n",
      "31/31 [==============================] - 3s 95ms/step - loss: 0.0022\n",
      "Epoch 34/50\n",
      "31/31 [==============================] - 2s 77ms/step - loss: 0.0026\n",
      "Epoch 35/50\n",
      "31/31 [==============================] - 2s 76ms/step - loss: 0.0024\n",
      "Epoch 36/50\n",
      "31/31 [==============================] - 2s 75ms/step - loss: 0.0022\n",
      "Epoch 37/50\n",
      "31/31 [==============================] - 2s 75ms/step - loss: 0.0020\n",
      "Epoch 38/50\n",
      "31/31 [==============================] - 2s 75ms/step - loss: 0.0020\n",
      "Epoch 39/50\n",
      "31/31 [==============================] - 2s 76ms/step - loss: 0.0016\n",
      "Epoch 40/50\n",
      "31/31 [==============================] - 3s 81ms/step - loss: 0.0019\n",
      "Epoch 41/50\n",
      "31/31 [==============================] - 2s 76ms/step - loss: 0.0021\n",
      "Epoch 42/50\n",
      "31/31 [==============================] - 2s 71ms/step - loss: 0.0019\n",
      "Epoch 43/50\n",
      "31/31 [==============================] - 2s 74ms/step - loss: 0.0019\n",
      "Epoch 44/50\n",
      "31/31 [==============================] - 2s 73ms/step - loss: 0.0022\n",
      "Epoch 45/50\n",
      "31/31 [==============================] - 3s 96ms/step - loss: 0.0021\n",
      "Epoch 46/50\n",
      "31/31 [==============================] - 4s 112ms/step - loss: 0.0016\n",
      "Epoch 47/50\n",
      "31/31 [==============================] - 3s 84ms/step - loss: 0.0019\n",
      "Epoch 48/50\n",
      "31/31 [==============================] - 3s 89ms/step - loss: 0.0017\n",
      "Epoch 49/50\n",
      "31/31 [==============================] - 3s 105ms/step - loss: 0.0018\n",
      "Epoch 50/50\n",
      "31/31 [==============================] - 2s 74ms/step - loss: 0.0013\n"
     ]
    },
    {
     "data": {
      "text/plain": [
       "<tensorflow.python.keras.callbacks.History at 0x7f4fe8578520>"
      ]
     },
     "execution_count": 39,
     "metadata": {},
     "output_type": "execute_result"
    }
   ],
   "source": [
    "# Fit the model \n",
    "\n",
    "regressor.fit(X_train, y_train, epochs = epochs, batch_size = batch_size)"
   ]
  },
  {
   "cell_type": "code",
   "execution_count": 40,
   "id": "2197939a",
   "metadata": {},
   "outputs": [
    {
     "data": {
      "text/html": [
       "<div>\n",
       "<style scoped>\n",
       "    .dataframe tbody tr th:only-of-type {\n",
       "        vertical-align: middle;\n",
       "    }\n",
       "\n",
       "    .dataframe tbody tr th {\n",
       "        vertical-align: top;\n",
       "    }\n",
       "\n",
       "    .dataframe thead th {\n",
       "        text-align: right;\n",
       "    }\n",
       "</style>\n",
       "<table border=\"1\" class=\"dataframe\">\n",
       "  <thead>\n",
       "    <tr style=\"text-align: right;\">\n",
       "      <th></th>\n",
       "      <th>Date</th>\n",
       "      <th>Open</th>\n",
       "      <th>High</th>\n",
       "      <th>Low</th>\n",
       "      <th>Close</th>\n",
       "      <th>Adj Close</th>\n",
       "      <th>Volume</th>\n",
       "    </tr>\n",
       "  </thead>\n",
       "  <tbody>\n",
       "    <tr>\n",
       "      <th>1006</th>\n",
       "      <td>2020-06-10</td>\n",
       "      <td>198.376007</td>\n",
       "      <td>205.496002</td>\n",
       "      <td>196.500000</td>\n",
       "      <td>205.009995</td>\n",
       "      <td>205.009995</td>\n",
       "      <td>92817000</td>\n",
       "    </tr>\n",
       "    <tr>\n",
       "      <th>1007</th>\n",
       "      <td>2020-06-11</td>\n",
       "      <td>198.039993</td>\n",
       "      <td>203.792007</td>\n",
       "      <td>194.399994</td>\n",
       "      <td>194.567993</td>\n",
       "      <td>194.567993</td>\n",
       "      <td>79582500</td>\n",
       "    </tr>\n",
       "    <tr>\n",
       "      <th>1008</th>\n",
       "      <td>2020-06-12</td>\n",
       "      <td>196.000000</td>\n",
       "      <td>197.595993</td>\n",
       "      <td>182.520004</td>\n",
       "      <td>187.056000</td>\n",
       "      <td>187.056000</td>\n",
       "      <td>83817000</td>\n",
       "    </tr>\n",
       "    <tr>\n",
       "      <th>1009</th>\n",
       "      <td>2020-06-15</td>\n",
       "      <td>183.557999</td>\n",
       "      <td>199.768005</td>\n",
       "      <td>181.699997</td>\n",
       "      <td>198.179993</td>\n",
       "      <td>198.179993</td>\n",
       "      <td>78486000</td>\n",
       "    </tr>\n",
       "    <tr>\n",
       "      <th>1010</th>\n",
       "      <td>2020-06-16</td>\n",
       "      <td>202.369995</td>\n",
       "      <td>202.576004</td>\n",
       "      <td>192.477997</td>\n",
       "      <td>196.425995</td>\n",
       "      <td>196.425995</td>\n",
       "      <td>70255500</td>\n",
       "    </tr>\n",
       "  </tbody>\n",
       "</table>\n",
       "</div>"
      ],
      "text/plain": [
       "           Date        Open        High         Low       Close   Adj Close  \\\n",
       "1006 2020-06-10  198.376007  205.496002  196.500000  205.009995  205.009995   \n",
       "1007 2020-06-11  198.039993  203.792007  194.399994  194.567993  194.567993   \n",
       "1008 2020-06-12  196.000000  197.595993  182.520004  187.056000  187.056000   \n",
       "1009 2020-06-15  183.557999  199.768005  181.699997  198.179993  198.179993   \n",
       "1010 2020-06-16  202.369995  202.576004  192.477997  196.425995  196.425995   \n",
       "\n",
       "        Volume  \n",
       "1006  92817000  \n",
       "1007  79582500  \n",
       "1008  83817000  \n",
       "1009  78486000  \n",
       "1010  70255500  "
      ]
     },
     "execution_count": 40,
     "metadata": {},
     "output_type": "execute_result"
    }
   ],
   "source": [
    "# Predict \n",
    "\n",
    "test.head()"
   ]
  },
  {
   "cell_type": "code",
   "execution_count": 48,
   "id": "fffabf5c",
   "metadata": {},
   "outputs": [
    {
     "name": "stdout",
     "output_type": "stream",
     "text": [
      "Real Price Shape -->  (252, 1)\n"
     ]
    }
   ],
   "source": [
    "# We use the data we separated above as our test data\n",
    "\n",
    "real_price = test.loc[:, [\"Adj Close\"]].values\n",
    "print(\"Real Price Shape --> \", real_price.shape)"
   ]
  },
  {
   "cell_type": "code",
   "execution_count": 49,
   "id": "21225f13",
   "metadata": {},
   "outputs": [],
   "source": [
    "dataset_total = pd.concat((data[\"Adj Close\"], test[\"Adj Close\"]), axis = 0)\n",
    "inputs = dataset_total[len(dataset_total) - len(test) - timesteps:].values.reshape(-1,1)\n",
    "inputs = scaler.transform(inputs)"
   ]
  },
  {
   "cell_type": "code",
   "execution_count": 55,
   "id": "c913dbbf",
   "metadata": {},
   "outputs": [
    {
     "name": "stdout",
     "output_type": "stream",
     "text": [
      "X_test shape -->  (460,)\n"
     ]
    }
   ],
   "source": [
    "X_test = []\n",
    "\n",
    "for i in range(timesteps, 500):\n",
    "    X_test.append(inputs[i-timesteps:i, 0])\n",
    "    \n",
    "X_test = np.array(X_test)\n",
    "\n",
    "print(\"X_test shape --> \", X_test.shape)"
   ]
  },
  {
   "cell_type": "code",
   "execution_count": 56,
   "id": "95e950da",
   "metadata": {},
   "outputs": [
    {
     "ename": "IndexError",
     "evalue": "tuple index out of range",
     "output_type": "error",
     "traceback": [
      "\u001b[0;31m---------------------------------------------------------------------------\u001b[0m",
      "\u001b[0;31mIndexError\u001b[0m                                Traceback (most recent call last)",
      "\u001b[0;32m<ipython-input-56-74d3acb62cbe>\u001b[0m in \u001b[0;36m<module>\u001b[0;34m\u001b[0m\n\u001b[0;32m----> 1\u001b[0;31m \u001b[0mX_test\u001b[0m \u001b[0;34m=\u001b[0m \u001b[0mnp\u001b[0m\u001b[0;34m.\u001b[0m\u001b[0mreshape\u001b[0m\u001b[0;34m(\u001b[0m\u001b[0mX_test\u001b[0m\u001b[0;34m,\u001b[0m \u001b[0;34m(\u001b[0m\u001b[0mX_test\u001b[0m\u001b[0;34m.\u001b[0m\u001b[0mshape\u001b[0m\u001b[0;34m[\u001b[0m\u001b[0;36m0\u001b[0m\u001b[0;34m]\u001b[0m\u001b[0;34m,\u001b[0m \u001b[0mX_test\u001b[0m\u001b[0;34m.\u001b[0m\u001b[0mshape\u001b[0m\u001b[0;34m[\u001b[0m\u001b[0;36m1\u001b[0m\u001b[0;34m]\u001b[0m\u001b[0;34m,\u001b[0m \u001b[0;36m1\u001b[0m\u001b[0;34m)\u001b[0m\u001b[0;34m)\u001b[0m\u001b[0;34m\u001b[0m\u001b[0;34m\u001b[0m\u001b[0m\n\u001b[0m\u001b[1;32m      2\u001b[0m \u001b[0mpredict\u001b[0m \u001b[0;34m=\u001b[0m \u001b[0mregressor\u001b[0m\u001b[0;34m.\u001b[0m\u001b[0mpredict\u001b[0m\u001b[0;34m(\u001b[0m\u001b[0mX_test\u001b[0m\u001b[0;34m)\u001b[0m\u001b[0;34m\u001b[0m\u001b[0;34m\u001b[0m\u001b[0m\n\u001b[1;32m      3\u001b[0m \u001b[0mpredict\u001b[0m \u001b[0;34m=\u001b[0m \u001b[0mscaler\u001b[0m\u001b[0;34m.\u001b[0m\u001b[0minverse_transform\u001b[0m\u001b[0;34m(\u001b[0m\u001b[0mpredict\u001b[0m\u001b[0;34m)\u001b[0m\u001b[0;34m\u001b[0m\u001b[0;34m\u001b[0m\u001b[0m\n",
      "\u001b[0;31mIndexError\u001b[0m: tuple index out of range"
     ]
    }
   ],
   "source": [
    "X_test = np.reshape(X_test, (X_test.shape[0], X_test.shape[1], 1))\n",
    "predict = regressor.predict(X_test)\n",
    "predict = scaler.inverse_transform(predict)"
   ]
  },
  {
   "cell_type": "code",
   "execution_count": 57,
   "id": "4182a824",
   "metadata": {},
   "outputs": [
    {
     "data": {
      "image/png": "[encoded data removed]",
      "text/plain": [
       "<Figure size 432x288 with 1 Axes>"
      ]
     },
     "metadata": {
      "needs_background": "light"
     },
     "output_type": "display_data"
    }
   ],
   "source": [
    "import matplotlib.pyplot as plt\n",
    "\n",
    "plt.plot(real_price, color = \"red\", label = \"Real Stock Price\")\n",
    "plt.plot(predict, color = \"black\", label = \"Predict Stock Price\")\n",
    "plt.title(\"Stock Price Prediction\")\n",
    "plt.xlabel(\"Time\")\n",
    "plt.ylabel(\"JPM Stock Price\")\n",
    "plt.legend()\n",
    "plt.show()"
   ]
  },
  {
   "cell_type": "code",
   "execution_count": null,
   "id": "b2ebb3a7",
   "metadata": {},
   "outputs": [],
   "source": []
  }
 ],
 "metadata": {
  "kernelspec": {
   "display_name": "Python 3",
   "language": "python",
   "name": "python3"
  },
  "language_info": {
   "codemirror_mode": {
    "name": "ipython",
    "version": 3
   },
   "file_extension": ".py",
   "mimetype": "text/x-python",
   "name": "python",
   "nbconvert_exporter": "python",
   "pygments_lexer": "ipython3",
   "version": "3.8.6"
  },
  "toc": {
   "base_numbering": 1,
   "nav_menu": {},
   "number_sections": true,
   "sideBar": true,
   "skip_h1_title": false,
   "title_cell": "Table of Contents",
   "title_sidebar": "Contents",
   "toc_cell": false,
   "toc_position": {},
   "toc_section_display": true,
   "toc_window_display": false
  }
 },
 "nbformat": 4,
 "nbformat_minor": 5
}
