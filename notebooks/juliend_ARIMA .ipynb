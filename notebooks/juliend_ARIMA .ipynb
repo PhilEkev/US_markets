{
 "cells": [
  {
   "cell_type": "code",
   "execution_count": 1,
   "id": "33fb1962",
   "metadata": {},
   "outputs": [],
   "source": [
    "import pandas as pd\n",
    "import numpy as np\n",
    "import matplotlib.pyplot as plt\n",
    "%matplotlib inline\n",
    "import seaborn as sns\n",
    "import warnings\n",
    "warnings.filterwarnings('ignore', 'statsmodels.tsa.arima_model.ARMA',\n",
    "                        FutureWarning)\n",
    "warnings.filterwarnings('ignore', 'statsmodels.tsa.arima_model.ARIMA',\n",
    "                        FutureWarning)"
   ]
  },
  {
   "cell_type": "code",
   "execution_count": 2,
   "id": "2965cae1",
   "metadata": {},
   "outputs": [],
   "source": [
    "df = pd.read_csv('../raw_data/stock_prices_latest.csv', nrows=100000)"
   ]
  },
  {
   "cell_type": "code",
   "execution_count": 3,
   "id": "135e200e",
   "metadata": {},
   "outputs": [
    {
     "data": {
      "text/html": [
       "<div>\n",
       "<style scoped>\n",
       "    .dataframe tbody tr th:only-of-type {\n",
       "        vertical-align: middle;\n",
       "    }\n",
       "\n",
       "    .dataframe tbody tr th {\n",
       "        vertical-align: top;\n",
       "    }\n",
       "\n",
       "    .dataframe thead th {\n",
       "        text-align: right;\n",
       "    }\n",
       "</style>\n",
       "<table border=\"1\" class=\"dataframe\">\n",
       "  <thead>\n",
       "    <tr style=\"text-align: right;\">\n",
       "      <th></th>\n",
       "      <th>symbol</th>\n",
       "      <th>date</th>\n",
       "      <th>open</th>\n",
       "      <th>high</th>\n",
       "      <th>low</th>\n",
       "      <th>close</th>\n",
       "      <th>close_adjusted</th>\n",
       "      <th>volume</th>\n",
       "      <th>split_coefficient</th>\n",
       "    </tr>\n",
       "  </thead>\n",
       "  <tbody>\n",
       "    <tr>\n",
       "      <th>0</th>\n",
       "      <td>MSFT</td>\n",
       "      <td>2016-05-16</td>\n",
       "      <td>50.80</td>\n",
       "      <td>51.96</td>\n",
       "      <td>50.75</td>\n",
       "      <td>51.83</td>\n",
       "      <td>49.7013</td>\n",
       "      <td>20032017</td>\n",
       "      <td>1.0</td>\n",
       "    </tr>\n",
       "    <tr>\n",
       "      <th>1</th>\n",
       "      <td>MSFT</td>\n",
       "      <td>2002-01-16</td>\n",
       "      <td>68.85</td>\n",
       "      <td>69.84</td>\n",
       "      <td>67.85</td>\n",
       "      <td>67.87</td>\n",
       "      <td>22.5902</td>\n",
       "      <td>30977700</td>\n",
       "      <td>1.0</td>\n",
       "    </tr>\n",
       "    <tr>\n",
       "      <th>2</th>\n",
       "      <td>MSFT</td>\n",
       "      <td>2001-09-18</td>\n",
       "      <td>53.41</td>\n",
       "      <td>55.00</td>\n",
       "      <td>53.17</td>\n",
       "      <td>54.32</td>\n",
       "      <td>18.0802</td>\n",
       "      <td>41591300</td>\n",
       "      <td>1.0</td>\n",
       "    </tr>\n",
       "    <tr>\n",
       "      <th>3</th>\n",
       "      <td>MSFT</td>\n",
       "      <td>2007-10-26</td>\n",
       "      <td>36.01</td>\n",
       "      <td>36.03</td>\n",
       "      <td>34.56</td>\n",
       "      <td>35.03</td>\n",
       "      <td>27.2232</td>\n",
       "      <td>288121200</td>\n",
       "      <td>1.0</td>\n",
       "    </tr>\n",
       "    <tr>\n",
       "      <th>4</th>\n",
       "      <td>MSFT</td>\n",
       "      <td>2014-06-27</td>\n",
       "      <td>41.61</td>\n",
       "      <td>42.29</td>\n",
       "      <td>41.51</td>\n",
       "      <td>42.25</td>\n",
       "      <td>38.6773</td>\n",
       "      <td>74640000</td>\n",
       "      <td>1.0</td>\n",
       "    </tr>\n",
       "  </tbody>\n",
       "</table>\n",
       "</div>"
      ],
      "text/plain": [
       "  symbol        date   open   high    low  close  close_adjusted     volume  \\\n",
       "0   MSFT  2016-05-16  50.80  51.96  50.75  51.83         49.7013   20032017   \n",
       "1   MSFT  2002-01-16  68.85  69.84  67.85  67.87         22.5902   30977700   \n",
       "2   MSFT  2001-09-18  53.41  55.00  53.17  54.32         18.0802   41591300   \n",
       "3   MSFT  2007-10-26  36.01  36.03  34.56  35.03         27.2232  288121200   \n",
       "4   MSFT  2014-06-27  41.61  42.29  41.51  42.25         38.6773   74640000   \n",
       "\n",
       "   split_coefficient  \n",
       "0                1.0  \n",
       "1                1.0  \n",
       "2                1.0  \n",
       "3                1.0  \n",
       "4                1.0  "
      ]
     },
     "execution_count": 3,
     "metadata": {},
     "output_type": "execute_result"
    }
   ],
   "source": [
    "df.head()"
   ]
  },
  {
   "cell_type": "code",
   "execution_count": 4,
   "id": "ac52621a",
   "metadata": {},
   "outputs": [
    {
     "name": "stdout",
     "output_type": "stream",
     "text": [
      "<class 'pandas.core.frame.DataFrame'>\n",
      "RangeIndex: 100000 entries, 0 to 99999\n",
      "Data columns (total 9 columns):\n",
      " #   Column             Non-Null Count   Dtype  \n",
      "---  ------             --------------   -----  \n",
      " 0   symbol             100000 non-null  object \n",
      " 1   date               100000 non-null  object \n",
      " 2   open               100000 non-null  float64\n",
      " 3   high               100000 non-null  float64\n",
      " 4   low                100000 non-null  float64\n",
      " 5   close              100000 non-null  float64\n",
      " 6   close_adjusted     100000 non-null  float64\n",
      " 7   volume             100000 non-null  int64  \n",
      " 8   split_coefficient  100000 non-null  float64\n",
      "dtypes: float64(6), int64(1), object(2)\n",
      "memory usage: 6.9+ MB\n"
     ]
    }
   ],
   "source": [
    "df.info()"
   ]
  },
  {
   "cell_type": "code",
   "execution_count": 5,
   "id": "6e355748",
   "metadata": {},
   "outputs": [
    {
     "data": {
      "text/plain": [
       "2348    2018-01-24\n",
       "Name: date, dtype: object"
      ]
     },
     "execution_count": 5,
     "metadata": {},
     "output_type": "execute_result"
    }
   ],
   "source": [
    "df = df.sort_values(by='date')\n",
    "is_cpny = df['symbol']=='MSFT'\n",
    "df = df[is_cpny]\n",
    "date_final = pd.Series(df.iloc[-1:]['date'])\n",
    "date_final"
   ]
  },
  {
   "cell_type": "code",
   "execution_count": 6,
   "id": "b50bd5be",
   "metadata": {},
   "outputs": [
    {
     "data": {
      "text/plain": [
       "<AxesSubplot:>"
      ]
     },
     "execution_count": 6,
     "metadata": {},
     "output_type": "execute_result"
    },
    {
     "data": {
      "image/png": "[encoded data removed]",
      "text/plain": [
       "<Figure size 432x288 with 1 Axes>"
      ]
     },
     "metadata": {
      "needs_background": "light"
     },
     "output_type": "display_data"
    }
   ],
   "source": [
    "is_cpny = df['symbol']=='MSFT'\n",
    "df_msft = df[is_cpny]\n",
    "df_msft = df_msft.sort_values(by='date')\n",
    "df_msft = df_msft.iloc[-100:]\n",
    "df_msft = df_msft.reset_index().drop(columns='index')\n",
    "df_msft = df_msft[\"close_adjusted\"]\n",
    "df_msft = pd.DataFrame(df_msft)\n",
    "df_msft.plot()"
   ]
  },
  {
   "cell_type": "code",
   "execution_count": 7,
   "id": "7106046f",
   "metadata": {},
   "outputs": [
    {
     "data": {
      "text/html": [
       "<div>\n",
       "<style scoped>\n",
       "    .dataframe tbody tr th:only-of-type {\n",
       "        vertical-align: middle;\n",
       "    }\n",
       "\n",
       "    .dataframe tbody tr th {\n",
       "        vertical-align: top;\n",
       "    }\n",
       "\n",
       "    .dataframe thead th {\n",
       "        text-align: right;\n",
       "    }\n",
       "</style>\n",
       "<table border=\"1\" class=\"dataframe\">\n",
       "  <thead>\n",
       "    <tr style=\"text-align: right;\">\n",
       "      <th></th>\n",
       "      <th>close_adjusted</th>\n",
       "    </tr>\n",
       "  </thead>\n",
       "  <tbody>\n",
       "    <tr>\n",
       "      <th>90</th>\n",
       "      <td>87.82</td>\n",
       "    </tr>\n",
       "    <tr>\n",
       "      <th>91</th>\n",
       "      <td>88.08</td>\n",
       "    </tr>\n",
       "    <tr>\n",
       "      <th>92</th>\n",
       "      <td>89.60</td>\n",
       "    </tr>\n",
       "    <tr>\n",
       "      <th>93</th>\n",
       "      <td>88.35</td>\n",
       "    </tr>\n",
       "    <tr>\n",
       "      <th>94</th>\n",
       "      <td>90.14</td>\n",
       "    </tr>\n",
       "    <tr>\n",
       "      <th>95</th>\n",
       "      <td>90.10</td>\n",
       "    </tr>\n",
       "    <tr>\n",
       "      <th>96</th>\n",
       "      <td>90.00</td>\n",
       "    </tr>\n",
       "    <tr>\n",
       "      <th>97</th>\n",
       "      <td>91.61</td>\n",
       "    </tr>\n",
       "    <tr>\n",
       "      <th>98</th>\n",
       "      <td>91.90</td>\n",
       "    </tr>\n",
       "    <tr>\n",
       "      <th>99</th>\n",
       "      <td>92.49</td>\n",
       "    </tr>\n",
       "  </tbody>\n",
       "</table>\n",
       "</div>"
      ],
      "text/plain": [
       "    close_adjusted\n",
       "90           87.82\n",
       "91           88.08\n",
       "92           89.60\n",
       "93           88.35\n",
       "94           90.14\n",
       "95           90.10\n",
       "96           90.00\n",
       "97           91.61\n",
       "98           91.90\n",
       "99           92.49"
      ]
     },
     "execution_count": 7,
     "metadata": {},
     "output_type": "execute_result"
    }
   ],
   "source": [
    "df_msft.tail(10)"
   ]
  },
  {
   "cell_type": "code",
   "execution_count": null,
   "id": "8c80f1b7",
   "metadata": {},
   "outputs": [],
   "source": []
  },
  {
   "cell_type": "code",
   "execution_count": null,
   "id": "e64a4cf8",
   "metadata": {},
   "outputs": [],
   "source": []
  },
  {
   "cell_type": "code",
   "execution_count": 8,
   "id": "81c80a8e",
   "metadata": {},
   "outputs": [],
   "source": [
    "y = df_msft.close_adjusted"
   ]
  },
  {
   "cell_type": "code",
   "execution_count": 9,
   "id": "734dba83",
   "metadata": {},
   "outputs": [
    {
     "data": {
      "text/plain": [
       "0     74.3935\n",
       "1     73.5676\n",
       "2     73.2393\n",
       "3     73.0304\n",
       "4     73.9656\n",
       "       ...   \n",
       "95    90.1000\n",
       "96    90.0000\n",
       "97    91.6100\n",
       "98    91.9000\n",
       "99    92.4900\n",
       "Name: close_adjusted, Length: 100, dtype: float64"
      ]
     },
     "execution_count": 9,
     "metadata": {},
     "output_type": "execute_result"
    }
   ],
   "source": [
    "y"
   ]
  },
  {
   "cell_type": "code",
   "execution_count": 10,
   "id": "3a07f998",
   "metadata": {},
   "outputs": [
    {
     "name": "stdout",
     "output_type": "stream",
     "text": [
      "p-value:  0.9732070330172667\n"
     ]
    }
   ],
   "source": [
    "from statsmodels.tsa.stattools import adfuller\n",
    "print('p-value: ', adfuller(y)[1])"
   ]
  },
  {
   "cell_type": "code",
   "execution_count": 11,
   "id": "4993e876",
   "metadata": {},
   "outputs": [
    {
     "name": "stdout",
     "output_type": "stream",
     "text": [
      "p-value:  6.35701846005648e-14\n"
     ]
    }
   ],
   "source": [
    "# First diff\n",
    "print('p-value: ', adfuller(y.diff(1).fillna(0))[1])"
   ]
  },
  {
   "cell_type": "code",
   "execution_count": 12,
   "id": "27bf3fd7",
   "metadata": {},
   "outputs": [
    {
     "name": "stdout",
     "output_type": "stream",
     "text": [
      "p-value:  9.781552285819646e-10\n"
     ]
    }
   ],
   "source": [
    "# Second order diff\n",
    "print('p-value: ', adfuller(y.diff(1).diff(1).fillna(0))[1])"
   ]
  },
  {
   "cell_type": "code",
   "execution_count": 13,
   "id": "d47048dd",
   "metadata": {},
   "outputs": [
    {
     "data": {
      "image/png": "[encoded data removed]",
      "text/plain": [
       "<Figure size 936x720 with 6 Axes>"
      ]
     },
     "metadata": {
      "needs_background": "light"
     },
     "output_type": "display_data"
    }
   ],
   "source": [
    "from statsmodels.graphics.tsaplots import plot_acf, plot_pacf\n",
    "\n",
    "# Original Series\n",
    "fig, axes = plt.subplots(3, 2, figsize=(13,10))\n",
    "axes[0, 0].plot(y); axes[0, 0].set_title('Original Series')\n",
    "plot_acf(y, ax=axes[0, 1])\n",
    "\n",
    "# 1st Differencing\n",
    "axes[1, 0].plot(y.diff()); axes[1, 0].set_title('1st Order Differencing')\n",
    "plot_acf(y.diff().dropna(), ax=axes[1, 1])\n",
    "\n",
    "# 2nd Differencing\n",
    "axes[2, 0].plot(y.diff().diff()); axes[2, 0].set_title('2nd Order Differencing')\n",
    "plot_acf(y.diff().diff().dropna(), ax=axes[2, 1])\n",
    "\n",
    "plt.show()"
   ]
  },
  {
   "cell_type": "code",
   "execution_count": 14,
   "id": "d0a8ff26",
   "metadata": {},
   "outputs": [],
   "source": [
    "y_diff = y.diff().dropna()"
   ]
  },
  {
   "cell_type": "code",
   "execution_count": 15,
   "id": "77e33242",
   "metadata": {},
   "outputs": [
    {
     "data": {
      "image/png": "[encoded data removed]",
      "text/plain": [
       "<Figure size 432x288 with 1 Axes>"
      ]
     },
     "metadata": {
      "needs_background": "light"
     },
     "output_type": "display_data"
    }
   ],
   "source": [
    "plot_acf(y_diff);"
   ]
  },
  {
   "cell_type": "code",
   "execution_count": 16,
   "id": "5f9008db",
   "metadata": {},
   "outputs": [
    {
     "data": {
      "image/png": "[encoded data removed]",
      "text/plain": [
       "<Figure size 432x288 with 1 Axes>"
      ]
     },
     "metadata": {
      "needs_background": "light"
     },
     "output_type": "display_data"
    }
   ],
   "source": [
    "from statsmodels.graphics.tsaplots import plot_acf, plot_pacf\n",
    "plot_pacf(y_diff, c='r');"
   ]
  },
  {
   "cell_type": "code",
   "execution_count": 17,
   "id": "8f83905e",
   "metadata": {},
   "outputs": [
    {
     "name": "stderr",
     "output_type": "stream",
     "text": [
      "/home/juliend/.pyenv/versions/3.8.6/envs/lewagon/lib/python3.8/site-packages/statsmodels/tsa/arima_model.py:472: FutureWarning: \n",
      "statsmodels.tsa.arima_model.ARMA and statsmodels.tsa.arima_model.ARIMA have\n",
      "been deprecated in favor of statsmodels.tsa.arima.model.ARIMA (note the .\n",
      "between arima and model) and\n",
      "statsmodels.tsa.SARIMAX. These will be removed after the 0.12 release.\n",
      "\n",
      "statsmodels.tsa.arima.model.ARIMA makes use of the statespace framework and\n",
      "is both well tested and maintained.\n",
      "\n",
      "To silence this warning and continue using ARMA and ARIMA until they are\n",
      "removed, use:\n",
      "\n",
      "import warnings\n",
      "warnings.filterwarnings('ignore', 'statsmodels.tsa.arima_model.ARMA',\n",
      "                        FutureWarning)\n",
      "warnings.filterwarnings('ignore', 'statsmodels.tsa.arima_model.ARIMA',\n",
      "                        FutureWarning)\n",
      "\n",
      "  warnings.warn(ARIMA_DEPRECATION_WARN, FutureWarning)\n"
     ]
    },
    {
     "data": {
      "text/html": [
       "<table class=\"simpletable\">\n",
       "<caption>ARIMA Model Results</caption>\n",
       "<tr>\n",
       "  <th>Dep. Variable:</th> <td>D.close_adjusted</td> <th>  No. Observations:  </th>    <td>99</td>   \n",
       "</tr>\n",
       "<tr>\n",
       "  <th>Model:</th>          <td>ARIMA(1, 1, 0)</td>  <th>  Log Likelihood     </th> <td>-125.989</td>\n",
       "</tr>\n",
       "<tr>\n",
       "  <th>Method:</th>             <td>css-mle</td>     <th>  S.D. of innovations</th>   <td>0.864</td> \n",
       "</tr>\n",
       "<tr>\n",
       "  <th>Date:</th>          <td>Fri, 11 Jun 2021</td> <th>  AIC                </th>  <td>257.978</td>\n",
       "</tr>\n",
       "<tr>\n",
       "  <th>Time:</th>              <td>10:58:20</td>     <th>  BIC                </th>  <td>265.763</td>\n",
       "</tr>\n",
       "<tr>\n",
       "  <th>Sample:</th>                <td>1</td>        <th>  HQIC               </th>  <td>261.128</td>\n",
       "</tr>\n",
       "<tr>\n",
       "  <th></th>                       <td> </td>        <th>                     </th>     <td> </td>   \n",
       "</tr>\n",
       "</table>\n",
       "<table class=\"simpletable\">\n",
       "<tr>\n",
       "             <td></td>               <th>coef</th>     <th>std err</th>      <th>z</th>      <th>P>|z|</th>  <th>[0.025</th>    <th>0.975]</th>  \n",
       "</tr>\n",
       "<tr>\n",
       "  <th>const</th>                  <td>    0.1835</td> <td>    0.077</td> <td>    2.390</td> <td> 0.017</td> <td>    0.033</td> <td>    0.334</td>\n",
       "</tr>\n",
       "<tr>\n",
       "  <th>ar.L1.D.close_adjusted</th> <td>   -0.1319</td> <td>    0.100</td> <td>   -1.321</td> <td> 0.187</td> <td>   -0.328</td> <td>    0.064</td>\n",
       "</tr>\n",
       "</table>\n",
       "<table class=\"simpletable\">\n",
       "<caption>Roots</caption>\n",
       "<tr>\n",
       "    <td></td>   <th>            Real</th>  <th>         Imaginary</th> <th>         Modulus</th>  <th>        Frequency</th>\n",
       "</tr>\n",
       "<tr>\n",
       "  <th>AR.1</th> <td>          -7.5792</td> <td>          +0.0000j</td> <td>           7.5792</td> <td>           0.5000</td>\n",
       "</tr>\n",
       "</table>"
      ],
      "text/plain": [
       "<class 'statsmodels.iolib.summary.Summary'>\n",
       "\"\"\"\n",
       "                             ARIMA Model Results                              \n",
       "==============================================================================\n",
       "Dep. Variable:       D.close_adjusted   No. Observations:                   99\n",
       "Model:                 ARIMA(1, 1, 0)   Log Likelihood                -125.989\n",
       "Method:                       css-mle   S.D. of innovations              0.864\n",
       "Date:                Fri, 11 Jun 2021   AIC                            257.978\n",
       "Time:                        10:58:20   BIC                            265.763\n",
       "Sample:                             1   HQIC                           261.128\n",
       "                                                                              \n",
       "==========================================================================================\n",
       "                             coef    std err          z      P>|z|      [0.025      0.975]\n",
       "------------------------------------------------------------------------------------------\n",
       "const                      0.1835      0.077      2.390      0.017       0.033       0.334\n",
       "ar.L1.D.close_adjusted    -0.1319      0.100     -1.321      0.187      -0.328       0.064\n",
       "                                    Roots                                    \n",
       "=============================================================================\n",
       "                  Real          Imaginary           Modulus         Frequency\n",
       "-----------------------------------------------------------------------------\n",
       "AR.1           -7.5792           +0.0000j            7.5792            0.5000\n",
       "-----------------------------------------------------------------------------\n",
       "\"\"\""
      ]
     },
     "execution_count": 17,
     "metadata": {},
     "output_type": "execute_result"
    }
   ],
   "source": [
    "from statsmodels.tsa.arima_model import ARIMA\n",
    "\n",
    "# 1. initialize the model\n",
    "arima = ARIMA(y, order=(1, 1, 0))\n",
    "\n",
    "# 2. fit the models\n",
    "arima = arima.fit()\n",
    "\n",
    "arima.summary()"
   ]
  },
  {
   "cell_type": "code",
   "execution_count": 18,
   "id": "60e6f3ed",
   "metadata": {},
   "outputs": [
    {
     "data": {
      "image/png": "[encoded data removed]",
      "text/plain": [
       "<Figure size 432x288 with 1 Axes>"
      ]
     },
     "metadata": {
      "needs_background": "light"
     },
     "output_type": "display_data"
    }
   ],
   "source": [
    "# Actual vs Fitted\n",
    "arima.plot_predict(dynamic=False);"
   ]
  },
  {
   "cell_type": "code",
   "execution_count": 19,
   "id": "88f6b0cc",
   "metadata": {},
   "outputs": [
    {
     "data": {
      "image/png": "[encoded data removed]",
      "text/plain": [
       "<Figure size 432x288 with 1 Axes>"
      ]
     },
     "metadata": {
      "needs_background": "light"
     },
     "output_type": "display_data"
    }
   ],
   "source": [
    "arima.plot_predict(85, 100, dynamic=True);"
   ]
  },
  {
   "cell_type": "code",
   "execution_count": 20,
   "id": "ae29cf09",
   "metadata": {},
   "outputs": [
    {
     "data": {
      "text/plain": [
       "((80,), (20,))"
      ]
     },
     "execution_count": 20,
     "metadata": {},
     "output_type": "execute_result"
    }
   ],
   "source": [
    "df_len = int(len(y)*0.8)\n",
    "y_train = y[:df_len]\n",
    "y_test = y[df_len:]\n",
    "\n",
    "y_train.shape, y_test.shape"
   ]
  },
  {
   "cell_type": "code",
   "execution_count": 21,
   "id": "d9441fe7",
   "metadata": {},
   "outputs": [
    {
     "name": "stderr",
     "output_type": "stream",
     "text": [
      "/home/juliend/.pyenv/versions/3.8.6/envs/lewagon/lib/python3.8/site-packages/statsmodels/tsa/arima_model.py:472: FutureWarning: \n",
      "statsmodels.tsa.arima_model.ARMA and statsmodels.tsa.arima_model.ARIMA have\n",
      "been deprecated in favor of statsmodels.tsa.arima.model.ARIMA (note the .\n",
      "between arima and model) and\n",
      "statsmodels.tsa.SARIMAX. These will be removed after the 0.12 release.\n",
      "\n",
      "statsmodels.tsa.arima.model.ARIMA makes use of the statespace framework and\n",
      "is both well tested and maintained.\n",
      "\n",
      "To silence this warning and continue using ARMA and ARIMA until they are\n",
      "removed, use:\n",
      "\n",
      "import warnings\n",
      "warnings.filterwarnings('ignore', 'statsmodels.tsa.arima_model.ARMA',\n",
      "                        FutureWarning)\n",
      "warnings.filterwarnings('ignore', 'statsmodels.tsa.arima_model.ARIMA',\n",
      "                        FutureWarning)\n",
      "\n",
      "  warnings.warn(ARIMA_DEPRECATION_WARN, FutureWarning)\n",
      "/home/juliend/.pyenv/versions/3.8.6/envs/lewagon/lib/python3.8/site-packages/statsmodels/tsa/arima_model.py:472: FutureWarning: \n",
      "statsmodels.tsa.arima_model.ARMA and statsmodels.tsa.arima_model.ARIMA have\n",
      "been deprecated in favor of statsmodels.tsa.arima.model.ARIMA (note the .\n",
      "between arima and model) and\n",
      "statsmodels.tsa.SARIMAX. These will be removed after the 0.12 release.\n",
      "\n",
      "statsmodels.tsa.arima.model.ARIMA makes use of the statespace framework and\n",
      "is both well tested and maintained.\n",
      "\n",
      "To silence this warning and continue using ARMA and ARIMA until they are\n",
      "removed, use:\n",
      "\n",
      "import warnings\n",
      "warnings.filterwarnings('ignore', 'statsmodels.tsa.arima_model.ARMA',\n",
      "                        FutureWarning)\n",
      "warnings.filterwarnings('ignore', 'statsmodels.tsa.arima_model.ARIMA',\n",
      "                        FutureWarning)\n",
      "\n",
      "  warnings.warn(ARIMA_DEPRECATION_WARN, FutureWarning)\n"
     ]
    }
   ],
   "source": [
    "y_train = y[:99]\n",
    "y_test = y[99:]\n",
    "arima = ARIMA(y_train, order=(1, 1, 1)).fit()"
   ]
  },
  {
   "cell_type": "code",
   "execution_count": 22,
   "id": "64d81207",
   "metadata": {},
   "outputs": [],
   "source": [
    "(forecast, stderr, conf_int) = arima.forecast(1, alpha=0.05)"
   ]
  },
  {
   "cell_type": "code",
   "execution_count": 23,
   "id": "786ccc02",
   "metadata": {},
   "outputs": [],
   "source": [
    "forecast = pd.Series(forecast, name='forecast')\n",
    "stderr = pd.Series(stderr)\n",
    "conf_int = pd.DataFrame(conf_int, columns=['low', 'high'])"
   ]
  },
  {
   "cell_type": "code",
   "execution_count": 24,
   "id": "0ca35052",
   "metadata": {},
   "outputs": [
    {
     "data": {
      "text/plain": [
       "<matplotlib.legend.Legend at 0x7f288178c4c0>"
      ]
     },
     "execution_count": 24,
     "metadata": {},
     "output_type": "execute_result"
    },
    {
     "data": {
      "image/png": "[encoded data removed]",
      "text/plain": [
       "<Figure size 432x288 with 1 Axes>"
      ]
     },
     "metadata": {
      "needs_background": "light"
     },
     "output_type": "display_data"
    }
   ],
   "source": [
    "plt.plot(forecast, c='orange')\n",
    "plt.plot(conf_int['low'], label='low', c='grey', ls='--')\n",
    "plt.plot(conf_int['high'], label='high', c='grey', ls='--')\n",
    "plt.legend()"
   ]
  },
  {
   "cell_type": "code",
   "execution_count": 25,
   "id": "27d01777",
   "metadata": {},
   "outputs": [],
   "source": [
    "forecast.index = y_test.index\n",
    "conf_int.index = y_test.index"
   ]
  },
  {
   "cell_type": "code",
   "execution_count": 26,
   "id": "185ca734",
   "metadata": {},
   "outputs": [
    {
     "data": {
      "text/plain": [
       "<matplotlib.collections.PolyCollection at 0x7f2881723430>"
      ]
     },
     "execution_count": 26,
     "metadata": {},
     "output_type": "execute_result"
    },
    {
     "data": {
      "image/png": "[encoded data removed]",
      "text/plain": [
       "<Figure size 1080x360 with 1 Axes>"
      ]
     },
     "metadata": {
      "needs_background": "light"
     },
     "output_type": "display_data"
    }
   ],
   "source": [
    "plt.figure(figsize=(15,5))\n",
    "plt.plot(forecast, c='orange')\n",
    "plt.plot(conf_int['low'], label='low', c='orange', ls='--')\n",
    "plt.plot(conf_int['high'], label='high', c='orange', ls='--')\n",
    "plt.plot(y_train, c='blue')\n",
    "plt.plot(y_test, c='blue')\n",
    "plt.legend()\n",
    "plt.fill_between(y_test.index, conf_int['low'], conf_int['high'], color='k', alpha=.15)"
   ]
  },
  {
   "cell_type": "code",
   "execution_count": 27,
   "id": "e21f670a",
   "metadata": {},
   "outputs": [
    {
     "data": {
      "text/plain": [
       "<AxesSubplot:title={'center':'Residuals'}>"
      ]
     },
     "execution_count": 27,
     "metadata": {},
     "output_type": "execute_result"
    },
    {
     "data": {
      "image/png": "[encoded data removed]",
      "text/plain": [
       "<Figure size 432x288 with 1 Axes>"
      ]
     },
     "metadata": {
      "needs_background": "light"
     },
     "output_type": "display_data"
    }
   ],
   "source": [
    "residuals = pd.DataFrame(arima.resid)\n",
    "residuals.plot(title=\"Residuals\")"
   ]
  },
  {
   "cell_type": "code",
   "execution_count": 28,
   "id": "71ab009a",
   "metadata": {},
   "outputs": [
    {
     "data": {
      "text/plain": [
       "<AxesSubplot:title={'center':'Residual density'}, ylabel='Density'>"
      ]
     },
     "execution_count": 28,
     "metadata": {},
     "output_type": "execute_result"
    },
    {
     "data": {
      "image/png": "[encoded data removed]",
      "text/plain": [
       "<Figure size 432x288 with 1 Axes>"
      ]
     },
     "metadata": {
      "needs_background": "light"
     },
     "output_type": "display_data"
    }
   ],
   "source": [
    "residuals.plot(kind='kde', title='Residual density')"
   ]
  },
  {
   "cell_type": "code",
   "execution_count": 29,
   "id": "d6155c1d",
   "metadata": {},
   "outputs": [],
   "source": [
    "import numpy as np\n",
    "from statsmodels.tsa.stattools import acf\n",
    "def forecast_accuracy(y_pred: pd.Series, y_true: pd.Series) -> float:\n",
    "    \n",
    "    mape = np.mean(np.abs(y_pred - y_true)/np.abs(y_true))  # Mean Absolute Percentage Error\n",
    "    me = np.mean(y_pred - y_true)             # ME\n",
    "    mae = np.mean(np.abs(y_pred - y_true))    # MAE\n",
    "    mpe = np.mean((y_pred - y_true)/y_true)   # MPE\n",
    "    rmse = np.mean((y_pred - y_true)**2)**.5  # RMSE\n",
    "    corr = np.corrcoef(y_pred, y_true)[0,1]   # Correlation between the Actual and the Forecast\n",
    "    mins = np.amin(np.hstack([y_pred.values.reshape(-1,1), y_true.values.reshape(-1,1)]), axis=1)\n",
    "    maxs = np.amax(np.hstack([y_pred.values.reshape(-1,1), y_true.values.reshape(-1,1)]), axis=1)\n",
    "    minmax = 1 - np.mean(mins/maxs)             # minmax\n",
    "    return({'mape':mape, 'me':me, 'mae': mae, \n",
    "            'mpe': mpe, 'rmse':rmse, \n",
    "            'corr':corr, 'minmax':minmax})"
   ]
  },
  {
   "cell_type": "code",
   "execution_count": 30,
   "id": "5a5cfc55",
   "metadata": {},
   "outputs": [
    {
     "data": {
      "text/plain": [
       "(99    91.941821\n",
       " Name: forecast, dtype: float64,\n",
       " 99    92.49\n",
       " Name: close_adjusted, dtype: float64)"
      ]
     },
     "execution_count": 30,
     "metadata": {},
     "output_type": "execute_result"
    }
   ],
   "source": [
    "forecast, y_test"
   ]
  },
  {
   "cell_type": "code",
   "execution_count": 31,
   "id": "ef5e9075",
   "metadata": {},
   "outputs": [
    {
     "name": "stderr",
     "output_type": "stream",
     "text": [
      "/home/juliend/.pyenv/versions/3.8.6/envs/lewagon/lib/python3.8/site-packages/numpy/lib/function_base.py:2551: RuntimeWarning: Degrees of freedom <= 0 for slice\n",
      "  c = cov(x, y, rowvar)\n",
      "/home/juliend/.pyenv/versions/3.8.6/envs/lewagon/lib/python3.8/site-packages/numpy/lib/function_base.py:2480: RuntimeWarning: divide by zero encountered in true_divide\n",
      "  c *= np.true_divide(1, fact)\n",
      "/home/juliend/.pyenv/versions/3.8.6/envs/lewagon/lib/python3.8/site-packages/numpy/lib/function_base.py:2480: RuntimeWarning: invalid value encountered in multiply\n",
      "  c *= np.true_divide(1, fact)\n"
     ]
    },
    {
     "data": {
      "text/plain": [
       "{'mape': 0.005926899007689382,\n",
       " 'me': -0.548178889221191,\n",
       " 'mae': 0.548178889221191,\n",
       " 'mpe': -0.005926899007689382,\n",
       " 'rmse': 0.548178889221191,\n",
       " 'corr': nan,\n",
       " 'minmax': 0.00592689900768939}"
      ]
     },
     "execution_count": 31,
     "metadata": {},
     "output_type": "execute_result"
    }
   ],
   "source": [
    "forecast_accuracy(forecast, y_test)"
   ]
  },
  {
   "cell_type": "code",
   "execution_count": 32,
   "id": "8e60123c",
   "metadata": {},
   "outputs": [
    {
     "name": "stdout",
     "output_type": "stream",
     "text": [
      "Performing stepwise search to minimize aic\n",
      " ARIMA(0,1,0)(0,0,0)[0] intercept   : AIC=255.920, Time=0.09 sec\n",
      " ARIMA(1,1,0)(0,0,0)[0] intercept   : AIC=256.190, Time=0.03 sec\n",
      " ARIMA(0,1,1)(0,0,0)[0] intercept   : AIC=255.524, Time=0.04 sec\n",
      " ARIMA(0,1,0)(0,0,0)[0]             : AIC=257.923, Time=0.01 sec\n",
      " ARIMA(1,1,1)(0,0,0)[0] intercept   : AIC=256.873, Time=0.10 sec\n",
      " ARIMA(0,1,2)(0,0,0)[0] intercept   : AIC=255.974, Time=0.05 sec\n",
      " ARIMA(1,1,2)(0,0,0)[0] intercept   : AIC=256.847, Time=0.08 sec\n",
      " ARIMA(0,1,1)(0,0,0)[0]             : AIC=259.059, Time=0.02 sec\n",
      "\n",
      "Best model:  ARIMA(0,1,1)(0,0,0)[0] intercept\n",
      "Total fit time: 0.437 seconds\n",
      "                               SARIMAX Results                                \n",
      "==============================================================================\n",
      "Dep. Variable:                      y   No. Observations:                   99\n",
      "Model:               SARIMAX(0, 1, 1)   Log Likelihood                -124.762\n",
      "Date:                Fri, 11 Jun 2021   AIC                            255.524\n",
      "Time:                        10:58:23   BIC                            263.279\n",
      "Sample:                             0   HQIC                           258.661\n",
      "                                 - 99                                         \n",
      "Covariance Type:                  opg                                         \n",
      "==============================================================================\n",
      "                 coef    std err          z      P>|z|      [0.025      0.975]\n",
      "------------------------------------------------------------------------------\n",
      "intercept      0.1800      0.078      2.318      0.020       0.028       0.332\n",
      "ma.L1         -0.1793      0.130     -1.382      0.167      -0.434       0.075\n",
      "sigma2         0.7467      0.048     15.663      0.000       0.653       0.840\n",
      "===================================================================================\n",
      "Ljung-Box (L1) (Q):                   0.04   Jarque-Bera (JB):               453.04\n",
      "Prob(Q):                              0.83   Prob(JB):                         0.00\n",
      "Heteroskedasticity (H):               2.17   Skew:                             1.33\n",
      "Prob(H) (two-sided):                  0.03   Kurtosis:                        13.19\n",
      "===================================================================================\n",
      "\n",
      "Warnings:\n",
      "[1] Covariance matrix calculated using the outer product of gradients (complex-step).\n"
     ]
    }
   ],
   "source": [
    "import pmdarima as pm\n",
    "\n",
    "model = pm.auto_arima(y_train, \n",
    "                      start_p=0, max_p=3,\n",
    "                      start_q=0, max_q=3, \n",
    "                      d=None,           # let model determine 'd'\n",
    "                      test='adf',       # using adftest to find optimal 'd'\n",
    "                      trace=True, error_action='ignore',  suppress_warnings=True)\n",
    "print(model.summary())"
   ]
  },
  {
   "cell_type": "code",
   "execution_count": 33,
   "id": "e72a2c12",
   "metadata": {},
   "outputs": [
    {
     "data": {
      "text/plain": [
       "(0     74.3935\n",
       " 1     73.5676\n",
       " 2     73.2393\n",
       " 3     73.0304\n",
       " 4     73.9656\n",
       "        ...   \n",
       " 94    90.1400\n",
       " 95    90.1000\n",
       " 96    90.0000\n",
       " 97    91.6100\n",
       " 98    91.9000\n",
       " Name: close_adjusted, Length: 99, dtype: float64,\n",
       " 99    92.49\n",
       " Name: close_adjusted, dtype: float64)"
      ]
     },
     "execution_count": 33,
     "metadata": {},
     "output_type": "execute_result"
    }
   ],
   "source": [
    "y_train, y_test"
   ]
  },
  {
   "cell_type": "code",
   "execution_count": 34,
   "id": "07af947e",
   "metadata": {
    "scrolled": true
   },
   "outputs": [
    {
     "name": "stderr",
     "output_type": "stream",
     "text": [
      "/home/juliend/.pyenv/versions/3.8.6/envs/lewagon/lib/python3.8/site-packages/statsmodels/tsa/arima_model.py:472: FutureWarning: \n",
      "statsmodels.tsa.arima_model.ARMA and statsmodels.tsa.arima_model.ARIMA have\n",
      "been deprecated in favor of statsmodels.tsa.arima.model.ARIMA (note the .\n",
      "between arima and model) and\n",
      "statsmodels.tsa.SARIMAX. These will be removed after the 0.12 release.\n",
      "\n",
      "statsmodels.tsa.arima.model.ARIMA makes use of the statespace framework and\n",
      "is both well tested and maintained.\n",
      "\n",
      "To silence this warning and continue using ARMA and ARIMA until they are\n",
      "removed, use:\n",
      "\n",
      "import warnings\n",
      "warnings.filterwarnings('ignore', 'statsmodels.tsa.arima_model.ARMA',\n",
      "                        FutureWarning)\n",
      "warnings.filterwarnings('ignore', 'statsmodels.tsa.arima_model.ARIMA',\n",
      "                        FutureWarning)\n",
      "\n",
      "  warnings.warn(ARIMA_DEPRECATION_WARN, FutureWarning)\n"
     ]
    },
    {
     "name": "stdout",
     "output_type": "stream",
     "text": [
      "[75.63714583 75.68689166 75.73663749 75.78638332 75.83612916 75.88587499\n",
      " 75.93562082 75.98536665 76.03511248 76.08485831 76.13460414 76.18434997\n",
      " 76.23409581 76.28384164 76.33358747 76.3833333  76.43307913 76.48282496\n",
      " 76.53257079 76.58231662 76.63206246 76.68180829 76.73155412 76.78129995\n",
      " 76.83104578]\n",
      "[83.8557449  84.0449898  84.23423469 84.42347959 84.61272449 84.80196939\n",
      " 84.99121429 85.18045918 85.36970408 85.55894898 85.74819388 85.93743878\n",
      " 86.12668367 86.31592857 86.50517347 86.69441837 86.88366327 87.07290816\n",
      " 87.26215306 87.45139796 87.64064286 87.82988776 88.01913265 88.20837755\n",
      " 88.39762245]\n",
      "[87.01833108 87.18666216 87.35499323 87.52332431 87.69165539 87.85998647\n",
      " 88.02831755 88.19664863 88.3649797  88.53331078 88.70164186 88.86997294\n",
      " 89.03830402 89.2066351  89.37496617 89.54329725 89.71162833 89.87995941\n",
      " 90.04829049 90.21662157 90.38495264 90.55328372 90.7216148  90.88994588\n",
      " 91.05827696]\n",
      "[75.49547776 75.5436292  75.59178063 75.63993207 75.6880835  75.73623494\n",
      " 75.78438637 75.8325378  75.88068924 75.92884067 75.97699211 76.02514354\n",
      " 76.07329498 76.12144641 76.16959784 76.21774928 76.26590071 76.31405215\n",
      " 76.36220358 76.41035502 76.45850645 76.50665788 76.55480932 76.60296075\n",
      " 76.65111219]\n",
      "[83.89539613 84.08663988 84.27788364 84.46912739 84.66037114 84.85161489\n",
      " 85.04285864 85.23410239 85.42534614 85.61658989 85.80783364 85.99907739\n",
      " 86.19032114 86.38156489 86.57280864 86.76405239 86.95529614 87.14653989\n",
      " 87.33778364 87.52902739 87.72027114 87.91151489 88.10275864 88.29400239\n",
      " 88.48524614]\n",
      "[86.74608252 86.91285366 87.0796248  87.24639594 87.41316708 87.57993822\n",
      " 87.74670936 87.9134805  88.08025164 88.24702278 88.41379392 88.58056506\n",
      " 88.7473362  88.91410734 89.08087848 89.24764962 89.41442076 89.5811919\n",
      " 89.74796304 89.91473418 90.08150532 90.24827646 90.4150476  90.58181874\n",
      " 90.74858989]\n",
      "[75.61320908 76.00241768 76.05309416 76.10377063 76.15444711 76.20512359\n",
      " 76.25580006 76.30647654 76.35715302 76.40782949 76.45850597 76.50918245\n",
      " 76.55985892 76.6105354  76.66121188 76.71188835 76.76256483 76.81324131\n",
      " 76.86391778 76.91459426 76.96527074 77.01594721 77.06662369 77.11730017\n",
      " 77.16797664]\n",
      "[83.90083529 84.1891675  84.38665086 84.58413421 84.78161756 84.97910092\n",
      " 85.17658427 85.37406762 85.57155097 85.76903433 85.96651768 86.16400103\n",
      " 86.36148439 86.55896774 86.75645109 86.95393444 87.1514178  87.34890115\n",
      " 87.5463845  87.74386785 87.94135121 88.13883456 88.33631791 88.53380127\n",
      " 88.73128462]\n",
      "[87.00637144 86.82531506 86.99358307 87.16185109 87.33011911 87.49838712\n",
      " 87.66665514 87.83492316 88.00319117 88.17145919 88.33972721 88.50799522\n",
      " 88.67626324 88.84453126 89.01279927 89.18106729 89.34933531 89.51760332\n",
      " 89.68587134 89.85413936 90.02240737 90.19067539 90.35894341 90.52721142\n",
      " 90.69547944]\n",
      "[75.45500749 75.52938481 75.57335172 75.6217912  75.66957288 75.71745131\n",
      " 75.76531551 75.8131818  75.86104779 75.90891382 75.95677984 76.00464587\n",
      " 76.05251189 76.10037792 76.14824394 76.19610997 76.24397599 76.29184202\n",
      " 76.33970804 76.38757407 76.43544009 76.48330611 76.53117214 76.57903816\n",
      " 76.62690419]\n",
      "[83.88309841 84.07261337 84.26320026 84.45374471 84.64429085 84.83483693\n",
      " 85.025383   85.21592907 85.40647515 85.59702122 85.7875673  85.97811337\n",
      " 86.16865945 86.35920552 86.5497516  86.74029767 86.93084375 87.12138982\n",
      " 87.3119359  87.50248197 87.69302805 87.88357412 88.0741202  88.26466627\n",
      " 88.45521234]\n",
      "[86.82630684 87.01173311 87.17713323 87.34445115 87.5115854  87.67873725\n",
      " 87.84588741 88.01303773 88.18018804 88.34733835 88.51448865 88.68163896\n",
      " 88.84878927 89.01593958 89.18308989 89.3502402  89.5173905  89.68454081\n",
      " 89.85169112 90.01884143 90.18599174 90.35314204 90.52029235 90.68744266\n",
      " 90.85459297]\n"
     ]
    },
    {
     "name": "stderr",
     "output_type": "stream",
     "text": [
      "/home/juliend/.pyenv/versions/3.8.6/envs/lewagon/lib/python3.8/site-packages/statsmodels/tsa/arima_model.py:472: FutureWarning: \n",
      "statsmodels.tsa.arima_model.ARMA and statsmodels.tsa.arima_model.ARIMA have\n",
      "been deprecated in favor of statsmodels.tsa.arima.model.ARIMA (note the .\n",
      "between arima and model) and\n",
      "statsmodels.tsa.SARIMAX. These will be removed after the 0.12 release.\n",
      "\n",
      "statsmodels.tsa.arima.model.ARIMA makes use of the statespace framework and\n",
      "is both well tested and maintained.\n",
      "\n",
      "To silence this warning and continue using ARMA and ARIMA until they are\n",
      "removed, use:\n",
      "\n",
      "import warnings\n",
      "warnings.filterwarnings('ignore', 'statsmodels.tsa.arima_model.ARMA',\n",
      "                        FutureWarning)\n",
      "warnings.filterwarnings('ignore', 'statsmodels.tsa.arima_model.ARIMA',\n",
      "                        FutureWarning)\n",
      "\n",
      "  warnings.warn(ARIMA_DEPRECATION_WARN, FutureWarning)\n",
      "/home/juliend/.pyenv/versions/3.8.6/envs/lewagon/lib/python3.8/site-packages/statsmodels/tsa/arima_model.py:472: FutureWarning: \n",
      "statsmodels.tsa.arima_model.ARMA and statsmodels.tsa.arima_model.ARIMA have\n",
      "been deprecated in favor of statsmodels.tsa.arima.model.ARIMA (note the .\n",
      "between arima and model) and\n",
      "statsmodels.tsa.SARIMAX. These will be removed after the 0.12 release.\n",
      "\n",
      "statsmodels.tsa.arima.model.ARIMA makes use of the statespace framework and\n",
      "is both well tested and maintained.\n",
      "\n",
      "To silence this warning and continue using ARMA and ARIMA until they are\n",
      "removed, use:\n",
      "\n",
      "import warnings\n",
      "warnings.filterwarnings('ignore', 'statsmodels.tsa.arima_model.ARMA',\n",
      "                        FutureWarning)\n",
      "warnings.filterwarnings('ignore', 'statsmodels.tsa.arima_model.ARIMA',\n",
      "                        FutureWarning)\n",
      "\n",
      "  warnings.warn(ARIMA_DEPRECATION_WARN, FutureWarning)\n",
      "/home/juliend/.pyenv/versions/3.8.6/envs/lewagon/lib/python3.8/site-packages/statsmodels/tsa/arima_model.py:472: FutureWarning: \n",
      "statsmodels.tsa.arima_model.ARMA and statsmodels.tsa.arima_model.ARIMA have\n",
      "been deprecated in favor of statsmodels.tsa.arima.model.ARIMA (note the .\n",
      "between arima and model) and\n",
      "statsmodels.tsa.SARIMAX. These will be removed after the 0.12 release.\n",
      "\n",
      "statsmodels.tsa.arima.model.ARIMA makes use of the statespace framework and\n",
      "is both well tested and maintained.\n",
      "\n",
      "To silence this warning and continue using ARMA and ARIMA until they are\n",
      "removed, use:\n",
      "\n",
      "import warnings\n",
      "warnings.filterwarnings('ignore', 'statsmodels.tsa.arima_model.ARMA',\n",
      "                        FutureWarning)\n",
      "warnings.filterwarnings('ignore', 'statsmodels.tsa.arima_model.ARIMA',\n",
      "                        FutureWarning)\n",
      "\n",
      "  warnings.warn(ARIMA_DEPRECATION_WARN, FutureWarning)\n"
     ]
    },
    {
     "name": "stdout",
     "output_type": "stream",
     "text": [
      "[75.53937903 75.67866772 75.65367117 75.77276565 75.76548101 75.86904075\n",
      " 75.87538129 75.96699068 75.98381261 76.066229   76.09111391 76.16645844\n",
      " 76.19754593 76.26745031 76.30330924 76.36902869 76.40855813 76.47105826\n",
      " 76.51341129 76.5734349  76.61796004 76.67607855 76.7222746  76.77892759\n",
      " 76.82640903]\n",
      "[83.93083833 84.16163546 84.37571228 84.58145402 84.78304071 84.98255611\n",
      " 85.18103897 85.37900711 85.57671865 85.77430229 85.97182217 86.16931025\n",
      " 86.3667825  86.56424684 86.76170725 86.95916569 87.15662316 87.35408014\n",
      " 87.55153687 87.74899348 87.94645004 88.14390656 88.34136307 88.53881957\n",
      " 88.73627606]\n",
      "[86.78799593 86.85521248 86.97881451 87.12702038 87.28596214 87.44958852\n",
      " 87.61525904 87.78182151 87.94877319 88.1158947  88.28309031 88.45031826\n",
      " 88.61756032 88.78480854 88.95205945 89.11931152 89.28656411 89.45381692\n",
      " 89.62106983 89.78832278 89.95557575 90.12282873 90.29008171 90.45733469\n",
      " 90.62458768]\n"
     ]
    },
    {
     "name": "stderr",
     "output_type": "stream",
     "text": [
      "/home/juliend/.pyenv/versions/3.8.6/envs/lewagon/lib/python3.8/site-packages/statsmodels/tsa/arima_model.py:472: FutureWarning: \n",
      "statsmodels.tsa.arima_model.ARMA and statsmodels.tsa.arima_model.ARIMA have\n",
      "been deprecated in favor of statsmodels.tsa.arima.model.ARIMA (note the .\n",
      "between arima and model) and\n",
      "statsmodels.tsa.SARIMAX. These will be removed after the 0.12 release.\n",
      "\n",
      "statsmodels.tsa.arima.model.ARIMA makes use of the statespace framework and\n",
      "is both well tested and maintained.\n",
      "\n",
      "To silence this warning and continue using ARMA and ARIMA until they are\n",
      "removed, use:\n",
      "\n",
      "import warnings\n",
      "warnings.filterwarnings('ignore', 'statsmodels.tsa.arima_model.ARMA',\n",
      "                        FutureWarning)\n",
      "warnings.filterwarnings('ignore', 'statsmodels.tsa.arima_model.ARIMA',\n",
      "                        FutureWarning)\n",
      "\n",
      "  warnings.warn(ARIMA_DEPRECATION_WARN, FutureWarning)\n",
      "/home/juliend/.pyenv/versions/3.8.6/envs/lewagon/lib/python3.8/site-packages/statsmodels/tsa/arima_model.py:472: FutureWarning: \n",
      "statsmodels.tsa.arima_model.ARMA and statsmodels.tsa.arima_model.ARIMA have\n",
      "been deprecated in favor of statsmodels.tsa.arima.model.ARIMA (note the .\n",
      "between arima and model) and\n",
      "statsmodels.tsa.SARIMAX. These will be removed after the 0.12 release.\n",
      "\n",
      "statsmodels.tsa.arima.model.ARIMA makes use of the statespace framework and\n",
      "is both well tested and maintained.\n",
      "\n",
      "To silence this warning and continue using ARMA and ARIMA until they are\n",
      "removed, use:\n",
      "\n",
      "import warnings\n",
      "warnings.filterwarnings('ignore', 'statsmodels.tsa.arima_model.ARMA',\n",
      "                        FutureWarning)\n",
      "warnings.filterwarnings('ignore', 'statsmodels.tsa.arima_model.ARIMA',\n",
      "                        FutureWarning)\n",
      "\n",
      "  warnings.warn(ARIMA_DEPRECATION_WARN, FutureWarning)\n"
     ]
    },
    {
     "name": "stdout",
     "output_type": "stream",
     "text": [
      "[75.61192375 75.98935082 76.02155409 76.07335344 76.12404046 76.17479061\n",
      " 76.22553718 76.27628396 76.32703072 76.37777748 76.42852424 76.47927101\n",
      " 76.53001777 76.58076453 76.6315113  76.68225806 76.73300482 76.78375159\n",
      " 76.83449835 76.88524511 76.93599188 76.98673864 77.0374854  77.08823217\n",
      " 77.13897893]\n",
      "[83.90285924 84.19051984 84.40167543 84.60188677 84.80053251 84.99895428\n",
      " 85.19734401 85.39572916 85.59411365 85.79249805 85.99088243 86.18926681\n",
      " 86.3876512  86.58603558 86.78441996 86.98280434 87.18118873 87.37957311\n",
      " 87.57795749 87.77634188 87.97472626 88.17311064 88.37149502 88.56987941\n",
      " 88.76826379]\n"
     ]
    },
    {
     "name": "stderr",
     "output_type": "stream",
     "text": [
      "/home/juliend/.pyenv/versions/3.8.6/envs/lewagon/lib/python3.8/site-packages/statsmodels/tsa/arima_model.py:472: FutureWarning: \n",
      "statsmodels.tsa.arima_model.ARMA and statsmodels.tsa.arima_model.ARIMA have\n",
      "been deprecated in favor of statsmodels.tsa.arima.model.ARIMA (note the .\n",
      "between arima and model) and\n",
      "statsmodels.tsa.SARIMAX. These will be removed after the 0.12 release.\n",
      "\n",
      "statsmodels.tsa.arima.model.ARIMA makes use of the statespace framework and\n",
      "is both well tested and maintained.\n",
      "\n",
      "To silence this warning and continue using ARMA and ARIMA until they are\n",
      "removed, use:\n",
      "\n",
      "import warnings\n",
      "warnings.filterwarnings('ignore', 'statsmodels.tsa.arima_model.ARMA',\n",
      "                        FutureWarning)\n",
      "warnings.filterwarnings('ignore', 'statsmodels.tsa.arima_model.ARIMA',\n",
      "                        FutureWarning)\n",
      "\n",
      "  warnings.warn(ARIMA_DEPRECATION_WARN, FutureWarning)\n"
     ]
    },
    {
     "name": "stdout",
     "output_type": "stream",
     "text": [
      "[86.96693532 86.75460386 87.04770744 87.17373298 87.35498831 87.51798672\n",
      " 87.68702019 87.8540587  88.02175667 88.18923664 88.35678868 88.52431689\n",
      " 88.69185298 88.85938646 89.02692081 89.19445487 89.36198903 89.52952315\n",
      " 89.69705728 89.86459142 90.03212555 90.19965968 90.36719381 90.53472794\n",
      " 90.70226207]\n",
      "[75.5928428  75.87216731 75.89351986 75.98924724 76.03074243 76.09094999\n",
      " 76.13946784 76.1925102  76.24298677 76.29453287 76.34550863 76.39673382\n",
      " 76.44783113 76.49898612 76.55011228 76.60125172 76.65238462 76.70352057\n",
      " 76.75465504 76.8057902  76.85692503 76.90806002 76.95919493 77.01032988\n",
      " 77.0614648 ]\n",
      "[83.88062914 84.17354516 84.36216828 84.54417941 84.74188233 84.93980729\n",
      " 85.13540834 85.33108814 85.52710674 85.72309749 85.91903962 86.1149882\n",
      " 86.31094363 86.50689778 86.70285098 86.89880442 87.09475798 87.29071151\n",
      " 87.48666501 87.68261853 87.87857204 88.07452556 88.27047908 88.46643259\n",
      " 88.66238611]\n",
      "[86.95969754 86.74016981 86.96264666 87.20099653 87.35019426 87.50618055\n",
      " 87.67903644 87.84867187 88.01533075 88.18295774 88.3510654  88.51892814\n",
      " 88.68672313 88.85457408 89.0224322  89.19027845 89.35812461 89.52597312\n",
      " 89.69382139 89.86166923 90.02951716 90.19736516 90.36521314 90.5330611\n",
      " 90.70090907]\n"
     ]
    },
    {
     "name": "stderr",
     "output_type": "stream",
     "text": [
      "/home/juliend/.pyenv/versions/3.8.6/envs/lewagon/lib/python3.8/site-packages/statsmodels/tsa/arima_model.py:472: FutureWarning: \n",
      "statsmodels.tsa.arima_model.ARMA and statsmodels.tsa.arima_model.ARIMA have\n",
      "been deprecated in favor of statsmodels.tsa.arima.model.ARIMA (note the .\n",
      "between arima and model) and\n",
      "statsmodels.tsa.SARIMAX. These will be removed after the 0.12 release.\n",
      "\n",
      "statsmodels.tsa.arima.model.ARIMA makes use of the statespace framework and\n",
      "is both well tested and maintained.\n",
      "\n",
      "To silence this warning and continue using ARMA and ARIMA until they are\n",
      "removed, use:\n",
      "\n",
      "import warnings\n",
      "warnings.filterwarnings('ignore', 'statsmodels.tsa.arima_model.ARMA',\n",
      "                        FutureWarning)\n",
      "warnings.filterwarnings('ignore', 'statsmodels.tsa.arima_model.ARIMA',\n",
      "                        FutureWarning)\n",
      "\n",
      "  warnings.warn(ARIMA_DEPRECATION_WARN, FutureWarning)\n",
      "/home/juliend/.pyenv/versions/3.8.6/envs/lewagon/lib/python3.8/site-packages/statsmodels/tsa/arima_model.py:472: FutureWarning: \n",
      "statsmodels.tsa.arima_model.ARMA and statsmodels.tsa.arima_model.ARIMA have\n",
      "been deprecated in favor of statsmodels.tsa.arima.model.ARIMA (note the .\n",
      "between arima and model) and\n",
      "statsmodels.tsa.SARIMAX. These will be removed after the 0.12 release.\n",
      "\n",
      "statsmodels.tsa.arima.model.ARIMA makes use of the statespace framework and\n",
      "is both well tested and maintained.\n",
      "\n",
      "To silence this warning and continue using ARMA and ARIMA until they are\n",
      "removed, use:\n",
      "\n",
      "import warnings\n",
      "warnings.filterwarnings('ignore', 'statsmodels.tsa.arima_model.ARMA',\n",
      "                        FutureWarning)\n",
      "warnings.filterwarnings('ignore', 'statsmodels.tsa.arima_model.ARIMA',\n",
      "                        FutureWarning)\n",
      "\n",
      "  warnings.warn(ARIMA_DEPRECATION_WARN, FutureWarning)\n",
      "/home/juliend/.pyenv/versions/3.8.6/envs/lewagon/lib/python3.8/site-packages/statsmodels/tsa/arima_model.py:472: FutureWarning: \n",
      "statsmodels.tsa.arima_model.ARMA and statsmodels.tsa.arima_model.ARIMA have\n",
      "been deprecated in favor of statsmodels.tsa.arima.model.ARIMA (note the .\n",
      "between arima and model) and\n",
      "statsmodels.tsa.SARIMAX. These will be removed after the 0.12 release.\n",
      "\n",
      "statsmodels.tsa.arima.model.ARIMA makes use of the statespace framework and\n",
      "is both well tested and maintained.\n",
      "\n",
      "To silence this warning and continue using ARMA and ARIMA until they are\n",
      "removed, use:\n",
      "\n",
      "import warnings\n",
      "warnings.filterwarnings('ignore', 'statsmodels.tsa.arima_model.ARMA',\n",
      "                        FutureWarning)\n",
      "warnings.filterwarnings('ignore', 'statsmodels.tsa.arima_model.ARIMA',\n",
      "                        FutureWarning)\n",
      "\n",
      "  warnings.warn(ARIMA_DEPRECATION_WARN, FutureWarning)\n"
     ]
    },
    {
     "name": "stdout",
     "output_type": "stream",
     "text": [
      "[75.58410183 75.74052833 75.70983956 75.83169    75.82634875 75.92688988\n",
      " 75.93927745 76.02505764 76.04973445 76.12528316 76.15847823 76.22693503\n",
      " 76.26603451 76.32957556 76.37276767 76.43290139 76.47893029 76.53670222\n",
      " 76.58469744 76.64083231 76.69019047 76.74519061 76.79549349 76.8497071\n",
      " 76.90066482]\n",
      "[83.90447762 84.20959716 84.4251483  84.611933   84.80581514 85.00542329\n",
      " 85.20519616 85.40416208 85.60293353 85.80178257 86.00067657 86.19956866\n",
      " 86.39845372 86.59733759 86.79622224 86.99510723 87.19399217 87.39287706\n",
      " 87.59176194 87.79064683 87.98953172 88.18841661 88.3873015  88.58618639\n",
      " 88.78507128]\n",
      "[86.96138342 86.69406667 87.06792577 87.24300803 87.35898359 87.54714917\n",
      " 87.71673058 87.87796348 88.04720489 88.21479757 88.38127986 88.5486376\n",
      " 88.71586069 88.88294207 89.05011771 89.21728396 89.38443267 89.55159138\n",
      " 89.71874966 89.88590583 90.05306304 90.22022028 90.38737726 90.55453435\n",
      " 90.72169145]\n"
     ]
    },
    {
     "name": "stderr",
     "output_type": "stream",
     "text": [
      "/home/juliend/.pyenv/versions/3.8.6/envs/lewagon/lib/python3.8/site-packages/statsmodels/tsa/arima_model.py:472: FutureWarning: \n",
      "statsmodels.tsa.arima_model.ARMA and statsmodels.tsa.arima_model.ARIMA have\n",
      "been deprecated in favor of statsmodels.tsa.arima.model.ARIMA (note the .\n",
      "between arima and model) and\n",
      "statsmodels.tsa.SARIMAX. These will be removed after the 0.12 release.\n",
      "\n",
      "statsmodels.tsa.arima.model.ARIMA makes use of the statespace framework and\n",
      "is both well tested and maintained.\n",
      "\n",
      "To silence this warning and continue using ARMA and ARIMA until they are\n",
      "removed, use:\n",
      "\n",
      "import warnings\n",
      "warnings.filterwarnings('ignore', 'statsmodels.tsa.arima_model.ARMA',\n",
      "                        FutureWarning)\n",
      "warnings.filterwarnings('ignore', 'statsmodels.tsa.arima_model.ARIMA',\n",
      "                        FutureWarning)\n",
      "\n",
      "  warnings.warn(ARIMA_DEPRECATION_WARN, FutureWarning)\n"
     ]
    },
    {
     "name": "stdout",
     "output_type": "stream",
     "text": [
      "[75.55259506 75.79916363 75.82384631 75.71715794 75.82137484 75.94933925\n",
      " 75.91225725 75.9153413  76.02700514 76.07078687 76.05765885 76.11491004\n",
      " 76.18979924 76.20620987 76.22999752 76.29465773 76.33951887 76.3609421\n",
      " 76.40528837 76.45902223 76.49243318 76.52598684 76.57459287 76.61782024\n",
      " 76.65174593]\n",
      "[84.31045234 84.96941313 85.15583204 84.91331445 84.73944982 85.02994226\n",
      " 85.66337064 86.16036553 86.2145252  86.00849569 85.99125938 86.38486541\n",
      " 86.96125009 87.31103054 87.28970523 87.15610314 87.27355669 87.71716088\n",
      " 88.21054501 88.44036517 88.39193208 88.34754726 88.5688535  89.01956956\n",
      " 89.42135869]\n",
      "[86.95799418 86.69103854 87.08085979 87.26321754 87.3608503  87.55665316\n",
      " 87.72945107 87.88578067 88.05635751 88.22476025 88.39021955 88.55768447\n",
      " 88.72501783 88.89185391 89.05896304 89.2260812  89.39311886 89.56019225\n",
      " 89.72727113 89.89433743 90.06140818 90.22848032 90.39555056 90.56262131\n",
      " 90.72969236]\n"
     ]
    },
    {
     "name": "stderr",
     "output_type": "stream",
     "text": [
      "/home/juliend/.pyenv/versions/3.8.6/envs/lewagon/lib/python3.8/site-packages/statsmodels/tsa/arima_model.py:472: FutureWarning: \n",
      "statsmodels.tsa.arima_model.ARMA and statsmodels.tsa.arima_model.ARIMA have\n",
      "been deprecated in favor of statsmodels.tsa.arima.model.ARIMA (note the .\n",
      "between arima and model) and\n",
      "statsmodels.tsa.SARIMAX. These will be removed after the 0.12 release.\n",
      "\n",
      "statsmodels.tsa.arima.model.ARIMA makes use of the statespace framework and\n",
      "is both well tested and maintained.\n",
      "\n",
      "To silence this warning and continue using ARMA and ARIMA until they are\n",
      "removed, use:\n",
      "\n",
      "import warnings\n",
      "warnings.filterwarnings('ignore', 'statsmodels.tsa.arima_model.ARMA',\n",
      "                        FutureWarning)\n",
      "warnings.filterwarnings('ignore', 'statsmodels.tsa.arima_model.ARIMA',\n",
      "                        FutureWarning)\n",
      "\n",
      "  warnings.warn(ARIMA_DEPRECATION_WARN, FutureWarning)\n",
      "/home/juliend/.pyenv/versions/3.8.6/envs/lewagon/lib/python3.8/site-packages/statsmodels/tsa/arima_model.py:472: FutureWarning: \n",
      "statsmodels.tsa.arima_model.ARMA and statsmodels.tsa.arima_model.ARIMA have\n",
      "been deprecated in favor of statsmodels.tsa.arima.model.ARIMA (note the .\n",
      "between arima and model) and\n",
      "statsmodels.tsa.SARIMAX. These will be removed after the 0.12 release.\n",
      "\n",
      "statsmodels.tsa.arima.model.ARIMA makes use of the statespace framework and\n",
      "is both well tested and maintained.\n",
      "\n",
      "To silence this warning and continue using ARMA and ARIMA until they are\n",
      "removed, use:\n",
      "\n",
      "import warnings\n",
      "warnings.filterwarnings('ignore', 'statsmodels.tsa.arima_model.ARMA',\n",
      "                        FutureWarning)\n",
      "warnings.filterwarnings('ignore', 'statsmodels.tsa.arima_model.ARIMA',\n",
      "                        FutureWarning)\n",
      "\n",
      "  warnings.warn(ARIMA_DEPRECATION_WARN, FutureWarning)\n"
     ]
    }
   ],
   "source": [
    "from sklearn.model_selection import TimeSeriesSplit\n",
    "from sklearn.metrics import r2_score\n",
    "import itertools\n",
    "\n",
    "range_p = [0,1,2]\n",
    "range_d = [1]\n",
    "range_q = [0,1,2]\n",
    "grid = itertools.product(range_p, range_d, range_q)\n",
    "orders = []\n",
    "aics = []\n",
    "fold_idxs = []\n",
    "for (p,d,q) in grid:\n",
    "    order = (p,d,q)\n",
    "    folds = TimeSeriesSplit(n_splits=3)\n",
    "    for fold_idx, (train_idx, test_idx) in enumerate(folds.split(y)):\n",
    "        fold_idxs.append(fold_idx)\n",
    "        y_train = y[train_idx]\n",
    "        y_test = y[test_idx]\n",
    "        model = ARIMA(y_train, order=order).fit()\n",
    "        y_pred = model.forecast(len(y_test))[0]\n",
    "        print(y_pred)\n",
    "        orders.append(order)\n",
    "        aics.append(model.aic)\n",
    "        \n",
    "        \n",
    "results = pd.DataFrame(list(zip(fold_idxs, orders, aics)),#, r2s)), \n",
    "                   columns =['Fold', '(p,d,q)', 'AIC'])#, 'R2'])"
   ]
  },
  {
   "cell_type": "code",
   "execution_count": 35,
   "id": "b9eb99c7",
   "metadata": {},
   "outputs": [],
   "source": [
    "results = results.sort_values('AIC').groupby('(p,d,q)').mean()['AIC'].sort_values()\n"
   ]
  },
  {
   "cell_type": "code",
   "execution_count": 36,
   "id": "af16cf19",
   "metadata": {},
   "outputs": [
    {
     "data": {
      "text/plain": [
       "(p,d,q)\n",
       "(0, 1, 0)    124.920987\n",
       "(0, 1, 1)    126.456375\n",
       "(1, 1, 0)    126.550985\n",
       "(2, 1, 0)    127.082173\n",
       "(0, 1, 2)    127.189794\n",
       "(1, 1, 1)    127.776267\n",
       "(2, 1, 1)    128.822109\n",
       "(1, 1, 2)    129.010290\n",
       "(2, 1, 2)    129.626533\n",
       "Name: AIC, dtype: float64"
      ]
     },
     "execution_count": 36,
     "metadata": {},
     "output_type": "execute_result"
    }
   ],
   "source": [
    "results"
   ]
  },
  {
   "cell_type": "code",
   "execution_count": 37,
   "id": "bb29c739",
   "metadata": {},
   "outputs": [],
   "source": [
    "best_order = results.index[0]"
   ]
  },
  {
   "cell_type": "code",
   "execution_count": 38,
   "id": "3a7cab89",
   "metadata": {},
   "outputs": [
    {
     "data": {
      "text/plain": [
       "<statsmodels.tsa.arima_model.ARIMAResultsWrapper at 0x7f2878d858e0>"
      ]
     },
     "execution_count": 38,
     "metadata": {},
     "output_type": "execute_result"
    }
   ],
   "source": [
    "model = ARIMA(y_train, order=best_order).fit()\n",
    "model"
   ]
  },
  {
   "cell_type": "code",
   "execution_count": 39,
   "id": "ffe7a009",
   "metadata": {},
   "outputs": [],
   "source": [
    "(forecast, stderr, conf_int) = model.forecast(1, alpha=0.05)"
   ]
  },
  {
   "cell_type": "code",
   "execution_count": 40,
   "id": "df261987",
   "metadata": {},
   "outputs": [
    {
     "data": {
      "text/plain": [
       "0    87.018331\n",
       "dtype: float64"
      ]
     },
     "execution_count": 40,
     "metadata": {},
     "output_type": "execute_result"
    }
   ],
   "source": [
    "forecast = pd.Series(forecast)\n",
    "forecast"
   ]
  },
  {
   "cell_type": "code",
   "execution_count": 41,
   "id": "5bbcd728",
   "metadata": {},
   "outputs": [
    {
     "data": {
      "text/plain": [
       "(pandas.core.series.Series, pandas.core.series.Series)"
      ]
     },
     "execution_count": 41,
     "metadata": {},
     "output_type": "execute_result"
    }
   ],
   "source": [
    "type(date_final), type(forecast)"
   ]
  },
  {
   "cell_type": "code",
   "execution_count": 42,
   "id": "a96bccb1",
   "metadata": {},
   "outputs": [],
   "source": [
    "def add_n_days(dates, n):\n",
    "    for i in range(n):\n",
    "        last = dates.iloc[-1]\n",
    "        last = last + pd.DateOffset(days=1)\n",
    "        dates = dates.append(last)\n",
    "    return dates"
   ]
  },
  {
   "cell_type": "code",
   "execution_count": 43,
   "id": "7c50f48c",
   "metadata": {},
   "outputs": [],
   "source": [
    "from datetime import timedelta \n",
    "\n",
    "date_final = pd.DataFrame(date_final)\n",
    "date_final = pd.DataFrame(pd.to_datetime(date_final['date']))\n",
    "\n",
    "#date_final = add_n_days(date_final, 7)"
   ]
  },
  {
   "cell_type": "code",
   "execution_count": 44,
   "id": "aa41c674",
   "metadata": {},
   "outputs": [],
   "source": [
    "date_final = date_final['date'].dt.strftime('%Y-%m-%d')"
   ]
  },
  {
   "cell_type": "code",
   "execution_count": 45,
   "id": "bf95b49e",
   "metadata": {},
   "outputs": [
    {
     "data": {
      "text/html": [
       "<div>\n",
       "<style scoped>\n",
       "    .dataframe tbody tr th:only-of-type {\n",
       "        vertical-align: middle;\n",
       "    }\n",
       "\n",
       "    .dataframe tbody tr th {\n",
       "        vertical-align: top;\n",
       "    }\n",
       "\n",
       "    .dataframe thead th {\n",
       "        text-align: right;\n",
       "    }\n",
       "</style>\n",
       "<table border=\"1\" class=\"dataframe\">\n",
       "  <thead>\n",
       "    <tr style=\"text-align: right;\">\n",
       "      <th></th>\n",
       "      <th>Date</th>\n",
       "      <th>Forecast</th>\n",
       "    </tr>\n",
       "  </thead>\n",
       "  <tbody>\n",
       "    <tr>\n",
       "      <th>0</th>\n",
       "      <td>2018-01-24</td>\n",
       "      <td>87.018331</td>\n",
       "    </tr>\n",
       "  </tbody>\n",
       "</table>\n",
       "</div>"
      ],
      "text/plain": [
       "         Date   Forecast\n",
       "0  2018-01-24  87.018331"
      ]
     },
     "execution_count": 45,
     "metadata": {},
     "output_type": "execute_result"
    }
   ],
   "source": [
    "pd.DataFrame({'Date' : date_final.values,'Forecast' : forecast.values})"
   ]
  },
  {
   "cell_type": "code",
   "execution_count": 46,
   "id": "bf149d93",
   "metadata": {},
   "outputs": [
    {
     "data": {
      "text/plain": [
       "0    87.018331\n",
       "dtype: float64"
      ]
     },
     "execution_count": 46,
     "metadata": {},
     "output_type": "execute_result"
    }
   ],
   "source": [
    "forecast"
   ]
  },
  {
   "cell_type": "code",
   "execution_count": 47,
   "id": "cd6e9c36",
   "metadata": {},
   "outputs": [],
   "source": [
    "forecast = pd.Series(forecast, name='forecast')\n",
    "stderr = pd.Series(stderr)\n",
    "conf_int = pd.DataFrame(conf_int, columns=['low', 'high'])"
   ]
  },
  {
   "cell_type": "code",
   "execution_count": 48,
   "id": "0e2d4f52",
   "metadata": {},
   "outputs": [
    {
     "data": {
      "text/plain": [
       "<matplotlib.legend.Legend at 0x7f2878dcb3a0>"
      ]
     },
     "execution_count": 48,
     "metadata": {},
     "output_type": "execute_result"
    },
    {
     "data": {
      "image/png": "[encoded data removed]",
      "text/plain": [
       "<Figure size 432x288 with 1 Axes>"
      ]
     },
     "metadata": {
      "needs_background": "light"
     },
     "output_type": "display_data"
    }
   ],
   "source": [
    "plt.plot(forecast, c='orange')\n",
    "plt.plot(conf_int['low'], label='low', c='grey', ls='--')\n",
    "plt.plot(conf_int['high'], label='high', c='grey', ls='--')\n",
    "plt.legend()"
   ]
  },
  {
   "cell_type": "code",
   "execution_count": 49,
   "id": "02c4fd2f",
   "metadata": {},
   "outputs": [
    {
     "ename": "ValueError",
     "evalue": "Length mismatch: Expected axis has 1 elements, new values have 25 elements",
     "output_type": "error",
     "traceback": [
      "\u001b[0;31m---------------------------------------------------------------------------\u001b[0m",
      "\u001b[0;31mValueError\u001b[0m                                Traceback (most recent call last)",
      "\u001b[0;32m<ipython-input-49-2b1aa72e0864>\u001b[0m in \u001b[0;36m<module>\u001b[0;34m\u001b[0m\n\u001b[0;32m----> 1\u001b[0;31m \u001b[0mforecast\u001b[0m\u001b[0;34m.\u001b[0m\u001b[0mindex\u001b[0m \u001b[0;34m=\u001b[0m \u001b[0my_test\u001b[0m\u001b[0;34m.\u001b[0m\u001b[0mindex\u001b[0m\u001b[0;34m\u001b[0m\u001b[0;34m\u001b[0m\u001b[0m\n\u001b[0m\u001b[1;32m      2\u001b[0m \u001b[0mconf_int\u001b[0m\u001b[0;34m.\u001b[0m\u001b[0mindex\u001b[0m \u001b[0;34m=\u001b[0m \u001b[0my_test\u001b[0m\u001b[0;34m.\u001b[0m\u001b[0mindex\u001b[0m\u001b[0;34m\u001b[0m\u001b[0;34m\u001b[0m\u001b[0m\n",
      "\u001b[0;32m~/.pyenv/versions/3.8.6/envs/lewagon/lib/python3.8/site-packages/pandas/core/generic.py\u001b[0m in \u001b[0;36m__setattr__\u001b[0;34m(self, name, value)\u001b[0m\n\u001b[1;32m   5476\u001b[0m         \u001b[0;32mtry\u001b[0m\u001b[0;34m:\u001b[0m\u001b[0;34m\u001b[0m\u001b[0;34m\u001b[0m\u001b[0m\n\u001b[1;32m   5477\u001b[0m             \u001b[0mobject\u001b[0m\u001b[0;34m.\u001b[0m\u001b[0m__getattribute__\u001b[0m\u001b[0;34m(\u001b[0m\u001b[0mself\u001b[0m\u001b[0;34m,\u001b[0m \u001b[0mname\u001b[0m\u001b[0;34m)\u001b[0m\u001b[0;34m\u001b[0m\u001b[0;34m\u001b[0m\u001b[0m\n\u001b[0;32m-> 5478\u001b[0;31m             \u001b[0;32mreturn\u001b[0m \u001b[0mobject\u001b[0m\u001b[0;34m.\u001b[0m\u001b[0m__setattr__\u001b[0m\u001b[0;34m(\u001b[0m\u001b[0mself\u001b[0m\u001b[0;34m,\u001b[0m \u001b[0mname\u001b[0m\u001b[0;34m,\u001b[0m \u001b[0mvalue\u001b[0m\u001b[0;34m)\u001b[0m\u001b[0;34m\u001b[0m\u001b[0;34m\u001b[0m\u001b[0m\n\u001b[0m\u001b[1;32m   5479\u001b[0m         \u001b[0;32mexcept\u001b[0m \u001b[0mAttributeError\u001b[0m\u001b[0;34m:\u001b[0m\u001b[0;34m\u001b[0m\u001b[0;34m\u001b[0m\u001b[0m\n\u001b[1;32m   5480\u001b[0m             \u001b[0;32mpass\u001b[0m\u001b[0;34m\u001b[0m\u001b[0;34m\u001b[0m\u001b[0m\n",
      "\u001b[0;32mpandas/_libs/properties.pyx\u001b[0m in \u001b[0;36mpandas._libs.properties.AxisProperty.__set__\u001b[0;34m()\u001b[0m\n",
      "\u001b[0;32m~/.pyenv/versions/3.8.6/envs/lewagon/lib/python3.8/site-packages/pandas/core/series.py\u001b[0m in \u001b[0;36m_set_axis\u001b[0;34m(self, axis, labels, fastpath)\u001b[0m\n\u001b[1;32m    468\u001b[0m         \u001b[0;32mif\u001b[0m \u001b[0;32mnot\u001b[0m \u001b[0mfastpath\u001b[0m\u001b[0;34m:\u001b[0m\u001b[0;34m\u001b[0m\u001b[0;34m\u001b[0m\u001b[0m\n\u001b[1;32m    469\u001b[0m             \u001b[0;31m# The ensure_index call above ensures we have an Index object\u001b[0m\u001b[0;34m\u001b[0m\u001b[0;34m\u001b[0m\u001b[0;34m\u001b[0m\u001b[0m\n\u001b[0;32m--> 470\u001b[0;31m             \u001b[0mself\u001b[0m\u001b[0;34m.\u001b[0m\u001b[0m_mgr\u001b[0m\u001b[0;34m.\u001b[0m\u001b[0mset_axis\u001b[0m\u001b[0;34m(\u001b[0m\u001b[0maxis\u001b[0m\u001b[0;34m,\u001b[0m \u001b[0mlabels\u001b[0m\u001b[0;34m)\u001b[0m\u001b[0;34m\u001b[0m\u001b[0;34m\u001b[0m\u001b[0m\n\u001b[0m\u001b[1;32m    471\u001b[0m \u001b[0;34m\u001b[0m\u001b[0m\n\u001b[1;32m    472\u001b[0m     \u001b[0;31m# ndarray compatibility\u001b[0m\u001b[0;34m\u001b[0m\u001b[0;34m\u001b[0m\u001b[0;34m\u001b[0m\u001b[0m\n",
      "\u001b[0;32m~/.pyenv/versions/3.8.6/envs/lewagon/lib/python3.8/site-packages/pandas/core/internals/managers.py\u001b[0m in \u001b[0;36mset_axis\u001b[0;34m(self, axis, new_labels)\u001b[0m\n\u001b[1;32m    218\u001b[0m \u001b[0;34m\u001b[0m\u001b[0m\n\u001b[1;32m    219\u001b[0m         \u001b[0;32mif\u001b[0m \u001b[0mnew_len\u001b[0m \u001b[0;34m!=\u001b[0m \u001b[0mold_len\u001b[0m\u001b[0;34m:\u001b[0m\u001b[0;34m\u001b[0m\u001b[0;34m\u001b[0m\u001b[0m\n\u001b[0;32m--> 220\u001b[0;31m             raise ValueError(\n\u001b[0m\u001b[1;32m    221\u001b[0m                 \u001b[0;34mf\"Length mismatch: Expected axis has {old_len} elements, new \"\u001b[0m\u001b[0;34m\u001b[0m\u001b[0;34m\u001b[0m\u001b[0m\n\u001b[1;32m    222\u001b[0m                 \u001b[0;34mf\"values have {new_len} elements\"\u001b[0m\u001b[0;34m\u001b[0m\u001b[0;34m\u001b[0m\u001b[0m\n",
      "\u001b[0;31mValueError\u001b[0m: Length mismatch: Expected axis has 1 elements, new values have 25 elements"
     ]
    }
   ],
   "source": [
    "forecast.index = y_test.index\n",
    "conf_int.index = y_test.index"
   ]
  },
  {
   "cell_type": "code",
   "execution_count": null,
   "id": "1497a5ac",
   "metadata": {},
   "outputs": [],
   "source": [
    "plt.figure(figsize=(15,5))\n",
    "plt.plot(forecast, c='orange')\n",
    "plt.plot(conf_int['low'], label='low', c='orange', ls='--')\n",
    "plt.plot(conf_int['high'], label='high', c='orange', ls='--')\n",
    "plt.plot(y_train, c='blue')\n",
    "plt.plot(y_test, c='blue')\n",
    "plt.legend()\n",
    "plt.fill_between(y_test.index, conf_int['low'], conf_int['high'], color='k', alpha=.15)"
   ]
  },
  {
   "cell_type": "code",
   "execution_count": null,
   "id": "b42b1de6",
   "metadata": {},
   "outputs": [],
   "source": [
    "forecast = forecast.reset_index(drop = True)"
   ]
  },
  {
   "cell_type": "code",
   "execution_count": null,
   "id": "c8f1f0e6",
   "metadata": {},
   "outputs": [],
   "source": [
    "y_test = y_test.reset_index(drop = True)"
   ]
  },
  {
   "cell_type": "code",
   "execution_count": null,
   "id": "fba1c09a",
   "metadata": {},
   "outputs": [],
   "source": [
    "forecast_accuracy(forecast, y_test)"
   ]
  },
  {
   "cell_type": "code",
   "execution_count": null,
   "id": "8bc0b50e",
   "metadata": {},
   "outputs": [],
   "source": []
  },
  {
   "cell_type": "code",
   "execution_count": null,
   "id": "ec80ce60",
   "metadata": {},
   "outputs": [],
   "source": []
  }
 ],
 "metadata": {
  "kernelspec": {
   "display_name": "Python 3",
   "language": "python",
   "name": "python3"
  },
  "language_info": {
   "codemirror_mode": {
    "name": "ipython",
    "version": 3
   },
   "file_extension": ".py",
   "mimetype": "text/x-python",
   "name": "python",
   "nbconvert_exporter": "python",
   "pygments_lexer": "ipython3",
   "version": "3.8.6"
  },
  "toc": {
   "base_numbering": 1,
   "nav_menu": {},
   "number_sections": true,
   "sideBar": true,
   "skip_h1_title": false,
   "title_cell": "Table of Contents",
   "title_sidebar": "Contents",
   "toc_cell": false,
   "toc_position": {},
   "toc_section_display": true,
   "toc_window_display": true
  }
 },
 "nbformat": 4,
 "nbformat_minor": 5
}
