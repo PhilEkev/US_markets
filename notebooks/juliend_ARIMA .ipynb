{
 "cells": [
  {
   "cell_type": "code",
   "execution_count": 1,
   "id": "33fb1962",
   "metadata": {},
   "outputs": [],
   "source": [
    "import pandas as pd\n",
    "import numpy as np\n",
    "import matplotlib.pyplot as plt\n",
    "%matplotlib inline\n",
    "import seaborn as sns\n",
    "from neuralprophet import NeuralProphet\n",
    "import warnings\n",
    "warnings.filterwarnings('ignore', 'statsmodels.tsa.arima_model.ARMA',\n",
    "                        FutureWarning)\n",
    "warnings.filterwarnings('ignore', 'statsmodels.tsa.arima_model.ARIMA',\n",
    "                        FutureWarning)"
   ]
  },
  {
   "cell_type": "code",
   "execution_count": 2,
   "id": "2965cae1",
   "metadata": {},
   "outputs": [],
   "source": [
    "df = pd.read_csv('../raw_data/stock_prices_latest.csv', nrows=100000)"
   ]
  },
  {
   "cell_type": "code",
   "execution_count": 3,
   "id": "135e200e",
   "metadata": {},
   "outputs": [
    {
     "data": {
      "text/html": [
       "<div>\n",
       "<style scoped>\n",
       "    .dataframe tbody tr th:only-of-type {\n",
       "        vertical-align: middle;\n",
       "    }\n",
       "\n",
       "    .dataframe tbody tr th {\n",
       "        vertical-align: top;\n",
       "    }\n",
       "\n",
       "    .dataframe thead th {\n",
       "        text-align: right;\n",
       "    }\n",
       "</style>\n",
       "<table border=\"1\" class=\"dataframe\">\n",
       "  <thead>\n",
       "    <tr style=\"text-align: right;\">\n",
       "      <th></th>\n",
       "      <th>symbol</th>\n",
       "      <th>date</th>\n",
       "      <th>open</th>\n",
       "      <th>high</th>\n",
       "      <th>low</th>\n",
       "      <th>close</th>\n",
       "      <th>close_adjusted</th>\n",
       "      <th>volume</th>\n",
       "      <th>split_coefficient</th>\n",
       "    </tr>\n",
       "  </thead>\n",
       "  <tbody>\n",
       "    <tr>\n",
       "      <th>0</th>\n",
       "      <td>MSFT</td>\n",
       "      <td>2016-05-16</td>\n",
       "      <td>50.80</td>\n",
       "      <td>51.96</td>\n",
       "      <td>50.75</td>\n",
       "      <td>51.83</td>\n",
       "      <td>49.7013</td>\n",
       "      <td>20032017</td>\n",
       "      <td>1.0</td>\n",
       "    </tr>\n",
       "    <tr>\n",
       "      <th>1</th>\n",
       "      <td>MSFT</td>\n",
       "      <td>2002-01-16</td>\n",
       "      <td>68.85</td>\n",
       "      <td>69.84</td>\n",
       "      <td>67.85</td>\n",
       "      <td>67.87</td>\n",
       "      <td>22.5902</td>\n",
       "      <td>30977700</td>\n",
       "      <td>1.0</td>\n",
       "    </tr>\n",
       "    <tr>\n",
       "      <th>2</th>\n",
       "      <td>MSFT</td>\n",
       "      <td>2001-09-18</td>\n",
       "      <td>53.41</td>\n",
       "      <td>55.00</td>\n",
       "      <td>53.17</td>\n",
       "      <td>54.32</td>\n",
       "      <td>18.0802</td>\n",
       "      <td>41591300</td>\n",
       "      <td>1.0</td>\n",
       "    </tr>\n",
       "    <tr>\n",
       "      <th>3</th>\n",
       "      <td>MSFT</td>\n",
       "      <td>2007-10-26</td>\n",
       "      <td>36.01</td>\n",
       "      <td>36.03</td>\n",
       "      <td>34.56</td>\n",
       "      <td>35.03</td>\n",
       "      <td>27.2232</td>\n",
       "      <td>288121200</td>\n",
       "      <td>1.0</td>\n",
       "    </tr>\n",
       "    <tr>\n",
       "      <th>4</th>\n",
       "      <td>MSFT</td>\n",
       "      <td>2014-06-27</td>\n",
       "      <td>41.61</td>\n",
       "      <td>42.29</td>\n",
       "      <td>41.51</td>\n",
       "      <td>42.25</td>\n",
       "      <td>38.6773</td>\n",
       "      <td>74640000</td>\n",
       "      <td>1.0</td>\n",
       "    </tr>\n",
       "  </tbody>\n",
       "</table>\n",
       "</div>"
      ],
      "text/plain": [
       "  symbol        date   open   high    low  close  close_adjusted     volume  \\\n",
       "0   MSFT  2016-05-16  50.80  51.96  50.75  51.83         49.7013   20032017   \n",
       "1   MSFT  2002-01-16  68.85  69.84  67.85  67.87         22.5902   30977700   \n",
       "2   MSFT  2001-09-18  53.41  55.00  53.17  54.32         18.0802   41591300   \n",
       "3   MSFT  2007-10-26  36.01  36.03  34.56  35.03         27.2232  288121200   \n",
       "4   MSFT  2014-06-27  41.61  42.29  41.51  42.25         38.6773   74640000   \n",
       "\n",
       "   split_coefficient  \n",
       "0                1.0  \n",
       "1                1.0  \n",
       "2                1.0  \n",
       "3                1.0  \n",
       "4                1.0  "
      ]
     },
     "execution_count": 3,
     "metadata": {},
     "output_type": "execute_result"
    }
   ],
   "source": [
    "df.head()"
   ]
  },
  {
   "cell_type": "code",
   "execution_count": 4,
   "id": "ac52621a",
   "metadata": {},
   "outputs": [
    {
     "name": "stdout",
     "output_type": "stream",
     "text": [
      "<class 'pandas.core.frame.DataFrame'>\n",
      "RangeIndex: 100000 entries, 0 to 99999\n",
      "Data columns (total 9 columns):\n",
      " #   Column             Non-Null Count   Dtype  \n",
      "---  ------             --------------   -----  \n",
      " 0   symbol             100000 non-null  object \n",
      " 1   date               100000 non-null  object \n",
      " 2   open               100000 non-null  float64\n",
      " 3   high               100000 non-null  float64\n",
      " 4   low                100000 non-null  float64\n",
      " 5   close              100000 non-null  float64\n",
      " 6   close_adjusted     100000 non-null  float64\n",
      " 7   volume             100000 non-null  int64  \n",
      " 8   split_coefficient  100000 non-null  float64\n",
      "dtypes: float64(6), int64(1), object(2)\n",
      "memory usage: 6.9+ MB\n"
     ]
    }
   ],
   "source": [
    "df.info()"
   ]
  },
  {
   "cell_type": "code",
   "execution_count": 5,
   "id": "6e355748",
   "metadata": {},
   "outputs": [
    {
     "data": {
      "text/plain": [
       "2167    2017-12-26\n",
       "22      2017-12-27\n",
       "564     2017-12-28\n",
       "1543    2017-12-29\n",
       "853     2018-01-02\n",
       "103     2018-01-03\n",
       "3843    2018-01-04\n",
       "2649    2018-01-05\n",
       "1138    2018-01-08\n",
       "1160    2018-01-09\n",
       "3660    2018-01-10\n",
       "1990    2018-01-11\n",
       "3864    2018-01-12\n",
       "169     2018-01-16\n",
       "3260    2018-01-17\n",
       "575     2018-01-18\n",
       "904     2018-01-19\n",
       "2740    2018-01-22\n",
       "3647    2018-01-23\n",
       "2348    2018-01-24\n",
       "Name: date, dtype: object"
      ]
     },
     "execution_count": 5,
     "metadata": {},
     "output_type": "execute_result"
    }
   ],
   "source": [
    "df = df.sort_values(by='date')\n",
    "is_cpny = df['symbol']=='MSFT'\n",
    "df = df[is_cpny]\n",
    "date_final = pd.Series(df.iloc[-20:]['date'])\n",
    "date_final"
   ]
  },
  {
   "cell_type": "code",
   "execution_count": 6,
   "id": "b50bd5be",
   "metadata": {},
   "outputs": [
    {
     "data": {
      "text/plain": [
       "<AxesSubplot:>"
      ]
     },
     "execution_count": 6,
     "metadata": {},
     "output_type": "execute_result"
    },
    {
     "data": {
      "image/png": "[encoded data removed]",
      "text/plain": [
       "<Figure size 432x288 with 1 Axes>"
      ]
     },
     "metadata": {
      "needs_background": "light"
     },
     "output_type": "display_data"
    }
   ],
   "source": [
    "is_cpny = df['symbol']=='MSFT'\n",
    "df_msft = df[is_cpny]\n",
    "df_msft = df_msft.sort_values(by='date')\n",
    "df_msft = df_msft.iloc[-100:]\n",
    "df_msft = df_msft.reset_index().drop(columns='index')\n",
    "df_msft = df_msft[\"close_adjusted\"]\n",
    "df_msft = pd.DataFrame(df_msft)\n",
    "df_msft.plot()"
   ]
  },
  {
   "cell_type": "code",
   "execution_count": 7,
   "id": "7106046f",
   "metadata": {},
   "outputs": [
    {
     "data": {
      "text/html": [
       "<div>\n",
       "<style scoped>\n",
       "    .dataframe tbody tr th:only-of-type {\n",
       "        vertical-align: middle;\n",
       "    }\n",
       "\n",
       "    .dataframe tbody tr th {\n",
       "        vertical-align: top;\n",
       "    }\n",
       "\n",
       "    .dataframe thead th {\n",
       "        text-align: right;\n",
       "    }\n",
       "</style>\n",
       "<table border=\"1\" class=\"dataframe\">\n",
       "  <thead>\n",
       "    <tr style=\"text-align: right;\">\n",
       "      <th></th>\n",
       "      <th>close_adjusted</th>\n",
       "    </tr>\n",
       "  </thead>\n",
       "  <tbody>\n",
       "    <tr>\n",
       "      <th>90</th>\n",
       "      <td>87.82</td>\n",
       "    </tr>\n",
       "    <tr>\n",
       "      <th>91</th>\n",
       "      <td>88.08</td>\n",
       "    </tr>\n",
       "    <tr>\n",
       "      <th>92</th>\n",
       "      <td>89.60</td>\n",
       "    </tr>\n",
       "    <tr>\n",
       "      <th>93</th>\n",
       "      <td>88.35</td>\n",
       "    </tr>\n",
       "    <tr>\n",
       "      <th>94</th>\n",
       "      <td>90.14</td>\n",
       "    </tr>\n",
       "    <tr>\n",
       "      <th>95</th>\n",
       "      <td>90.10</td>\n",
       "    </tr>\n",
       "    <tr>\n",
       "      <th>96</th>\n",
       "      <td>90.00</td>\n",
       "    </tr>\n",
       "    <tr>\n",
       "      <th>97</th>\n",
       "      <td>91.61</td>\n",
       "    </tr>\n",
       "    <tr>\n",
       "      <th>98</th>\n",
       "      <td>91.90</td>\n",
       "    </tr>\n",
       "    <tr>\n",
       "      <th>99</th>\n",
       "      <td>92.49</td>\n",
       "    </tr>\n",
       "  </tbody>\n",
       "</table>\n",
       "</div>"
      ],
      "text/plain": [
       "    close_adjusted\n",
       "90           87.82\n",
       "91           88.08\n",
       "92           89.60\n",
       "93           88.35\n",
       "94           90.14\n",
       "95           90.10\n",
       "96           90.00\n",
       "97           91.61\n",
       "98           91.90\n",
       "99           92.49"
      ]
     },
     "execution_count": 7,
     "metadata": {},
     "output_type": "execute_result"
    }
   ],
   "source": [
    "df_msft.tail(10)"
   ]
  },
  {
   "cell_type": "code",
   "execution_count": null,
   "id": "8c80f1b7",
   "metadata": {},
   "outputs": [],
   "source": []
  },
  {
   "cell_type": "code",
   "execution_count": null,
   "id": "e64a4cf8",
   "metadata": {},
   "outputs": [],
   "source": []
  },
  {
   "cell_type": "code",
   "execution_count": 8,
   "id": "81c80a8e",
   "metadata": {},
   "outputs": [],
   "source": [
    "y = df_msft.close_adjusted"
   ]
  },
  {
   "cell_type": "code",
   "execution_count": 9,
   "id": "734dba83",
   "metadata": {},
   "outputs": [
    {
     "data": {
      "text/plain": [
       "0     74.3935\n",
       "1     73.5676\n",
       "2     73.2393\n",
       "3     73.0304\n",
       "4     73.9656\n",
       "       ...   \n",
       "95    90.1000\n",
       "96    90.0000\n",
       "97    91.6100\n",
       "98    91.9000\n",
       "99    92.4900\n",
       "Name: close_adjusted, Length: 100, dtype: float64"
      ]
     },
     "execution_count": 9,
     "metadata": {},
     "output_type": "execute_result"
    }
   ],
   "source": [
    "y"
   ]
  },
  {
   "cell_type": "code",
   "execution_count": 10,
   "id": "3a07f998",
   "metadata": {},
   "outputs": [
    {
     "name": "stdout",
     "output_type": "stream",
     "text": [
      "p-value:  0.9732070330172667\n"
     ]
    }
   ],
   "source": [
    "from statsmodels.tsa.stattools import adfuller\n",
    "print('p-value: ', adfuller(y)[1])"
   ]
  },
  {
   "cell_type": "code",
   "execution_count": 11,
   "id": "4993e876",
   "metadata": {},
   "outputs": [
    {
     "name": "stdout",
     "output_type": "stream",
     "text": [
      "p-value:  6.35701846005648e-14\n"
     ]
    }
   ],
   "source": [
    "# First diff\n",
    "print('p-value: ', adfuller(y.diff(1).fillna(0))[1])"
   ]
  },
  {
   "cell_type": "code",
   "execution_count": 12,
   "id": "27bf3fd7",
   "metadata": {},
   "outputs": [
    {
     "name": "stdout",
     "output_type": "stream",
     "text": [
      "p-value:  9.781552285819646e-10\n"
     ]
    }
   ],
   "source": [
    "# Second order diff\n",
    "print('p-value: ', adfuller(y.diff(1).diff(1).fillna(0))[1])"
   ]
  },
  {
   "cell_type": "code",
   "execution_count": 13,
   "id": "d47048dd",
   "metadata": {},
   "outputs": [
    {
     "data": {
      "image/png": "[encoded data removed]",
      "text/plain": [
       "<Figure size 936x720 with 6 Axes>"
      ]
     },
     "metadata": {
      "needs_background": "light"
     },
     "output_type": "display_data"
    }
   ],
   "source": [
    "from statsmodels.graphics.tsaplots import plot_acf, plot_pacf\n",
    "\n",
    "# Original Series\n",
    "fig, axes = plt.subplots(3, 2, figsize=(13,10))\n",
    "axes[0, 0].plot(y); axes[0, 0].set_title('Original Series')\n",
    "plot_acf(y, ax=axes[0, 1])\n",
    "\n",
    "# 1st Differencing\n",
    "axes[1, 0].plot(y.diff()); axes[1, 0].set_title('1st Order Differencing')\n",
    "plot_acf(y.diff().dropna(), ax=axes[1, 1])\n",
    "\n",
    "# 2nd Differencing\n",
    "axes[2, 0].plot(y.diff().diff()); axes[2, 0].set_title('2nd Order Differencing')\n",
    "plot_acf(y.diff().diff().dropna(), ax=axes[2, 1])\n",
    "\n",
    "plt.show()"
   ]
  },
  {
   "cell_type": "code",
   "execution_count": 14,
   "id": "d0a8ff26",
   "metadata": {},
   "outputs": [],
   "source": [
    "y_diff = y.diff().dropna()"
   ]
  },
  {
   "cell_type": "code",
   "execution_count": 15,
   "id": "77e33242",
   "metadata": {},
   "outputs": [
    {
     "data": {
      "image/png": "[encoded data removed]",
      "text/plain": [
       "<Figure size 432x288 with 1 Axes>"
      ]
     },
     "metadata": {
      "needs_background": "light"
     },
     "output_type": "display_data"
    }
   ],
   "source": [
    "plot_acf(y_diff);"
   ]
  },
  {
   "cell_type": "code",
   "execution_count": 16,
   "id": "5f9008db",
   "metadata": {},
   "outputs": [
    {
     "data": {
      "image/png": "[encoded data removed]",
      "text/plain": [
       "<Figure size 432x288 with 1 Axes>"
      ]
     },
     "metadata": {
      "needs_background": "light"
     },
     "output_type": "display_data"
    }
   ],
   "source": [
    "from statsmodels.graphics.tsaplots import plot_acf, plot_pacf\n",
    "plot_pacf(y_diff, c='r');"
   ]
  },
  {
   "cell_type": "code",
   "execution_count": 17,
   "id": "8f83905e",
   "metadata": {},
   "outputs": [
    {
     "name": "stderr",
     "output_type": "stream",
     "text": [
      "/home/juliend/.pyenv/versions/3.8.6/envs/usmarket/lib/python3.8/site-packages/statsmodels/tsa/arima_model.py:472: FutureWarning: \n",
      "statsmodels.tsa.arima_model.ARMA and statsmodels.tsa.arima_model.ARIMA have\n",
      "been deprecated in favor of statsmodels.tsa.arima.model.ARIMA (note the .\n",
      "between arima and model) and\n",
      "statsmodels.tsa.SARIMAX. These will be removed after the 0.12 release.\n",
      "\n",
      "statsmodels.tsa.arima.model.ARIMA makes use of the statespace framework and\n",
      "is both well tested and maintained.\n",
      "\n",
      "To silence this warning and continue using ARMA and ARIMA until they are\n",
      "removed, use:\n",
      "\n",
      "import warnings\n",
      "warnings.filterwarnings('ignore', 'statsmodels.tsa.arima_model.ARMA',\n",
      "                        FutureWarning)\n",
      "warnings.filterwarnings('ignore', 'statsmodels.tsa.arima_model.ARIMA',\n",
      "                        FutureWarning)\n",
      "\n",
      "  warnings.warn(ARIMA_DEPRECATION_WARN, FutureWarning)\n"
     ]
    },
    {
     "data": {
      "text/html": [
       "<table class=\"simpletable\">\n",
       "<caption>ARIMA Model Results</caption>\n",
       "<tr>\n",
       "  <th>Dep. Variable:</th> <td>D.close_adjusted</td> <th>  No. Observations:  </th>    <td>99</td>   \n",
       "</tr>\n",
       "<tr>\n",
       "  <th>Model:</th>          <td>ARIMA(1, 1, 0)</td>  <th>  Log Likelihood     </th> <td>-125.989</td>\n",
       "</tr>\n",
       "<tr>\n",
       "  <th>Method:</th>             <td>css-mle</td>     <th>  S.D. of innovations</th>   <td>0.864</td> \n",
       "</tr>\n",
       "<tr>\n",
       "  <th>Date:</th>          <td>Thu, 10 Jun 2021</td> <th>  AIC                </th>  <td>257.978</td>\n",
       "</tr>\n",
       "<tr>\n",
       "  <th>Time:</th>              <td>12:15:21</td>     <th>  BIC                </th>  <td>265.763</td>\n",
       "</tr>\n",
       "<tr>\n",
       "  <th>Sample:</th>                <td>1</td>        <th>  HQIC               </th>  <td>261.128</td>\n",
       "</tr>\n",
       "<tr>\n",
       "  <th></th>                       <td> </td>        <th>                     </th>     <td> </td>   \n",
       "</tr>\n",
       "</table>\n",
       "<table class=\"simpletable\">\n",
       "<tr>\n",
       "             <td></td>               <th>coef</th>     <th>std err</th>      <th>z</th>      <th>P>|z|</th>  <th>[0.025</th>    <th>0.975]</th>  \n",
       "</tr>\n",
       "<tr>\n",
       "  <th>const</th>                  <td>    0.1835</td> <td>    0.077</td> <td>    2.390</td> <td> 0.017</td> <td>    0.033</td> <td>    0.334</td>\n",
       "</tr>\n",
       "<tr>\n",
       "  <th>ar.L1.D.close_adjusted</th> <td>   -0.1319</td> <td>    0.100</td> <td>   -1.321</td> <td> 0.187</td> <td>   -0.328</td> <td>    0.064</td>\n",
       "</tr>\n",
       "</table>\n",
       "<table class=\"simpletable\">\n",
       "<caption>Roots</caption>\n",
       "<tr>\n",
       "    <td></td>   <th>            Real</th>  <th>         Imaginary</th> <th>         Modulus</th>  <th>        Frequency</th>\n",
       "</tr>\n",
       "<tr>\n",
       "  <th>AR.1</th> <td>          -7.5792</td> <td>          +0.0000j</td> <td>           7.5792</td> <td>           0.5000</td>\n",
       "</tr>\n",
       "</table>"
      ],
      "text/plain": [
       "<class 'statsmodels.iolib.summary.Summary'>\n",
       "\"\"\"\n",
       "                             ARIMA Model Results                              \n",
       "==============================================================================\n",
       "Dep. Variable:       D.close_adjusted   No. Observations:                   99\n",
       "Model:                 ARIMA(1, 1, 0)   Log Likelihood                -125.989\n",
       "Method:                       css-mle   S.D. of innovations              0.864\n",
       "Date:                Thu, 10 Jun 2021   AIC                            257.978\n",
       "Time:                        12:15:21   BIC                            265.763\n",
       "Sample:                             1   HQIC                           261.128\n",
       "                                                                              \n",
       "==========================================================================================\n",
       "                             coef    std err          z      P>|z|      [0.025      0.975]\n",
       "------------------------------------------------------------------------------------------\n",
       "const                      0.1835      0.077      2.390      0.017       0.033       0.334\n",
       "ar.L1.D.close_adjusted    -0.1319      0.100     -1.321      0.187      -0.328       0.064\n",
       "                                    Roots                                    \n",
       "=============================================================================\n",
       "                  Real          Imaginary           Modulus         Frequency\n",
       "-----------------------------------------------------------------------------\n",
       "AR.1           -7.5792           +0.0000j            7.5792            0.5000\n",
       "-----------------------------------------------------------------------------\n",
       "\"\"\""
      ]
     },
     "execution_count": 17,
     "metadata": {},
     "output_type": "execute_result"
    }
   ],
   "source": [
    "from statsmodels.tsa.arima_model import ARIMA\n",
    "\n",
    "# 1. initialize the model\n",
    "arima = ARIMA(y, order=(1, 1, 0))\n",
    "\n",
    "# 2. fit the models\n",
    "arima = arima.fit()\n",
    "\n",
    "arima.summary()"
   ]
  },
  {
   "cell_type": "code",
   "execution_count": 18,
   "id": "60e6f3ed",
   "metadata": {},
   "outputs": [
    {
     "data": {
      "image/png": "[encoded data removed]",
      "text/plain": [
       "<Figure size 432x288 with 1 Axes>"
      ]
     },
     "metadata": {
      "needs_background": "light"
     },
     "output_type": "display_data"
    }
   ],
   "source": [
    "# Actual vs Fitted\n",
    "arima.plot_predict(dynamic=False);"
   ]
  },
  {
   "cell_type": "code",
   "execution_count": 19,
   "id": "88f6b0cc",
   "metadata": {},
   "outputs": [
    {
     "data": {
      "image/png": "[encoded data removed]",
      "text/plain": [
       "<Figure size 432x288 with 1 Axes>"
      ]
     },
     "metadata": {
      "needs_background": "light"
     },
     "output_type": "display_data"
    }
   ],
   "source": [
    "arima.plot_predict(85, 100, dynamic=True);"
   ]
  },
  {
   "cell_type": "code",
   "execution_count": 20,
   "id": "d9441fe7",
   "metadata": {},
   "outputs": [
    {
     "name": "stderr",
     "output_type": "stream",
     "text": [
      "/home/juliend/.pyenv/versions/3.8.6/envs/usmarket/lib/python3.8/site-packages/statsmodels/tsa/arima_model.py:472: FutureWarning: \n",
      "statsmodels.tsa.arima_model.ARMA and statsmodels.tsa.arima_model.ARIMA have\n",
      "been deprecated in favor of statsmodels.tsa.arima.model.ARIMA (note the .\n",
      "between arima and model) and\n",
      "statsmodels.tsa.SARIMAX. These will be removed after the 0.12 release.\n",
      "\n",
      "statsmodels.tsa.arima.model.ARIMA makes use of the statespace framework and\n",
      "is both well tested and maintained.\n",
      "\n",
      "To silence this warning and continue using ARMA and ARIMA until they are\n",
      "removed, use:\n",
      "\n",
      "import warnings\n",
      "warnings.filterwarnings('ignore', 'statsmodels.tsa.arima_model.ARMA',\n",
      "                        FutureWarning)\n",
      "warnings.filterwarnings('ignore', 'statsmodels.tsa.arima_model.ARIMA',\n",
      "                        FutureWarning)\n",
      "\n",
      "  warnings.warn(ARIMA_DEPRECATION_WARN, FutureWarning)\n",
      "/home/juliend/.pyenv/versions/3.8.6/envs/usmarket/lib/python3.8/site-packages/statsmodels/tsa/arima_model.py:472: FutureWarning: \n",
      "statsmodels.tsa.arima_model.ARMA and statsmodels.tsa.arima_model.ARIMA have\n",
      "been deprecated in favor of statsmodels.tsa.arima.model.ARIMA (note the .\n",
      "between arima and model) and\n",
      "statsmodels.tsa.SARIMAX. These will be removed after the 0.12 release.\n",
      "\n",
      "statsmodels.tsa.arima.model.ARIMA makes use of the statespace framework and\n",
      "is both well tested and maintained.\n",
      "\n",
      "To silence this warning and continue using ARMA and ARIMA until they are\n",
      "removed, use:\n",
      "\n",
      "import warnings\n",
      "warnings.filterwarnings('ignore', 'statsmodels.tsa.arima_model.ARMA',\n",
      "                        FutureWarning)\n",
      "warnings.filterwarnings('ignore', 'statsmodels.tsa.arima_model.ARIMA',\n",
      "                        FutureWarning)\n",
      "\n",
      "  warnings.warn(ARIMA_DEPRECATION_WARN, FutureWarning)\n"
     ]
    }
   ],
   "source": [
    "y_train = y[:80]\n",
    "y_test = y[80:]\n",
    "arima = ARIMA(y_train, order=(1, 1, 1)).fit()"
   ]
  },
  {
   "cell_type": "code",
   "execution_count": 21,
   "id": "64d81207",
   "metadata": {},
   "outputs": [],
   "source": [
    "(forecast, stderr, conf_int) = arima.forecast(20, alpha=0.05)"
   ]
  },
  {
   "cell_type": "code",
   "execution_count": 22,
   "id": "786ccc02",
   "metadata": {},
   "outputs": [],
   "source": [
    "forecast = pd.Series(forecast, name='forecast')\n",
    "stderr = pd.Series(stderr)\n",
    "conf_int = pd.DataFrame(conf_int, columns=['low', 'high'])"
   ]
  },
  {
   "cell_type": "code",
   "execution_count": 23,
   "id": "0ca35052",
   "metadata": {},
   "outputs": [
    {
     "data": {
      "text/plain": [
       "<matplotlib.legend.Legend at 0x7f2745180d60>"
      ]
     },
     "execution_count": 23,
     "metadata": {},
     "output_type": "execute_result"
    },
    {
     "data": {
      "image/png": "[encoded data removed]",
      "text/plain": [
       "<Figure size 432x288 with 1 Axes>"
      ]
     },
     "metadata": {
      "needs_background": "light"
     },
     "output_type": "display_data"
    }
   ],
   "source": [
    "plt.plot(forecast, c='orange')\n",
    "plt.plot(conf_int['low'], label='low', c='grey', ls='--')\n",
    "plt.plot(conf_int['high'], label='high', c='grey', ls='--')\n",
    "plt.legend()"
   ]
  },
  {
   "cell_type": "code",
   "execution_count": 24,
   "id": "27d01777",
   "metadata": {},
   "outputs": [],
   "source": [
    "forecast.index = y_test.index\n",
    "conf_int.index = y_test.index"
   ]
  },
  {
   "cell_type": "code",
   "execution_count": 25,
   "id": "185ca734",
   "metadata": {},
   "outputs": [
    {
     "data": {
      "text/plain": [
       "<matplotlib.collections.PolyCollection at 0x7f274508ec40>"
      ]
     },
     "execution_count": 25,
     "metadata": {},
     "output_type": "execute_result"
    },
    {
     "data": {
      "image/png": "[encoded data removed]",
      "text/plain": [
       "<Figure size 1080x360 with 1 Axes>"
      ]
     },
     "metadata": {
      "needs_background": "light"
     },
     "output_type": "display_data"
    }
   ],
   "source": [
    "plt.figure(figsize=(15,5))\n",
    "plt.plot(forecast, c='orange')\n",
    "plt.plot(conf_int['low'], label='low', c='orange', ls='--')\n",
    "plt.plot(conf_int['high'], label='high', c='orange', ls='--')\n",
    "plt.plot(y_train, c='blue')\n",
    "plt.plot(y_test, c='blue')\n",
    "plt.legend()\n",
    "plt.fill_between(y_test.index, conf_int['low'], conf_int['high'], color='k', alpha=.15)"
   ]
  },
  {
   "cell_type": "code",
   "execution_count": 26,
   "id": "e21f670a",
   "metadata": {},
   "outputs": [
    {
     "data": {
      "text/plain": [
       "<AxesSubplot:title={'center':'Residuals'}>"
      ]
     },
     "execution_count": 26,
     "metadata": {},
     "output_type": "execute_result"
    },
    {
     "data": {
      "image/png": "[encoded data removed]",
      "text/plain": [
       "<Figure size 432x288 with 1 Axes>"
      ]
     },
     "metadata": {
      "needs_background": "light"
     },
     "output_type": "display_data"
    }
   ],
   "source": [
    "residuals = pd.DataFrame(arima.resid)\n",
    "residuals.plot(title=\"Residuals\")"
   ]
  },
  {
   "cell_type": "code",
   "execution_count": 27,
   "id": "71ab009a",
   "metadata": {},
   "outputs": [
    {
     "data": {
      "text/plain": [
       "<AxesSubplot:title={'center':'Residual density'}, ylabel='Density'>"
      ]
     },
     "execution_count": 27,
     "metadata": {},
     "output_type": "execute_result"
    },
    {
     "data": {
      "image/png": "[encoded data removed]",
      "text/plain": [
       "<Figure size 432x288 with 1 Axes>"
      ]
     },
     "metadata": {
      "needs_background": "light"
     },
     "output_type": "display_data"
    }
   ],
   "source": [
    "residuals.plot(kind='kde', title='Residual density')"
   ]
  },
  {
   "cell_type": "code",
   "execution_count": 28,
   "id": "d6155c1d",
   "metadata": {},
   "outputs": [],
   "source": [
    "import numpy as np\n",
    "from statsmodels.tsa.stattools import acf\n",
    "def forecast_accuracy(y_pred: pd.Series, y_true: pd.Series) -> float:\n",
    "    \n",
    "    mape = np.mean(np.abs(y_pred - y_true)/np.abs(y_true))  # Mean Absolute Percentage Error\n",
    "    me = np.mean(y_pred - y_true)             # ME\n",
    "    mae = np.mean(np.abs(y_pred - y_true))    # MAE\n",
    "    mpe = np.mean((y_pred - y_true)/y_true)   # MPE\n",
    "    rmse = np.mean((y_pred - y_true)**2)**.5  # RMSE\n",
    "    corr = np.corrcoef(y_pred, y_true)[0,1]   # Correlation between the Actual and the Forecast\n",
    "    mins = np.amin(np.hstack([y_pred.values.reshape(-1,1), y_true.values.reshape(-1,1)]), axis=1)\n",
    "    maxs = np.amax(np.hstack([y_pred.values.reshape(-1,1), y_true.values.reshape(-1,1)]), axis=1)\n",
    "    minmax = 1 - np.mean(mins/maxs)             # minmax\n",
    "    acf1 = acf(y_pred-y_true, fft=False)[1]                      # Lag 1 Autocorrelation of Error\n",
    "    return({'mape':mape, 'me':me, 'mae': mae, \n",
    "            'mpe': mpe, 'rmse':rmse, 'acf1':acf1, \n",
    "            'corr':corr, 'minmax':minmax})"
   ]
  },
  {
   "cell_type": "code",
   "execution_count": 29,
   "id": "5a5cfc55",
   "metadata": {},
   "outputs": [
    {
     "data": {
      "text/plain": [
       "(80    85.734757\n",
       " 81    85.923403\n",
       " 82    86.092819\n",
       " 83    86.251995\n",
       " 84    86.405719\n",
       " 85    86.556538\n",
       " 86    86.705811\n",
       " 87    86.854261\n",
       " 88    87.002272\n",
       " 89    87.150050\n",
       " 90    87.297704\n",
       " 91    87.445291\n",
       " 92    87.592843\n",
       " 93    87.740376\n",
       " 94    87.887899\n",
       " 95    88.035417\n",
       " 96    88.182932\n",
       " 97    88.330445\n",
       " 98    88.477958\n",
       " 99    88.625470\n",
       " Name: forecast, dtype: float64,\n",
       " 80    85.40\n",
       " 81    85.71\n",
       " 82    85.72\n",
       " 83    85.54\n",
       " 84    85.95\n",
       " 85    86.35\n",
       " 86    87.11\n",
       " 87    88.19\n",
       " 88    88.28\n",
       " 89    88.22\n",
       " 90    87.82\n",
       " 91    88.08\n",
       " 92    89.60\n",
       " 93    88.35\n",
       " 94    90.14\n",
       " 95    90.10\n",
       " 96    90.00\n",
       " 97    91.61\n",
       " 98    91.90\n",
       " 99    92.49\n",
       " Name: close_adjusted, dtype: float64)"
      ]
     },
     "execution_count": 29,
     "metadata": {},
     "output_type": "execute_result"
    }
   ],
   "source": [
    "forecast, y_test"
   ]
  },
  {
   "cell_type": "code",
   "execution_count": 30,
   "id": "ef5e9075",
   "metadata": {},
   "outputs": [
    {
     "name": "stderr",
     "output_type": "stream",
     "text": [
      "/home/juliend/.pyenv/versions/3.8.6/envs/usmarket/lib/python3.8/site-packages/statsmodels/tsa/stattools.py:657: FutureWarning: The default number of lags is changing from 40 tomin(int(10 * np.log10(nobs)), nobs - 1) after 0.12is released. Set the number of lags to an integer to  silence this warning.\n",
      "  warnings.warn(\n"
     ]
    },
    {
     "data": {
      "text/plain": [
       "{'mape': 0.014926330376450858,\n",
       " 'me': -1.1133020249239358,\n",
       " 'mae': 1.3428251139969227,\n",
       " 'mpe': -0.012248679873274293,\n",
       " 'rmse': 1.7448701191864282,\n",
       " 'acf1': 0.7156052451280671,\n",
       " 'corr': 0.9643351384478659,\n",
       " 'minmax': 0.014919195148275888}"
      ]
     },
     "execution_count": 30,
     "metadata": {},
     "output_type": "execute_result"
    }
   ],
   "source": [
    "forecast_accuracy(forecast, y_test)"
   ]
  },
  {
   "cell_type": "code",
   "execution_count": 31,
   "id": "8e60123c",
   "metadata": {},
   "outputs": [
    {
     "name": "stdout",
     "output_type": "stream",
     "text": [
      "Performing stepwise search to minimize aic\n",
      " ARIMA(0,1,0)(0,0,0)[0] intercept   : AIC=212.004, Time=0.03 sec\n",
      " ARIMA(1,1,0)(0,0,0)[0] intercept   : AIC=213.304, Time=0.02 sec\n",
      " ARIMA(0,1,1)(0,0,0)[0] intercept   : AIC=212.927, Time=0.03 sec\n",
      " ARIMA(0,1,0)(0,0,0)[0]             : AIC=211.901, Time=0.01 sec\n",
      " ARIMA(1,1,1)(0,0,0)[0] intercept   : AIC=213.974, Time=0.04 sec\n",
      "\n",
      "Best model:  ARIMA(0,1,0)(0,0,0)[0]          \n",
      "Total fit time: 0.126 seconds\n",
      "                               SARIMAX Results                                \n",
      "==============================================================================\n",
      "Dep. Variable:                      y   No. Observations:                   80\n",
      "Model:               SARIMAX(0, 1, 0)   Log Likelihood                -104.950\n",
      "Date:                Thu, 10 Jun 2021   AIC                            211.901\n",
      "Time:                        12:15:22   BIC                            214.270\n",
      "Sample:                             0   HQIC                           212.850\n",
      "                                 - 80                                         \n",
      "Covariance Type:                  opg                                         \n",
      "==============================================================================\n",
      "                 coef    std err          z      P>|z|      [0.025      0.975]\n",
      "------------------------------------------------------------------------------\n",
      "sigma2         0.8345      0.051     16.260      0.000       0.734       0.935\n",
      "===================================================================================\n",
      "Ljung-Box (L1) (Q):                   0.72   Jarque-Bera (JB):               428.96\n",
      "Prob(Q):                              0.40   Prob(JB):                         0.00\n",
      "Heteroskedasticity (H):               3.51   Skew:                             1.48\n",
      "Prob(H) (two-sided):                  0.00   Kurtosis:                        14.02\n",
      "===================================================================================\n",
      "\n",
      "Warnings:\n",
      "[1] Covariance matrix calculated using the outer product of gradients (complex-step).\n"
     ]
    }
   ],
   "source": [
    "import pmdarima as pm\n",
    "\n",
    "model = pm.auto_arima(y_train, \n",
    "                      start_p=0, max_p=3,\n",
    "                      start_q=0, max_q=3, \n",
    "                      d=None,           # let model determine 'd'\n",
    "                      test='adf',       # using adftest to find optimal 'd'\n",
    "                      trace=True, error_action='ignore',  suppress_warnings=True)\n",
    "print(model.summary())"
   ]
  },
  {
   "cell_type": "code",
   "execution_count": 32,
   "id": "07af947e",
   "metadata": {},
   "outputs": [
    {
     "name": "stdout",
     "output_type": "stream",
     "text": [
      "[73.45086841 73.40373683 73.35660524 73.30947365 73.26234207 73.21521048\n",
      " 73.16807889 73.12094731 73.07381572 73.02668413 72.97955255 72.93242096\n",
      " 72.88528937 72.83815779 72.7910262  72.74389461]\n",
      "[78.52794571 78.64279143 78.75763714 78.87248286 78.98732857 79.10217429\n",
      " 79.21702    79.33186571 79.44671143 79.56155714 79.67640286 79.79124857\n",
      " 79.90609429 80.02094    80.13578571 80.25063143]\n",
      "[83.68600196 83.86470392 84.04340588 84.22210784 84.4008098  84.57951176\n",
      " 84.75821373 84.93691569 85.11561765 85.29431961 85.47302157 85.65172353\n",
      " 85.83042549 86.00912745 86.18782941 86.36653137]\n",
      "[82.90517164 83.03034328 83.15551493 83.28068657 83.40585821 83.53102985\n",
      " 83.65620149 83.78137313 83.90654478 84.03171642 84.15688806 84.2820597\n",
      " 84.40723134 84.53240299 84.65757463 84.78274627]\n",
      "[85.67429518 85.80859036 85.94288554 86.07718072 86.2114759  86.34577108\n",
      " 86.48006627 86.61436145 86.74865663 86.88295181 87.01724699 87.15154217\n",
      " 87.28583735 87.42013253 87.55442771 87.68872289]\n"
     ]
    },
    {
     "name": "stderr",
     "output_type": "stream",
     "text": [
      "/home/juliend/.pyenv/versions/3.8.6/envs/usmarket/lib/python3.8/site-packages/statsmodels/tsa/arima_model.py:472: FutureWarning: \n",
      "statsmodels.tsa.arima_model.ARMA and statsmodels.tsa.arima_model.ARIMA have\n",
      "been deprecated in favor of statsmodels.tsa.arima.model.ARIMA (note the .\n",
      "between arima and model) and\n",
      "statsmodels.tsa.SARIMAX. These will be removed after the 0.12 release.\n",
      "\n",
      "statsmodels.tsa.arima.model.ARIMA makes use of the statespace framework and\n",
      "is both well tested and maintained.\n",
      "\n",
      "To silence this warning and continue using ARMA and ARIMA until they are\n",
      "removed, use:\n",
      "\n",
      "import warnings\n",
      "warnings.filterwarnings('ignore', 'statsmodels.tsa.arima_model.ARMA',\n",
      "                        FutureWarning)\n",
      "warnings.filterwarnings('ignore', 'statsmodels.tsa.arima_model.ARIMA',\n",
      "                        FutureWarning)\n",
      "\n",
      "  warnings.warn(ARIMA_DEPRECATION_WARN, FutureWarning)\n"
     ]
    },
    {
     "name": "stdout",
     "output_type": "stream",
     "text": [
      "[73.42820318 73.38719505 73.34618691 73.30517877 73.26417063 73.22316249\n",
      " 73.18215435 73.14114621 73.10013807 73.05912993 73.01812179 72.97711365\n",
      " 72.93610551 72.89509737 72.85408923 72.81308109]\n",
      "[78.48256832 78.59770614 78.71284395 78.82798177 78.94311958 79.0582574\n",
      " 79.17339521 79.28853302 79.40367084 79.51880865 79.63394647 79.74908428\n",
      " 79.8642221  79.97935991 80.09449773 80.20963554]\n",
      "[83.69273887 83.87239899 84.05205911 84.23171923 84.41137934 84.59103946\n",
      " 84.77069958 84.9503597  85.13001982 85.30967994 85.48934006 85.66900018\n",
      " 85.8486603  86.02832042 86.20798054 86.38764065]\n",
      "[82.75186091 82.87696955 83.0020782  83.12718684 83.25229548 83.37740412\n",
      " 83.50251277 83.62762141 83.75273005 83.87783869 84.00294734 84.12805598\n",
      " 84.25316462 84.37827327 84.50338191 84.62849055]\n",
      "[85.72331563 85.8599253  85.99653498 86.13314466 86.26975433 86.40636401\n",
      " 86.54297368 86.67958336 86.81619304 86.95280271 87.08941239 87.22602206\n",
      " 87.36263174 87.49924142 87.63585109 87.77246077]\n",
      "[73.7717617  73.85426838 73.8073474  73.76042641 73.71350543 73.66658445\n",
      " 73.61966347 73.57274249 73.5258215  73.47890052 73.43197954 73.38505856\n",
      " 73.33813757 73.29121659 73.24429561 73.19737463]\n",
      "[78.56209732 78.83322273 78.94554963 79.05787653 79.17020343 79.28253032\n",
      " 79.39485722 79.50718412 79.61951102 79.73183792 79.84416482 79.95649172\n",
      " 80.06881862 80.18114552 80.29347242 80.40579932]\n",
      "[83.75860278 83.97313995 84.1585677  84.34399546 84.52942321 84.71485097\n",
      " 84.90027872 85.08570648 85.27113423 85.45656199 85.64198974 85.8274175\n",
      " 86.01284525 86.19827301 86.38370076 86.56912852]\n",
      "[82.85327727 82.89225198 83.02017239 83.1480928  83.2760132  83.40393361\n",
      " 83.53185402 83.65977443 83.78769483 83.91561524 84.04353565 84.17145605\n",
      " 84.29937646 84.42729687 84.55521727 84.68313768]\n",
      "[85.73813573 85.93393754 86.07367849 86.21341944 86.3531604  86.49290135\n",
      " 86.6326423  86.77238325 86.91212421 87.05186516 87.19160611 87.33134707\n",
      " 87.47108802 87.61082897 87.75056992 87.89031088]\n",
      "[73.44390621 73.40770754 73.367181   73.32770115 73.28796815 73.24829638\n",
      " 73.2086098  73.1689268  73.12924294 73.08955928 73.04987557 73.01019188\n",
      " 72.97050818 72.93082449 72.89114079 72.8514571 ]\n",
      "[78.46907577 78.58873557 78.70356448 78.81875984 78.9339274  79.04909707\n",
      " 79.16426659 79.27943611 79.39460563 79.50977516 79.62494468 79.7401142\n",
      " 79.85528373 79.97045325 80.08562277 80.20079229]\n",
      "[83.69015914 83.8693886  84.04872503 84.2280583  84.40739167 84.58672503\n",
      " 84.7660584  84.94539176 85.12472513 85.30405849 85.48339186 85.66272522\n",
      " 85.84205859 86.02139195 86.20072532 86.38005868]\n",
      "[82.81078663 82.94416045 83.06845559 83.19355417 83.31858165 83.44361542\n",
      " 83.56864863 83.6936819  83.81871515 83.94374841 84.06878167 84.19381493\n",
      " 84.31884819 84.44388145 84.56891471 84.69394796]\n",
      "[85.70517183 85.83801632 85.97388845 86.10947702 86.24509215 86.3807048\n",
      " 86.51631767 86.65193053 86.78754339 86.92315624 87.0587691  87.19438195\n",
      " 87.32999481 87.46560767 87.60122052 87.73683338]\n",
      "[73.45713636 73.41600629 73.37509588 73.33400437 73.29306218 73.25199688\n",
      " 73.21103307 73.16998558 73.12900709 73.08797172 73.04698324 73.00595609\n",
      " 72.96496083 72.92393928 72.8829394  72.84192166]\n"
     ]
    },
    {
     "name": "stderr",
     "output_type": "stream",
     "text": [
      "/home/juliend/.pyenv/versions/3.8.6/envs/usmarket/lib/python3.8/site-packages/statsmodels/tsa/arima_model.py:472: FutureWarning: \n",
      "statsmodels.tsa.arima_model.ARMA and statsmodels.tsa.arima_model.ARIMA have\n",
      "been deprecated in favor of statsmodels.tsa.arima.model.ARIMA (note the .\n",
      "between arima and model) and\n",
      "statsmodels.tsa.SARIMAX. These will be removed after the 0.12 release.\n",
      "\n",
      "statsmodels.tsa.arima.model.ARIMA makes use of the statespace framework and\n",
      "is both well tested and maintained.\n",
      "\n",
      "To silence this warning and continue using ARMA and ARIMA until they are\n",
      "removed, use:\n",
      "\n",
      "import warnings\n",
      "warnings.filterwarnings('ignore', 'statsmodels.tsa.arima_model.ARMA',\n",
      "                        FutureWarning)\n",
      "warnings.filterwarnings('ignore', 'statsmodels.tsa.arima_model.ARIMA',\n",
      "                        FutureWarning)\n",
      "\n",
      "  warnings.warn(ARIMA_DEPRECATION_WARN, FutureWarning)\n",
      "/home/juliend/.pyenv/versions/3.8.6/envs/usmarket/lib/python3.8/site-packages/statsmodels/tsa/arima_model.py:472: FutureWarning: \n",
      "statsmodels.tsa.arima_model.ARMA and statsmodels.tsa.arima_model.ARIMA have\n",
      "been deprecated in favor of statsmodels.tsa.arima.model.ARIMA (note the .\n",
      "between arima and model) and\n",
      "statsmodels.tsa.SARIMAX. These will be removed after the 0.12 release.\n",
      "\n",
      "statsmodels.tsa.arima.model.ARIMA makes use of the statespace framework and\n",
      "is both well tested and maintained.\n",
      "\n",
      "To silence this warning and continue using ARMA and ARIMA until they are\n",
      "removed, use:\n",
      "\n",
      "import warnings\n",
      "warnings.filterwarnings('ignore', 'statsmodels.tsa.arima_model.ARMA',\n",
      "                        FutureWarning)\n",
      "warnings.filterwarnings('ignore', 'statsmodels.tsa.arima_model.ARIMA',\n",
      "                        FutureWarning)\n",
      "\n",
      "  warnings.warn(ARIMA_DEPRECATION_WARN, FutureWarning)\n",
      "/home/juliend/.pyenv/versions/3.8.6/envs/usmarket/lib/python3.8/site-packages/statsmodels/tsa/arima_model.py:472: FutureWarning: \n",
      "statsmodels.tsa.arima_model.ARMA and statsmodels.tsa.arima_model.ARIMA have\n",
      "been deprecated in favor of statsmodels.tsa.arima.model.ARIMA (note the .\n",
      "between arima and model) and\n",
      "statsmodels.tsa.SARIMAX. These will be removed after the 0.12 release.\n",
      "\n",
      "statsmodels.tsa.arima.model.ARIMA makes use of the statespace framework and\n",
      "is both well tested and maintained.\n",
      "\n",
      "To silence this warning and continue using ARMA and ARIMA until they are\n",
      "removed, use:\n",
      "\n",
      "import warnings\n",
      "warnings.filterwarnings('ignore', 'statsmodels.tsa.arima_model.ARMA',\n",
      "                        FutureWarning)\n",
      "warnings.filterwarnings('ignore', 'statsmodels.tsa.arima_model.ARIMA',\n",
      "                        FutureWarning)\n",
      "\n",
      "  warnings.warn(ARIMA_DEPRECATION_WARN, FutureWarning)\n",
      "/home/juliend/.pyenv/versions/3.8.6/envs/usmarket/lib/python3.8/site-packages/statsmodels/tsa/arima_model.py:472: FutureWarning: \n",
      "statsmodels.tsa.arima_model.ARMA and statsmodels.tsa.arima_model.ARIMA have\n",
      "been deprecated in favor of statsmodels.tsa.arima.model.ARIMA (note the .\n",
      "between arima and model) and\n",
      "statsmodels.tsa.SARIMAX. These will be removed after the 0.12 release.\n",
      "\n",
      "statsmodels.tsa.arima.model.ARIMA makes use of the statespace framework and\n",
      "is both well tested and maintained.\n",
      "\n",
      "To silence this warning and continue using ARMA and ARIMA until they are\n",
      "removed, use:\n",
      "\n",
      "import warnings\n",
      "warnings.filterwarnings('ignore', 'statsmodels.tsa.arima_model.ARMA',\n",
      "                        FutureWarning)\n",
      "warnings.filterwarnings('ignore', 'statsmodels.tsa.arima_model.ARIMA',\n",
      "                        FutureWarning)\n",
      "\n",
      "  warnings.warn(ARIMA_DEPRECATION_WARN, FutureWarning)\n"
     ]
    },
    {
     "name": "stdout",
     "output_type": "stream",
     "text": [
      "[78.46944145 78.63915079 78.70889859 78.86678695 78.94695783 79.09565569\n",
      " 79.18393025 79.32548274 79.4200577  79.55605485 79.65552819 79.78720621\n",
      " 79.89048793 80.01880793 80.12505056 80.2507598 ]\n",
      "[83.74558156 83.95890393 84.15910323 84.35240269 84.54207435 84.72983858\n",
      " 84.91659992 85.10283396 85.28879075 85.47460178 85.66033616 85.84603025\n",
      " 86.03170315 86.21736491 86.40302081 86.58867363]\n",
      "[82.85687085 82.96551064 83.08622471 83.21152781 83.33857503 83.46628513\n",
      " 83.59424718 83.72230497 83.85039916 83.97850718 84.10662046 84.23473574\n",
      " 84.36285177 84.4909681  84.61908453 84.74720101]\n",
      "[85.74689809 85.92049002 86.07736188 86.22584005 86.37010449 86.5122536\n",
      " 86.65334077 86.79389485 86.9341813  87.07433341 87.21441807 87.35446887\n",
      " 87.49450267 87.63452795 87.77454893 87.91456777]\n",
      "[74.09564464 74.55372088 74.67190442 74.67387943 74.63612298 74.58478245\n",
      " 74.52879755 74.47122475 74.41310904 74.35480773 74.29644294 74.23805647\n",
      " 74.17966257 74.12126614 74.06286884 74.00447124]\n"
     ]
    },
    {
     "name": "stderr",
     "output_type": "stream",
     "text": [
      "/home/juliend/.pyenv/versions/3.8.6/envs/usmarket/lib/python3.8/site-packages/statsmodels/tsa/arima_model.py:472: FutureWarning: \n",
      "statsmodels.tsa.arima_model.ARMA and statsmodels.tsa.arima_model.ARIMA have\n",
      "been deprecated in favor of statsmodels.tsa.arima.model.ARIMA (note the .\n",
      "between arima and model) and\n",
      "statsmodels.tsa.SARIMAX. These will be removed after the 0.12 release.\n",
      "\n",
      "statsmodels.tsa.arima.model.ARIMA makes use of the statespace framework and\n",
      "is both well tested and maintained.\n",
      "\n",
      "To silence this warning and continue using ARMA and ARIMA until they are\n",
      "removed, use:\n",
      "\n",
      "import warnings\n",
      "warnings.filterwarnings('ignore', 'statsmodels.tsa.arima_model.ARMA',\n",
      "                        FutureWarning)\n",
      "warnings.filterwarnings('ignore', 'statsmodels.tsa.arima_model.ARIMA',\n",
      "                        FutureWarning)\n",
      "\n",
      "  warnings.warn(ARIMA_DEPRECATION_WARN, FutureWarning)\n",
      "/home/juliend/.pyenv/versions/3.8.6/envs/usmarket/lib/python3.8/site-packages/statsmodels/tsa/arima_model.py:472: FutureWarning: \n",
      "statsmodels.tsa.arima_model.ARMA and statsmodels.tsa.arima_model.ARIMA have\n",
      "been deprecated in favor of statsmodels.tsa.arima.model.ARIMA (note the .\n",
      "between arima and model) and\n",
      "statsmodels.tsa.SARIMAX. These will be removed after the 0.12 release.\n",
      "\n",
      "statsmodels.tsa.arima.model.ARIMA makes use of the statespace framework and\n",
      "is both well tested and maintained.\n",
      "\n",
      "To silence this warning and continue using ARMA and ARIMA until they are\n",
      "removed, use:\n",
      "\n",
      "import warnings\n",
      "warnings.filterwarnings('ignore', 'statsmodels.tsa.arima_model.ARMA',\n",
      "                        FutureWarning)\n",
      "warnings.filterwarnings('ignore', 'statsmodels.tsa.arima_model.ARIMA',\n",
      "                        FutureWarning)\n",
      "\n",
      "  warnings.warn(ARIMA_DEPRECATION_WARN, FutureWarning)\n",
      "/home/juliend/.pyenv/versions/3.8.6/envs/usmarket/lib/python3.8/site-packages/statsmodels/tsa/arima_model.py:472: FutureWarning: \n",
      "statsmodels.tsa.arima_model.ARMA and statsmodels.tsa.arima_model.ARIMA have\n",
      "been deprecated in favor of statsmodels.tsa.arima.model.ARIMA (note the .\n",
      "between arima and model) and\n",
      "statsmodels.tsa.SARIMAX. These will be removed after the 0.12 release.\n",
      "\n",
      "statsmodels.tsa.arima.model.ARIMA makes use of the statespace framework and\n",
      "is both well tested and maintained.\n",
      "\n",
      "To silence this warning and continue using ARMA and ARIMA until they are\n",
      "removed, use:\n",
      "\n",
      "import warnings\n",
      "warnings.filterwarnings('ignore', 'statsmodels.tsa.arima_model.ARMA',\n",
      "                        FutureWarning)\n",
      "warnings.filterwarnings('ignore', 'statsmodels.tsa.arima_model.ARIMA',\n",
      "                        FutureWarning)\n",
      "\n",
      "  warnings.warn(ARIMA_DEPRECATION_WARN, FutureWarning)\n"
     ]
    },
    {
     "name": "stdout",
     "output_type": "stream",
     "text": [
      "[78.50814536 78.6998383  78.75556121 78.92015988 78.99757808 79.14480461\n",
      " 79.23613327 79.37222122 79.47246891 79.6014151  79.70738143 79.83174851\n",
      " 79.9413815  80.06281256 80.17479651 80.29434508]\n",
      "[83.77076812 83.99571175 84.18789099 84.37526554 84.56193551 84.74850216\n",
      " 84.93505366 85.12160293 85.30815188 85.49470078 85.68124968 85.86779857\n",
      " 86.05434746 86.24089636 86.42744525 86.61399414]\n",
      "[82.72502582 82.78892095 82.93032339 83.0524046  83.17930226 83.30499926\n",
      " 83.43099557 83.55691726 83.68285755 83.80879321 83.93473002 84.06066655\n",
      " 84.18660314 84.31253972 84.4384763  84.56441288]\n"
     ]
    },
    {
     "name": "stderr",
     "output_type": "stream",
     "text": [
      "/home/juliend/.pyenv/versions/3.8.6/envs/usmarket/lib/python3.8/site-packages/statsmodels/tsa/arima_model.py:472: FutureWarning: \n",
      "statsmodels.tsa.arima_model.ARMA and statsmodels.tsa.arima_model.ARIMA have\n",
      "been deprecated in favor of statsmodels.tsa.arima.model.ARIMA (note the .\n",
      "between arima and model) and\n",
      "statsmodels.tsa.SARIMAX. These will be removed after the 0.12 release.\n",
      "\n",
      "statsmodels.tsa.arima.model.ARIMA makes use of the statespace framework and\n",
      "is both well tested and maintained.\n",
      "\n",
      "To silence this warning and continue using ARMA and ARIMA until they are\n",
      "removed, use:\n",
      "\n",
      "import warnings\n",
      "warnings.filterwarnings('ignore', 'statsmodels.tsa.arima_model.ARMA',\n",
      "                        FutureWarning)\n",
      "warnings.filterwarnings('ignore', 'statsmodels.tsa.arima_model.ARIMA',\n",
      "                        FutureWarning)\n",
      "\n",
      "  warnings.warn(ARIMA_DEPRECATION_WARN, FutureWarning)\n",
      "/home/juliend/.pyenv/versions/3.8.6/envs/usmarket/lib/python3.8/site-packages/statsmodels/tsa/arima_model.py:472: FutureWarning: \n",
      "statsmodels.tsa.arima_model.ARMA and statsmodels.tsa.arima_model.ARIMA have\n",
      "been deprecated in favor of statsmodels.tsa.arima.model.ARIMA (note the .\n",
      "between arima and model) and\n",
      "statsmodels.tsa.SARIMAX. These will be removed after the 0.12 release.\n",
      "\n",
      "statsmodels.tsa.arima.model.ARIMA makes use of the statespace framework and\n",
      "is both well tested and maintained.\n",
      "\n",
      "To silence this warning and continue using ARMA and ARIMA until they are\n",
      "removed, use:\n",
      "\n",
      "import warnings\n",
      "warnings.filterwarnings('ignore', 'statsmodels.tsa.arima_model.ARMA',\n",
      "                        FutureWarning)\n",
      "warnings.filterwarnings('ignore', 'statsmodels.tsa.arima_model.ARIMA',\n",
      "                        FutureWarning)\n",
      "\n",
      "  warnings.warn(ARIMA_DEPRECATION_WARN, FutureWarning)\n",
      "/home/juliend/.pyenv/versions/3.8.6/envs/usmarket/lib/python3.8/site-packages/statsmodels/tsa/arima_model.py:472: FutureWarning: \n",
      "statsmodels.tsa.arima_model.ARMA and statsmodels.tsa.arima_model.ARIMA have\n",
      "been deprecated in favor of statsmodels.tsa.arima.model.ARIMA (note the .\n",
      "between arima and model) and\n",
      "statsmodels.tsa.SARIMAX. These will be removed after the 0.12 release.\n",
      "\n",
      "statsmodels.tsa.arima.model.ARIMA makes use of the statespace framework and\n",
      "is both well tested and maintained.\n",
      "\n",
      "To silence this warning and continue using ARMA and ARIMA until they are\n",
      "removed, use:\n",
      "\n",
      "import warnings\n",
      "warnings.filterwarnings('ignore', 'statsmodels.tsa.arima_model.ARMA',\n",
      "                        FutureWarning)\n",
      "warnings.filterwarnings('ignore', 'statsmodels.tsa.arima_model.ARIMA',\n",
      "                        FutureWarning)\n",
      "\n",
      "  warnings.warn(ARIMA_DEPRECATION_WARN, FutureWarning)\n"
     ]
    },
    {
     "name": "stdout",
     "output_type": "stream",
     "text": [
      "[85.74349123 85.92402743 86.0486078  86.19191557 86.32895562 86.46809336\n",
      " 86.60652904 86.74519969 86.8837917  87.02241003 87.16101955 87.29963202\n",
      " 87.4382435  87.57685531 87.71546701 87.85407875]\n",
      "[73.59634063 73.54316246 73.53407268 73.48069645 73.44537919 73.39626718\n",
      " 73.35383776 73.30693755 73.26240597 73.21639207 73.17120089 73.1255121\n",
      " 73.08010624 73.03453222 72.98905501 72.94352078]\n",
      "[78.51685385 78.76005654 78.86478994 78.99972198 79.11014061 79.2268198\n",
      " 79.3391127  79.45266802 79.56543122 79.67844427 79.79131315 79.90423085\n",
      " 80.01712213 80.13002286 80.24291873 80.35581641]\n",
      "[83.75371233 83.95351867 84.1283307  84.31071254 84.49639189 84.68086944\n",
      " 84.86491932 85.04915652 85.23344805 85.41771082 85.60196688 85.78622729\n",
      " 85.9704885  86.15474906 86.33900953 86.52327009]\n",
      "[82.70155796 82.61635605 82.80924091 82.97249115 83.07825641 83.19693242\n",
      " 83.3267324  83.45246503 83.57622059 83.70108663 83.82626069 83.9511575\n",
      " 84.07601797 84.20094314 84.325869   84.45078065]\n",
      "[85.73956369 85.93214487 86.05349897 86.18425336 86.32745666 86.46746494\n",
      " 86.60547339 86.7443148  86.88344123 87.02237729 87.16128086 87.30022423\n",
      " 87.43916925 87.57810653 87.71704438 87.85598363]\n",
      "[73.5305933  73.45485602 73.43884433 73.3754042  73.34586384 73.29141526\n",
      " 73.25513249 73.20557477 73.16571274 73.11876821 73.0769971  73.03144702\n",
      " 72.98865732 72.94385128 72.90051808 72.85610904]\n",
      "[78.51542047 78.71632824 78.77389173 78.93725347 79.01566109 79.16138001\n",
      " 79.25365677 79.38835073 79.48937639 79.61712579 79.72366357 79.84703779\n",
      " 79.9570483  80.07766609 80.18986449 80.30874567]\n"
     ]
    },
    {
     "name": "stderr",
     "output_type": "stream",
     "text": [
      "/home/juliend/.pyenv/versions/3.8.6/envs/usmarket/lib/python3.8/site-packages/statsmodels/tsa/arima_model.py:472: FutureWarning: \n",
      "statsmodels.tsa.arima_model.ARMA and statsmodels.tsa.arima_model.ARIMA have\n",
      "been deprecated in favor of statsmodels.tsa.arima.model.ARIMA (note the .\n",
      "between arima and model) and\n",
      "statsmodels.tsa.SARIMAX. These will be removed after the 0.12 release.\n",
      "\n",
      "statsmodels.tsa.arima.model.ARIMA makes use of the statespace framework and\n",
      "is both well tested and maintained.\n",
      "\n",
      "To silence this warning and continue using ARMA and ARIMA until they are\n",
      "removed, use:\n",
      "\n",
      "import warnings\n",
      "warnings.filterwarnings('ignore', 'statsmodels.tsa.arima_model.ARMA',\n",
      "                        FutureWarning)\n",
      "warnings.filterwarnings('ignore', 'statsmodels.tsa.arima_model.ARIMA',\n",
      "                        FutureWarning)\n",
      "\n",
      "  warnings.warn(ARIMA_DEPRECATION_WARN, FutureWarning)\n",
      "/home/juliend/.pyenv/versions/3.8.6/envs/usmarket/lib/python3.8/site-packages/statsmodels/tsa/arima_model.py:472: FutureWarning: \n",
      "statsmodels.tsa.arima_model.ARMA and statsmodels.tsa.arima_model.ARIMA have\n",
      "been deprecated in favor of statsmodels.tsa.arima.model.ARIMA (note the .\n",
      "between arima and model) and\n",
      "statsmodels.tsa.SARIMAX. These will be removed after the 0.12 release.\n",
      "\n",
      "statsmodels.tsa.arima.model.ARIMA makes use of the statespace framework and\n",
      "is both well tested and maintained.\n",
      "\n",
      "To silence this warning and continue using ARMA and ARIMA until they are\n",
      "removed, use:\n",
      "\n",
      "import warnings\n",
      "warnings.filterwarnings('ignore', 'statsmodels.tsa.arima_model.ARMA',\n",
      "                        FutureWarning)\n",
      "warnings.filterwarnings('ignore', 'statsmodels.tsa.arima_model.ARIMA',\n",
      "                        FutureWarning)\n",
      "\n",
      "  warnings.warn(ARIMA_DEPRECATION_WARN, FutureWarning)\n",
      "/home/juliend/.pyenv/versions/3.8.6/envs/usmarket/lib/python3.8/site-packages/statsmodels/tsa/arima_model.py:472: FutureWarning: \n",
      "statsmodels.tsa.arima_model.ARMA and statsmodels.tsa.arima_model.ARIMA have\n",
      "been deprecated in favor of statsmodels.tsa.arima.model.ARIMA (note the .\n",
      "between arima and model) and\n",
      "statsmodels.tsa.SARIMAX. These will be removed after the 0.12 release.\n",
      "\n",
      "statsmodels.tsa.arima.model.ARIMA makes use of the statespace framework and\n",
      "is both well tested and maintained.\n",
      "\n",
      "To silence this warning and continue using ARMA and ARIMA until they are\n",
      "removed, use:\n",
      "\n",
      "import warnings\n",
      "warnings.filterwarnings('ignore', 'statsmodels.tsa.arima_model.ARMA',\n",
      "                        FutureWarning)\n",
      "warnings.filterwarnings('ignore', 'statsmodels.tsa.arima_model.ARIMA',\n",
      "                        FutureWarning)\n",
      "\n",
      "  warnings.warn(ARIMA_DEPRECATION_WARN, FutureWarning)\n"
     ]
    },
    {
     "name": "stdout",
     "output_type": "stream",
     "text": [
      "[83.7886131  84.01366607 84.19492175 84.3751612  84.56152089 84.74930624\n",
      " 84.93650455 85.12337408 85.31025979 85.49719641 85.68414134 85.87108064\n",
      " 86.05801756 86.2449548  86.43189245 86.61883014]\n",
      "[82.57924503 82.54360739 82.78916885 82.91527239 83.00914887 83.14045856\n",
      " 83.26866787 83.38892396 83.512188   83.63646961 83.75974967 83.88307601\n",
      " 84.00662563 84.13010043 84.25354392 84.37701403]\n",
      "[85.74799464 85.9258129  86.0313577  86.17426164 86.31712923 86.4518174\n",
      " 86.58999247 86.72847865 86.86606765 87.00397    87.14193587 87.27980599\n",
      " 87.4177029  87.55560942 87.69350598 87.83140467]\n"
     ]
    },
    {
     "name": "stderr",
     "output_type": "stream",
     "text": [
      "/home/juliend/.pyenv/versions/3.8.6/envs/usmarket/lib/python3.8/site-packages/statsmodels/tsa/arima_model.py:472: FutureWarning: \n",
      "statsmodels.tsa.arima_model.ARMA and statsmodels.tsa.arima_model.ARIMA have\n",
      "been deprecated in favor of statsmodels.tsa.arima.model.ARIMA (note the .\n",
      "between arima and model) and\n",
      "statsmodels.tsa.SARIMAX. These will be removed after the 0.12 release.\n",
      "\n",
      "statsmodels.tsa.arima.model.ARIMA makes use of the statespace framework and\n",
      "is both well tested and maintained.\n",
      "\n",
      "To silence this warning and continue using ARMA and ARIMA until they are\n",
      "removed, use:\n",
      "\n",
      "import warnings\n",
      "warnings.filterwarnings('ignore', 'statsmodels.tsa.arima_model.ARMA',\n",
      "                        FutureWarning)\n",
      "warnings.filterwarnings('ignore', 'statsmodels.tsa.arima_model.ARIMA',\n",
      "                        FutureWarning)\n",
      "\n",
      "  warnings.warn(ARIMA_DEPRECATION_WARN, FutureWarning)\n",
      "/home/juliend/.pyenv/versions/3.8.6/envs/usmarket/lib/python3.8/site-packages/statsmodels/tsa/arima_model.py:472: FutureWarning: \n",
      "statsmodels.tsa.arima_model.ARMA and statsmodels.tsa.arima_model.ARIMA have\n",
      "been deprecated in favor of statsmodels.tsa.arima.model.ARIMA (note the .\n",
      "between arima and model) and\n",
      "statsmodels.tsa.SARIMAX. These will be removed after the 0.12 release.\n",
      "\n",
      "statsmodels.tsa.arima.model.ARIMA makes use of the statespace framework and\n",
      "is both well tested and maintained.\n",
      "\n",
      "To silence this warning and continue using ARMA and ARIMA until they are\n",
      "removed, use:\n",
      "\n",
      "import warnings\n",
      "warnings.filterwarnings('ignore', 'statsmodels.tsa.arima_model.ARMA',\n",
      "                        FutureWarning)\n",
      "warnings.filterwarnings('ignore', 'statsmodels.tsa.arima_model.ARIMA',\n",
      "                        FutureWarning)\n",
      "\n",
      "  warnings.warn(ARIMA_DEPRECATION_WARN, FutureWarning)\n",
      "/home/juliend/.pyenv/versions/3.8.6/envs/usmarket/lib/python3.8/site-packages/statsmodels/tsa/arima_model.py:472: FutureWarning: \n",
      "statsmodels.tsa.arima_model.ARMA and statsmodels.tsa.arima_model.ARIMA have\n",
      "been deprecated in favor of statsmodels.tsa.arima.model.ARIMA (note the .\n",
      "between arima and model) and\n",
      "statsmodels.tsa.SARIMAX. These will be removed after the 0.12 release.\n",
      "\n",
      "statsmodels.tsa.arima.model.ARIMA makes use of the statespace framework and\n",
      "is both well tested and maintained.\n",
      "\n",
      "To silence this warning and continue using ARMA and ARIMA until they are\n",
      "removed, use:\n",
      "\n",
      "import warnings\n",
      "warnings.filterwarnings('ignore', 'statsmodels.tsa.arima_model.ARMA',\n",
      "                        FutureWarning)\n",
      "warnings.filterwarnings('ignore', 'statsmodels.tsa.arima_model.ARIMA',\n",
      "                        FutureWarning)\n",
      "\n",
      "  warnings.warn(ARIMA_DEPRECATION_WARN, FutureWarning)\n",
      "/home/juliend/.pyenv/versions/3.8.6/envs/usmarket/lib/python3.8/site-packages/statsmodels/tsa/arima_model.py:472: FutureWarning: \n",
      "statsmodels.tsa.arima_model.ARMA and statsmodels.tsa.arima_model.ARIMA have\n",
      "been deprecated in favor of statsmodels.tsa.arima.model.ARIMA (note the .\n",
      "between arima and model) and\n",
      "statsmodels.tsa.SARIMAX. These will be removed after the 0.12 release.\n",
      "\n",
      "statsmodels.tsa.arima.model.ARIMA makes use of the statespace framework and\n",
      "is both well tested and maintained.\n",
      "\n",
      "To silence this warning and continue using ARMA and ARIMA until they are\n",
      "removed, use:\n",
      "\n",
      "import warnings\n",
      "warnings.filterwarnings('ignore', 'statsmodels.tsa.arima_model.ARMA',\n",
      "                        FutureWarning)\n",
      "warnings.filterwarnings('ignore', 'statsmodels.tsa.arima_model.ARIMA',\n",
      "                        FutureWarning)\n",
      "\n",
      "  warnings.warn(ARIMA_DEPRECATION_WARN, FutureWarning)\n"
     ]
    },
    {
     "name": "stdout",
     "output_type": "stream",
     "text": [
      "[73.98902736 74.38430338 74.39807082 74.29299498 74.20956741 74.15361582\n",
      " 74.10376219 74.05147979 73.99732183 73.94290626 73.88871254 73.8346402\n",
      " 73.78057375 73.72648912 73.67239709 73.61830547]\n",
      "[78.59328805 78.89744139 78.91464933 78.91455338 79.10886873 79.27063813\n",
      " 79.31071685 79.39996401 79.55886048 79.66934065 79.7445494  79.8598887\n",
      " 79.98955394 80.08933329 80.18637122 80.30387017]\n"
     ]
    },
    {
     "name": "stderr",
     "output_type": "stream",
     "text": [
      "/home/juliend/.pyenv/versions/3.8.6/envs/usmarket/lib/python3.8/site-packages/statsmodels/tsa/arima_model.py:472: FutureWarning: \n",
      "statsmodels.tsa.arima_model.ARMA and statsmodels.tsa.arima_model.ARIMA have\n",
      "been deprecated in favor of statsmodels.tsa.arima.model.ARIMA (note the .\n",
      "between arima and model) and\n",
      "statsmodels.tsa.SARIMAX. These will be removed after the 0.12 release.\n",
      "\n",
      "statsmodels.tsa.arima.model.ARIMA makes use of the statespace framework and\n",
      "is both well tested and maintained.\n",
      "\n",
      "To silence this warning and continue using ARMA and ARIMA until they are\n",
      "removed, use:\n",
      "\n",
      "import warnings\n",
      "warnings.filterwarnings('ignore', 'statsmodels.tsa.arima_model.ARMA',\n",
      "                        FutureWarning)\n",
      "warnings.filterwarnings('ignore', 'statsmodels.tsa.arima_model.ARIMA',\n",
      "                        FutureWarning)\n",
      "\n",
      "  warnings.warn(ARIMA_DEPRECATION_WARN, FutureWarning)\n",
      "/home/juliend/.pyenv/versions/3.8.6/envs/usmarket/lib/python3.8/site-packages/statsmodels/tsa/arima_model.py:472: FutureWarning: \n",
      "statsmodels.tsa.arima_model.ARMA and statsmodels.tsa.arima_model.ARIMA have\n",
      "been deprecated in favor of statsmodels.tsa.arima.model.ARIMA (note the .\n",
      "between arima and model) and\n",
      "statsmodels.tsa.SARIMAX. These will be removed after the 0.12 release.\n",
      "\n",
      "statsmodels.tsa.arima.model.ARIMA makes use of the statespace framework and\n",
      "is both well tested and maintained.\n",
      "\n",
      "To silence this warning and continue using ARMA and ARIMA until they are\n",
      "removed, use:\n",
      "\n",
      "import warnings\n",
      "warnings.filterwarnings('ignore', 'statsmodels.tsa.arima_model.ARMA',\n",
      "                        FutureWarning)\n",
      "warnings.filterwarnings('ignore', 'statsmodels.tsa.arima_model.ARIMA',\n",
      "                        FutureWarning)\n",
      "\n",
      "  warnings.warn(ARIMA_DEPRECATION_WARN, FutureWarning)\n"
     ]
    },
    {
     "name": "stdout",
     "output_type": "stream",
     "text": [
      "[84.11439425 84.62152206 84.82538331 84.75315714 84.61505294 84.63923774\n",
      " 84.91547234 85.35196044 85.76026267 85.99476197 86.04560347 86.02821317\n",
      " 86.08952871 86.3047845  86.63575166 86.97087895]\n",
      "[82.44521643 82.36700325 82.75838893 82.85914107 82.87453113 83.04573844\n",
      " 83.1924742  83.28294365 83.40558963 83.53949113 83.655441   83.77361044\n",
      " 83.89849519 84.01983562 84.13971783 84.26166226]\n",
      "[85.74744528 85.92489802 86.02728011 86.17040135 86.31485348 86.44826637\n",
      " 86.58619681 86.72497141 86.86221526 86.99991628 87.13780885 87.2754998\n",
      " 87.41323035 87.5509952  87.6887348  87.82647671]\n"
     ]
    },
    {
     "name": "stderr",
     "output_type": "stream",
     "text": [
      "/home/juliend/.pyenv/versions/3.8.6/envs/usmarket/lib/python3.8/site-packages/statsmodels/tsa/arima_model.py:472: FutureWarning: \n",
      "statsmodels.tsa.arima_model.ARMA and statsmodels.tsa.arima_model.ARIMA have\n",
      "been deprecated in favor of statsmodels.tsa.arima.model.ARIMA (note the .\n",
      "between arima and model) and\n",
      "statsmodels.tsa.SARIMAX. These will be removed after the 0.12 release.\n",
      "\n",
      "statsmodels.tsa.arima.model.ARIMA makes use of the statespace framework and\n",
      "is both well tested and maintained.\n",
      "\n",
      "To silence this warning and continue using ARMA and ARIMA until they are\n",
      "removed, use:\n",
      "\n",
      "import warnings\n",
      "warnings.filterwarnings('ignore', 'statsmodels.tsa.arima_model.ARMA',\n",
      "                        FutureWarning)\n",
      "warnings.filterwarnings('ignore', 'statsmodels.tsa.arima_model.ARIMA',\n",
      "                        FutureWarning)\n",
      "\n",
      "  warnings.warn(ARIMA_DEPRECATION_WARN, FutureWarning)\n"
     ]
    }
   ],
   "source": [
    "from sklearn.model_selection import TimeSeriesSplit\n",
    "from sklearn.metrics import r2_score\n",
    "import itertools\n",
    "\n",
    "range_p = [0,1,2]\n",
    "range_d = [1]\n",
    "range_q = [0,1,2]\n",
    "grid = itertools.product(range_p, range_d, range_q)\n",
    "orders = []\n",
    "r2s = []\n",
    "aics = []\n",
    "fold_idxs = []\n",
    "for (p,d,q) in grid:\n",
    "    order = (p,d,q)\n",
    "    folds = TimeSeriesSplit(n_splits=5)\n",
    "    for fold_idx, (train_idx, test_idx) in enumerate(folds.split(y)):\n",
    "        fold_idxs.append(fold_idx)\n",
    "        y_train = y[train_idx]\n",
    "        y_test = y[test_idx]\n",
    "        model = ARIMA(y_train, order=order).fit()\n",
    "        y_pred = model.forecast(len(y_test))[0]\n",
    "        print(y_pred)\n",
    "        orders.append(order)\n",
    "        aics.append(model.aic)\n",
    "        \n",
    "        \n",
    "results = pd.DataFrame(list(zip(fold_idxs, orders, aics)),#, r2s)), \n",
    "                   columns =['Fold', '(p,d,q)', 'AIC'])#, 'R2'])"
   ]
  },
  {
   "cell_type": "code",
   "execution_count": 33,
   "id": "b9eb99c7",
   "metadata": {},
   "outputs": [],
   "source": [
    "results = results.sort_values('AIC').groupby('(p,d,q)').mean()['AIC'].sort_values()\n"
   ]
  },
  {
   "cell_type": "code",
   "execution_count": 34,
   "id": "af16cf19",
   "metadata": {},
   "outputs": [
    {
     "data": {
      "text/plain": [
       "(p,d,q)\n",
       "(0, 1, 0)    124.270861\n",
       "(0, 1, 1)    125.686317\n",
       "(1, 1, 0)    125.762863\n",
       "(2, 1, 0)    125.927064\n",
       "(0, 1, 2)    126.124403\n",
       "(1, 1, 1)    126.798448\n",
       "(1, 1, 2)    127.497124\n",
       "(2, 1, 1)    127.711917\n",
       "(2, 1, 2)    128.327740\n",
       "Name: AIC, dtype: float64"
      ]
     },
     "execution_count": 34,
     "metadata": {},
     "output_type": "execute_result"
    }
   ],
   "source": [
    "results"
   ]
  },
  {
   "cell_type": "code",
   "execution_count": 35,
   "id": "bb29c739",
   "metadata": {},
   "outputs": [],
   "source": [
    "best_order = results.index[0]"
   ]
  },
  {
   "cell_type": "code",
   "execution_count": 36,
   "id": "3a7cab89",
   "metadata": {},
   "outputs": [
    {
     "data": {
      "text/plain": [
       "<statsmodels.tsa.arima_model.ARIMAResultsWrapper at 0x7f2736fdb0d0>"
      ]
     },
     "execution_count": 36,
     "metadata": {},
     "output_type": "execute_result"
    }
   ],
   "source": [
    "model = ARIMA(y_train, order=best_order).fit()\n",
    "model"
   ]
  },
  {
   "cell_type": "code",
   "execution_count": 37,
   "id": "ffe7a009",
   "metadata": {},
   "outputs": [],
   "source": [
    "(forecast, stderr, conf_int) = model.forecast(27, alpha=0.05)"
   ]
  },
  {
   "cell_type": "code",
   "execution_count": 38,
   "id": "431655f7",
   "metadata": {},
   "outputs": [
    {
     "data": {
      "text/plain": [
       "27"
      ]
     },
     "execution_count": 38,
     "metadata": {},
     "output_type": "execute_result"
    }
   ],
   "source": [
    "len(forecast)"
   ]
  },
  {
   "cell_type": "code",
   "execution_count": 39,
   "id": "df261987",
   "metadata": {},
   "outputs": [
    {
     "data": {
      "text/plain": [
       "0     85.674295\n",
       "1     85.808590\n",
       "2     85.942886\n",
       "3     86.077181\n",
       "4     86.211476\n",
       "5     86.345771\n",
       "6     86.480066\n",
       "7     86.614361\n",
       "8     86.748657\n",
       "9     86.882952\n",
       "10    87.017247\n",
       "11    87.151542\n",
       "12    87.285837\n",
       "13    87.420133\n",
       "14    87.554428\n",
       "15    87.688723\n",
       "16    87.823018\n",
       "17    87.957313\n",
       "18    88.091608\n",
       "19    88.225904\n",
       "20    88.360199\n",
       "21    88.494494\n",
       "22    88.628789\n",
       "23    88.763084\n",
       "24    88.897380\n",
       "25    89.031675\n",
       "26    89.165970\n",
       "dtype: float64"
      ]
     },
     "execution_count": 39,
     "metadata": {},
     "output_type": "execute_result"
    }
   ],
   "source": [
    "forecast = pd.Series(forecast)\n",
    "forecast"
   ]
  },
  {
   "cell_type": "code",
   "execution_count": 40,
   "id": "5bbcd728",
   "metadata": {},
   "outputs": [
    {
     "data": {
      "text/plain": [
       "(pandas.core.series.Series, pandas.core.series.Series)"
      ]
     },
     "execution_count": 40,
     "metadata": {},
     "output_type": "execute_result"
    }
   ],
   "source": [
    "type(date_final), type(forecast)"
   ]
  },
  {
   "cell_type": "code",
   "execution_count": 41,
   "id": "a96bccb1",
   "metadata": {},
   "outputs": [],
   "source": [
    "def add_n_days(dates, n):\n",
    "    for i in range(n):\n",
    "        last = dates.iloc[-1]\n",
    "        last = last + pd.DateOffset(days=1)\n",
    "        dates = dates.append(last)\n",
    "    return dates"
   ]
  },
  {
   "cell_type": "code",
   "execution_count": 42,
   "id": "7c50f48c",
   "metadata": {},
   "outputs": [],
   "source": [
    "from datetime import timedelta \n",
    "\n",
    "date_final = pd.DataFrame(date_final)\n",
    "date_final = pd.DataFrame(pd.to_datetime(date_final['date']))\n",
    "\n",
    "date_final = add_n_days(date_final, 7)"
   ]
  },
  {
   "cell_type": "code",
   "execution_count": 43,
   "id": "aa41c674",
   "metadata": {},
   "outputs": [],
   "source": [
    "date_final = date_final['date'].dt.strftime('%Y-%m-%d')"
   ]
  },
  {
   "cell_type": "code",
   "execution_count": 44,
   "id": "bf95b49e",
   "metadata": {},
   "outputs": [
    {
     "data": {
      "text/html": [
       "<div>\n",
       "<style scoped>\n",
       "    .dataframe tbody tr th:only-of-type {\n",
       "        vertical-align: middle;\n",
       "    }\n",
       "\n",
       "    .dataframe tbody tr th {\n",
       "        vertical-align: top;\n",
       "    }\n",
       "\n",
       "    .dataframe thead th {\n",
       "        text-align: right;\n",
       "    }\n",
       "</style>\n",
       "<table border=\"1\" class=\"dataframe\">\n",
       "  <thead>\n",
       "    <tr style=\"text-align: right;\">\n",
       "      <th></th>\n",
       "      <th>Date</th>\n",
       "      <th>Forecast</th>\n",
       "    </tr>\n",
       "  </thead>\n",
       "  <tbody>\n",
       "    <tr>\n",
       "      <th>0</th>\n",
       "      <td>2017-12-26</td>\n",
       "      <td>85.674295</td>\n",
       "    </tr>\n",
       "    <tr>\n",
       "      <th>1</th>\n",
       "      <td>2017-12-27</td>\n",
       "      <td>85.808590</td>\n",
       "    </tr>\n",
       "    <tr>\n",
       "      <th>2</th>\n",
       "      <td>2017-12-28</td>\n",
       "      <td>85.942886</td>\n",
       "    </tr>\n",
       "    <tr>\n",
       "      <th>3</th>\n",
       "      <td>2017-12-29</td>\n",
       "      <td>86.077181</td>\n",
       "    </tr>\n",
       "    <tr>\n",
       "      <th>4</th>\n",
       "      <td>2018-01-02</td>\n",
       "      <td>86.211476</td>\n",
       "    </tr>\n",
       "    <tr>\n",
       "      <th>5</th>\n",
       "      <td>2018-01-03</td>\n",
       "      <td>86.345771</td>\n",
       "    </tr>\n",
       "    <tr>\n",
       "      <th>6</th>\n",
       "      <td>2018-01-04</td>\n",
       "      <td>86.480066</td>\n",
       "    </tr>\n",
       "    <tr>\n",
       "      <th>7</th>\n",
       "      <td>2018-01-05</td>\n",
       "      <td>86.614361</td>\n",
       "    </tr>\n",
       "    <tr>\n",
       "      <th>8</th>\n",
       "      <td>2018-01-08</td>\n",
       "      <td>86.748657</td>\n",
       "    </tr>\n",
       "    <tr>\n",
       "      <th>9</th>\n",
       "      <td>2018-01-09</td>\n",
       "      <td>86.882952</td>\n",
       "    </tr>\n",
       "    <tr>\n",
       "      <th>10</th>\n",
       "      <td>2018-01-10</td>\n",
       "      <td>87.017247</td>\n",
       "    </tr>\n",
       "    <tr>\n",
       "      <th>11</th>\n",
       "      <td>2018-01-11</td>\n",
       "      <td>87.151542</td>\n",
       "    </tr>\n",
       "    <tr>\n",
       "      <th>12</th>\n",
       "      <td>2018-01-12</td>\n",
       "      <td>87.285837</td>\n",
       "    </tr>\n",
       "    <tr>\n",
       "      <th>13</th>\n",
       "      <td>2018-01-16</td>\n",
       "      <td>87.420133</td>\n",
       "    </tr>\n",
       "    <tr>\n",
       "      <th>14</th>\n",
       "      <td>2018-01-17</td>\n",
       "      <td>87.554428</td>\n",
       "    </tr>\n",
       "    <tr>\n",
       "      <th>15</th>\n",
       "      <td>2018-01-18</td>\n",
       "      <td>87.688723</td>\n",
       "    </tr>\n",
       "    <tr>\n",
       "      <th>16</th>\n",
       "      <td>2018-01-19</td>\n",
       "      <td>87.823018</td>\n",
       "    </tr>\n",
       "    <tr>\n",
       "      <th>17</th>\n",
       "      <td>2018-01-22</td>\n",
       "      <td>87.957313</td>\n",
       "    </tr>\n",
       "    <tr>\n",
       "      <th>18</th>\n",
       "      <td>2018-01-23</td>\n",
       "      <td>88.091608</td>\n",
       "    </tr>\n",
       "    <tr>\n",
       "      <th>19</th>\n",
       "      <td>2018-01-24</td>\n",
       "      <td>88.225904</td>\n",
       "    </tr>\n",
       "    <tr>\n",
       "      <th>20</th>\n",
       "      <td>2018-01-25</td>\n",
       "      <td>88.360199</td>\n",
       "    </tr>\n",
       "    <tr>\n",
       "      <th>21</th>\n",
       "      <td>2018-01-26</td>\n",
       "      <td>88.494494</td>\n",
       "    </tr>\n",
       "    <tr>\n",
       "      <th>22</th>\n",
       "      <td>2018-01-27</td>\n",
       "      <td>88.628789</td>\n",
       "    </tr>\n",
       "    <tr>\n",
       "      <th>23</th>\n",
       "      <td>2018-01-28</td>\n",
       "      <td>88.763084</td>\n",
       "    </tr>\n",
       "    <tr>\n",
       "      <th>24</th>\n",
       "      <td>2018-01-29</td>\n",
       "      <td>88.897380</td>\n",
       "    </tr>\n",
       "    <tr>\n",
       "      <th>25</th>\n",
       "      <td>2018-01-30</td>\n",
       "      <td>89.031675</td>\n",
       "    </tr>\n",
       "    <tr>\n",
       "      <th>26</th>\n",
       "      <td>2018-01-31</td>\n",
       "      <td>89.165970</td>\n",
       "    </tr>\n",
       "  </tbody>\n",
       "</table>\n",
       "</div>"
      ],
      "text/plain": [
       "          Date   Forecast\n",
       "0   2017-12-26  85.674295\n",
       "1   2017-12-27  85.808590\n",
       "2   2017-12-28  85.942886\n",
       "3   2017-12-29  86.077181\n",
       "4   2018-01-02  86.211476\n",
       "5   2018-01-03  86.345771\n",
       "6   2018-01-04  86.480066\n",
       "7   2018-01-05  86.614361\n",
       "8   2018-01-08  86.748657\n",
       "9   2018-01-09  86.882952\n",
       "10  2018-01-10  87.017247\n",
       "11  2018-01-11  87.151542\n",
       "12  2018-01-12  87.285837\n",
       "13  2018-01-16  87.420133\n",
       "14  2018-01-17  87.554428\n",
       "15  2018-01-18  87.688723\n",
       "16  2018-01-19  87.823018\n",
       "17  2018-01-22  87.957313\n",
       "18  2018-01-23  88.091608\n",
       "19  2018-01-24  88.225904\n",
       "20  2018-01-25  88.360199\n",
       "21  2018-01-26  88.494494\n",
       "22  2018-01-27  88.628789\n",
       "23  2018-01-28  88.763084\n",
       "24  2018-01-29  88.897380\n",
       "25  2018-01-30  89.031675\n",
       "26  2018-01-31  89.165970"
      ]
     },
     "execution_count": 44,
     "metadata": {},
     "output_type": "execute_result"
    }
   ],
   "source": [
    "pd.DataFrame({'Date' : date_final.values,'Forecast' : forecast.values})"
   ]
  },
  {
   "cell_type": "code",
   "execution_count": 45,
   "id": "bf149d93",
   "metadata": {},
   "outputs": [
    {
     "data": {
      "text/plain": [
       "0     85.674295\n",
       "1     85.808590\n",
       "2     85.942886\n",
       "3     86.077181\n",
       "4     86.211476\n",
       "5     86.345771\n",
       "6     86.480066\n",
       "7     86.614361\n",
       "8     86.748657\n",
       "9     86.882952\n",
       "10    87.017247\n",
       "11    87.151542\n",
       "12    87.285837\n",
       "13    87.420133\n",
       "14    87.554428\n",
       "15    87.688723\n",
       "16    87.823018\n",
       "17    87.957313\n",
       "18    88.091608\n",
       "19    88.225904\n",
       "20    88.360199\n",
       "21    88.494494\n",
       "22    88.628789\n",
       "23    88.763084\n",
       "24    88.897380\n",
       "25    89.031675\n",
       "26    89.165970\n",
       "dtype: float64"
      ]
     },
     "execution_count": 45,
     "metadata": {},
     "output_type": "execute_result"
    }
   ],
   "source": [
    "forecast"
   ]
  },
  {
   "cell_type": "code",
   "execution_count": 46,
   "id": "020a2c62",
   "metadata": {},
   "outputs": [],
   "source": [
    "forecast = forecast[4:20]"
   ]
  },
  {
   "cell_type": "code",
   "execution_count": 51,
   "id": "b42b1de6",
   "metadata": {},
   "outputs": [],
   "source": [
    "forecast = forecast.reset_index(drop = True)"
   ]
  },
  {
   "cell_type": "code",
   "execution_count": 53,
   "id": "c8f1f0e6",
   "metadata": {},
   "outputs": [],
   "source": [
    "y_test = y_test.reset_index(drop = True)"
   ]
  },
  {
   "cell_type": "code",
   "execution_count": 54,
   "id": "fba1c09a",
   "metadata": {},
   "outputs": [
    {
     "name": "stderr",
     "output_type": "stream",
     "text": [
      "/home/juliend/.pyenv/versions/3.8.6/envs/usmarket/lib/python3.8/site-packages/statsmodels/tsa/stattools.py:657: FutureWarning: The default number of lags is changing from 40 tomin(int(10 * np.log10(nobs)), nobs - 1) after 0.12is released. Set the number of lags to an integer to  silence this warning.\n",
      "  warnings.warn(\n"
     ]
    },
    {
     "data": {
      "text/plain": [
       "{'mape': 0.020236047349652397,\n",
       " 'me': -1.7931852409639024,\n",
       " 'mae': 1.8258697289157073,\n",
       " 'mpe': -0.019855774075053154,\n",
       " 'rmse': 2.2089898196004962,\n",
       " 'acf1': 0.6038231381830498,\n",
       " 'corr': 0.9508365961685509,\n",
       " 'minmax': 0.020235470672956724}"
      ]
     },
     "execution_count": 54,
     "metadata": {},
     "output_type": "execute_result"
    }
   ],
   "source": [
    "forecast_accuracy(forecast, y_test)"
   ]
  }
 ],
 "metadata": {
  "kernelspec": {
   "display_name": "Python 3",
   "language": "python",
   "name": "python3"
  },
  "language_info": {
   "codemirror_mode": {
    "name": "ipython",
    "version": 3
   },
   "file_extension": ".py",
   "mimetype": "text/x-python",
   "name": "python",
   "nbconvert_exporter": "python",
   "pygments_lexer": "ipython3",
   "version": "3.8.6"
  },
  "toc": {
   "base_numbering": 1,
   "nav_menu": {},
   "number_sections": true,
   "sideBar": true,
   "skip_h1_title": false,
   "title_cell": "Table of Contents",
   "title_sidebar": "Contents",
   "toc_cell": false,
   "toc_position": {},
   "toc_section_display": true,
   "toc_window_display": true
  }
 },
 "nbformat": 4,
 "nbformat_minor": 5
}
