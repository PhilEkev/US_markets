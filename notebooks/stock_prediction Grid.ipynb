{
 "cells": [
  {
   "cell_type": "markdown",
   "metadata": {
    "id": "k_Djzu2SAl-H"
   },
   "source": [
    "# Predict Stock price\n",
    "\n",
    "This is a notebook illustrating how to predict stock price from [Yahoo Finance](https://finance.yahoo.com/) data with a recurrent neural network."
   ]
  },
  {
   "cell_type": "code",
   "execution_count": 1,
   "metadata": {
    "colab": {
     "base_uri": "https://localhost:8080/"
    },
    "id": "1UmAmERoB7kG",
    "outputId": "97c7c3a9-b4d8-437f-a24e-a6144440d341"
   },
   "outputs": [
    {
     "name": "stdout",
     "output_type": "stream",
     "text": [
      "Requirement already satisfied: yfinance in /home/philekev/.pyenv/versions/3.8.6/envs/lewagon/lib/python3.8/site-packages (0.1.59)\n",
      "Requirement already satisfied: multitasking>=0.0.7 in /home/philekev/.pyenv/versions/3.8.6/envs/lewagon/lib/python3.8/site-packages (from yfinance) (0.0.9)\n",
      "Requirement already satisfied: numpy>=1.15 in /home/philekev/.pyenv/versions/3.8.6/envs/lewagon/lib/python3.8/site-packages (from yfinance) (1.18.5)\n",
      "Requirement already satisfied: pandas>=0.24 in /home/philekev/.pyenv/versions/3.8.6/envs/lewagon/lib/python3.8/site-packages (from yfinance) (1.2.4)\n",
      "Requirement already satisfied: requests>=2.20 in /home/philekev/.pyenv/versions/3.8.6/envs/lewagon/lib/python3.8/site-packages (from yfinance) (2.25.1)\n",
      "Requirement already satisfied: lxml>=4.5.1 in /home/philekev/.pyenv/versions/3.8.6/envs/lewagon/lib/python3.8/site-packages (from yfinance) (4.6.3)\n",
      "Requirement already satisfied: python-dateutil>=2.7.3 in /home/philekev/.pyenv/versions/3.8.6/envs/lewagon/lib/python3.8/site-packages (from pandas>=0.24->yfinance) (2.8.1)\n",
      "Requirement already satisfied: pytz>=2017.3 in /home/philekev/.pyenv/versions/3.8.6/envs/lewagon/lib/python3.8/site-packages (from pandas>=0.24->yfinance) (2021.1)\n",
      "Requirement already satisfied: six>=1.5 in /home/philekev/.pyenv/versions/3.8.6/envs/lewagon/lib/python3.8/site-packages (from python-dateutil>=2.7.3->pandas>=0.24->yfinance) (1.14.0)\n",
      "Requirement already satisfied: idna<3,>=2.5 in /home/philekev/.pyenv/versions/3.8.6/envs/lewagon/lib/python3.8/site-packages (from requests>=2.20->yfinance) (2.10)\n",
      "Requirement already satisfied: certifi>=2017.4.17 in /home/philekev/.pyenv/versions/3.8.6/envs/lewagon/lib/python3.8/site-packages (from requests>=2.20->yfinance) (2020.12.5)\n",
      "Requirement already satisfied: urllib3<1.27,>=1.21.1 in /home/philekev/.pyenv/versions/3.8.6/envs/lewagon/lib/python3.8/site-packages (from requests>=2.20->yfinance) (1.26.4)\n",
      "Requirement already satisfied: chardet<5,>=3.0.2 in /home/philekev/.pyenv/versions/3.8.6/envs/lewagon/lib/python3.8/site-packages (from requests>=2.20->yfinance) (4.0.0)\n"
     ]
    }
   ],
   "source": [
    "# Install library for fetching Yahoo Finance data\n",
    "!pip install yfinance"
   ]
  },
  {
   "cell_type": "code",
   "execution_count": 2,
   "metadata": {
    "id": "Et_lSzUwCEat"
   },
   "outputs": [],
   "source": [
    "import yfinance as yf\n",
    "import matplotlib.pyplot as plt\n",
    "from pandas import DataFrame, Series\n",
    "from typing import Dict, List, Tuple, Union\n",
    "from numpy import array, arange, zeros\n",
    "from numpy.random import permutation, randint, uniform\n",
    "from pathlib import Path\n",
    "from datetime import datetime, timedelta\n",
    "\n",
    "plt.rcParams['figure.figsize'] = [12, 9]  # plot larger than default"
   ]
  },
  {
   "cell_type": "markdown",
   "metadata": {
    "id": "6SuxbKnF25Rv"
   },
   "source": [
    "Define some constants (adapt the values to your use case):"
   ]
  },
  {
   "cell_type": "code",
   "execution_count": 3,
   "metadata": {
    "id": "dUmkwqnnETdz"
   },
   "outputs": [],
   "source": [
    "stock = 'AAPL'\n",
    "# Train model with daily data between `start` and `end`\n",
    "start = '2020-04-30'\n",
    "end = '2021-04-30'\n",
    "target = 'Close'\n",
    "# We will use the `n_prior` previous days to predict the nex `n_to_predict` days\n",
    "n_prior = 28\n",
    "n_to_predict = 7\n",
    "# Proportion of validation and test data\n",
    "p_val = .1\n",
    "p_test = .2 "
   ]
  },
  {
   "cell_type": "markdown",
   "metadata": {
    "id": "ueSqgtuxDe1C"
   },
   "source": [
    "## Fetching data\n",
    "Fetch data directly from the *yfinance* library"
   ]
  },
  {
   "cell_type": "code",
   "execution_count": 4,
   "metadata": {
    "colab": {
     "base_uri": "https://localhost:8080/"
    },
    "id": "S-HD3SLCApHj",
    "outputId": "557cb66d-ea0d-4330-e121-7acd2b48dc7e"
   },
   "outputs": [
    {
     "name": "stdout",
     "output_type": "stream",
     "text": [
      "[*********************100%***********************]  1 of 1 completed\n"
     ]
    }
   ],
   "source": [
    "data = yf.download(tickers=stock, period='1d', start=start, end=end)"
   ]
  },
  {
   "cell_type": "code",
   "execution_count": 5,
   "metadata": {
    "colab": {
     "base_uri": "https://localhost:8080/",
     "height": 455
    },
    "id": "BMuJUezaBOlG",
    "outputId": "36043ebf-73c8-4291-f571-8f41a5e89b80"
   },
   "outputs": [
    {
     "data": {
      "text/html": [
       "<div>\n",
       "<style scoped>\n",
       "    .dataframe tbody tr th:only-of-type {\n",
       "        vertical-align: middle;\n",
       "    }\n",
       "\n",
       "    .dataframe tbody tr th {\n",
       "        vertical-align: top;\n",
       "    }\n",
       "\n",
       "    .dataframe thead th {\n",
       "        text-align: right;\n",
       "    }\n",
       "</style>\n",
       "<table border=\"1\" class=\"dataframe\">\n",
       "  <thead>\n",
       "    <tr style=\"text-align: right;\">\n",
       "      <th></th>\n",
       "      <th>Open</th>\n",
       "      <th>High</th>\n",
       "      <th>Low</th>\n",
       "      <th>Close</th>\n",
       "      <th>Adj Close</th>\n",
       "      <th>Volume</th>\n",
       "    </tr>\n",
       "    <tr>\n",
       "      <th>Date</th>\n",
       "      <th></th>\n",
       "      <th></th>\n",
       "      <th></th>\n",
       "      <th></th>\n",
       "      <th></th>\n",
       "      <th></th>\n",
       "    </tr>\n",
       "  </thead>\n",
       "  <tbody>\n",
       "    <tr>\n",
       "      <th>2020-04-29</th>\n",
       "      <td>71.182503</td>\n",
       "      <td>72.417503</td>\n",
       "      <td>70.972504</td>\n",
       "      <td>71.932503</td>\n",
       "      <td>71.258163</td>\n",
       "      <td>137280800</td>\n",
       "    </tr>\n",
       "    <tr>\n",
       "      <th>2020-04-30</th>\n",
       "      <td>72.489998</td>\n",
       "      <td>73.632500</td>\n",
       "      <td>72.087502</td>\n",
       "      <td>73.449997</td>\n",
       "      <td>72.761436</td>\n",
       "      <td>183064000</td>\n",
       "    </tr>\n",
       "    <tr>\n",
       "      <th>2020-05-01</th>\n",
       "      <td>71.562500</td>\n",
       "      <td>74.750000</td>\n",
       "      <td>71.462502</td>\n",
       "      <td>72.267502</td>\n",
       "      <td>71.590034</td>\n",
       "      <td>240616800</td>\n",
       "    </tr>\n",
       "    <tr>\n",
       "      <th>2020-05-04</th>\n",
       "      <td>72.292503</td>\n",
       "      <td>73.422501</td>\n",
       "      <td>71.580002</td>\n",
       "      <td>73.290001</td>\n",
       "      <td>72.602936</td>\n",
       "      <td>133568000</td>\n",
       "    </tr>\n",
       "    <tr>\n",
       "      <th>2020-05-05</th>\n",
       "      <td>73.764999</td>\n",
       "      <td>75.250000</td>\n",
       "      <td>73.614998</td>\n",
       "      <td>74.389999</td>\n",
       "      <td>73.692627</td>\n",
       "      <td>147751200</td>\n",
       "    </tr>\n",
       "    <tr>\n",
       "      <th>...</th>\n",
       "      <td>...</td>\n",
       "      <td>...</td>\n",
       "      <td>...</td>\n",
       "      <td>...</td>\n",
       "      <td>...</td>\n",
       "      <td>...</td>\n",
       "    </tr>\n",
       "    <tr>\n",
       "      <th>2021-04-23</th>\n",
       "      <td>132.160004</td>\n",
       "      <td>135.119995</td>\n",
       "      <td>132.160004</td>\n",
       "      <td>134.320007</td>\n",
       "      <td>134.092239</td>\n",
       "      <td>78657500</td>\n",
       "    </tr>\n",
       "    <tr>\n",
       "      <th>2021-04-26</th>\n",
       "      <td>134.830002</td>\n",
       "      <td>135.059998</td>\n",
       "      <td>133.559998</td>\n",
       "      <td>134.720001</td>\n",
       "      <td>134.491562</td>\n",
       "      <td>66905100</td>\n",
       "    </tr>\n",
       "    <tr>\n",
       "      <th>2021-04-27</th>\n",
       "      <td>135.009995</td>\n",
       "      <td>135.410004</td>\n",
       "      <td>134.110001</td>\n",
       "      <td>134.389999</td>\n",
       "      <td>134.162109</td>\n",
       "      <td>66015800</td>\n",
       "    </tr>\n",
       "    <tr>\n",
       "      <th>2021-04-28</th>\n",
       "      <td>134.309998</td>\n",
       "      <td>135.020004</td>\n",
       "      <td>133.080002</td>\n",
       "      <td>133.580002</td>\n",
       "      <td>133.353485</td>\n",
       "      <td>107760100</td>\n",
       "    </tr>\n",
       "    <tr>\n",
       "      <th>2021-04-29</th>\n",
       "      <td>136.470001</td>\n",
       "      <td>137.070007</td>\n",
       "      <td>132.449997</td>\n",
       "      <td>133.479996</td>\n",
       "      <td>133.253662</td>\n",
       "      <td>151101000</td>\n",
       "    </tr>\n",
       "  </tbody>\n",
       "</table>\n",
       "<p>253 rows × 6 columns</p>\n",
       "</div>"
      ],
      "text/plain": [
       "                  Open        High         Low       Close   Adj Close  \\\n",
       "Date                                                                     \n",
       "2020-04-29   71.182503   72.417503   70.972504   71.932503   71.258163   \n",
       "2020-04-30   72.489998   73.632500   72.087502   73.449997   72.761436   \n",
       "2020-05-01   71.562500   74.750000   71.462502   72.267502   71.590034   \n",
       "2020-05-04   72.292503   73.422501   71.580002   73.290001   72.602936   \n",
       "2020-05-05   73.764999   75.250000   73.614998   74.389999   73.692627   \n",
       "...                ...         ...         ...         ...         ...   \n",
       "2021-04-23  132.160004  135.119995  132.160004  134.320007  134.092239   \n",
       "2021-04-26  134.830002  135.059998  133.559998  134.720001  134.491562   \n",
       "2021-04-27  135.009995  135.410004  134.110001  134.389999  134.162109   \n",
       "2021-04-28  134.309998  135.020004  133.080002  133.580002  133.353485   \n",
       "2021-04-29  136.470001  137.070007  132.449997  133.479996  133.253662   \n",
       "\n",
       "               Volume  \n",
       "Date                   \n",
       "2020-04-29  137280800  \n",
       "2020-04-30  183064000  \n",
       "2020-05-01  240616800  \n",
       "2020-05-04  133568000  \n",
       "2020-05-05  147751200  \n",
       "...               ...  \n",
       "2021-04-23   78657500  \n",
       "2021-04-26   66905100  \n",
       "2021-04-27   66015800  \n",
       "2021-04-28  107760100  \n",
       "2021-04-29  151101000  \n",
       "\n",
       "[253 rows x 6 columns]"
      ]
     },
     "execution_count": 5,
     "metadata": {},
     "output_type": "execute_result"
    }
   ],
   "source": [
    "data"
   ]
  },
  {
   "cell_type": "markdown",
   "metadata": {
    "id": "rJ3v3bHhD4YX"
   },
   "source": [
    "We want only the `target` values:"
   ]
  },
  {
   "cell_type": "code",
   "execution_count": 6,
   "metadata": {
    "id": "Rk5S7Px-BV_R"
   },
   "outputs": [],
   "source": [
    "data = data[[target]]"
   ]
  },
  {
   "cell_type": "code",
   "execution_count": 7,
   "metadata": {
    "colab": {
     "base_uri": "https://localhost:8080/",
     "height": 538
    },
    "id": "_alp-YAED-lM",
    "outputId": "da0d697e-1ed3-4d28-9427-00ee4c75b271"
   },
   "outputs": [
    {
     "data": {
      "image/png": "[encoded data removed]",
      "text/plain": [
       "<Figure size 864x648 with 1 Axes>"
      ]
     },
     "metadata": {
      "needs_background": "light"
     },
     "output_type": "display_data"
    }
   ],
   "source": [
    "data.plot()\n",
    "plt.xlabel(f'Date')\n",
    "plt.ylabel(f'{stock} price ($)')\n",
    "plt.title(f'{stock} price between {start} and {end}')\n",
    "plt.show()"
   ]
  },
  {
   "cell_type": "markdown",
   "metadata": {
    "id": "AULpGIBSIqb2"
   },
   "source": [
    "## Prepare training data\n",
    "First we define a function `build_x_y()` that will take slices from the column `target` of `data`. Each slice will be split into a range of `n_prior` days for `X` and the following `n_to_predict` day for `y`.\n",
    "\n",
    "### Create `X` and `y`"
   ]
  },
  {
   "cell_type": "code",
   "execution_count": 8,
   "metadata": {
    "id": "x9OKE8gyGllO"
   },
   "outputs": [],
   "source": [
    "def build_x_y(data: DataFrame, target: str = 'Close',  n_prior: int = 21, \n",
    "              n_to_predict: int = 14) -> Tuple[array, array]:\n",
    "    \"\"\" Split `df` into X and y. X is a 2-dimensional numpy array. The first \n",
    "    dimension corresponds to the sample, the second to the sequence in a sample \n",
    "    and the third to the features in each element of the sequence. `y` is a \n",
    "    2-dimensional array, the first is for the samples and the second for the \n",
    "    output values of the corresponding sequence.\n",
    "\n",
    "    Args:\n",
    "        data (DataFrame): Preprocessed input dataset\n",
    "        target (str, optional): Column name of the target variable in `data`. \n",
    "            Defaults to 'Close'.\n",
    "        n_prior (int, optional): Number of days in the past used in each sample\n",
    "           of the training dataset. Defaults to 21.\n",
    "        n_to_predict (int, optional): Numbers of day to predict ahead. \n",
    "            Defaults to 14.\n",
    "\n",
    "    Returns:\n",
    "        Tuple[array, array]: Input and output corresponding to the preprocessed \n",
    "          samples in `data`.\n",
    "    \"\"\"\n",
    "    n = n_prior + n_to_predict  # batch \"width\"\n",
    "    s0, s1 = data.shape[0], data.shape[1]\n",
    "    s = s0 - n  # size of training data\n",
    "\n",
    "    X, y = zeros(shape=(s, n_prior, s1)), zeros(shape=(s, n_to_predict))\n",
    "    shuffled_order = permutation(arange(0, s, 1)) # shuffle data directly\n",
    "    for i in shuffled_order:\n",
    "        X[i] = data.iloc[i: i + n_prior,:].values\n",
    "        y[i] = data[target][i + n_prior: i + n]\n",
    "        # Normalize each batch individually\n",
    "        min_value, max_value = X[i].min(), X[i].max()\n",
    "        X[i] = (X[i] - min_value) / (max_value - min_value) \n",
    "        y[i] = (y[i] - min_value) / (max_value - min_value)\n",
    "        \n",
    "    return X, y"
   ]
  },
  {
   "cell_type": "code",
   "execution_count": 9,
   "metadata": {
    "id": "Vm-lTZg8H74L"
   },
   "outputs": [],
   "source": [
    "X, y = build_x_y(data=data, target='Close', n_prior=n_prior, n_to_predict=n_to_predict)"
   ]
  },
  {
   "cell_type": "markdown",
   "metadata": {
    "id": "ZK-WLxOALyEe"
   },
   "source": [
    "### Split `X` and `y`\n",
    "Compute where to split `X` and `y` to obtain a proportion `p_val` of validation data and `p_test` of test data:"
   ]
  },
  {
   "cell_type": "code",
   "execution_count": 10,
   "metadata": {
    "id": "C8TEgt2RJ9hQ"
   },
   "outputs": [],
   "source": [
    "def get_split_inds(size: int, p_val: float = .1, p_test: float = .2, \n",
    "                   do_shuffle: bool = False) -> Tuple[array, array, array]:\n",
    "    \"\"\" Compute indices corresponding to the random splitting of `size` samples in train, validation and test sets \n",
    "    with size corresponding to `p_test` and `p_val`.\n",
    "\n",
    "    Args:\n",
    "        size (int): Number of samples in the dataset to split.\n",
    "        p_val (float, optional): Proportion of validation data in the split. Defaults to .1.\n",
    "        p_test (float, optional): Proportion of test data in the split. Defaults to .2.\n",
    "\n",
    "    Returns:\n",
    "        Tuple[array, array, array]: Three arrays corresponding to the indices of the train, validation and test sets.\n",
    "    \"\"\"\n",
    "    indices = arange(0, size, 1)\n",
    "    if do_shuffle:\n",
    "      indices = permutation(indices)\n",
    "\n",
    "    val_split_ind = round(size * (1 - p_test - p_val))\n",
    "    test_split_ind = round(size * (1 - p_test))\n",
    "\n",
    "    train_inds = indices[:val_split_ind]\n",
    "    val_inds = indices[val_split_ind: test_split_ind]\n",
    "    test_inds = indices[test_split_ind:]\n",
    "    \n",
    "    return train_inds, val_inds, test_inds"
   ]
  },
  {
   "cell_type": "code",
   "execution_count": 11,
   "metadata": {
    "id": "FI4jBHsRMIbK"
   },
   "outputs": [],
   "source": [
    "size = X.shape[0]\n",
    "train_inds, val_inds, test_inds = get_split_inds(size=size, p_val=p_val, p_test=p_test)\n",
    "X_train, X_val, X_test = X[train_inds], X[val_inds], X[test_inds]\n",
    "y_train, y_val, y_test = y[train_inds], y[val_inds], y[test_inds]"
   ]
  },
  {
   "cell_type": "markdown",
   "metadata": {
    "id": "NS7Xdc0gPCvk"
   },
   "source": [
    "## Modelization\n",
    "\n"
   ]
  },
  {
   "cell_type": "code",
   "execution_count": 12,
   "metadata": {
    "id": "av1lwHsSp1BT"
   },
   "outputs": [],
   "source": [
    "from tensorflow.keras.layers import Input, GRU, Lambda, Dense, Dropout\n",
    "from tensorflow.keras.models import Model\n",
    "from tensorflow.keras.callbacks import EarlyStopping, LearningRateScheduler, History\n",
    "from tensorflow.keras.optimizers import Adam\n",
    "from tensorflow.keras.losses import Huber\n",
    "from tensorflow.keras.metrics import MeanAbsolutePercentageError\n",
    "from tensorflow import expand_dims, matmul\n",
    "from tensorflow.nn import softmax"
   ]
  },
  {
   "cell_type": "markdown",
   "metadata": {
    "id": "nQUgua962_0j"
   },
   "source": [
    "Define some model trainin specific constants:"
   ]
  },
  {
   "cell_type": "code",
   "execution_count": 13,
   "metadata": {
    "id": "bIEPvilITFA_"
   },
   "outputs": [],
   "source": [
    "n_recurrent_units = 100  # size of the recurrent layers\n",
    "n_dense_units = 64  # size of the final dense layer\n",
    "scale = .05  # scale for attention layer\n",
    "lr = 1e-2  # learning rate\n",
    "dr = .9  # decay rate\n",
    "max_epochs = 300\n",
    "patience = 10\n",
    "batch_size = 32\n",
    "model_path = None  # if None: will not be persisted\n"
   ]
  },
  {
   "cell_type": "markdown",
   "metadata": {
    "id": "SjNnh9yPTAc1"
   },
   "source": [
    "Define a function to provide a deep recurrent model:"
   ]
  },
  {
   "cell_type": "code",
   "execution_count": 14,
   "metadata": {
    "id": "ushSAEhMOs4W"
   },
   "outputs": [],
   "source": [
    "def attention_seq(query_value, scale):\n",
    "    \"\"\" Define time series specific attention layer\n",
    "    see: https://stackoverflow.com/questions/61757475/sequence-to-sequence-for-time-series-prediction \"\"\"\n",
    "    query, value = query_value\n",
    "    score = matmul(query, value, transpose_b=True) # (batch, timestamp, 1)\n",
    "    score = scale * score # scale with a fixed number (it can be finetuned or learned during train)\n",
    "    score = softmax(score, axis=1) # softmax on timestamp axis\n",
    "    score = score * query # (batch, timestamp, feat)\n",
    "    return score\n",
    "\n",
    "\n",
    "def get_model(n_prior: int, n_features: int, n_to_predict: int, scale: float = .05,\n",
    "              n_recurrent_units: int = 100, n_dense_units=62) -> Model:\n",
    "    \"\"\" Build and return a recurrent auto-encoder model for predicting.\n",
    "\n",
    "    Args:\n",
    "        n_prior (int): number of days in the past used in each sample of the training dataset.\n",
    "        n_features (int): number of  (columns) in the input dataset.\n",
    "        n_to_predict (int): numbers of day to predict ahead\n",
    "        n_units (int): size of the recurrent layer\n",
    "\n",
    "    Returns:\n",
    "        tf.keras.models.Model: reccurent auto-encoder model for predicting\n",
    "    \"\"\"\n",
    "    inp = Input((n_prior, n_features))\n",
    "    seq, state = GRU(n_recurrent_units, activation='relu',\n",
    "                    return_state=True, return_sequences=True)(inp)\n",
    "    att = Lambda(attention_seq, arguments={'scale': scale})([seq, expand_dims(state, 1)])\n",
    "    x = GRU(n_recurrent_units, activation='relu')(att)\n",
    "    x = Dense(n_dense_units, activation='relu')(x)\n",
    "    x = Dropout(0.2)(x)\n",
    "    out = Dense(n_to_predict)(x)\n",
    "\n",
    "    model = Model(inp, out)\n",
    "    return model"
   ]
  },
  {
   "cell_type": "markdown",
   "metadata": {
    "id": "LD6Oe7SwRBgv"
   },
   "source": [
    "Define a function for training the model:"
   ]
  },
  {
   "cell_type": "code",
   "execution_count": 15,
   "metadata": {
    "id": "7DSZzfXCMwu6"
   },
   "outputs": [],
   "source": [
    "def train_persist_model(model: Model, X_train: DataFrame, X_val: DataFrame, X_test: DataFrame, y_train: Series,\n",
    "                        y_val: Series, y_test: Series, model_name: str, model_path: Union[str, Path, None], lr: float = 1e-3, dr: float = .99, \n",
    "                        max_epochs: int = 300, patience: int = 10, batch_size: int = 32, plot: bool = True, verbose: int = 0) -> None:\n",
    "    \"\"\" Train and persist a model for predicting.\n",
    "\n",
    "    Args:\n",
    "        model (tf.keras.models.Model): Tensorflow Keras model to train and persist\n",
    "        X_train (DataFrame): Training input dataset corresponding to past data with their features\n",
    "        X_val (DataFrame): Validation input dataset. Used at each batch to monitor model performance.\n",
    "        X_test (DataFrame): Test input dataset, for measuring model performance after training.\n",
    "        y_train (Series): Training output ground truth\n",
    "        y_val (Series): Validation output ground truth\n",
    "        y_test (Series): Test output ground truth.\n",
    "        model_name (str): name of the model\n",
    "        model_path (Union[str, Path]): Path under which the model will be persisted. If None, the model will not be persisted.\n",
    "        lr (float, optional): Learning rate for the optimizer training the model. Defaults to 1e-3.\n",
    "        dr (float, optional): Decay rate for the learning rate. Defaults to .99.\n",
    "        max_epochs (int, optional): Max. number of epochs for training the model. Defaults to 300.\n",
    "        patience (int, optional): number of epochs without improvement of val_loss before stopping\n",
    "        batch_size (int, optional): Number of training data samples in each batch. Defaults to 32.\n",
    "        plot (bool, optional): If to generate and persist plot corresponding to the training history. Defaults to True.\n",
    "        verbose (int, optional): If to print details during the training. Defaults to 0.\n",
    "    \"\"\"\n",
    "    reduce_lr = LearningRateScheduler(lambda x: lr * dr ** x)\n",
    "    early_stopping = EarlyStopping(monitor='val_loss',\n",
    "                                   patience=patience,\n",
    "                                   mode='min',\n",
    "                                   restore_best_weights=True)\n",
    "\n",
    "\n",
    "    model.compile(optimizer=Adam(),\n",
    "                loss='mse',\n",
    "                metrics=[MeanAbsolutePercentageError()])\n",
    "\n",
    "    history = model.fit(X_train, y_train, \n",
    "                        epochs=max_epochs, \n",
    "                        validation_data=(X_val, y_val),\n",
    "                        batch_size=batch_size,\n",
    "                        verbose=verbose,\n",
    "                        callbacks=[reduce_lr, early_stopping])\n",
    "\n",
    "    if plot:\n",
    "        plot_training(history=history, model_name=model_name)\n",
    "    \n",
    "    if model_path:\n",
    "      model.save(model_path)\n",
    "      print(f'INFO: model {model_path} saved under {model_path}')\n",
    "\n",
    "    results = model.evaluate(X_test, y_test)\n",
    "    test_loss, test_mape = results[0], results[1]\n",
    "    print(f'INFO: model evaluation on test data:\\n\\tloss: {test_loss}\\n\\tMAPE: {test_mape}')\n",
    "    return test_mape"
   ]
  },
  {
   "cell_type": "markdown",
   "metadata": {
    "id": "V8TFkjbPSHnq"
   },
   "source": [
    "And finally, define a function to plot the model training:"
   ]
  },
  {
   "cell_type": "code",
   "execution_count": 16,
   "metadata": {
    "id": "e3RqRCYRRLd9"
   },
   "outputs": [],
   "source": [
    "def plot_training(history: History, model_name: str) -> None:\n",
    "    \"\"\" Plot history of model training. The model must contain MAE as a metric.\n",
    "        Saves the plot in the folder `plots_dir` defined in *parameters.py* under the name `model_name`.jpg\n",
    "    Args:\n",
    "        history (tf.keras.callbacks.History): model history resulting from `.fit()`\n",
    "        model_name (str): [description]\n",
    "    \"\"\"\n",
    "    fig, (ax1, ax2) = plt.subplots(2)\n",
    "    fig.suptitle(f'{model_name} training')\n",
    "    \n",
    "    ax1.plot(history.history['mean_absolute_percentage_error'])\n",
    "    ax1.plot(history.history['val_mean_absolute_percentage_error'])\n",
    "    ax1.set_title(f'{model_name} mean_absolute_percentage_error')\n",
    "    ax1.set(xlabel='epoch', ylabel='mean_absolute_error')\n",
    "    ax1.legend(['train', 'val'], loc='upper left')\n",
    "    # summarize history for loss\n",
    "    ax2.plot(history.history['loss'])\n",
    "    ax2.plot(history.history['val_loss'])\n",
    "    ax2.set_title(f'{model_name} loss')\n",
    "    ax2.set(xlabel='epoch', ylabel='loss')\n",
    "    ax2.legend(['train', 'val'], loc='upper left')\n",
    "    \n",
    "    plt.show()"
   ]
  },
  {
   "cell_type": "markdown",
   "metadata": {
    "id": "v6iG2mDQWMF2"
   },
   "source": [
    "Now combine all this to train the model:"
   ]
  },
  {
   "cell_type": "code",
   "execution_count": 17,
   "metadata": {
    "colab": {
     "base_uri": "https://localhost:8080/"
    },
    "id": "R_-w5MkOSOEh",
    "outputId": "314f2e7b-2ec8-4a0f-bd38-8b5d8f6d1d11"
   },
   "outputs": [
    {
     "name": "stdout",
     "output_type": "stream",
     "text": [
      "Model: \"model\"\n",
      "__________________________________________________________________________________________________\n",
      "Layer (type)                    Output Shape         Param #     Connected to                     \n",
      "==================================================================================================\n",
      "input_1 (InputLayer)            [(None, 28, 1)]      0                                            \n",
      "__________________________________________________________________________________________________\n",
      "gru (GRU)                       [(None, 28, 100), (N 30900       input_1[0][0]                    \n",
      "__________________________________________________________________________________________________\n",
      "tf.expand_dims (TFOpLambda)     (None, 1, 100)       0           gru[0][1]                        \n",
      "__________________________________________________________________________________________________\n",
      "lambda (Lambda)                 (None, 28, 100)      0           gru[0][0]                        \n",
      "                                                                 tf.expand_dims[0][0]             \n",
      "__________________________________________________________________________________________________\n",
      "gru_1 (GRU)                     (None, 100)          60600       lambda[0][0]                     \n",
      "__________________________________________________________________________________________________\n",
      "dense (Dense)                   (None, 64)           6464        gru_1[0][0]                      \n",
      "__________________________________________________________________________________________________\n",
      "dropout (Dropout)               (None, 64)           0           dense[0][0]                      \n",
      "__________________________________________________________________________________________________\n",
      "dense_1 (Dense)                 (None, 7)            455         dropout[0][0]                    \n",
      "==================================================================================================\n",
      "Total params: 98,419\n",
      "Trainable params: 98,419\n",
      "Non-trainable params: 0\n",
      "__________________________________________________________________________________________________\n"
     ]
    }
   ],
   "source": [
    "model = get_model(n_prior=n_prior, n_features=1, n_to_predict=n_to_predict, scale=scale, n_recurrent_units=n_recurrent_units, n_dense_units=n_dense_units)\n",
    "model.summary()"
   ]
  },
  {
   "cell_type": "code",
   "execution_count": 18,
   "metadata": {
    "colab": {
     "base_uri": "https://localhost:8080/",
     "height": 1000
    },
    "id": "ZfqW9WHZeEbI",
    "outputId": "b3c27cad-03c0-44ef-8909-38c13e2e8e16"
   },
   "outputs": [
    {
     "name": "stdout",
     "output_type": "stream",
     "text": [
      "Epoch 1/300\n",
      "5/5 [==============================] - 3s 210ms/step - loss: 0.6832 - mean_absolute_percentage_error: 92.5889 - val_loss: 0.3829 - val_mean_absolute_percentage_error: 206.4206\n",
      "Epoch 2/300\n",
      "5/5 [==============================] - 0s 50ms/step - loss: 0.3159 - mean_absolute_percentage_error: 175.9727 - val_loss: 0.1502 - val_mean_absolute_percentage_error: 139.9536\n",
      "Epoch 3/300\n",
      "5/5 [==============================] - 0s 49ms/step - loss: 0.2019 - mean_absolute_percentage_error: 120.6210 - val_loss: 0.1990 - val_mean_absolute_percentage_error: 168.4377\n",
      "Epoch 4/300\n",
      "5/5 [==============================] - 0s 52ms/step - loss: 0.2274 - mean_absolute_percentage_error: 149.7013 - val_loss: 0.1532 - val_mean_absolute_percentage_error: 141.3666\n",
      "Epoch 5/300\n",
      "5/5 [==============================] - 0s 49ms/step - loss: 0.1898 - mean_absolute_percentage_error: 122.2835 - val_loss: 0.1494 - val_mean_absolute_percentage_error: 142.4775\n",
      "Epoch 6/300\n",
      "5/5 [==============================] - 0s 47ms/step - loss: 0.1957 - mean_absolute_percentage_error: 124.9428 - val_loss: 0.1707 - val_mean_absolute_percentage_error: 159.5087\n",
      "Epoch 7/300\n",
      "5/5 [==============================] - 0s 50ms/step - loss: 0.1658 - mean_absolute_percentage_error: 114.6936 - val_loss: 0.1679 - val_mean_absolute_percentage_error: 157.4455\n",
      "Epoch 8/300\n",
      "5/5 [==============================] - 0s 50ms/step - loss: 0.1653 - mean_absolute_percentage_error: 124.4786 - val_loss: 0.1485 - val_mean_absolute_percentage_error: 140.9170\n",
      "Epoch 9/300\n",
      "5/5 [==============================] - 0s 49ms/step - loss: 0.1760 - mean_absolute_percentage_error: 125.0430 - val_loss: 0.1580 - val_mean_absolute_percentage_error: 150.0900\n",
      "Epoch 10/300\n",
      "5/5 [==============================] - 0s 47ms/step - loss: 0.1759 - mean_absolute_percentage_error: 109.2659 - val_loss: 0.1781 - val_mean_absolute_percentage_error: 165.0344\n",
      "Epoch 11/300\n",
      "5/5 [==============================] - 0s 50ms/step - loss: 0.1603 - mean_absolute_percentage_error: 115.8003 - val_loss: 0.1406 - val_mean_absolute_percentage_error: 137.7111\n",
      "Epoch 12/300\n",
      "5/5 [==============================] - 0s 48ms/step - loss: 0.1566 - mean_absolute_percentage_error: 106.1813 - val_loss: 0.1672 - val_mean_absolute_percentage_error: 158.1586\n",
      "Epoch 13/300\n",
      "5/5 [==============================] - 0s 54ms/step - loss: 0.1510 - mean_absolute_percentage_error: 139.0796 - val_loss: 0.1499 - val_mean_absolute_percentage_error: 144.1151\n",
      "Epoch 14/300\n",
      "5/5 [==============================] - 0s 52ms/step - loss: 0.1632 - mean_absolute_percentage_error: 131.9279 - val_loss: 0.1541 - val_mean_absolute_percentage_error: 148.7210\n",
      "Epoch 15/300\n",
      "5/5 [==============================] - 0s 54ms/step - loss: 0.1459 - mean_absolute_percentage_error: 92.3078 - val_loss: 0.1412 - val_mean_absolute_percentage_error: 138.6357\n",
      "Epoch 16/300\n",
      "5/5 [==============================] - 0s 52ms/step - loss: 0.1569 - mean_absolute_percentage_error: 103.9739 - val_loss: 0.1590 - val_mean_absolute_percentage_error: 148.5724\n",
      "Epoch 17/300\n",
      "5/5 [==============================] - 0s 52ms/step - loss: 0.1324 - mean_absolute_percentage_error: 100.2052 - val_loss: 0.1571 - val_mean_absolute_percentage_error: 144.6261\n",
      "Epoch 18/300\n",
      "5/5 [==============================] - 0s 50ms/step - loss: 0.1377 - mean_absolute_percentage_error: 115.0458 - val_loss: 0.1550 - val_mean_absolute_percentage_error: 141.2028\n",
      "Epoch 19/300\n",
      "5/5 [==============================] - 0s 50ms/step - loss: 0.1387 - mean_absolute_percentage_error: 95.8196 - val_loss: 0.1682 - val_mean_absolute_percentage_error: 151.1437\n",
      "Epoch 20/300\n",
      "5/5 [==============================] - 0s 51ms/step - loss: 0.1289 - mean_absolute_percentage_error: 90.2549 - val_loss: 0.1527 - val_mean_absolute_percentage_error: 131.9190\n",
      "Epoch 21/300\n",
      "5/5 [==============================] - 0s 50ms/step - loss: 0.1044 - mean_absolute_percentage_error: 93.0837 - val_loss: 0.1612 - val_mean_absolute_percentage_error: 136.1230\n"
     ]
    },
    {
     "data": {
      "image/png": "[encoded data removed]",
      "text/plain": [
       "<Figure size 864x648 with 2 Axes>"
      ]
     },
     "metadata": {
      "needs_background": "light"
     },
     "output_type": "display_data"
    },
    {
     "name": "stdout",
     "output_type": "stream",
     "text": [
      "2/2 [==============================] - 0s 10ms/step - loss: 0.2939 - mean_absolute_percentage_error: 807.5538\n",
      "INFO: model evaluation on test data:\n",
      "\tloss: 0.2939056158065796\n",
      "\tMAPE: 807.5537719726562\n"
     ]
    },
    {
     "data": {
      "text/plain": [
       "807.5537719726562"
      ]
     },
     "execution_count": 18,
     "metadata": {},
     "output_type": "execute_result"
    }
   ],
   "source": [
    "train_persist_model(model=model, X_train=X_train, X_val=X_val, X_test=X_test, \n",
    "                    y_train=y_train, y_val=y_val, y_test=y_test, \n",
    "                    model_name=f'{stock} {target} price', model_path=model_path, lr=lr, dr=dr,\n",
    "                    max_epochs=max_epochs, patience=patience, \n",
    "                    batch_size=batch_size, plot=True, verbose=1)"
   ]
  },
  {
   "cell_type": "markdown",
   "metadata": {
    "id": "RLU2WLLmVChL"
   },
   "source": [
    "## Grid search optimal model and training hyperparameters"
   ]
  },
  {
   "cell_type": "code",
   "execution_count": 19,
   "metadata": {
    "id": "c1SMz74BVNKk"
   },
   "outputs": [],
   "source": [
    "def evaluate_hp(hp: Dict):\n",
    "  model = get_model(n_prior=n_prior, n_features=1, n_to_predict=n_to_predict,\n",
    "              scale = hp.get('scale'),\n",
    "              n_recurrent_units=hp.get('n_recurrent_units'), \n",
    "              n_dense_units=hp.get('n_dense_units'))\n",
    "  error = train_persist_model(model=model, X_train=X_train, X_val=X_val, X_test=X_test, \n",
    "                    y_train=y_train, y_val=y_val, y_test=y_test, \n",
    "                    model_name=f'{stock} {target} price', model_path=None, \n",
    "                    lr=hp.get('lr'), dr=hp.get('dr'),\n",
    "                    max_epochs=max_epochs, patience=patience, \n",
    "                    batch_size=batch_size, plot=False, verbose=0)\n",
    "  return error\n",
    "  \n",
    "\n",
    "def random_grid_search(n_trials: int = 100, \n",
    "                        n_recurrent_units_min: int = 10, \n",
    "                        n_recurrent_units_max: int = 100, \n",
    "                        n_dense_units_min: int = 20, \n",
    "                        n_dense_units_max: int = 100,\n",
    "                        scale_min: float = .01, scale_max: float = .1,\n",
    "                        lr_min: float = 1e-4, lr_max: float = 1e-1, \n",
    "                        dr_min: float = 0.8, dr_max: float = 0.999):\n",
    "  mapping = {'n_recurrent_units': [n_recurrent_units_min, n_recurrent_units_max, 'int'], \n",
    "              'n_dense_units': [n_dense_units_min, n_dense_units_max, 'int'],\n",
    "              'scale': [scale_min, scale_max, 'float'],\n",
    "              'lr': [lr_min, lr_max, 'float'], \n",
    "              'dr': [dr_min, dr_max, 'float']}\n",
    "  res = []\n",
    "  for _ in range(n_trials):\n",
    "    hp = dict()\n",
    "    for name, parameters in mapping.items():\n",
    "      if parameters[2] == 'int':\n",
    "        value = int(randint(low=parameters[0], high=parameters[1]))\n",
    "      else:\n",
    "        value = uniform(low=parameters[0], high=parameters[1])\n",
    "      hp[name] = value\n",
    "    print(f'INFO: trying {hp}...')\n",
    "    error = evaluate_hp(hp)\n",
    "    print(f'INFO: error: {error}')\n",
    "    res.append({'hp': hp, 'error': error})\n",
    "  return res\n",
    "  "
   ]
  },
  {
   "cell_type": "markdown",
   "metadata": {
    "id": "WHPe1E-Ub3V4"
   },
   "source": [
    "Define parameters for random grid search:"
   ]
  },
  {
   "cell_type": "code",
   "execution_count": 20,
   "metadata": {
    "id": "AsqcW-iTboTP"
   },
   "outputs": [],
   "source": [
    "n_trials = 100\n",
    "n_recurrent_units_min = 10, \n",
    "n_recurrent_units_max = 100, \n",
    "n_dense_units_min = 20\n",
    "n_dense_units_max = 100\n",
    "scale_min = .01\n",
    "scale_max = .1\n",
    "lr_min = 1e-4\n",
    "lr_max = 1e-1\n",
    "dr_min = 0.8\n",
    "dr_max = 0.999"
   ]
  },
  {
   "cell_type": "code",
   "execution_count": 21,
   "metadata": {
    "colab": {
     "base_uri": "https://localhost:8080/"
    },
    "id": "wvtrHSCrb-2v",
    "outputId": "61ec3cbb-7f7b-4adc-94c1-8c590fc2d28d"
   },
   "outputs": [
    {
     "name": "stdout",
     "output_type": "stream",
     "text": [
      "INFO: trying {'n_recurrent_units': 63, 'n_dense_units': 54, 'scale': 0.012240791032590858, 'lr': 0.01967059902487335, 'dr': 0.9963497937539876}...\n",
      "2/2 [==============================] - 0s 15ms/step - loss: 0.3221 - mean_absolute_percentage_error: 853.1622\n",
      "INFO: model evaluation on test data:\n",
      "\tloss: 0.3221459686756134\n",
      "\tMAPE: 853.1621704101562\n",
      "INFO: error: 853.1621704101562\n",
      "INFO: trying {'n_recurrent_units': 32, 'n_dense_units': 87, 'scale': 0.011085393628830025, 'lr': 0.08599106410542562, 'dr': 0.9383134517919626}...\n",
      "2/2 [==============================] - 0s 11ms/step - loss: 0.3141 - mean_absolute_percentage_error: 843.6650\n",
      "INFO: model evaluation on test data:\n",
      "\tloss: 0.31410500407218933\n",
      "\tMAPE: 843.6650390625\n",
      "INFO: error: 843.6650390625\n",
      "INFO: trying {'n_recurrent_units': 75, 'n_dense_units': 31, 'scale': 0.08978145645918897, 'lr': 0.09289634745893188, 'dr': 0.861111836719638}...\n",
      "2/2 [==============================] - 0s 9ms/step - loss: 0.2874 - mean_absolute_percentage_error: 775.9669\n",
      "INFO: model evaluation on test data:\n",
      "\tloss: 0.2874028980731964\n",
      "\tMAPE: 775.9668579101562\n",
      "INFO: error: 775.9668579101562\n",
      "INFO: trying {'n_recurrent_units': 33, 'n_dense_units': 52, 'scale': 0.07590463691338781, 'lr': 0.06670718812946305, 'dr': 0.8466352313498678}...\n",
      "2/2 [==============================] - 0s 10ms/step - loss: 0.3254 - mean_absolute_percentage_error: 867.7932\n",
      "INFO: model evaluation on test data:\n",
      "\tloss: 0.3253854513168335\n",
      "\tMAPE: 867.7931518554688\n",
      "INFO: error: 867.7931518554688\n",
      "INFO: trying {'n_recurrent_units': 72, 'n_dense_units': 21, 'scale': 0.043472196520401046, 'lr': 0.01719618708790196, 'dr': 0.8182096873171644}...\n",
      "2/2 [==============================] - 0s 9ms/step - loss: 0.3183 - mean_absolute_percentage_error: 855.7888\n",
      "INFO: model evaluation on test data:\n",
      "\tloss: 0.31834977865219116\n",
      "\tMAPE: 855.788818359375\n",
      "INFO: error: 855.788818359375\n",
      "INFO: trying {'n_recurrent_units': 19, 'n_dense_units': 37, 'scale': 0.011887684068158011, 'lr': 0.08813576278297998, 'dr': 0.8441067829985529}...\n",
      "2/2 [==============================] - 0s 10ms/step - loss: 0.3122 - mean_absolute_percentage_error: 833.6031\n",
      "INFO: model evaluation on test data:\n",
      "\tloss: 0.3122269809246063\n",
      "\tMAPE: 833.6030883789062\n",
      "INFO: error: 833.6030883789062\n",
      "INFO: trying {'n_recurrent_units': 60, 'n_dense_units': 65, 'scale': 0.09407875426399541, 'lr': 0.02947371929448568, 'dr': 0.8488962304208243}...\n",
      "2/2 [==============================] - 0s 14ms/step - loss: 0.3069 - mean_absolute_percentage_error: 810.6870\n",
      "INFO: model evaluation on test data:\n",
      "\tloss: 0.3069091737270355\n",
      "\tMAPE: 810.6869506835938\n",
      "INFO: error: 810.6869506835938\n",
      "INFO: trying {'n_recurrent_units': 83, 'n_dense_units': 48, 'scale': 0.01100609278069831, 'lr': 0.07646763209585938, 'dr': 0.9078739482875586}...\n",
      "2/2 [==============================] - 0s 9ms/step - loss: 0.3059 - mean_absolute_percentage_error: 833.5903\n",
      "INFO: model evaluation on test data:\n",
      "\tloss: 0.30588120222091675\n",
      "\tMAPE: 833.5902709960938\n",
      "INFO: error: 833.5902709960938\n",
      "INFO: trying {'n_recurrent_units': 18, 'n_dense_units': 65, 'scale': 0.05450527329823672, 'lr': 0.04604473576151126, 'dr': 0.8062325672380841}...\n",
      "2/2 [==============================] - 0s 10ms/step - loss: 0.3029 - mean_absolute_percentage_error: 787.3618\n",
      "INFO: model evaluation on test data:\n",
      "\tloss: 0.3028624951839447\n",
      "\tMAPE: 787.3617553710938\n",
      "INFO: error: 787.3617553710938\n",
      "INFO: trying {'n_recurrent_units': 62, 'n_dense_units': 46, 'scale': 0.054037935795710985, 'lr': 0.06018547601423726, 'dr': 0.8981438771297086}...\n",
      "2/2 [==============================] - 0s 8ms/step - loss: 0.2765 - mean_absolute_percentage_error: 729.2239\n",
      "INFO: model evaluation on test data:\n",
      "\tloss: 0.276454895734787\n",
      "\tMAPE: 729.223876953125\n",
      "INFO: error: 729.223876953125\n",
      "INFO: trying {'n_recurrent_units': 53, 'n_dense_units': 45, 'scale': 0.06261053760161844, 'lr': 0.04016272421068937, 'dr': 0.9827880030026159}...\n",
      "2/2 [==============================] - 0s 12ms/step - loss: 0.2892 - mean_absolute_percentage_error: 774.4324\n",
      "INFO: model evaluation on test data:\n",
      "\tloss: 0.28921639919281006\n",
      "\tMAPE: 774.4324340820312\n",
      "INFO: error: 774.4324340820312\n",
      "INFO: trying {'n_recurrent_units': 78, 'n_dense_units': 36, 'scale': 0.08700361619802033, 'lr': 0.03133216692063243, 'dr': 0.8967952122695534}...\n",
      "2/2 [==============================] - 0s 11ms/step - loss: 0.2550 - mean_absolute_percentage_error: 648.1080\n",
      "INFO: model evaluation on test data:\n",
      "\tloss: 0.25504758954048157\n",
      "\tMAPE: 648.1080322265625\n",
      "INFO: error: 648.1080322265625\n",
      "INFO: trying {'n_recurrent_units': 10, 'n_dense_units': 57, 'scale': 0.09687309580958643, 'lr': 0.09099541204134969, 'dr': 0.8506006858645844}...\n",
      "2/2 [==============================] - 0s 9ms/step - loss: 0.3427 - mean_absolute_percentage_error: 883.9832\n",
      "INFO: model evaluation on test data:\n",
      "\tloss: 0.3426608145236969\n",
      "\tMAPE: 883.9832153320312\n",
      "INFO: error: 883.9832153320312\n",
      "INFO: trying {'n_recurrent_units': 60, 'n_dense_units': 79, 'scale': 0.04847788700300087, 'lr': 0.030509396457945856, 'dr': 0.9293454526087173}...\n",
      "2/2 [==============================] - 0s 8ms/step - loss: 0.2660 - mean_absolute_percentage_error: 786.1597\n",
      "INFO: model evaluation on test data:\n",
      "\tloss: 0.266044944524765\n",
      "\tMAPE: 786.1597290039062\n",
      "INFO: error: 786.1597290039062\n",
      "INFO: trying {'n_recurrent_units': 98, 'n_dense_units': 78, 'scale': 0.028768815908437467, 'lr': 0.08776369900503418, 'dr': 0.8363021390369805}...\n",
      "2/2 [==============================] - 0s 12ms/step - loss: 0.3228 - mean_absolute_percentage_error: 852.3014\n",
      "INFO: model evaluation on test data:\n",
      "\tloss: 0.32277533411979675\n",
      "\tMAPE: 852.3013916015625\n",
      "INFO: error: 852.3013916015625\n",
      "INFO: trying {'n_recurrent_units': 88, 'n_dense_units': 74, 'scale': 0.05677375933103855, 'lr': 0.0012428838771506444, 'dr': 0.9131345145521836}...\n",
      "2/2 [==============================] - 0s 11ms/step - loss: 0.3066 - mean_absolute_percentage_error: 796.7145\n",
      "INFO: model evaluation on test data:\n",
      "\tloss: 0.30660280585289\n",
      "\tMAPE: 796.7144775390625\n",
      "INFO: error: 796.7144775390625\n",
      "INFO: trying {'n_recurrent_units': 11, 'n_dense_units': 36, 'scale': 0.020676739744848315, 'lr': 0.0677302129400296, 'dr': 0.8866990368924144}...\n",
      "2/2 [==============================] - 0s 13ms/step - loss: 0.2832 - mean_absolute_percentage_error: 760.7872\n",
      "INFO: model evaluation on test data:\n",
      "\tloss: 0.2831936180591583\n",
      "\tMAPE: 760.7871704101562\n",
      "INFO: error: 760.7871704101562\n",
      "INFO: trying {'n_recurrent_units': 76, 'n_dense_units': 67, 'scale': 0.04680556191101999, 'lr': 0.0785236827077785, 'dr': 0.9407397871940079}...\n",
      "2/2 [==============================] - 0s 9ms/step - loss: 0.3624 - mean_absolute_percentage_error: 928.3173\n",
      "INFO: model evaluation on test data:\n",
      "\tloss: 0.36243659257888794\n",
      "\tMAPE: 928.3173217773438\n",
      "INFO: error: 928.3173217773438\n",
      "INFO: trying {'n_recurrent_units': 58, 'n_dense_units': 23, 'scale': 0.0450913956383915, 'lr': 0.09400959108843882, 'dr': 0.9811826497930263}...\n",
      "2/2 [==============================] - 0s 11ms/step - loss: 0.3189 - mean_absolute_percentage_error: 844.8146\n",
      "INFO: model evaluation on test data:\n",
      "\tloss: 0.31888678669929504\n",
      "\tMAPE: 844.8146362304688\n",
      "INFO: error: 844.8146362304688\n",
      "INFO: trying {'n_recurrent_units': 86, 'n_dense_units': 54, 'scale': 0.024404178253261244, 'lr': 0.02158222261118827, 'dr': 0.9091956143281712}...\n",
      "2/2 [==============================] - 0s 11ms/step - loss: 0.2830 - mean_absolute_percentage_error: 760.8348\n",
      "INFO: model evaluation on test data:\n",
      "\tloss: 0.28301671147346497\n",
      "\tMAPE: 760.8347778320312\n",
      "INFO: error: 760.8347778320312\n",
      "INFO: trying {'n_recurrent_units': 97, 'n_dense_units': 97, 'scale': 0.08230994089171666, 'lr': 0.03458794701415798, 'dr': 0.8284310508802232}...\n",
      "2/2 [==============================] - 0s 10ms/step - loss: 0.3293 - mean_absolute_percentage_error: 874.5701\n",
      "INFO: model evaluation on test data:\n",
      "\tloss: 0.32928338646888733\n",
      "\tMAPE: 874.570068359375\n",
      "INFO: error: 874.570068359375\n",
      "INFO: trying {'n_recurrent_units': 82, 'n_dense_units': 76, 'scale': 0.09257619240110321, 'lr': 0.0010931191911313818, 'dr': 0.8304898134978793}...\n",
      "2/2 [==============================] - 0s 11ms/step - loss: 0.2833 - mean_absolute_percentage_error: 689.4207\n",
      "INFO: model evaluation on test data:\n",
      "\tloss: 0.28328096866607666\n",
      "\tMAPE: 689.420654296875\n",
      "INFO: error: 689.420654296875\n",
      "INFO: trying {'n_recurrent_units': 17, 'n_dense_units': 45, 'scale': 0.03450140163589584, 'lr': 0.0837949694292221, 'dr': 0.8400351392389416}...\n"
     ]
    },
    {
     "name": "stdout",
     "output_type": "stream",
     "text": [
      "2/2 [==============================] - 0s 9ms/step - loss: 0.3154 - mean_absolute_percentage_error: 841.6122\n",
      "INFO: model evaluation on test data:\n",
      "\tloss: 0.3153782784938812\n",
      "\tMAPE: 841.6122436523438\n",
      "INFO: error: 841.6122436523438\n",
      "INFO: trying {'n_recurrent_units': 58, 'n_dense_units': 83, 'scale': 0.022873274348539308, 'lr': 0.012350713065094162, 'dr': 0.9528885089736391}...\n",
      "2/2 [==============================] - 0s 9ms/step - loss: 0.2289 - mean_absolute_percentage_error: 657.8690\n",
      "INFO: model evaluation on test data:\n",
      "\tloss: 0.22890034317970276\n",
      "\tMAPE: 657.8689575195312\n",
      "INFO: error: 657.8689575195312\n",
      "INFO: trying {'n_recurrent_units': 22, 'n_dense_units': 25, 'scale': 0.04165896680617823, 'lr': 0.007316539327930563, 'dr': 0.8256607815117397}...\n",
      "2/2 [==============================] - 0s 9ms/step - loss: 0.3220 - mean_absolute_percentage_error: 864.6436\n",
      "INFO: model evaluation on test data:\n",
      "\tloss: 0.3220313787460327\n",
      "\tMAPE: 864.6435546875\n",
      "INFO: error: 864.6435546875\n",
      "INFO: trying {'n_recurrent_units': 75, 'n_dense_units': 88, 'scale': 0.025246180064079478, 'lr': 0.0742639585736679, 'dr': 0.9943919278197365}...\n",
      "2/2 [==============================] - 0s 9ms/step - loss: 0.2880 - mean_absolute_percentage_error: 755.9353\n",
      "INFO: model evaluation on test data:\n",
      "\tloss: 0.2880243957042694\n",
      "\tMAPE: 755.935302734375\n",
      "INFO: error: 755.935302734375\n",
      "INFO: trying {'n_recurrent_units': 34, 'n_dense_units': 52, 'scale': 0.03880065642175139, 'lr': 0.041337505207170666, 'dr': 0.9352466455138304}...\n",
      "2/2 [==============================] - 0s 8ms/step - loss: 0.2975 - mean_absolute_percentage_error: 684.2447\n",
      "INFO: model evaluation on test data:\n",
      "\tloss: 0.2974803149700165\n",
      "\tMAPE: 684.2446899414062\n",
      "INFO: error: 684.2446899414062\n",
      "INFO: trying {'n_recurrent_units': 22, 'n_dense_units': 21, 'scale': 0.04580751849948502, 'lr': 0.03612245577653852, 'dr': 0.9303524259997626}...\n",
      "2/2 [==============================] - 0s 10ms/step - loss: 0.1809 - mean_absolute_percentage_error: 547.7994\n",
      "INFO: model evaluation on test data:\n",
      "\tloss: 0.18093067407608032\n",
      "\tMAPE: 547.7994384765625\n",
      "INFO: error: 547.7994384765625\n",
      "INFO: trying {'n_recurrent_units': 57, 'n_dense_units': 87, 'scale': 0.030152313861393033, 'lr': 0.08444474930674645, 'dr': 0.9370126712303822}...\n",
      "2/2 [==============================] - 0s 11ms/step - loss: 0.3148 - mean_absolute_percentage_error: 844.9335\n",
      "INFO: model evaluation on test data:\n",
      "\tloss: 0.3148173987865448\n",
      "\tMAPE: 844.9335327148438\n",
      "INFO: error: 844.9335327148438\n",
      "INFO: trying {'n_recurrent_units': 29, 'n_dense_units': 79, 'scale': 0.04665470814061166, 'lr': 0.04002487811294186, 'dr': 0.808297857045077}...\n",
      "2/2 [==============================] - 0s 9ms/step - loss: 0.2499 - mean_absolute_percentage_error: 635.6187\n",
      "INFO: model evaluation on test data:\n",
      "\tloss: 0.24994224309921265\n",
      "\tMAPE: 635.6187133789062\n",
      "INFO: error: 635.6187133789062\n",
      "INFO: trying {'n_recurrent_units': 62, 'n_dense_units': 61, 'scale': 0.08732993144149197, 'lr': 0.0877288856889514, 'dr': 0.8352630553872622}...\n",
      "2/2 [==============================] - 0s 14ms/step - loss: 0.2991 - mean_absolute_percentage_error: 801.7861\n",
      "INFO: model evaluation on test data:\n",
      "\tloss: 0.2990792393684387\n",
      "\tMAPE: 801.7861328125\n",
      "INFO: error: 801.7861328125\n",
      "INFO: trying {'n_recurrent_units': 56, 'n_dense_units': 26, 'scale': 0.06354757073946471, 'lr': 0.023660039327203862, 'dr': 0.9511948185617665}...\n",
      "2/2 [==============================] - 0s 9ms/step - loss: 0.2356 - mean_absolute_percentage_error: 674.7305\n",
      "INFO: model evaluation on test data:\n",
      "\tloss: 0.23563872277736664\n",
      "\tMAPE: 674.73046875\n",
      "INFO: error: 674.73046875\n",
      "INFO: trying {'n_recurrent_units': 87, 'n_dense_units': 92, 'scale': 0.03226293730113903, 'lr': 0.02217110585072249, 'dr': 0.9447110941828464}...\n",
      "2/2 [==============================] - 0s 10ms/step - loss: 0.2590 - mean_absolute_percentage_error: 656.0686\n",
      "INFO: model evaluation on test data:\n",
      "\tloss: 0.25900527834892273\n",
      "\tMAPE: 656.068603515625\n",
      "INFO: error: 656.068603515625\n",
      "INFO: trying {'n_recurrent_units': 90, 'n_dense_units': 66, 'scale': 0.09979300805852309, 'lr': 0.07527326195465545, 'dr': 0.8658034874726718}...\n",
      "2/2 [==============================] - 0s 11ms/step - loss: 0.2947 - mean_absolute_percentage_error: 746.0583\n",
      "INFO: model evaluation on test data:\n",
      "\tloss: 0.29467806220054626\n",
      "\tMAPE: 746.058349609375\n",
      "INFO: error: 746.058349609375\n",
      "INFO: trying {'n_recurrent_units': 72, 'n_dense_units': 93, 'scale': 0.03439363918550755, 'lr': 0.03317647868368757, 'dr': 0.9586519824442217}...\n",
      "2/2 [==============================] - 0s 16ms/step - loss: 0.3041 - mean_absolute_percentage_error: 766.4496\n",
      "INFO: model evaluation on test data:\n",
      "\tloss: 0.3040989637374878\n",
      "\tMAPE: 766.4496459960938\n",
      "INFO: error: 766.4496459960938\n",
      "INFO: trying {'n_recurrent_units': 55, 'n_dense_units': 98, 'scale': 0.02318471493161653, 'lr': 0.041706902102303454, 'dr': 0.8007393933248227}...\n",
      "2/2 [==============================] - 0s 8ms/step - loss: 0.3325 - mean_absolute_percentage_error: 884.1586\n",
      "INFO: model evaluation on test data:\n",
      "\tloss: 0.3324950039386749\n",
      "\tMAPE: 884.1586303710938\n",
      "INFO: error: 884.1586303710938\n",
      "INFO: trying {'n_recurrent_units': 91, 'n_dense_units': 42, 'scale': 0.06608836239276598, 'lr': 0.0972569263900242, 'dr': 0.9403615757777694}...\n",
      "2/2 [==============================] - 0s 15ms/step - loss: 0.2963 - mean_absolute_percentage_error: 789.3554\n",
      "INFO: model evaluation on test data:\n",
      "\tloss: 0.2962970435619354\n",
      "\tMAPE: 789.3554077148438\n",
      "INFO: error: 789.3554077148438\n",
      "INFO: trying {'n_recurrent_units': 98, 'n_dense_units': 44, 'scale': 0.09842000097164426, 'lr': 0.07051083447518382, 'dr': 0.8276783679747155}...\n",
      "2/2 [==============================] - 0s 12ms/step - loss: 0.3029 - mean_absolute_percentage_error: 827.5356\n",
      "INFO: model evaluation on test data:\n",
      "\tloss: 0.3029356300830841\n",
      "\tMAPE: 827.5355834960938\n",
      "INFO: error: 827.5355834960938\n",
      "INFO: trying {'n_recurrent_units': 75, 'n_dense_units': 91, 'scale': 0.027391949627046594, 'lr': 0.02153776155415539, 'dr': 0.9886056573411227}...\n",
      "2/2 [==============================] - 0s 13ms/step - loss: 0.2992 - mean_absolute_percentage_error: 795.9141\n",
      "INFO: model evaluation on test data:\n",
      "\tloss: 0.2991742193698883\n",
      "\tMAPE: 795.9140625\n",
      "INFO: error: 795.9140625\n",
      "INFO: trying {'n_recurrent_units': 33, 'n_dense_units': 42, 'scale': 0.07825504361636139, 'lr': 0.007605693684422704, 'dr': 0.8503711225250143}...\n",
      "2/2 [==============================] - 0s 12ms/step - loss: 0.2291 - mean_absolute_percentage_error: 662.8702\n",
      "INFO: model evaluation on test data:\n",
      "\tloss: 0.2291494458913803\n",
      "\tMAPE: 662.8701782226562\n",
      "INFO: error: 662.8701782226562\n",
      "INFO: trying {'n_recurrent_units': 43, 'n_dense_units': 87, 'scale': 0.011143245693067565, 'lr': 0.033977778867697636, 'dr': 0.8380956002331457}...\n",
      "2/2 [==============================] - 0s 9ms/step - loss: 0.3193 - mean_absolute_percentage_error: 853.4891\n",
      "INFO: model evaluation on test data:\n",
      "\tloss: 0.3192986249923706\n",
      "\tMAPE: 853.4890747070312\n",
      "INFO: error: 853.4890747070312\n",
      "INFO: trying {'n_recurrent_units': 23, 'n_dense_units': 41, 'scale': 0.090986462692286, 'lr': 0.05267553586875714, 'dr': 0.8047935057402066}...\n",
      "2/2 [==============================] - 0s 8ms/step - loss: 0.3224 - mean_absolute_percentage_error: 823.8674\n",
      "INFO: model evaluation on test data:\n",
      "\tloss: 0.32236307859420776\n",
      "\tMAPE: 823.867431640625\n",
      "INFO: error: 823.867431640625\n",
      "INFO: trying {'n_recurrent_units': 69, 'n_dense_units': 21, 'scale': 0.027729281676463033, 'lr': 0.07747445731972505, 'dr': 0.9178892120662872}...\n",
      "2/2 [==============================] - 0s 11ms/step - loss: 0.2817 - mean_absolute_percentage_error: 745.2009\n",
      "INFO: model evaluation on test data:\n",
      "\tloss: 0.2816574275493622\n",
      "\tMAPE: 745.200927734375\n",
      "INFO: error: 745.200927734375\n",
      "INFO: trying {'n_recurrent_units': 52, 'n_dense_units': 42, 'scale': 0.011059632025601429, 'lr': 0.0627526478865037, 'dr': 0.993236064497036}...\n",
      "2/2 [==============================] - 0s 13ms/step - loss: 0.3138 - mean_absolute_percentage_error: 838.9922\n",
      "INFO: model evaluation on test data:\n",
      "\tloss: 0.3138159513473511\n",
      "\tMAPE: 838.9921875\n",
      "INFO: error: 838.9921875\n",
      "INFO: trying {'n_recurrent_units': 44, 'n_dense_units': 73, 'scale': 0.013956044535790035, 'lr': 0.0029411567250637962, 'dr': 0.8659475255760063}...\n"
     ]
    },
    {
     "name": "stdout",
     "output_type": "stream",
     "text": [
      "2/2 [==============================] - 0s 24ms/step - loss: 0.3090 - mean_absolute_percentage_error: 836.4708\n",
      "INFO: model evaluation on test data:\n",
      "\tloss: 0.3090125024318695\n",
      "\tMAPE: 836.4707641601562\n",
      "INFO: error: 836.4707641601562\n",
      "INFO: trying {'n_recurrent_units': 69, 'n_dense_units': 65, 'scale': 0.03684466722452212, 'lr': 0.06426276087740572, 'dr': 0.8338228368748941}...\n",
      "2/2 [==============================] - 0s 11ms/step - loss: 0.2714 - mean_absolute_percentage_error: 678.3544\n",
      "INFO: model evaluation on test data:\n",
      "\tloss: 0.271355539560318\n",
      "\tMAPE: 678.3544311523438\n",
      "INFO: error: 678.3544311523438\n",
      "INFO: trying {'n_recurrent_units': 65, 'n_dense_units': 56, 'scale': 0.03053128903086122, 'lr': 0.09704161749751973, 'dr': 0.9458955224956883}...\n",
      "2/2 [==============================] - 0s 13ms/step - loss: 0.2463 - mean_absolute_percentage_error: 565.2913\n",
      "INFO: model evaluation on test data:\n",
      "\tloss: 0.24633483588695526\n",
      "\tMAPE: 565.2913208007812\n",
      "INFO: error: 565.2913208007812\n",
      "INFO: trying {'n_recurrent_units': 13, 'n_dense_units': 79, 'scale': 0.057091094063227515, 'lr': 0.0259721060663321, 'dr': 0.9963589942493869}...\n",
      "2/2 [==============================] - 0s 9ms/step - loss: 0.2860 - mean_absolute_percentage_error: 751.6780\n",
      "INFO: model evaluation on test data:\n",
      "\tloss: 0.28595873713493347\n",
      "\tMAPE: 751.677978515625\n",
      "INFO: error: 751.677978515625\n",
      "INFO: trying {'n_recurrent_units': 67, 'n_dense_units': 64, 'scale': 0.051975750838905314, 'lr': 0.019376600497327468, 'dr': 0.8494548160832278}...\n",
      "2/2 [==============================] - 0s 19ms/step - loss: 0.3144 - mean_absolute_percentage_error: 753.5070\n",
      "INFO: model evaluation on test data:\n",
      "\tloss: 0.31438639760017395\n",
      "\tMAPE: 753.5070190429688\n",
      "INFO: error: 753.5070190429688\n",
      "INFO: trying {'n_recurrent_units': 68, 'n_dense_units': 46, 'scale': 0.019985079368641537, 'lr': 0.0008005230235264717, 'dr': 0.8456959258108073}...\n",
      "2/2 [==============================] - 0s 18ms/step - loss: 0.2804 - mean_absolute_percentage_error: 589.6943\n",
      "INFO: model evaluation on test data:\n",
      "\tloss: 0.2804252803325653\n",
      "\tMAPE: 589.6943359375\n",
      "INFO: error: 589.6943359375\n",
      "INFO: trying {'n_recurrent_units': 46, 'n_dense_units': 84, 'scale': 0.02812302141178618, 'lr': 0.015360313993096869, 'dr': 0.8107382336376552}...\n",
      "2/2 [==============================] - 0s 21ms/step - loss: 0.2628 - mean_absolute_percentage_error: 751.5045\n",
      "INFO: model evaluation on test data:\n",
      "\tloss: 0.26277390122413635\n",
      "\tMAPE: 751.5045166015625\n",
      "INFO: error: 751.5045166015625\n",
      "INFO: trying {'n_recurrent_units': 33, 'n_dense_units': 42, 'scale': 0.062194971601746904, 'lr': 0.04887901741613139, 'dr': 0.9985907430839678}...\n",
      "2/2 [==============================] - 0s 10ms/step - loss: 0.3137 - mean_absolute_percentage_error: 771.9761\n",
      "INFO: model evaluation on test data:\n",
      "\tloss: 0.31370973587036133\n",
      "\tMAPE: 771.9761352539062\n",
      "INFO: error: 771.9761352539062\n",
      "INFO: trying {'n_recurrent_units': 95, 'n_dense_units': 24, 'scale': 0.08353687564955864, 'lr': 0.03501644819536814, 'dr': 0.9965995505842766}...\n",
      "2/2 [==============================] - 0s 16ms/step - loss: 0.2949 - mean_absolute_percentage_error: 777.1169\n",
      "INFO: model evaluation on test data:\n",
      "\tloss: 0.2948586940765381\n",
      "\tMAPE: 777.116943359375\n",
      "INFO: error: 777.116943359375\n",
      "INFO: trying {'n_recurrent_units': 71, 'n_dense_units': 30, 'scale': 0.04334836699260323, 'lr': 0.07474131829587027, 'dr': 0.8473068973108882}...\n",
      "2/2 [==============================] - 0s 9ms/step - loss: 0.2868 - mean_absolute_percentage_error: 734.7869\n",
      "INFO: model evaluation on test data:\n",
      "\tloss: 0.28682804107666016\n",
      "\tMAPE: 734.7869262695312\n",
      "INFO: error: 734.7869262695312\n",
      "INFO: trying {'n_recurrent_units': 48, 'n_dense_units': 89, 'scale': 0.05017502194929777, 'lr': 0.05306933823367966, 'dr': 0.9120027690910734}...\n",
      "2/2 [==============================] - 0s 9ms/step - loss: 0.2675 - mean_absolute_percentage_error: 703.9600\n",
      "INFO: model evaluation on test data:\n",
      "\tloss: 0.267520934343338\n",
      "\tMAPE: 703.9600219726562\n",
      "INFO: error: 703.9600219726562\n",
      "INFO: trying {'n_recurrent_units': 29, 'n_dense_units': 49, 'scale': 0.0794110416316508, 'lr': 0.03154016900635317, 'dr': 0.9719360708288187}...\n",
      "2/2 [==============================] - 0s 10ms/step - loss: 0.3525 - mean_absolute_percentage_error: 919.9244\n",
      "INFO: model evaluation on test data:\n",
      "\tloss: 0.3525165319442749\n",
      "\tMAPE: 919.9244384765625\n",
      "INFO: error: 919.9244384765625\n",
      "INFO: trying {'n_recurrent_units': 94, 'n_dense_units': 83, 'scale': 0.02611950636159511, 'lr': 0.07387095079118884, 'dr': 0.9363827046780161}...\n",
      "2/2 [==============================] - 0s 10ms/step - loss: 0.2728 - mean_absolute_percentage_error: 754.7434\n",
      "INFO: model evaluation on test data:\n",
      "\tloss: 0.2727929353713989\n",
      "\tMAPE: 754.743408203125\n",
      "INFO: error: 754.743408203125\n",
      "INFO: trying {'n_recurrent_units': 53, 'n_dense_units': 99, 'scale': 0.08054415051964757, 'lr': 0.030600510991747636, 'dr': 0.8094261307237681}...\n",
      "2/2 [==============================] - 0s 10ms/step - loss: 0.3501 - mean_absolute_percentage_error: 921.1036\n",
      "INFO: model evaluation on test data:\n",
      "\tloss: 0.35011979937553406\n",
      "\tMAPE: 921.1035766601562\n",
      "INFO: error: 921.1035766601562\n",
      "INFO: trying {'n_recurrent_units': 62, 'n_dense_units': 20, 'scale': 0.04575914797273873, 'lr': 0.03549508363303959, 'dr': 0.9730069806542219}...\n",
      "2/2 [==============================] - 0s 9ms/step - loss: 0.3266 - mean_absolute_percentage_error: 863.1481\n",
      "INFO: model evaluation on test data:\n",
      "\tloss: 0.32664039731025696\n",
      "\tMAPE: 863.1480712890625\n",
      "INFO: error: 863.1480712890625\n",
      "INFO: trying {'n_recurrent_units': 56, 'n_dense_units': 42, 'scale': 0.07080257828072703, 'lr': 0.005491009822554729, 'dr': 0.8889334091152142}...\n",
      "2/2 [==============================] - 0s 11ms/step - loss: 0.2842 - mean_absolute_percentage_error: 761.4537\n",
      "INFO: model evaluation on test data:\n",
      "\tloss: 0.28423383831977844\n",
      "\tMAPE: 761.4537353515625\n",
      "INFO: error: 761.4537353515625\n",
      "INFO: trying {'n_recurrent_units': 81, 'n_dense_units': 94, 'scale': 0.07783459480343503, 'lr': 0.045279099230038714, 'dr': 0.9426828124348539}...\n",
      "2/2 [==============================] - 0s 11ms/step - loss: 0.2838 - mean_absolute_percentage_error: 750.6763\n",
      "INFO: model evaluation on test data:\n",
      "\tloss: 0.28382033109664917\n",
      "\tMAPE: 750.6763305664062\n",
      "INFO: error: 750.6763305664062\n",
      "INFO: trying {'n_recurrent_units': 46, 'n_dense_units': 80, 'scale': 0.07182406680420263, 'lr': 0.08302212485562482, 'dr': 0.9049428564608473}...\n",
      "2/2 [==============================] - 0s 11ms/step - loss: 0.2607 - mean_absolute_percentage_error: 710.2846\n",
      "INFO: model evaluation on test data:\n",
      "\tloss: 0.2606588900089264\n",
      "\tMAPE: 710.2846069335938\n",
      "INFO: error: 710.2846069335938\n",
      "INFO: trying {'n_recurrent_units': 39, 'n_dense_units': 77, 'scale': 0.0648051284384319, 'lr': 0.028499777206645416, 'dr': 0.9970936457780112}...\n",
      "2/2 [==============================] - 0s 18ms/step - loss: 0.3120 - mean_absolute_percentage_error: 832.3098\n",
      "INFO: model evaluation on test data:\n",
      "\tloss: 0.31200268864631653\n",
      "\tMAPE: 832.3097534179688\n",
      "INFO: error: 832.3097534179688\n",
      "INFO: trying {'n_recurrent_units': 65, 'n_dense_units': 40, 'scale': 0.03772138713522547, 'lr': 0.08786402557658235, 'dr': 0.8745048315601831}...\n",
      "2/2 [==============================] - 0s 21ms/step - loss: 0.3157 - mean_absolute_percentage_error: 799.1600\n",
      "INFO: model evaluation on test data:\n",
      "\tloss: 0.31568339467048645\n",
      "\tMAPE: 799.1599731445312\n",
      "INFO: error: 799.1599731445312\n",
      "INFO: trying {'n_recurrent_units': 15, 'n_dense_units': 20, 'scale': 0.026964179932980198, 'lr': 0.08325518789816082, 'dr': 0.9294955673035266}...\n",
      "2/2 [==============================] - 0s 12ms/step - loss: 0.2540 - mean_absolute_percentage_error: 634.0125\n",
      "INFO: model evaluation on test data:\n",
      "\tloss: 0.25396955013275146\n",
      "\tMAPE: 634.012451171875\n",
      "INFO: error: 634.012451171875\n",
      "INFO: trying {'n_recurrent_units': 22, 'n_dense_units': 65, 'scale': 0.0215657312016033, 'lr': 0.07257074843100159, 'dr': 0.854795395484545}...\n",
      "2/2 [==============================] - 0s 14ms/step - loss: 0.2978 - mean_absolute_percentage_error: 787.1723\n",
      "INFO: model evaluation on test data:\n",
      "\tloss: 0.29776060581207275\n",
      "\tMAPE: 787.1723022460938\n",
      "INFO: error: 787.1723022460938\n",
      "INFO: trying {'n_recurrent_units': 10, 'n_dense_units': 50, 'scale': 0.027185738736620113, 'lr': 0.06643836318050354, 'dr': 0.9188137264888927}...\n"
     ]
    },
    {
     "name": "stdout",
     "output_type": "stream",
     "text": [
      "2/2 [==============================] - 0s 10ms/step - loss: 0.3091 - mean_absolute_percentage_error: 856.9343\n",
      "INFO: model evaluation on test data:\n",
      "\tloss: 0.30910059809684753\n",
      "\tMAPE: 856.934326171875\n",
      "INFO: error: 856.934326171875\n",
      "INFO: trying {'n_recurrent_units': 16, 'n_dense_units': 71, 'scale': 0.011751335030670697, 'lr': 0.06369089284800242, 'dr': 0.8492158145593653}...\n",
      "2/2 [==============================] - 0s 10ms/step - loss: 0.2743 - mean_absolute_percentage_error: 725.8352\n",
      "INFO: model evaluation on test data:\n",
      "\tloss: 0.2743225395679474\n",
      "\tMAPE: 725.835205078125\n",
      "INFO: error: 725.835205078125\n",
      "INFO: trying {'n_recurrent_units': 35, 'n_dense_units': 81, 'scale': 0.01219286213407755, 'lr': 0.09560550913004788, 'dr': 0.9069080155990973}...\n",
      "2/2 [==============================] - 0s 20ms/step - loss: 0.3043 - mean_absolute_percentage_error: 809.3078\n",
      "INFO: model evaluation on test data:\n",
      "\tloss: 0.30429819226264954\n",
      "\tMAPE: 809.3078002929688\n",
      "INFO: error: 809.3078002929688\n",
      "INFO: trying {'n_recurrent_units': 30, 'n_dense_units': 67, 'scale': 0.08993868072955086, 'lr': 0.09371090908332758, 'dr': 0.8443590426023252}...\n",
      "2/2 [==============================] - 0s 21ms/step - loss: 0.3159 - mean_absolute_percentage_error: 842.4988\n",
      "INFO: model evaluation on test data:\n",
      "\tloss: 0.3158649504184723\n",
      "\tMAPE: 842.498779296875\n",
      "INFO: error: 842.498779296875\n",
      "INFO: trying {'n_recurrent_units': 39, 'n_dense_units': 86, 'scale': 0.012913602012627128, 'lr': 0.013812726524093486, 'dr': 0.9977225505087353}...\n",
      "2/2 [==============================] - 0s 10ms/step - loss: 0.1955 - mean_absolute_percentage_error: 592.7825\n",
      "INFO: model evaluation on test data:\n",
      "\tloss: 0.1955273598432541\n",
      "\tMAPE: 592.782470703125\n",
      "INFO: error: 592.782470703125\n",
      "INFO: trying {'n_recurrent_units': 29, 'n_dense_units': 91, 'scale': 0.0369997568786868, 'lr': 0.060635933736833125, 'dr': 0.8858684737191811}...\n",
      "2/2 [==============================] - 0s 12ms/step - loss: 0.3047 - mean_absolute_percentage_error: 814.1786\n",
      "INFO: model evaluation on test data:\n",
      "\tloss: 0.304745614528656\n",
      "\tMAPE: 814.1786499023438\n",
      "INFO: error: 814.1786499023438\n",
      "INFO: trying {'n_recurrent_units': 66, 'n_dense_units': 53, 'scale': 0.042302552022664565, 'lr': 0.06081898289326621, 'dr': 0.9384494355658456}...\n",
      "2/2 [==============================] - 0s 12ms/step - loss: 0.3036 - mean_absolute_percentage_error: 805.2070\n",
      "INFO: model evaluation on test data:\n",
      "\tloss: 0.30364692211151123\n",
      "\tMAPE: 805.2069702148438\n",
      "INFO: error: 805.2069702148438\n",
      "INFO: trying {'n_recurrent_units': 62, 'n_dense_units': 79, 'scale': 0.039969159591515147, 'lr': 0.0331596446434998, 'dr': 0.8485632155031537}...\n",
      "2/2 [==============================] - 0s 18ms/step - loss: 0.3058 - mean_absolute_percentage_error: 833.0436\n",
      "INFO: model evaluation on test data:\n",
      "\tloss: 0.305837482213974\n",
      "\tMAPE: 833.0435791015625\n",
      "INFO: error: 833.0435791015625\n",
      "INFO: trying {'n_recurrent_units': 52, 'n_dense_units': 47, 'scale': 0.06672541640144397, 'lr': 0.06331898689748551, 'dr': 0.8124781424082838}...\n",
      "2/2 [==============================] - 0s 14ms/step - loss: 0.2559 - mean_absolute_percentage_error: 650.8170\n",
      "INFO: model evaluation on test data:\n",
      "\tloss: 0.255908340215683\n",
      "\tMAPE: 650.8170166015625\n",
      "INFO: error: 650.8170166015625\n",
      "INFO: trying {'n_recurrent_units': 88, 'n_dense_units': 65, 'scale': 0.056014639198599794, 'lr': 0.07764737764174351, 'dr': 0.9391309636278907}...\n",
      "2/2 [==============================] - 0s 15ms/step - loss: 0.1581 - mean_absolute_percentage_error: 443.4056\n",
      "INFO: model evaluation on test data:\n",
      "\tloss: 0.15814022719860077\n",
      "\tMAPE: 443.40557861328125\n",
      "INFO: error: 443.40557861328125\n",
      "INFO: trying {'n_recurrent_units': 28, 'n_dense_units': 64, 'scale': 0.028338499214772273, 'lr': 0.05717223023269079, 'dr': 0.86041518262863}...\n",
      "2/2 [==============================] - 0s 12ms/step - loss: 0.2900 - mean_absolute_percentage_error: 762.0093\n",
      "INFO: model evaluation on test data:\n",
      "\tloss: 0.29004499316215515\n",
      "\tMAPE: 762.0093383789062\n",
      "INFO: error: 762.0093383789062\n",
      "INFO: trying {'n_recurrent_units': 46, 'n_dense_units': 42, 'scale': 0.043315712268093956, 'lr': 0.07987486164799275, 'dr': 0.8882361892226505}...\n",
      "2/2 [==============================] - 0s 10ms/step - loss: 0.3192 - mean_absolute_percentage_error: 846.6138\n",
      "INFO: model evaluation on test data:\n",
      "\tloss: 0.31917035579681396\n",
      "\tMAPE: 846.6138305664062\n",
      "INFO: error: 846.6138305664062\n",
      "INFO: trying {'n_recurrent_units': 61, 'n_dense_units': 53, 'scale': 0.09931853775774888, 'lr': 0.03416352168304964, 'dr': 0.9411520064381425}...\n",
      "2/2 [==============================] - 0s 14ms/step - loss: 0.3042 - mean_absolute_percentage_error: 819.3578\n",
      "INFO: model evaluation on test data:\n",
      "\tloss: 0.30416539311408997\n",
      "\tMAPE: 819.3577880859375\n",
      "INFO: error: 819.3577880859375\n",
      "INFO: trying {'n_recurrent_units': 10, 'n_dense_units': 89, 'scale': 0.05708020586758806, 'lr': 0.08977944480285195, 'dr': 0.9322163714952125}...\n",
      "2/2 [==============================] - 0s 11ms/step - loss: 0.2789 - mean_absolute_percentage_error: 737.0671\n",
      "INFO: model evaluation on test data:\n",
      "\tloss: 0.2788795530796051\n",
      "\tMAPE: 737.0670776367188\n",
      "INFO: error: 737.0670776367188\n",
      "INFO: trying {'n_recurrent_units': 35, 'n_dense_units': 34, 'scale': 0.04252282788970141, 'lr': 0.015723470556081896, 'dr': 0.8472016766410424}...\n",
      "2/2 [==============================] - 0s 9ms/step - loss: 0.2432 - mean_absolute_percentage_error: 692.8409\n",
      "INFO: model evaluation on test data:\n",
      "\tloss: 0.24323543906211853\n",
      "\tMAPE: 692.8408813476562\n",
      "INFO: error: 692.8408813476562\n",
      "INFO: trying {'n_recurrent_units': 89, 'n_dense_units': 25, 'scale': 0.034641915233655056, 'lr': 0.04738683599587529, 'dr': 0.9064258668972752}...\n",
      "2/2 [==============================] - 0s 16ms/step - loss: 0.2635 - mean_absolute_percentage_error: 685.2582\n",
      "INFO: model evaluation on test data:\n",
      "\tloss: 0.26353150606155396\n",
      "\tMAPE: 685.2582397460938\n",
      "INFO: error: 685.2582397460938\n",
      "INFO: trying {'n_recurrent_units': 80, 'n_dense_units': 33, 'scale': 0.08958715540011167, 'lr': 0.04602654144886657, 'dr': 0.9315870960127628}...\n",
      "2/2 [==============================] - 0s 14ms/step - loss: 0.2346 - mean_absolute_percentage_error: 695.9708\n",
      "INFO: model evaluation on test data:\n",
      "\tloss: 0.23461247980594635\n",
      "\tMAPE: 695.9707641601562\n",
      "INFO: error: 695.9707641601562\n",
      "INFO: trying {'n_recurrent_units': 59, 'n_dense_units': 70, 'scale': 0.06860242749911716, 'lr': 0.014991856457861713, 'dr': 0.8054292909486797}...\n",
      "2/2 [==============================] - 0s 12ms/step - loss: 0.3105 - mean_absolute_percentage_error: 840.4773\n",
      "INFO: model evaluation on test data:\n",
      "\tloss: 0.31049519777297974\n",
      "\tMAPE: 840.477294921875\n",
      "INFO: error: 840.477294921875\n",
      "INFO: trying {'n_recurrent_units': 36, 'n_dense_units': 39, 'scale': 0.03535791591615078, 'lr': 0.0036831197193378335, 'dr': 0.8908049057271812}...\n",
      "2/2 [==============================] - 0s 11ms/step - loss: 0.2995 - mean_absolute_percentage_error: 818.8301\n",
      "INFO: model evaluation on test data:\n",
      "\tloss: 0.29945871233940125\n",
      "\tMAPE: 818.830078125\n",
      "INFO: error: 818.830078125\n",
      "INFO: trying {'n_recurrent_units': 72, 'n_dense_units': 46, 'scale': 0.013417524153389815, 'lr': 0.04845104493623482, 'dr': 0.9052229502118107}...\n",
      "2/2 [==============================] - 0s 11ms/step - loss: 0.2735 - mean_absolute_percentage_error: 699.5609\n",
      "INFO: model evaluation on test data:\n",
      "\tloss: 0.27346479892730713\n",
      "\tMAPE: 699.5608520507812\n",
      "INFO: error: 699.5608520507812\n",
      "INFO: trying {'n_recurrent_units': 62, 'n_dense_units': 99, 'scale': 0.021864769175766467, 'lr': 0.02456759949940141, 'dr': 0.9664727775309936}...\n",
      "2/2 [==============================] - 0s 11ms/step - loss: 0.2468 - mean_absolute_percentage_error: 596.6545\n",
      "INFO: model evaluation on test data:\n",
      "\tloss: 0.24683524668216705\n",
      "\tMAPE: 596.654541015625\n",
      "INFO: error: 596.654541015625\n",
      "INFO: trying {'n_recurrent_units': 67, 'n_dense_units': 32, 'scale': 0.09677746619661606, 'lr': 0.03498820289369865, 'dr': 0.8776012655281821}...\n",
      "2/2 [==============================] - 0s 10ms/step - loss: 0.3002 - mean_absolute_percentage_error: 806.6682\n",
      "INFO: model evaluation on test data:\n",
      "\tloss: 0.30020564794540405\n",
      "\tMAPE: 806.668212890625\n",
      "INFO: error: 806.668212890625\n",
      "INFO: trying {'n_recurrent_units': 72, 'n_dense_units': 66, 'scale': 0.030363333470863313, 'lr': 0.08769853568910913, 'dr': 0.8015295838837373}...\n"
     ]
    },
    {
     "name": "stdout",
     "output_type": "stream",
     "text": [
      "2/2 [==============================] - 0s 10ms/step - loss: 0.2774 - mean_absolute_percentage_error: 756.0858\n",
      "INFO: model evaluation on test data:\n",
      "\tloss: 0.2773744761943817\n",
      "\tMAPE: 756.0857543945312\n",
      "INFO: error: 756.0857543945312\n",
      "INFO: trying {'n_recurrent_units': 31, 'n_dense_units': 86, 'scale': 0.029336885851934537, 'lr': 0.006955288031099965, 'dr': 0.8059547728237468}...\n",
      "2/2 [==============================] - 0s 8ms/step - loss: 0.3186 - mean_absolute_percentage_error: 860.4317\n",
      "INFO: model evaluation on test data:\n",
      "\tloss: 0.31862932443618774\n",
      "\tMAPE: 860.4317016601562\n",
      "INFO: error: 860.4317016601562\n",
      "INFO: trying {'n_recurrent_units': 50, 'n_dense_units': 67, 'scale': 0.05067562895999152, 'lr': 0.05638488897113659, 'dr': 0.9607048826407776}...\n",
      "2/2 [==============================] - 0s 14ms/step - loss: 0.2797 - mean_absolute_percentage_error: 756.6168\n",
      "INFO: model evaluation on test data:\n",
      "\tloss: 0.2797200679779053\n",
      "\tMAPE: 756.6168212890625\n",
      "INFO: error: 756.6168212890625\n",
      "INFO: trying {'n_recurrent_units': 21, 'n_dense_units': 31, 'scale': 0.031851960520171266, 'lr': 0.009526949749543519, 'dr': 0.8195550225736935}...\n",
      "2/2 [==============================] - 0s 10ms/step - loss: 0.3166 - mean_absolute_percentage_error: 833.0727\n",
      "INFO: model evaluation on test data:\n",
      "\tloss: 0.3166343867778778\n",
      "\tMAPE: 833.0726928710938\n",
      "INFO: error: 833.0726928710938\n",
      "INFO: trying {'n_recurrent_units': 33, 'n_dense_units': 73, 'scale': 0.05825329933906061, 'lr': 0.0894812124526471, 'dr': 0.8047436736670582}...\n",
      "2/2 [==============================] - 0s 8ms/step - loss: 0.3078 - mean_absolute_percentage_error: 839.9711\n",
      "INFO: model evaluation on test data:\n",
      "\tloss: 0.3078348636627197\n",
      "\tMAPE: 839.9710693359375\n",
      "INFO: error: 839.9710693359375\n",
      "INFO: trying {'n_recurrent_units': 46, 'n_dense_units': 71, 'scale': 0.08683532508101345, 'lr': 0.04068828685114449, 'dr': 0.9179160950333338}...\n",
      "2/2 [==============================] - 0s 16ms/step - loss: 0.3298 - mean_absolute_percentage_error: 874.4578\n",
      "INFO: model evaluation on test data:\n",
      "\tloss: 0.3298153877258301\n",
      "\tMAPE: 874.4578247070312\n",
      "INFO: error: 874.4578247070312\n",
      "INFO: trying {'n_recurrent_units': 90, 'n_dense_units': 99, 'scale': 0.08419189451708681, 'lr': 0.0012332725229513898, 'dr': 0.8834877952272273}...\n",
      "2/2 [==============================] - 0s 12ms/step - loss: 0.2914 - mean_absolute_percentage_error: 778.3410\n",
      "INFO: model evaluation on test data:\n",
      "\tloss: 0.29143473505973816\n",
      "\tMAPE: 778.3410034179688\n",
      "INFO: error: 778.3410034179688\n",
      "INFO: trying {'n_recurrent_units': 91, 'n_dense_units': 64, 'scale': 0.08807052299381145, 'lr': 0.08046827614648287, 'dr': 0.8474816395904482}...\n",
      "2/2 [==============================] - 0s 9ms/step - loss: 0.3241 - mean_absolute_percentage_error: 842.8907\n",
      "INFO: model evaluation on test data:\n",
      "\tloss: 0.3240736722946167\n",
      "\tMAPE: 842.8906860351562\n",
      "INFO: error: 842.8906860351562\n",
      "INFO: trying {'n_recurrent_units': 40, 'n_dense_units': 35, 'scale': 0.011457701034200712, 'lr': 0.03746657648745051, 'dr': 0.8561440374385335}...\n",
      "2/2 [==============================] - 0s 9ms/step - loss: 0.2493 - mean_absolute_percentage_error: 619.2779\n",
      "INFO: model evaluation on test data:\n",
      "\tloss: 0.2493152618408203\n",
      "\tMAPE: 619.2778930664062\n",
      "INFO: error: 619.2778930664062\n",
      "INFO: trying {'n_recurrent_units': 44, 'n_dense_units': 44, 'scale': 0.06477549848139909, 'lr': 0.09082812142234058, 'dr': 0.8712848902774644}...\n",
      "2/2 [==============================] - 0s 8ms/step - loss: 0.3114 - mean_absolute_percentage_error: 869.3660\n",
      "INFO: model evaluation on test data:\n",
      "\tloss: 0.3113797903060913\n",
      "\tMAPE: 869.365966796875\n",
      "INFO: error: 869.365966796875\n",
      "INFO: trying {'n_recurrent_units': 22, 'n_dense_units': 44, 'scale': 0.018571925679554756, 'lr': 0.011658450825804767, 'dr': 0.9544293639414891}...\n",
      "2/2 [==============================] - 0s 10ms/step - loss: 0.2705 - mean_absolute_percentage_error: 706.5118\n",
      "INFO: model evaluation on test data:\n",
      "\tloss: 0.2704765498638153\n",
      "\tMAPE: 706.5117797851562\n",
      "INFO: error: 706.5117797851562\n",
      "INFO: trying {'n_recurrent_units': 42, 'n_dense_units': 23, 'scale': 0.07381221861919195, 'lr': 0.03210572541886699, 'dr': 0.9863811500923874}...\n",
      "2/2 [==============================] - 0s 19ms/step - loss: 0.3218 - mean_absolute_percentage_error: 838.1238\n",
      "INFO: model evaluation on test data:\n",
      "\tloss: 0.32184627652168274\n",
      "\tMAPE: 838.1238403320312\n",
      "INFO: error: 838.1238403320312\n"
     ]
    }
   ],
   "source": [
    "rgs_result = random_grid_search(n_trials=n_trials, \n",
    "                        n_recurrent_units_min=n_recurrent_units_min, \n",
    "                        n_recurrent_units_max=n_recurrent_units_max, \n",
    "                        n_dense_units_min=n_dense_units_min, \n",
    "                        n_dense_units_max=n_dense_units_max,\n",
    "                        scale_min=scale_min, scale_max=scale_max,\n",
    "                        lr_min=lr_min, lr_max=lr_max, \n",
    "                        dr_min=dr_min, dr_max=dr_max)"
   ]
  },
  {
   "cell_type": "code",
   "execution_count": 22,
   "metadata": {
    "colab": {
     "base_uri": "https://localhost:8080/",
     "height": 1000
    },
    "id": "GrmYGM_RhpKY",
    "outputId": "c16f1211-e15e-4767-d941-84e991b96a7d"
   },
   "outputs": [
    {
     "data": {
      "image/png": "[encoded data removed]",
      "text/plain": [
       "<Figure size 864x648 with 1 Axes>"
      ]
     },
     "metadata": {
      "needs_background": "light"
     },
     "output_type": "display_data"
    },
    {
     "data": {
      "image/png": "[encoded data removed]",
      "text/plain": [
       "<Figure size 864x648 with 1 Axes>"
      ]
     },
     "metadata": {
      "needs_background": "light"
     },
     "output_type": "display_data"
    },
    {
     "data": {
      "image/png": "[encoded data removed]",
      "text/plain": [
       "<Figure size 864x648 with 1 Axes>"
      ]
     },
     "metadata": {
      "needs_background": "light"
     },
     "output_type": "display_data"
    },
    {
     "data": {
      "image/png": "[encoded data removed]",
      "text/plain": [
       "<Figure size 864x648 with 1 Axes>"
      ]
     },
     "metadata": {
      "needs_background": "light"
     },
     "output_type": "display_data"
    },
    {
     "data": {
      "image/png": "[encoded data removed]",
      "text/plain": [
       "<Figure size 864x648 with 1 Axes>"
      ]
     },
     "metadata": {
      "needs_background": "light"
     },
     "output_type": "display_data"
    }
   ],
   "source": [
    "hyperparameters = list(rgs_result[0].get('hp').keys())\n",
    "ys = [d.get('error') for d in rgs_result]\n",
    "for hyperparameter in hyperparameters:\n",
    "  xs = [d.get('hp').get(hyperparameter) for d in rgs_result]\n",
    "  plt.scatter(xs, ys)\n",
    "  plt.xlabel(hyperparameter)\n",
    "  plt.ylabel('Error')\n",
    "  plt.title(f'Error by {hyperparameter}')\n",
    "  plt.show()"
   ]
  },
  {
   "cell_type": "code",
   "execution_count": 23,
   "metadata": {
    "id": "izw57AV72b_J"
   },
   "outputs": [],
   "source": [
    "def get_best_hp(rgs_result: List[Dict]):\n",
    "  best_error = None\n",
    "  for r in rgs_result:\n",
    "    if r.get('error') is None:\n",
    "      continue\n",
    "    if best_error is None or r.get('error') < best_error:\n",
    "      best_hp = r.get('hp')\n",
    "      best_error = r.get('error')\n",
    "  return best_hp, best_error"
   ]
  },
  {
   "cell_type": "code",
   "execution_count": 24,
   "metadata": {
    "colab": {
     "base_uri": "https://localhost:8080/"
    },
    "id": "Oxtv8mg73LsF",
    "outputId": "cd0c176a-0027-454b-c1b0-88a045bcbab9"
   },
   "outputs": [
    {
     "name": "stdout",
     "output_type": "stream",
     "text": [
      "best_hp: {'n_recurrent_units': 88, 'n_dense_units': 65, 'scale': 0.056014639198599794, 'lr': 0.07764737764174351, 'dr': 0.9391309636278907}\n",
      "Corresponding best_error: 443.40557861328125\n"
     ]
    }
   ],
   "source": [
    "best_hp, best_error = get_best_hp(rgs_result)\n",
    "print(f'best_hp: {best_hp}\\nCorresponding best_error: {best_error}')"
   ]
  },
  {
   "cell_type": "code",
   "execution_count": 25,
   "metadata": {
    "colab": {
     "base_uri": "https://localhost:8080/"
    },
    "id": "yvddyQ4w4Dpn",
    "outputId": "eac85249-e0b6-4195-bb45-6b229873fc9d"
   },
   "outputs": [
    {
     "name": "stdout",
     "output_type": "stream",
     "text": [
      "2/2 [==============================] - 0s 18ms/step - loss: 0.2725 - mean_absolute_percentage_error: 724.0227\n",
      "INFO: model evaluation on test data:\n",
      "\tloss: 0.2724771499633789\n",
      "\tMAPE: 724.022705078125\n"
     ]
    },
    {
     "data": {
      "text/plain": [
       "724.022705078125"
      ]
     },
     "execution_count": 25,
     "metadata": {},
     "output_type": "execute_result"
    }
   ],
   "source": [
    "model = get_model(n_prior=n_prior, n_features=1, n_to_predict=n_to_predict,\n",
    "              scale = best_hp.get('scale'),\n",
    "              n_recurrent_units=best_hp.get('n_recurrent_units'), \n",
    "              n_dense_units=best_hp.get('n_dense_units'))\n",
    "\n",
    "train_persist_model(model=model, X_train=X_train, X_val=X_val, X_test=X_test, \n",
    "                  y_train=y_train, y_val=y_val, y_test=y_test, \n",
    "                  model_name=f'{stock} {target} price', model_path=None, \n",
    "                  lr=best_hp.get('lr'), dr=best_hp.get('dr'),\n",
    "                  max_epochs=max_epochs, patience=patience, \n",
    "                  batch_size=batch_size, plot=False, verbose=0)"
   ]
  },
  {
   "cell_type": "markdown",
   "metadata": {
    "id": "611SyKwjZ4kG"
   },
   "source": [
    "## Make prediction"
   ]
  },
  {
   "cell_type": "code",
   "execution_count": 26,
   "metadata": {
    "id": "Vn-peZHKaQn8"
   },
   "outputs": [],
   "source": [
    "def generate_prediction(predict_from: str, stock: str, target: str, model: Model, \n",
    "                        n_prior: int = 21, valid: bool = False) -> None:\n",
    "  \"\"\" Generate predictions from the date `predict_from` based on the `n_prior` \n",
    "  previous values for the price `target` of `stock`\n",
    "    Args:\n",
    "        predict_from (str): format 'yyyy-mm-dd', date after which the predictions will start\n",
    "        stock (str): code of the stock on Yahoo Finance\n",
    "        target (str): target price to predict (e.g. 'Close')\n",
    "        model (Model): Tensorflow model trained for making predictions\n",
    "        n_prior (int): number of previous values to use for the prediction \n",
    "            (must be the same than the one used to train the `model`)\n",
    "        valid (bool): if to plot the actual vs. the predicted values \n",
    "            (only if the prediction time range lies in the past)\n",
    "    \"\"\"\n",
    "  predict_from_dt = datetime.strptime(predict_from, '%Y-%m-%d')\n",
    "  start_dt = predict_from_dt - timedelta(days=int(n_prior * 1.5))\n",
    "  start = start_dt.strftime('%Y-%m-%d')\n",
    "  data = yf.download(tickers=stock, period='1d', start=start, end=predict_from)\n",
    "  data = data[target]\n",
    "  # Normalize\n",
    "  min_value, max_value = data.min(), data.max()\n",
    "  data = (data - min_value) / (max_value - min_value)\n",
    "  data = data.values[data.shape[0] - n_prior:].reshape(1, -1, 1)\n",
    "\n",
    "  predictions = model.predict(data)\n",
    "  predictions = predictions * (max_value - min_value) + min_value # de-normalize\n",
    "  predictions = predictions.flatten()\n",
    "  prediction_dates = [predict_from_dt + timedelta(days=i+1) for i in range(predictions.shape[0])]\n",
    "  predictions = DataFrame({'date': prediction_dates, 'prediction': predictions})\n",
    "  predictions = predictions.set_index('date')\n",
    "  if valid:\n",
    "    start_valid = predict_from_dt + timedelta(days=1)\n",
    "    end_valid = predict_from_dt + timedelta(int(1.5 * predictions.shape[0]))\n",
    "    start_valid = start_valid.strftime('%Y-%m-%d')\n",
    "    end_valid = end_valid.strftime('%Y-%m-%d')\n",
    "    true_values = yf.download(tickers=stock, period='1d', start=start_valid, end=end_valid)\n",
    "    true_values = true_values[[target]].loc[:predictions.index.max(),:]\n",
    "    fig, ax = plt.subplots(1)\n",
    "    ax.plot(true_values, label='actual')\n",
    "    ax.plot(predictions, label='predicted')\n",
    "    ax.set_title(f'Actual vs. Prediction for stock {stock} between {start_valid} and {end_valid}')\n",
    "    ax.set(xlabel='day', ylabel=f'{stock} ${target} price ($)')\n",
    "    ax.legend()\n",
    "    plt.show()\n",
    "  return predictions"
   ]
  },
  {
   "cell_type": "code",
   "execution_count": 27,
   "metadata": {
    "colab": {
     "base_uri": "https://localhost:8080/",
     "height": 602
    },
    "id": "QzXZGuIaaWTW",
    "outputId": "e555c78b-94b5-4995-8f14-23eedcc5f45a"
   },
   "outputs": [
    {
     "name": "stdout",
     "output_type": "stream",
     "text": [
      "[*********************100%***********************]  1 of 1 completed\n",
      "[*********************100%***********************]  1 of 1 completed\n"
     ]
    },
    {
     "data": {
      "image/png": "[encoded data removed]",
      "text/plain": [
       "<Figure size 864x648 with 1 Axes>"
      ]
     },
     "metadata": {
      "needs_background": "light"
     },
     "output_type": "display_data"
    }
   ],
   "source": [
    "predict_from = '2021-6-9'\n",
    "predictions = generate_prediction(predict_from=predict_from, stock=stock, \n",
    "                                  target=target, model=model, n_prior=n_prior, \n",
    "                                  valid=True)"
   ]
  },
  {
   "cell_type": "code",
   "execution_count": 28,
   "metadata": {
    "id": "__MswHX8bH_Z"
   },
   "outputs": [
    {
     "data": {
      "text/html": [
       "<div>\n",
       "<style scoped>\n",
       "    .dataframe tbody tr th:only-of-type {\n",
       "        vertical-align: middle;\n",
       "    }\n",
       "\n",
       "    .dataframe tbody tr th {\n",
       "        vertical-align: top;\n",
       "    }\n",
       "\n",
       "    .dataframe thead th {\n",
       "        text-align: right;\n",
       "    }\n",
       "</style>\n",
       "<table border=\"1\" class=\"dataframe\">\n",
       "  <thead>\n",
       "    <tr style=\"text-align: right;\">\n",
       "      <th></th>\n",
       "      <th>prediction</th>\n",
       "    </tr>\n",
       "    <tr>\n",
       "      <th>date</th>\n",
       "      <th></th>\n",
       "    </tr>\n",
       "  </thead>\n",
       "  <tbody>\n",
       "    <tr>\n",
       "      <th>2021-06-10</th>\n",
       "      <td>129.345291</td>\n",
       "    </tr>\n",
       "    <tr>\n",
       "      <th>2021-06-11</th>\n",
       "      <td>129.071075</td>\n",
       "    </tr>\n",
       "    <tr>\n",
       "      <th>2021-06-12</th>\n",
       "      <td>131.334061</td>\n",
       "    </tr>\n",
       "    <tr>\n",
       "      <th>2021-06-13</th>\n",
       "      <td>129.501236</td>\n",
       "    </tr>\n",
       "    <tr>\n",
       "      <th>2021-06-14</th>\n",
       "      <td>129.901047</td>\n",
       "    </tr>\n",
       "    <tr>\n",
       "      <th>2021-06-15</th>\n",
       "      <td>130.399643</td>\n",
       "    </tr>\n",
       "    <tr>\n",
       "      <th>2021-06-16</th>\n",
       "      <td>130.094727</td>\n",
       "    </tr>\n",
       "  </tbody>\n",
       "</table>\n",
       "</div>"
      ],
      "text/plain": [
       "            prediction\n",
       "date                  \n",
       "2021-06-10  129.345291\n",
       "2021-06-11  129.071075\n",
       "2021-06-12  131.334061\n",
       "2021-06-13  129.501236\n",
       "2021-06-14  129.901047\n",
       "2021-06-15  130.399643\n",
       "2021-06-16  130.094727"
      ]
     },
     "execution_count": 28,
     "metadata": {},
     "output_type": "execute_result"
    }
   ],
   "source": [
    "predictions"
   ]
  },
  {
   "cell_type": "code",
   "execution_count": null,
   "metadata": {
    "id": "w9Zvkh8K03e9"
   },
   "outputs": [],
   "source": []
  }
 ],
 "metadata": {
  "colab": {
   "name": "stock_prediction.ipynb",
   "provenance": []
  },
  "kernelspec": {
   "display_name": "Python 3",
   "language": "python",
   "name": "python3"
  },
  "language_info": {
   "codemirror_mode": {
    "name": "ipython",
    "version": 3
   },
   "file_extension": ".py",
   "mimetype": "text/x-python",
   "name": "python",
   "nbconvert_exporter": "python",
   "pygments_lexer": "ipython3",
   "version": "3.8.6"
  },
  "toc": {
   "base_numbering": 1,
   "nav_menu": {},
   "number_sections": true,
   "sideBar": true,
   "skip_h1_title": false,
   "title_cell": "Table of Contents",
   "title_sidebar": "Contents",
   "toc_cell": false,
   "toc_position": {},
   "toc_section_display": true,
   "toc_window_display": false
  }
 },
 "nbformat": 4,
 "nbformat_minor": 1
}
