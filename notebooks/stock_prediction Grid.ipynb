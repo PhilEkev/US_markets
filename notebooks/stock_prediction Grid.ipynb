{
 "cells": [
  {
   "cell_type": "markdown",
   "metadata": {
    "id": "k_Djzu2SAl-H"
   },
   "source": [
    "# Predict Stock price\n",
    "\n",
    "This is a notebook illustrating how to predict stock price from [Yahoo Finance](https://finance.yahoo.com/) data with a recurrent neural network."
   ]
  },
  {
   "cell_type": "code",
   "execution_count": 1,
   "metadata": {
    "colab": {
     "base_uri": "https://localhost:8080/"
    },
    "id": "1UmAmERoB7kG",
    "outputId": "97c7c3a9-b4d8-437f-a24e-a6144440d341",
    "scrolled": true
   },
   "outputs": [
    {
     "name": "stdout",
     "output_type": "stream",
     "text": [
      "Requirement already satisfied: yfinance in /home/juliend/.pyenv/versions/3.8.6/envs/usmarket/lib/python3.8/site-packages (0.1.59)\n",
      "Requirement already satisfied: numpy>=1.15 in /home/juliend/.pyenv/versions/3.8.6/envs/usmarket/lib/python3.8/site-packages (from yfinance) (1.19.5)\n",
      "Requirement already satisfied: pandas>=0.24 in /home/juliend/.pyenv/versions/3.8.6/envs/usmarket/lib/python3.8/site-packages (from yfinance) (1.2.4)\n",
      "Requirement already satisfied: lxml>=4.5.1 in /home/juliend/.pyenv/versions/3.8.6/envs/usmarket/lib/python3.8/site-packages (from yfinance) (4.6.3)\n",
      "Requirement already satisfied: requests>=2.20 in /home/juliend/.pyenv/versions/3.8.6/envs/usmarket/lib/python3.8/site-packages (from yfinance) (2.25.1)\n",
      "Requirement already satisfied: multitasking>=0.0.7 in /home/juliend/.pyenv/versions/3.8.6/envs/usmarket/lib/python3.8/site-packages (from yfinance) (0.0.9)\n",
      "Requirement already satisfied: python-dateutil>=2.7.3 in /home/juliend/.pyenv/versions/3.8.6/envs/usmarket/lib/python3.8/site-packages (from pandas>=0.24->yfinance) (2.8.1)\n",
      "Requirement already satisfied: pytz>=2017.3 in /home/juliend/.pyenv/versions/3.8.6/envs/usmarket/lib/python3.8/site-packages (from pandas>=0.24->yfinance) (2021.1)\n",
      "Requirement already satisfied: six>=1.5 in /home/juliend/.pyenv/versions/3.8.6/envs/usmarket/lib/python3.8/site-packages (from python-dateutil>=2.7.3->pandas>=0.24->yfinance) (1.15.0)\n",
      "Requirement already satisfied: certifi>=2017.4.17 in /home/juliend/.pyenv/versions/3.8.6/envs/usmarket/lib/python3.8/site-packages (from requests>=2.20->yfinance) (2021.5.30)\n",
      "Requirement already satisfied: idna<3,>=2.5 in /home/juliend/.pyenv/versions/3.8.6/envs/usmarket/lib/python3.8/site-packages (from requests>=2.20->yfinance) (2.10)\n",
      "Requirement already satisfied: chardet<5,>=3.0.2 in /home/juliend/.pyenv/versions/3.8.6/envs/usmarket/lib/python3.8/site-packages (from requests>=2.20->yfinance) (4.0.0)\n",
      "Requirement already satisfied: urllib3<1.27,>=1.21.1 in /home/juliend/.pyenv/versions/3.8.6/envs/usmarket/lib/python3.8/site-packages (from requests>=2.20->yfinance) (1.26.5)\n"
     ]
    }
   ],
   "source": [
    "# Install library for fetching Yahoo Finance data\n",
    "!pip install yfinance"
   ]
  },
  {
   "cell_type": "code",
   "execution_count": 2,
   "metadata": {
    "id": "Et_lSzUwCEat"
   },
   "outputs": [],
   "source": [
    "import yfinance as yf\n",
    "import matplotlib.pyplot as plt\n",
    "from pandas import DataFrame, Series\n",
    "from typing import Dict, List, Tuple, Union\n",
    "from numpy import array, arange, zeros\n",
    "from numpy.random import permutation, randint, uniform\n",
    "from pathlib import Path\n",
    "from datetime import datetime, timedelta\n",
    "\n",
    "plt.rcParams['figure.figsize'] = [12, 9]  # plot larger than default"
   ]
  },
  {
   "cell_type": "markdown",
   "metadata": {
    "id": "6SuxbKnF25Rv"
   },
   "source": [
    "Define some constants (adapt the values to your use case):"
   ]
  },
  {
   "cell_type": "code",
   "execution_count": 3,
   "metadata": {
    "id": "dUmkwqnnETdz"
   },
   "outputs": [],
   "source": [
    "stock = 'AAPL'\n",
    "# Train model with daily data between `start` and `end`\n",
    "start = '2020-04-30'\n",
    "end = '2021-04-30'\n",
    "target = 'Close'\n",
    "# We will use the `n_prior` previous days to predict the nex `n_to_predict` days\n",
    "n_prior = 28\n",
    "n_to_predict = 7\n",
    "# Proportion of validation and test data\n",
    "p_val = .1\n",
    "p_test = .2 "
   ]
  },
  {
   "cell_type": "markdown",
   "metadata": {
    "id": "ueSqgtuxDe1C"
   },
   "source": [
    "## Fetching data\n",
    "Fetch data directly from the *yfinance* library"
   ]
  },
  {
   "cell_type": "code",
   "execution_count": 4,
   "metadata": {
    "colab": {
     "base_uri": "https://localhost:8080/"
    },
    "id": "S-HD3SLCApHj",
    "outputId": "557cb66d-ea0d-4330-e121-7acd2b48dc7e"
   },
   "outputs": [
    {
     "name": "stdout",
     "output_type": "stream",
     "text": [
      "[*********************100%***********************]  1 of 1 completed\n"
     ]
    }
   ],
   "source": [
    "data = yf.download(tickers=stock, period='1d', start=start, end=end)"
   ]
  },
  {
   "cell_type": "code",
   "execution_count": 5,
   "metadata": {
    "colab": {
     "base_uri": "https://localhost:8080/",
     "height": 455
    },
    "id": "BMuJUezaBOlG",
    "outputId": "36043ebf-73c8-4291-f571-8f41a5e89b80"
   },
   "outputs": [
    {
     "data": {
      "text/html": [
       "<div>\n",
       "<style scoped>\n",
       "    .dataframe tbody tr th:only-of-type {\n",
       "        vertical-align: middle;\n",
       "    }\n",
       "\n",
       "    .dataframe tbody tr th {\n",
       "        vertical-align: top;\n",
       "    }\n",
       "\n",
       "    .dataframe thead th {\n",
       "        text-align: right;\n",
       "    }\n",
       "</style>\n",
       "<table border=\"1\" class=\"dataframe\">\n",
       "  <thead>\n",
       "    <tr style=\"text-align: right;\">\n",
       "      <th></th>\n",
       "      <th>Open</th>\n",
       "      <th>High</th>\n",
       "      <th>Low</th>\n",
       "      <th>Close</th>\n",
       "      <th>Adj Close</th>\n",
       "      <th>Volume</th>\n",
       "    </tr>\n",
       "    <tr>\n",
       "      <th>Date</th>\n",
       "      <th></th>\n",
       "      <th></th>\n",
       "      <th></th>\n",
       "      <th></th>\n",
       "      <th></th>\n",
       "      <th></th>\n",
       "    </tr>\n",
       "  </thead>\n",
       "  <tbody>\n",
       "    <tr>\n",
       "      <th>2020-04-29</th>\n",
       "      <td>71.182503</td>\n",
       "      <td>72.417503</td>\n",
       "      <td>70.972504</td>\n",
       "      <td>71.932503</td>\n",
       "      <td>71.258163</td>\n",
       "      <td>137280800</td>\n",
       "    </tr>\n",
       "    <tr>\n",
       "      <th>2020-04-30</th>\n",
       "      <td>72.489998</td>\n",
       "      <td>73.632500</td>\n",
       "      <td>72.087502</td>\n",
       "      <td>73.449997</td>\n",
       "      <td>72.761436</td>\n",
       "      <td>183064000</td>\n",
       "    </tr>\n",
       "    <tr>\n",
       "      <th>2020-05-01</th>\n",
       "      <td>71.562500</td>\n",
       "      <td>74.750000</td>\n",
       "      <td>71.462502</td>\n",
       "      <td>72.267502</td>\n",
       "      <td>71.590034</td>\n",
       "      <td>240616800</td>\n",
       "    </tr>\n",
       "    <tr>\n",
       "      <th>2020-05-04</th>\n",
       "      <td>72.292503</td>\n",
       "      <td>73.422501</td>\n",
       "      <td>71.580002</td>\n",
       "      <td>73.290001</td>\n",
       "      <td>72.602936</td>\n",
       "      <td>133568000</td>\n",
       "    </tr>\n",
       "    <tr>\n",
       "      <th>2020-05-05</th>\n",
       "      <td>73.764999</td>\n",
       "      <td>75.250000</td>\n",
       "      <td>73.614998</td>\n",
       "      <td>74.389999</td>\n",
       "      <td>73.692627</td>\n",
       "      <td>147751200</td>\n",
       "    </tr>\n",
       "    <tr>\n",
       "      <th>...</th>\n",
       "      <td>...</td>\n",
       "      <td>...</td>\n",
       "      <td>...</td>\n",
       "      <td>...</td>\n",
       "      <td>...</td>\n",
       "      <td>...</td>\n",
       "    </tr>\n",
       "    <tr>\n",
       "      <th>2021-04-23</th>\n",
       "      <td>132.160004</td>\n",
       "      <td>135.119995</td>\n",
       "      <td>132.160004</td>\n",
       "      <td>134.320007</td>\n",
       "      <td>134.092239</td>\n",
       "      <td>78657500</td>\n",
       "    </tr>\n",
       "    <tr>\n",
       "      <th>2021-04-26</th>\n",
       "      <td>134.830002</td>\n",
       "      <td>135.059998</td>\n",
       "      <td>133.559998</td>\n",
       "      <td>134.720001</td>\n",
       "      <td>134.491562</td>\n",
       "      <td>66905100</td>\n",
       "    </tr>\n",
       "    <tr>\n",
       "      <th>2021-04-27</th>\n",
       "      <td>135.009995</td>\n",
       "      <td>135.410004</td>\n",
       "      <td>134.110001</td>\n",
       "      <td>134.389999</td>\n",
       "      <td>134.162109</td>\n",
       "      <td>66015800</td>\n",
       "    </tr>\n",
       "    <tr>\n",
       "      <th>2021-04-28</th>\n",
       "      <td>134.309998</td>\n",
       "      <td>135.020004</td>\n",
       "      <td>133.080002</td>\n",
       "      <td>133.580002</td>\n",
       "      <td>133.353485</td>\n",
       "      <td>107760100</td>\n",
       "    </tr>\n",
       "    <tr>\n",
       "      <th>2021-04-29</th>\n",
       "      <td>136.470001</td>\n",
       "      <td>137.070007</td>\n",
       "      <td>132.449997</td>\n",
       "      <td>133.479996</td>\n",
       "      <td>133.253662</td>\n",
       "      <td>151101000</td>\n",
       "    </tr>\n",
       "  </tbody>\n",
       "</table>\n",
       "<p>253 rows × 6 columns</p>\n",
       "</div>"
      ],
      "text/plain": [
       "                  Open        High         Low       Close   Adj Close  \\\n",
       "Date                                                                     \n",
       "2020-04-29   71.182503   72.417503   70.972504   71.932503   71.258163   \n",
       "2020-04-30   72.489998   73.632500   72.087502   73.449997   72.761436   \n",
       "2020-05-01   71.562500   74.750000   71.462502   72.267502   71.590034   \n",
       "2020-05-04   72.292503   73.422501   71.580002   73.290001   72.602936   \n",
       "2020-05-05   73.764999   75.250000   73.614998   74.389999   73.692627   \n",
       "...                ...         ...         ...         ...         ...   \n",
       "2021-04-23  132.160004  135.119995  132.160004  134.320007  134.092239   \n",
       "2021-04-26  134.830002  135.059998  133.559998  134.720001  134.491562   \n",
       "2021-04-27  135.009995  135.410004  134.110001  134.389999  134.162109   \n",
       "2021-04-28  134.309998  135.020004  133.080002  133.580002  133.353485   \n",
       "2021-04-29  136.470001  137.070007  132.449997  133.479996  133.253662   \n",
       "\n",
       "               Volume  \n",
       "Date                   \n",
       "2020-04-29  137280800  \n",
       "2020-04-30  183064000  \n",
       "2020-05-01  240616800  \n",
       "2020-05-04  133568000  \n",
       "2020-05-05  147751200  \n",
       "...               ...  \n",
       "2021-04-23   78657500  \n",
       "2021-04-26   66905100  \n",
       "2021-04-27   66015800  \n",
       "2021-04-28  107760100  \n",
       "2021-04-29  151101000  \n",
       "\n",
       "[253 rows x 6 columns]"
      ]
     },
     "execution_count": 5,
     "metadata": {},
     "output_type": "execute_result"
    }
   ],
   "source": [
    "data"
   ]
  },
  {
   "cell_type": "markdown",
   "metadata": {
    "id": "rJ3v3bHhD4YX"
   },
   "source": [
    "We want only the `target` values:"
   ]
  },
  {
   "cell_type": "code",
   "execution_count": 6,
   "metadata": {
    "id": "Rk5S7Px-BV_R"
   },
   "outputs": [],
   "source": [
    "data = data[[target]]"
   ]
  },
  {
   "cell_type": "code",
   "execution_count": 7,
   "metadata": {
    "colab": {
     "base_uri": "https://localhost:8080/",
     "height": 538
    },
    "id": "_alp-YAED-lM",
    "outputId": "da0d697e-1ed3-4d28-9427-00ee4c75b271"
   },
   "outputs": [
    {
     "data": {
      "image/png": "[encoded data removed]",
      "text/plain": [
       "<Figure size 864x648 with 1 Axes>"
      ]
     },
     "metadata": {
      "needs_background": "light"
     },
     "output_type": "display_data"
    }
   ],
   "source": [
    "data.plot()\n",
    "plt.xlabel(f'Date')\n",
    "plt.ylabel(f'{stock} price ($)')\n",
    "plt.title(f'{stock} price between {start} and {end}')\n",
    "plt.show()"
   ]
  },
  {
   "cell_type": "markdown",
   "metadata": {
    "id": "AULpGIBSIqb2"
   },
   "source": [
    "## Prepare training data\n",
    "First we define a function `build_x_y()` that will take slices from the column `target` of `data`. Each slice will be split into a range of `n_prior` days for `X` and the following `n_to_predict` day for `y`.\n",
    "\n",
    "### Create `X` and `y`"
   ]
  },
  {
   "cell_type": "code",
   "execution_count": 8,
   "metadata": {
    "id": "x9OKE8gyGllO"
   },
   "outputs": [],
   "source": [
    "def build_x_y(data: DataFrame, target: str = 'Close',  n_prior: int = 21, \n",
    "              n_to_predict: int = 14) -> Tuple[array, array]:\n",
    "    \"\"\" Split `df` into X and y. X is a 2-dimensional numpy array. The first \n",
    "    dimension corresponds to the sample, the second to the sequence in a sample \n",
    "    and the third to the features in each element of the sequence. `y` is a \n",
    "    2-dimensional array, the first is for the samples and the second for the \n",
    "    output values of the corresponding sequence.\n",
    "\n",
    "    Args:\n",
    "        data (DataFrame): Preprocessed input dataset\n",
    "        target (str, optional): Column name of the target variable in `data`. \n",
    "            Defaults to 'Close'.\n",
    "        n_prior (int, optional): Number of days in the past used in each sample\n",
    "           of the training dataset. Defaults to 21.\n",
    "        n_to_predict (int, optional): Numbers of day to predict ahead. \n",
    "            Defaults to 14.\n",
    "\n",
    "    Returns:\n",
    "        Tuple[array, array]: Input and output corresponding to the preprocessed \n",
    "          samples in `data`.\n",
    "    \"\"\"\n",
    "    n = n_prior + n_to_predict  # batch \"width\"\n",
    "    s0, s1 = data.shape[0], data.shape[1]\n",
    "    s = s0 - n  # size of training data\n",
    "\n",
    "    X, y = zeros(shape=(s, n_prior, s1)), zeros(shape=(s, n_to_predict))\n",
    "    shuffled_order = permutation(arange(0, s, 1)) # shuffle data directly\n",
    "    for i in shuffled_order:\n",
    "        X[i] = data.iloc[i: i + n_prior,:].values\n",
    "        y[i] = data[target][i + n_prior: i + n]\n",
    "        # Normalize each batch individually\n",
    "        min_value, max_value = X[i].min(), X[i].max()\n",
    "        X[i] = (X[i] - min_value) / (max_value - min_value) \n",
    "        y[i] = (y[i] - min_value) / (max_value - min_value)\n",
    "        \n",
    "    return X, y"
   ]
  },
  {
   "cell_type": "code",
   "execution_count": 9,
   "metadata": {
    "id": "Vm-lTZg8H74L"
   },
   "outputs": [],
   "source": [
    "X, y = build_x_y(data=data, target='Close', n_prior=n_prior, n_to_predict=n_to_predict)"
   ]
  },
  {
   "cell_type": "markdown",
   "metadata": {
    "id": "ZK-WLxOALyEe"
   },
   "source": [
    "### Split `X` and `y`\n",
    "Compute where to split `X` and `y` to obtain a proportion `p_val` of validation data and `p_test` of test data:"
   ]
  },
  {
   "cell_type": "code",
   "execution_count": 10,
   "metadata": {
    "id": "C8TEgt2RJ9hQ"
   },
   "outputs": [],
   "source": [
    "def get_split_inds(size: int, p_val: float = .1, p_test: float = .2, \n",
    "                   do_shuffle: bool = False) -> Tuple[array, array, array]:\n",
    "    \"\"\" Compute indices corresponding to the random splitting of `size` samples in train, validation and test sets \n",
    "    with size corresponding to `p_test` and `p_val`.\n",
    "\n",
    "    Args:\n",
    "        size (int): Number of samples in the dataset to split.\n",
    "        p_val (float, optional): Proportion of validation data in the split. Defaults to .1.\n",
    "        p_test (float, optional): Proportion of test data in the split. Defaults to .2.\n",
    "\n",
    "    Returns:\n",
    "        Tuple[array, array, array]: Three arrays corresponding to the indices of the train, validation and test sets.\n",
    "    \"\"\"\n",
    "    indices = arange(0, size, 1)\n",
    "    if do_shuffle:\n",
    "      indices = permutation(indices)\n",
    "\n",
    "    val_split_ind = round(size * (1 - p_test - p_val))\n",
    "    test_split_ind = round(size * (1 - p_test))\n",
    "\n",
    "    train_inds = indices[:val_split_ind]\n",
    "    val_inds = indices[val_split_ind: test_split_ind]\n",
    "    test_inds = indices[test_split_ind:]\n",
    "    \n",
    "    return train_inds, val_inds, test_inds"
   ]
  },
  {
   "cell_type": "code",
   "execution_count": 11,
   "metadata": {
    "id": "FI4jBHsRMIbK"
   },
   "outputs": [],
   "source": [
    "size = X.shape[0]\n",
    "train_inds, val_inds, test_inds = get_split_inds(size=size, p_val=p_val, p_test=p_test)\n",
    "X_train, X_val, X_test = X[train_inds], X[val_inds], X[test_inds]\n",
    "y_train, y_val, y_test = y[train_inds], y[val_inds], y[test_inds]"
   ]
  },
  {
   "cell_type": "markdown",
   "metadata": {
    "id": "NS7Xdc0gPCvk"
   },
   "source": [
    "## Modelization\n",
    "\n"
   ]
  },
  {
   "cell_type": "code",
   "execution_count": 12,
   "metadata": {
    "id": "av1lwHsSp1BT"
   },
   "outputs": [],
   "source": [
    "from tensorflow.keras.layers import Input, GRU, Lambda, Dense, Dropout\n",
    "from tensorflow.keras.models import Model\n",
    "from tensorflow.keras.callbacks import EarlyStopping, LearningRateScheduler, History\n",
    "from tensorflow.keras.optimizers import Adam\n",
    "from tensorflow.keras.losses import Huber\n",
    "from tensorflow.keras.metrics import MeanAbsolutePercentageError\n",
    "from tensorflow import expand_dims, matmul\n",
    "from tensorflow.nn import softmax"
   ]
  },
  {
   "cell_type": "markdown",
   "metadata": {
    "id": "nQUgua962_0j"
   },
   "source": [
    "Define some model trainin specific constants:"
   ]
  },
  {
   "cell_type": "code",
   "execution_count": 13,
   "metadata": {
    "id": "bIEPvilITFA_"
   },
   "outputs": [],
   "source": [
    "n_recurrent_units = 100  # size of the recurrent layers\n",
    "n_dense_units = 64  # size of the final dense layer\n",
    "scale = .05  # scale for attention layer\n",
    "lr = 1e-2  # learning rate\n",
    "dr = .9  # decay rate\n",
    "max_epochs = 300\n",
    "patience = 10\n",
    "batch_size = 32\n",
    "model_path = None  # if None: will not be persisted\n"
   ]
  },
  {
   "cell_type": "markdown",
   "metadata": {
    "id": "SjNnh9yPTAc1"
   },
   "source": [
    "Define a function to provide a deep recurrent model:"
   ]
  },
  {
   "cell_type": "code",
   "execution_count": 14,
   "metadata": {
    "id": "ushSAEhMOs4W"
   },
   "outputs": [],
   "source": [
    "def attention_seq(query_value, scale):\n",
    "    \"\"\" Define time series specific attention layer\n",
    "    see: https://stackoverflow.com/questions/61757475/sequence-to-sequence-for-time-series-prediction \"\"\"\n",
    "    query, value = query_value\n",
    "    score = matmul(query, value, transpose_b=True) # (batch, timestamp, 1)\n",
    "    score = scale * score # scale with a fixed number (it can be finetuned or learned during train)\n",
    "    score = softmax(score, axis=1) # softmax on timestamp axis\n",
    "    score = score * query # (batch, timestamp, feat)\n",
    "    return score\n",
    "\n",
    "\n",
    "def get_model(n_prior: int, n_features: int, n_to_predict: int, scale: float = .05,\n",
    "              n_recurrent_units: int = 100, n_dense_units=62) -> Model:\n",
    "    \"\"\" Build and return a recurrent auto-encoder model for predicting.\n",
    "\n",
    "    Args:\n",
    "        n_prior (int): number of days in the past used in each sample of the training dataset.\n",
    "        n_features (int): number of  (columns) in the input dataset.\n",
    "        n_to_predict (int): numbers of day to predict ahead\n",
    "        n_units (int): size of the recurrent layer\n",
    "\n",
    "    Returns:\n",
    "        tf.keras.models.Model: reccurent auto-encoder model for predicting\n",
    "    \"\"\"\n",
    "    inp = Input((n_prior, n_features))\n",
    "    seq, state = GRU(n_recurrent_units, activation='relu',\n",
    "                    return_state=True, return_sequences=True)(inp)\n",
    "    att = Lambda(attention_seq, arguments={'scale': scale})([seq, expand_dims(state, 1)])\n",
    "    x = GRU(n_recurrent_units, activation='relu')(att)\n",
    "    x = Dense(n_dense_units, activation='relu')(x)\n",
    "    x = Dropout(0.2)(x)\n",
    "    out = Dense(n_to_predict)(x)\n",
    "\n",
    "    model = Model(inp, out)\n",
    "    return model"
   ]
  },
  {
   "cell_type": "markdown",
   "metadata": {
    "id": "LD6Oe7SwRBgv"
   },
   "source": [
    "Define a function for training the model:"
   ]
  },
  {
   "cell_type": "code",
   "execution_count": 15,
   "metadata": {
    "id": "7DSZzfXCMwu6"
   },
   "outputs": [],
   "source": [
    "def train_persist_model(model: Model, X_train: DataFrame, X_val: DataFrame, X_test: DataFrame, y_train: Series,\n",
    "                        y_val: Series, y_test: Series, model_name: str, model_path: Union[str, Path, None], lr: float = 1e-3, dr: float = .99, \n",
    "                        max_epochs: int = 300, patience: int = 10, batch_size: int = 32, plot: bool = True, verbose: int = 0) -> None:\n",
    "    \"\"\" Train and persist a model for predicting.\n",
    "\n",
    "    Args:\n",
    "        model (tf.keras.models.Model): Tensorflow Keras model to train and persist\n",
    "        X_train (DataFrame): Training input dataset corresponding to past data with their features\n",
    "        X_val (DataFrame): Validation input dataset. Used at each batch to monitor model performance.\n",
    "        X_test (DataFrame): Test input dataset, for measuring model performance after training.\n",
    "        y_train (Series): Training output ground truth\n",
    "        y_val (Series): Validation output ground truth\n",
    "        y_test (Series): Test output ground truth.\n",
    "        model_name (str): name of the model\n",
    "        model_path (Union[str, Path]): Path under which the model will be persisted. If None, the model will not be persisted.\n",
    "        lr (float, optional): Learning rate for the optimizer training the model. Defaults to 1e-3.\n",
    "        dr (float, optional): Decay rate for the learning rate. Defaults to .99.\n",
    "        max_epochs (int, optional): Max. number of epochs for training the model. Defaults to 300.\n",
    "        patience (int, optional): number of epochs without improvement of val_loss before stopping\n",
    "        batch_size (int, optional): Number of training data samples in each batch. Defaults to 32.\n",
    "        plot (bool, optional): If to generate and persist plot corresponding to the training history. Defaults to True.\n",
    "        verbose (int, optional): If to print details during the training. Defaults to 0.\n",
    "    \"\"\"\n",
    "    reduce_lr = LearningRateScheduler(lambda x: lr * dr ** x)\n",
    "    early_stopping = EarlyStopping(monitor='val_loss',\n",
    "                                   patience=patience,\n",
    "                                   mode='min',\n",
    "                                   restore_best_weights=True)\n",
    "\n",
    "\n",
    "    model.compile(optimizer=Adam(),\n",
    "                loss='mse',\n",
    "                metrics=[MeanAbsolutePercentageError()])\n",
    "\n",
    "    history = model.fit(X_train, y_train, \n",
    "                        epochs=max_epochs, \n",
    "                        validation_data=(X_val, y_val),\n",
    "                        batch_size=batch_size,\n",
    "                        verbose=verbose,\n",
    "                        callbacks=[reduce_lr, early_stopping])\n",
    "\n",
    "    if plot:\n",
    "        plot_training(history=history, model_name=model_name)\n",
    "    \n",
    "    if model_path:\n",
    "      model.save(model_path)\n",
    "      print(f'INFO: model {model_path} saved under {model_path}')\n",
    "\n",
    "    results = model.evaluate(X_test, y_test)\n",
    "    test_loss, test_mape = results[0], results[1]\n",
    "    print(f'INFO: model evaluation on test data:\\n\\tloss: {test_loss}\\n\\tMAPE: {test_mape}')\n",
    "    return test_mape"
   ]
  },
  {
   "cell_type": "markdown",
   "metadata": {
    "id": "V8TFkjbPSHnq"
   },
   "source": [
    "And finally, define a function to plot the model training:"
   ]
  },
  {
   "cell_type": "code",
   "execution_count": 16,
   "metadata": {
    "id": "e3RqRCYRRLd9"
   },
   "outputs": [],
   "source": [
    "def plot_training(history: History, model_name: str) -> None:\n",
    "    \"\"\" Plot history of model training. The model must contain MAE as a metric.\n",
    "        Saves the plot in the folder `plots_dir` defined in *parameters.py* under the name `model_name`.jpg\n",
    "    Args:\n",
    "        history (tf.keras.callbacks.History): model history resulting from `.fit()`\n",
    "        model_name (str): [description]\n",
    "    \"\"\"\n",
    "    fig, (ax1, ax2) = plt.subplots(2)\n",
    "    fig.suptitle(f'{model_name} training')\n",
    "    \n",
    "    ax1.plot(history.history['mean_absolute_percentage_error'])\n",
    "    ax1.plot(history.history['val_mean_absolute_percentage_error'])\n",
    "    ax1.set_title(f'{model_name} mean_absolute_percentage_error')\n",
    "    ax1.set(xlabel='epoch', ylabel='mean_absolute_error')\n",
    "    ax1.legend(['train', 'val'], loc='upper left')\n",
    "    # summarize history for loss\n",
    "    ax2.plot(history.history['loss'])\n",
    "    ax2.plot(history.history['val_loss'])\n",
    "    ax2.set_title(f'{model_name} loss')\n",
    "    ax2.set(xlabel='epoch', ylabel='loss')\n",
    "    ax2.legend(['train', 'val'], loc='upper left')\n",
    "    \n",
    "    plt.show()"
   ]
  },
  {
   "cell_type": "markdown",
   "metadata": {
    "id": "v6iG2mDQWMF2"
   },
   "source": [
    "Now combine all this to train the model:"
   ]
  },
  {
   "cell_type": "code",
   "execution_count": 17,
   "metadata": {
    "colab": {
     "base_uri": "https://localhost:8080/"
    },
    "id": "R_-w5MkOSOEh",
    "outputId": "314f2e7b-2ec8-4a0f-bd38-8b5d8f6d1d11"
   },
   "outputs": [
    {
     "name": "stdout",
     "output_type": "stream",
     "text": [
      "Model: \"model\"\n",
      "__________________________________________________________________________________________________\n",
      "Layer (type)                    Output Shape         Param #     Connected to                     \n",
      "==================================================================================================\n",
      "input_1 (InputLayer)            [(None, 28, 1)]      0                                            \n",
      "__________________________________________________________________________________________________\n",
      "gru (GRU)                       [(None, 28, 100), (N 30900       input_1[0][0]                    \n",
      "__________________________________________________________________________________________________\n",
      "tf.expand_dims (TFOpLambda)     (None, 1, 100)       0           gru[0][1]                        \n",
      "__________________________________________________________________________________________________\n",
      "lambda (Lambda)                 (None, 28, 100)      0           gru[0][0]                        \n",
      "                                                                 tf.expand_dims[0][0]             \n",
      "__________________________________________________________________________________________________\n",
      "gru_1 (GRU)                     (None, 100)          60600       lambda[0][0]                     \n",
      "__________________________________________________________________________________________________\n",
      "dense (Dense)                   (None, 64)           6464        gru_1[0][0]                      \n",
      "__________________________________________________________________________________________________\n",
      "dropout (Dropout)               (None, 64)           0           dense[0][0]                      \n",
      "__________________________________________________________________________________________________\n",
      "dense_1 (Dense)                 (None, 7)            455         dropout[0][0]                    \n",
      "==================================================================================================\n",
      "Total params: 98,419\n",
      "Trainable params: 98,419\n",
      "Non-trainable params: 0\n",
      "__________________________________________________________________________________________________\n"
     ]
    }
   ],
   "source": [
    "model = get_model(n_prior=n_prior, n_features=1, n_to_predict=n_to_predict, scale=scale, n_recurrent_units=n_recurrent_units, n_dense_units=n_dense_units)\n",
    "model.summary()"
   ]
  },
  {
   "cell_type": "code",
   "execution_count": 18,
   "metadata": {
    "colab": {
     "base_uri": "https://localhost:8080/",
     "height": 1000
    },
    "id": "ZfqW9WHZeEbI",
    "outputId": "b3c27cad-03c0-44ef-8909-38c13e2e8e16"
   },
   "outputs": [
    {
     "name": "stdout",
     "output_type": "stream",
     "text": [
      "Epoch 1/300\n",
      "5/5 [==============================] - 2s 128ms/step - loss: 0.6909 - mean_absolute_percentage_error: 102.6466 - val_loss: 0.2367 - val_mean_absolute_percentage_error: 144.0954\n",
      "Epoch 2/300\n",
      "5/5 [==============================] - 0s 34ms/step - loss: 0.2911 - mean_absolute_percentage_error: 97.6180 - val_loss: 0.1483 - val_mean_absolute_percentage_error: 93.6328\n",
      "Epoch 3/300\n",
      "5/5 [==============================] - 0s 33ms/step - loss: 0.2422 - mean_absolute_percentage_error: 120.6059 - val_loss: 0.2039 - val_mean_absolute_percentage_error: 169.9910\n",
      "Epoch 4/300\n",
      "5/5 [==============================] - 0s 33ms/step - loss: 0.2132 - mean_absolute_percentage_error: 153.7011 - val_loss: 0.1744 - val_mean_absolute_percentage_error: 159.5923\n",
      "Epoch 5/300\n",
      "5/5 [==============================] - 0s 35ms/step - loss: 0.1894 - mean_absolute_percentage_error: 120.3108 - val_loss: 0.1529 - val_mean_absolute_percentage_error: 142.5399\n",
      "Epoch 6/300\n",
      "5/5 [==============================] - 0s 32ms/step - loss: 0.1897 - mean_absolute_percentage_error: 121.2344 - val_loss: 0.1680 - val_mean_absolute_percentage_error: 156.3164\n",
      "Epoch 7/300\n",
      "5/5 [==============================] - 0s 36ms/step - loss: 0.1879 - mean_absolute_percentage_error: 130.8230 - val_loss: 0.1692 - val_mean_absolute_percentage_error: 158.2770\n",
      "Epoch 8/300\n",
      "5/5 [==============================] - 0s 34ms/step - loss: 0.1853 - mean_absolute_percentage_error: 131.6279 - val_loss: 0.1715 - val_mean_absolute_percentage_error: 160.5194\n",
      "Epoch 9/300\n",
      "5/5 [==============================] - 0s 34ms/step - loss: 0.1833 - mean_absolute_percentage_error: 130.2912 - val_loss: 0.1693 - val_mean_absolute_percentage_error: 158.9737\n",
      "Epoch 10/300\n",
      "5/5 [==============================] - 0s 32ms/step - loss: 0.1786 - mean_absolute_percentage_error: 129.9950 - val_loss: 0.1584 - val_mean_absolute_percentage_error: 150.5923\n",
      "Epoch 11/300\n",
      "5/5 [==============================] - 0s 33ms/step - loss: 0.1755 - mean_absolute_percentage_error: 119.5443 - val_loss: 0.1543 - val_mean_absolute_percentage_error: 146.8621\n",
      "Epoch 12/300\n",
      "5/5 [==============================] - 0s 33ms/step - loss: 0.1788 - mean_absolute_percentage_error: 119.6585 - val_loss: 0.1565 - val_mean_absolute_percentage_error: 148.7101\n"
     ]
    },
    {
     "data": {
      "image/png": "[encoded data removed]",
      "text/plain": [
       "<Figure size 864x648 with 2 Axes>"
      ]
     },
     "metadata": {
      "needs_background": "light"
     },
     "output_type": "display_data"
    },
    {
     "name": "stdout",
     "output_type": "stream",
     "text": [
      "2/2 [==============================] - 0s 7ms/step - loss: 0.2514 - mean_absolute_percentage_error: 591.2961\n",
      "INFO: model evaluation on test data:\n",
      "\tloss: 0.25135529041290283\n",
      "\tMAPE: 591.296142578125\n"
     ]
    },
    {
     "data": {
      "text/plain": [
       "591.296142578125"
      ]
     },
     "execution_count": 18,
     "metadata": {},
     "output_type": "execute_result"
    }
   ],
   "source": [
    "train_persist_model(model=model, X_train=X_train, X_val=X_val, X_test=X_test, \n",
    "                    y_train=y_train, y_val=y_val, y_test=y_test, \n",
    "                    model_name=f'{stock} {target} price', model_path=model_path, lr=lr, dr=dr,\n",
    "                    max_epochs=max_epochs, patience=patience, \n",
    "                    batch_size=batch_size, plot=True, verbose=1)"
   ]
  },
  {
   "cell_type": "markdown",
   "metadata": {
    "id": "RLU2WLLmVChL"
   },
   "source": [
    "## Grid search optimal model and training hyperparameters"
   ]
  },
  {
   "cell_type": "code",
   "execution_count": 19,
   "metadata": {
    "id": "c1SMz74BVNKk"
   },
   "outputs": [],
   "source": [
    "def evaluate_hp(hp: Dict):\n",
    "  model = get_model(n_prior=n_prior, n_features=1, n_to_predict=n_to_predict,\n",
    "              scale = hp.get('scale'),\n",
    "              n_recurrent_units=hp.get('n_recurrent_units'), \n",
    "              n_dense_units=hp.get('n_dense_units'))\n",
    "  error = train_persist_model(model=model, X_train=X_train, X_val=X_val, X_test=X_test, \n",
    "                    y_train=y_train, y_val=y_val, y_test=y_test, \n",
    "                    model_name=f'{stock} {target} price', model_path=None, \n",
    "                    lr=hp.get('lr'), dr=hp.get('dr'),\n",
    "                    max_epochs=max_epochs, patience=patience, \n",
    "                    batch_size=batch_size, plot=False, verbose=0)\n",
    "  return error\n",
    "  \n",
    "\n",
    "def random_grid_search(n_trials: int = 100, \n",
    "                        n_recurrent_units_min: int = 10, \n",
    "                        n_recurrent_units_max: int = 100, \n",
    "                        n_dense_units_min: int = 20, \n",
    "                        n_dense_units_max: int = 100,\n",
    "                        scale_min: float = .01, scale_max: float = .1,\n",
    "                        lr_min: float = 1e-4, lr_max: float = 1e-1, \n",
    "                        dr_min: float = 0.8, dr_max: float = 0.999):\n",
    "  mapping = {'n_recurrent_units': [n_recurrent_units_min, n_recurrent_units_max, 'int'], \n",
    "              'n_dense_units': [n_dense_units_min, n_dense_units_max, 'int'],\n",
    "              'scale': [scale_min, scale_max, 'float'],\n",
    "              'lr': [lr_min, lr_max, 'float'], \n",
    "              'dr': [dr_min, dr_max, 'float']}\n",
    "  res = []\n",
    "  for _ in range(n_trials):\n",
    "    hp = dict()\n",
    "    for name, parameters in mapping.items():\n",
    "      if parameters[2] == 'int':\n",
    "        value = int(randint(low=parameters[0], high=parameters[1]))\n",
    "      else:\n",
    "        value = uniform(low=parameters[0], high=parameters[1])\n",
    "      hp[name] = value\n",
    "    print(f'INFO: trying {hp}...')\n",
    "    error = evaluate_hp(hp)\n",
    "    print(f'INFO: error: {error}')\n",
    "    res.append({'hp': hp, 'error': error})\n",
    "  return res\n",
    "  "
   ]
  },
  {
   "cell_type": "markdown",
   "metadata": {
    "id": "WHPe1E-Ub3V4"
   },
   "source": [
    "Define parameters for random grid search:"
   ]
  },
  {
   "cell_type": "code",
   "execution_count": 20,
   "metadata": {
    "id": "AsqcW-iTboTP"
   },
   "outputs": [],
   "source": [
    "n_trials = 40\n",
    "n_recurrent_units_min = 10, \n",
    "n_recurrent_units_max = 100, \n",
    "n_dense_units_min = 20\n",
    "n_dense_units_max = 100\n",
    "scale_min = .01\n",
    "scale_max = .1\n",
    "lr_min = 1e-4\n",
    "lr_max = 1e-1\n",
    "dr_min = 0.8\n",
    "dr_max = 0.999"
   ]
  },
  {
   "cell_type": "code",
   "execution_count": 21,
   "metadata": {
    "colab": {
     "base_uri": "https://localhost:8080/"
    },
    "id": "wvtrHSCrb-2v",
    "outputId": "61ec3cbb-7f7b-4adc-94c1-8c590fc2d28d"
   },
   "outputs": [
    {
     "name": "stdout",
     "output_type": "stream",
     "text": [
      "INFO: trying {'n_recurrent_units': 26, 'n_dense_units': 36, 'scale': 0.016689884099286918, 'lr': 0.03581565780928302, 'dr': 0.9034444753472434}...\n",
      "2/2 [==============================] - 0s 6ms/step - loss: 0.2037 - mean_absolute_percentage_error: 619.7932\n",
      "INFO: model evaluation on test data:\n",
      "\tloss: 0.2036571055650711\n",
      "\tMAPE: 619.793212890625\n",
      "INFO: error: 619.793212890625\n",
      "INFO: trying {'n_recurrent_units': 67, 'n_dense_units': 50, 'scale': 0.05544678058728849, 'lr': 0.09278648448551696, 'dr': 0.9906233411360515}...\n",
      "2/2 [==============================] - 0s 7ms/step - loss: 0.2934 - mean_absolute_percentage_error: 779.6489\n",
      "INFO: model evaluation on test data:\n",
      "\tloss: 0.29340529441833496\n",
      "\tMAPE: 779.6488647460938\n",
      "INFO: error: 779.6488647460938\n",
      "INFO: trying {'n_recurrent_units': 44, 'n_dense_units': 83, 'scale': 0.023063955681255868, 'lr': 0.09447126722391119, 'dr': 0.9903543456700595}...\n",
      "2/2 [==============================] - 0s 6ms/step - loss: 0.3013 - mean_absolute_percentage_error: 798.1291\n",
      "INFO: model evaluation on test data:\n",
      "\tloss: 0.301327645778656\n",
      "\tMAPE: 798.1290893554688\n",
      "INFO: error: 798.1290893554688\n",
      "INFO: trying {'n_recurrent_units': 59, 'n_dense_units': 51, 'scale': 0.0819957821540753, 'lr': 0.07621510834604045, 'dr': 0.8849422624474281}...\n",
      "2/2 [==============================] - 0s 7ms/step - loss: 0.3283 - mean_absolute_percentage_error: 835.6580\n",
      "INFO: model evaluation on test data:\n",
      "\tloss: 0.3283369243144989\n",
      "\tMAPE: 835.657958984375\n",
      "INFO: error: 835.657958984375\n",
      "INFO: trying {'n_recurrent_units': 19, 'n_dense_units': 84, 'scale': 0.047507326925060184, 'lr': 0.05990890871611786, 'dr': 0.8310069007806626}...\n",
      "2/2 [==============================] - 0s 6ms/step - loss: 0.3470 - mean_absolute_percentage_error: 909.5839\n",
      "INFO: model evaluation on test data:\n",
      "\tloss: 0.3469674289226532\n",
      "\tMAPE: 909.5839233398438\n",
      "INFO: error: 909.5839233398438\n",
      "INFO: trying {'n_recurrent_units': 74, 'n_dense_units': 72, 'scale': 0.05452552760468922, 'lr': 0.07861625607505232, 'dr': 0.9682075489062036}...\n",
      "2/2 [==============================] - 0s 6ms/step - loss: 0.2988 - mean_absolute_percentage_error: 796.9080\n",
      "INFO: model evaluation on test data:\n",
      "\tloss: 0.29884469509124756\n",
      "\tMAPE: 796.907958984375\n",
      "INFO: error: 796.907958984375\n",
      "INFO: trying {'n_recurrent_units': 86, 'n_dense_units': 78, 'scale': 0.0344480822958223, 'lr': 0.04732445259422458, 'dr': 0.8539310753420888}...\n",
      "2/2 [==============================] - 0s 6ms/step - loss: 0.2697 - mean_absolute_percentage_error: 700.7964\n",
      "INFO: model evaluation on test data:\n",
      "\tloss: 0.2696888744831085\n",
      "\tMAPE: 700.7964477539062\n",
      "INFO: error: 700.7964477539062\n",
      "INFO: trying {'n_recurrent_units': 31, 'n_dense_units': 37, 'scale': 0.06063812800857897, 'lr': 0.05728781657002011, 'dr': 0.9693023305746841}...\n",
      "2/2 [==============================] - 0s 5ms/step - loss: 0.2663 - mean_absolute_percentage_error: 720.6750\n",
      "INFO: model evaluation on test data:\n",
      "\tloss: 0.2662520408630371\n",
      "\tMAPE: 720.6749877929688\n",
      "INFO: error: 720.6749877929688\n",
      "INFO: trying {'n_recurrent_units': 61, 'n_dense_units': 52, 'scale': 0.02606203852990229, 'lr': 0.09112465636389029, 'dr': 0.9895097462092961}...\n",
      "2/2 [==============================] - 0s 7ms/step - loss: 0.3606 - mean_absolute_percentage_error: 922.6135\n",
      "INFO: model evaluation on test data:\n",
      "\tloss: 0.36061105132102966\n",
      "\tMAPE: 922.613525390625\n",
      "INFO: error: 922.613525390625\n",
      "INFO: trying {'n_recurrent_units': 70, 'n_dense_units': 82, 'scale': 0.01881632672326036, 'lr': 0.004377220764748376, 'dr': 0.8030082347675634}...\n",
      "2/2 [==============================] - 0s 6ms/step - loss: 0.2896 - mean_absolute_percentage_error: 785.9252\n",
      "INFO: model evaluation on test data:\n",
      "\tloss: 0.2895750403404236\n",
      "\tMAPE: 785.9251708984375\n",
      "INFO: error: 785.9251708984375\n",
      "INFO: trying {'n_recurrent_units': 47, 'n_dense_units': 95, 'scale': 0.058126298832625066, 'lr': 0.04385752878541411, 'dr': 0.8750078263753075}...\n",
      "2/2 [==============================] - 0s 6ms/step - loss: 0.2971 - mean_absolute_percentage_error: 791.9766\n",
      "INFO: model evaluation on test data:\n",
      "\tloss: 0.29711589217185974\n",
      "\tMAPE: 791.9766235351562\n",
      "INFO: error: 791.9766235351562\n",
      "INFO: trying {'n_recurrent_units': 18, 'n_dense_units': 92, 'scale': 0.04068402033625135, 'lr': 0.045101456183688056, 'dr': 0.8514952117449663}...\n",
      "2/2 [==============================] - 0s 5ms/step - loss: 0.2137 - mean_absolute_percentage_error: 612.9146\n",
      "INFO: model evaluation on test data:\n",
      "\tloss: 0.2137378305196762\n",
      "\tMAPE: 612.91455078125\n",
      "INFO: error: 612.91455078125\n",
      "INFO: trying {'n_recurrent_units': 24, 'n_dense_units': 37, 'scale': 0.023510007024119935, 'lr': 0.07817249818353243, 'dr': 0.9517601879132542}...\n",
      "2/2 [==============================] - 0s 5ms/step - loss: 0.2519 - mean_absolute_percentage_error: 751.8137\n",
      "INFO: model evaluation on test data:\n",
      "\tloss: 0.2519345283508301\n",
      "\tMAPE: 751.8136596679688\n",
      "INFO: error: 751.8136596679688\n",
      "INFO: trying {'n_recurrent_units': 12, 'n_dense_units': 97, 'scale': 0.024982688958141076, 'lr': 0.0615518808315412, 'dr': 0.8861971077465329}...\n",
      "2/2 [==============================] - 0s 5ms/step - loss: 0.3174 - mean_absolute_percentage_error: 833.4310\n",
      "INFO: model evaluation on test data:\n",
      "\tloss: 0.3173925578594208\n",
      "\tMAPE: 833.4310302734375\n",
      "INFO: error: 833.4310302734375\n",
      "INFO: trying {'n_recurrent_units': 78, 'n_dense_units': 50, 'scale': 0.052659626068816974, 'lr': 0.024369717045030076, 'dr': 0.9803934087692983}...\n",
      "2/2 [==============================] - 0s 7ms/step - loss: 0.2937 - mean_absolute_percentage_error: 761.8757\n",
      "INFO: model evaluation on test data:\n",
      "\tloss: 0.29372739791870117\n",
      "\tMAPE: 761.875732421875\n",
      "INFO: error: 761.875732421875\n",
      "INFO: trying {'n_recurrent_units': 35, 'n_dense_units': 73, 'scale': 0.08549056930184258, 'lr': 0.04678077937417903, 'dr': 0.989530067610803}...\n",
      "2/2 [==============================] - 0s 6ms/step - loss: 0.2723 - mean_absolute_percentage_error: 713.2725\n",
      "INFO: model evaluation on test data:\n",
      "\tloss: 0.2722568213939667\n",
      "\tMAPE: 713.2725219726562\n",
      "INFO: error: 713.2725219726562\n",
      "INFO: trying {'n_recurrent_units': 69, 'n_dense_units': 76, 'scale': 0.01570958732967312, 'lr': 0.09762225896780106, 'dr': 0.8749059160787542}...\n",
      "2/2 [==============================] - 0s 6ms/step - loss: 0.2655 - mean_absolute_percentage_error: 613.5508\n",
      "INFO: model evaluation on test data:\n",
      "\tloss: 0.2654738128185272\n",
      "\tMAPE: 613.55078125\n",
      "INFO: error: 613.55078125\n",
      "INFO: trying {'n_recurrent_units': 30, 'n_dense_units': 47, 'scale': 0.01526720709055266, 'lr': 0.022473583873809686, 'dr': 0.8646336309211025}...\n",
      "2/2 [==============================] - 0s 6ms/step - loss: 0.3502 - mean_absolute_percentage_error: 907.8645\n",
      "INFO: model evaluation on test data:\n",
      "\tloss: 0.35020503401756287\n",
      "\tMAPE: 907.864501953125\n",
      "INFO: error: 907.864501953125\n",
      "INFO: trying {'n_recurrent_units': 96, 'n_dense_units': 25, 'scale': 0.04226728727821855, 'lr': 0.09332205951705336, 'dr': 0.9325515575202475}...\n",
      "2/2 [==============================] - 0s 6ms/step - loss: 0.3141 - mean_absolute_percentage_error: 835.9009\n",
      "INFO: model evaluation on test data:\n",
      "\tloss: 0.3141385614871979\n",
      "\tMAPE: 835.9009399414062\n",
      "INFO: error: 835.9009399414062\n",
      "INFO: trying {'n_recurrent_units': 15, 'n_dense_units': 82, 'scale': 0.053211240988673886, 'lr': 0.04289250380064159, 'dr': 0.9128821912067172}...\n",
      "2/2 [==============================] - 0s 5ms/step - loss: 0.2592 - mean_absolute_percentage_error: 677.1436\n",
      "INFO: model evaluation on test data:\n",
      "\tloss: 0.25916779041290283\n",
      "\tMAPE: 677.1436157226562\n",
      "INFO: error: 677.1436157226562\n",
      "INFO: trying {'n_recurrent_units': 73, 'n_dense_units': 48, 'scale': 0.048574420501514816, 'lr': 0.05819451497018579, 'dr': 0.8366509109361889}...\n",
      "2/2 [==============================] - 0s 6ms/step - loss: 0.2997 - mean_absolute_percentage_error: 784.7181\n",
      "INFO: model evaluation on test data:\n",
      "\tloss: 0.29968783259391785\n",
      "\tMAPE: 784.7181396484375\n",
      "INFO: error: 784.7181396484375\n",
      "INFO: trying {'n_recurrent_units': 47, 'n_dense_units': 50, 'scale': 0.07310354036842302, 'lr': 0.07460275421544933, 'dr': 0.9697327416168726}...\n",
      "2/2 [==============================] - 0s 6ms/step - loss: 0.2993 - mean_absolute_percentage_error: 789.7848\n",
      "INFO: model evaluation on test data:\n",
      "\tloss: 0.29925739765167236\n",
      "\tMAPE: 789.7847900390625\n",
      "INFO: error: 789.7847900390625\n",
      "INFO: trying {'n_recurrent_units': 76, 'n_dense_units': 42, 'scale': 0.0532175386928434, 'lr': 0.017173314066500748, 'dr': 0.8094315354977415}...\n"
     ]
    },
    {
     "name": "stdout",
     "output_type": "stream",
     "text": [
      "2/2 [==============================] - 0s 6ms/step - loss: 0.2177 - mean_absolute_percentage_error: 645.7455\n",
      "INFO: model evaluation on test data:\n",
      "\tloss: 0.2177378535270691\n",
      "\tMAPE: 645.7455444335938\n",
      "INFO: error: 645.7455444335938\n",
      "INFO: trying {'n_recurrent_units': 68, 'n_dense_units': 56, 'scale': 0.07132407618464916, 'lr': 0.0601060166825371, 'dr': 0.9298855818410672}...\n",
      "2/2 [==============================] - 0s 6ms/step - loss: 0.3283 - mean_absolute_percentage_error: 861.2973\n",
      "INFO: model evaluation on test data:\n",
      "\tloss: 0.3283313810825348\n",
      "\tMAPE: 861.2973022460938\n",
      "INFO: error: 861.2973022460938\n",
      "INFO: trying {'n_recurrent_units': 20, 'n_dense_units': 46, 'scale': 0.05453314935813668, 'lr': 0.05386426035430365, 'dr': 0.9880399757789333}...\n",
      "2/2 [==============================] - 0s 5ms/step - loss: 0.3117 - mean_absolute_percentage_error: 842.4719\n",
      "INFO: model evaluation on test data:\n",
      "\tloss: 0.31165704131126404\n",
      "\tMAPE: 842.471923828125\n",
      "INFO: error: 842.471923828125\n",
      "INFO: trying {'n_recurrent_units': 41, 'n_dense_units': 64, 'scale': 0.06227994956396217, 'lr': 0.020078917350168705, 'dr': 0.9695481646550782}...\n",
      "2/2 [==============================] - 0s 5ms/step - loss: 0.3369 - mean_absolute_percentage_error: 892.7431\n",
      "INFO: model evaluation on test data:\n",
      "\tloss: 0.3369187116622925\n",
      "\tMAPE: 892.7431030273438\n",
      "INFO: error: 892.7431030273438\n",
      "INFO: trying {'n_recurrent_units': 39, 'n_dense_units': 75, 'scale': 0.09016175137221133, 'lr': 0.00018646535369793446, 'dr': 0.9048045887816873}...\n",
      "2/2 [==============================] - 0s 6ms/step - loss: 0.4103 - mean_absolute_percentage_error: 124.0482\n",
      "INFO: model evaluation on test data:\n",
      "\tloss: 0.41028353571891785\n",
      "\tMAPE: 124.04824829101562\n",
      "INFO: error: 124.04824829101562\n",
      "INFO: trying {'n_recurrent_units': 66, 'n_dense_units': 98, 'scale': 0.031036086196457015, 'lr': 0.07170551909709401, 'dr': 0.8561674560164687}...\n",
      "2/2 [==============================] - 0s 7ms/step - loss: 0.2818 - mean_absolute_percentage_error: 742.9563\n",
      "INFO: model evaluation on test data:\n",
      "\tloss: 0.28181836009025574\n",
      "\tMAPE: 742.956298828125\n",
      "INFO: error: 742.956298828125\n",
      "INFO: trying {'n_recurrent_units': 78, 'n_dense_units': 84, 'scale': 0.052050804709710595, 'lr': 0.03315513741495415, 'dr': 0.8831717533551661}...\n",
      "2/2 [==============================] - 0s 8ms/step - loss: 0.3091 - mean_absolute_percentage_error: 828.4651\n",
      "INFO: model evaluation on test data:\n",
      "\tloss: 0.30907347798347473\n",
      "\tMAPE: 828.465087890625\n",
      "INFO: error: 828.465087890625\n",
      "INFO: trying {'n_recurrent_units': 14, 'n_dense_units': 51, 'scale': 0.02136763591096956, 'lr': 0.06477348146854262, 'dr': 0.9126577075594351}...\n",
      "2/2 [==============================] - 0s 6ms/step - loss: 0.3402 - mean_absolute_percentage_error: 897.7945\n",
      "INFO: model evaluation on test data:\n",
      "\tloss: 0.34015730023384094\n",
      "\tMAPE: 897.7944946289062\n",
      "INFO: error: 897.7944946289062\n",
      "INFO: trying {'n_recurrent_units': 95, 'n_dense_units': 93, 'scale': 0.013145711995952176, 'lr': 0.0158903695131937, 'dr': 0.8658368386551918}...\n",
      "2/2 [==============================] - 0s 7ms/step - loss: 0.1856 - mean_absolute_percentage_error: 564.9639\n",
      "INFO: model evaluation on test data:\n",
      "\tloss: 0.18556413054466248\n",
      "\tMAPE: 564.9639282226562\n",
      "INFO: error: 564.9639282226562\n",
      "INFO: trying {'n_recurrent_units': 42, 'n_dense_units': 63, 'scale': 0.045753669419627815, 'lr': 0.02258479668260789, 'dr': 0.8392395412842368}...\n",
      "2/2 [==============================] - 0s 5ms/step - loss: 0.3174 - mean_absolute_percentage_error: 792.5113\n",
      "INFO: model evaluation on test data:\n",
      "\tloss: 0.3174312114715576\n",
      "\tMAPE: 792.5112915039062\n",
      "INFO: error: 792.5112915039062\n",
      "INFO: trying {'n_recurrent_units': 80, 'n_dense_units': 63, 'scale': 0.09674124173229974, 'lr': 0.011162829934863734, 'dr': 0.9901053014369416}...\n",
      "2/2 [==============================] - 0s 7ms/step - loss: 0.3082 - mean_absolute_percentage_error: 783.8430\n",
      "INFO: model evaluation on test data:\n",
      "\tloss: 0.3082275390625\n",
      "\tMAPE: 783.8429565429688\n",
      "INFO: error: 783.8429565429688\n",
      "INFO: trying {'n_recurrent_units': 82, 'n_dense_units': 91, 'scale': 0.09456492772507238, 'lr': 0.05006318511226971, 'dr': 0.8085637414269211}...\n",
      "2/2 [==============================] - 0s 6ms/step - loss: 0.2325 - mean_absolute_percentage_error: 616.2659\n",
      "INFO: model evaluation on test data:\n",
      "\tloss: 0.23251093924045563\n",
      "\tMAPE: 616.2659301757812\n",
      "INFO: error: 616.2659301757812\n",
      "INFO: trying {'n_recurrent_units': 29, 'n_dense_units': 29, 'scale': 0.0883919211199542, 'lr': 0.05060472629256688, 'dr': 0.8975774739964297}...\n",
      "2/2 [==============================] - 0s 5ms/step - loss: 0.2405 - mean_absolute_percentage_error: 727.7714\n",
      "INFO: model evaluation on test data:\n",
      "\tloss: 0.24046531319618225\n",
      "\tMAPE: 727.7714233398438\n",
      "INFO: error: 727.7714233398438\n",
      "INFO: trying {'n_recurrent_units': 70, 'n_dense_units': 93, 'scale': 0.02099525961124747, 'lr': 0.01791559794609683, 'dr': 0.8778429030916733}...\n",
      "2/2 [==============================] - 0s 7ms/step - loss: 0.3169 - mean_absolute_percentage_error: 830.3363\n",
      "INFO: model evaluation on test data:\n",
      "\tloss: 0.31686633825302124\n",
      "\tMAPE: 830.3363037109375\n",
      "INFO: error: 830.3363037109375\n",
      "INFO: trying {'n_recurrent_units': 59, 'n_dense_units': 20, 'scale': 0.01780100456193314, 'lr': 0.05724948329780805, 'dr': 0.85761347769496}...\n",
      "2/2 [==============================] - 0s 6ms/step - loss: 0.2451 - mean_absolute_percentage_error: 651.3633\n",
      "INFO: model evaluation on test data:\n",
      "\tloss: 0.24510398507118225\n",
      "\tMAPE: 651.3633422851562\n",
      "INFO: error: 651.3633422851562\n",
      "INFO: trying {'n_recurrent_units': 35, 'n_dense_units': 60, 'scale': 0.09542146659249735, 'lr': 0.02822506286275991, 'dr': 0.8249160983240776}...\n",
      "2/2 [==============================] - 0s 5ms/step - loss: 0.3244 - mean_absolute_percentage_error: 818.8618\n",
      "INFO: model evaluation on test data:\n",
      "\tloss: 0.3244417905807495\n",
      "\tMAPE: 818.8617553710938\n",
      "INFO: error: 818.8617553710938\n",
      "INFO: trying {'n_recurrent_units': 47, 'n_dense_units': 54, 'scale': 0.06497780564002723, 'lr': 0.09493117049354315, 'dr': 0.9943850733130085}...\n",
      "2/2 [==============================] - 0s 7ms/step - loss: 0.3308 - mean_absolute_percentage_error: 877.9610\n",
      "INFO: model evaluation on test data:\n",
      "\tloss: 0.33076295256614685\n",
      "\tMAPE: 877.9609985351562\n",
      "INFO: error: 877.9609985351562\n",
      "INFO: trying {'n_recurrent_units': 61, 'n_dense_units': 53, 'scale': 0.05556962464222055, 'lr': 0.08508670476573021, 'dr': 0.9083901522001524}...\n",
      "2/2 [==============================] - 0s 6ms/step - loss: 0.2969 - mean_absolute_percentage_error: 800.9387\n",
      "INFO: model evaluation on test data:\n",
      "\tloss: 0.2969141900539398\n",
      "\tMAPE: 800.9386596679688\n",
      "INFO: error: 800.9386596679688\n"
     ]
    }
   ],
   "source": [
    "rgs_result = random_grid_search(n_trials=n_trials, \n",
    "                        n_recurrent_units_min=n_recurrent_units_min, \n",
    "                        n_recurrent_units_max=n_recurrent_units_max, \n",
    "                        n_dense_units_min=n_dense_units_min, \n",
    "                        n_dense_units_max=n_dense_units_max,\n",
    "                        scale_min=scale_min, scale_max=scale_max,\n",
    "                        lr_min=lr_min, lr_max=lr_max, \n",
    "                        dr_min=dr_min, dr_max=dr_max)"
   ]
  },
  {
   "cell_type": "code",
   "execution_count": 22,
   "metadata": {
    "colab": {
     "base_uri": "https://localhost:8080/",
     "height": 1000
    },
    "id": "GrmYGM_RhpKY",
    "outputId": "c16f1211-e15e-4767-d941-84e991b96a7d"
   },
   "outputs": [
    {
     "data": {
      "image/png": "[encoded data removed]",
      "text/plain": [
       "<Figure size 864x648 with 1 Axes>"
      ]
     },
     "metadata": {
      "needs_background": "light"
     },
     "output_type": "display_data"
    },
    {
     "data": {
      "image/png": "[encoded data removed]",
      "text/plain": [
       "<Figure size 864x648 with 1 Axes>"
      ]
     },
     "metadata": {
      "needs_background": "light"
     },
     "output_type": "display_data"
    },
    {
     "data": {
      "image/png": "[encoded data removed]",
      "text/plain": [
       "<Figure size 864x648 with 1 Axes>"
      ]
     },
     "metadata": {
      "needs_background": "light"
     },
     "output_type": "display_data"
    },
    {
     "data": {
      "image/png": "[encoded data removed]",
      "text/plain": [
       "<Figure size 864x648 with 1 Axes>"
      ]
     },
     "metadata": {
      "needs_background": "light"
     },
     "output_type": "display_data"
    },
    {
     "data": {
      "image/png": "[encoded data removed]",
      "text/plain": [
       "<Figure size 864x648 with 1 Axes>"
      ]
     },
     "metadata": {
      "needs_background": "light"
     },
     "output_type": "display_data"
    }
   ],
   "source": [
    "hyperparameters = list(rgs_result[0].get('hp').keys())\n",
    "ys = [d.get('error') for d in rgs_result]\n",
    "for hyperparameter in hyperparameters:\n",
    "  xs = [d.get('hp').get(hyperparameter) for d in rgs_result]\n",
    "  plt.scatter(xs, ys)\n",
    "  plt.xlabel(hyperparameter)\n",
    "  plt.ylabel('Error')\n",
    "  plt.title(f'Error by {hyperparameter}')\n",
    "  plt.show()"
   ]
  },
  {
   "cell_type": "code",
   "execution_count": 23,
   "metadata": {
    "id": "izw57AV72b_J"
   },
   "outputs": [],
   "source": [
    "def get_best_hp(rgs_result: List[Dict]):\n",
    "  best_error = None\n",
    "  for r in rgs_result:\n",
    "    if r.get('error') is None:\n",
    "      continue\n",
    "    if best_error is None or r.get('error') < best_error:\n",
    "      best_hp = r.get('hp')\n",
    "      best_error = r.get('error')\n",
    "  return best_hp, best_error"
   ]
  },
  {
   "cell_type": "code",
   "execution_count": 24,
   "metadata": {
    "colab": {
     "base_uri": "https://localhost:8080/"
    },
    "id": "Oxtv8mg73LsF",
    "outputId": "cd0c176a-0027-454b-c1b0-88a045bcbab9"
   },
   "outputs": [
    {
     "name": "stdout",
     "output_type": "stream",
     "text": [
      "best_hp: {'n_recurrent_units': 39, 'n_dense_units': 75, 'scale': 0.09016175137221133, 'lr': 0.00018646535369793446, 'dr': 0.9048045887816873}\n",
      "Corresponding best_error: 124.04824829101562\n"
     ]
    }
   ],
   "source": [
    "best_hp, best_error = get_best_hp(rgs_result)\n",
    "print(f'best_hp: {best_hp}\\nCorresponding best_error: {best_error}')"
   ]
  },
  {
   "cell_type": "code",
   "execution_count": 25,
   "metadata": {
    "colab": {
     "base_uri": "https://localhost:8080/"
    },
    "id": "yvddyQ4w4Dpn",
    "outputId": "eac85249-e0b6-4195-bb45-6b229873fc9d"
   },
   "outputs": [
    {
     "name": "stdout",
     "output_type": "stream",
     "text": [
      "2/2 [==============================] - 0s 5ms/step - loss: 0.3912 - mean_absolute_percentage_error: 131.8121\n",
      "INFO: model evaluation on test data:\n",
      "\tloss: 0.3911622166633606\n",
      "\tMAPE: 131.8120574951172\n"
     ]
    },
    {
     "data": {
      "text/plain": [
       "131.8120574951172"
      ]
     },
     "execution_count": 25,
     "metadata": {},
     "output_type": "execute_result"
    }
   ],
   "source": [
    "model = get_model(n_prior=n_prior, n_features=1, n_to_predict=n_to_predict,\n",
    "              scale = best_hp.get('scale'),\n",
    "              n_recurrent_units=best_hp.get('n_recurrent_units'), \n",
    "              n_dense_units=best_hp.get('n_dense_units'))\n",
    "\n",
    "train_persist_model(model=model, X_train=X_train, X_val=X_val, X_test=X_test, \n",
    "                  y_train=y_train, y_val=y_val, y_test=y_test, \n",
    "                  model_name=f'{stock} {target} price', model_path=None, \n",
    "                  lr=best_hp.get('lr'), dr=best_hp.get('dr'),\n",
    "                  max_epochs=max_epochs, patience=patience, \n",
    "                  batch_size=batch_size, plot=False, verbose=0)"
   ]
  },
  {
   "cell_type": "markdown",
   "metadata": {
    "id": "611SyKwjZ4kG"
   },
   "source": [
    "## Make prediction"
   ]
  },
  {
   "cell_type": "code",
   "execution_count": 26,
   "metadata": {
    "id": "Vn-peZHKaQn8"
   },
   "outputs": [],
   "source": [
    "def generate_prediction(predict_from: str, stock: str, target: str, model: Model, \n",
    "                        n_prior: int = 21, valid: bool = False) -> None:\n",
    "  \"\"\" Generate predictions from the date `predict_from` based on the `n_prior` \n",
    "  previous values for the price `target` of `stock`\n",
    "    Args:\n",
    "        predict_from (str): format 'yyyy-mm-dd', date after which the predictions will start\n",
    "        stock (str): code of the stock on Yahoo Finance\n",
    "        target (str): target price to predict (e.g. 'Close')\n",
    "        model (Model): Tensorflow model trained for making predictions\n",
    "        n_prior (int): number of previous values to use for the prediction \n",
    "            (must be the same than the one used to train the `model`)\n",
    "        valid (bool): if to plot the actual vs. the predicted values \n",
    "            (only if the prediction time range lies in the past)\n",
    "    \"\"\"\n",
    "  predict_from_dt = datetime.strptime(predict_from, '%Y-%m-%d')\n",
    "  start_dt = predict_from_dt - timedelta(days=int(n_prior * 1.5))\n",
    "  start = start_dt.strftime('%Y-%m-%d')\n",
    "  data = yf.download(tickers=stock, period='1d', start=start, end=predict_from)\n",
    "  data = data[target]\n",
    "  # Normalize\n",
    "  min_value, max_value = data.min(), data.max()\n",
    "  data = (data - min_value) / (max_value - min_value)\n",
    "  data = data.values[data.shape[0] - n_prior:].reshape(1, -1, 1)\n",
    "\n",
    "  predictions = model.predict(data)\n",
    "  predictions = predictions * (max_value - min_value) + min_value # de-normalize\n",
    "  predictions = predictions.flatten()\n",
    "  prediction_dates = [predict_from_dt + timedelta(days=i+1) for i in range(predictions.shape[0])]\n",
    "  predictions = DataFrame({'date': prediction_dates, 'prediction': predictions})\n",
    "  predictions = predictions.set_index('date')\n",
    "  if valid:\n",
    "    start_valid = predict_from_dt + timedelta(days=1)\n",
    "    end_valid = predict_from_dt + timedelta(int(1.5 * predictions.shape[0]))\n",
    "    start_valid = start_valid.strftime('%Y-%m-%d')\n",
    "    end_valid = end_valid.strftime('%Y-%m-%d')\n",
    "    true_values = yf.download(tickers=stock, period='1d', start=start_valid, end=end_valid)\n",
    "    true_values = true_values[[target]].loc[:predictions.index.max(),:]\n",
    "    fig, ax = plt.subplots(1)\n",
    "    ax.plot(true_values, label='actual')\n",
    "    ax.plot(predictions, label='predicted')\n",
    "    ax.set_title(f'Actual vs. Prediction for stock {stock} between {start_valid} and {end_valid}')\n",
    "    ax.set(xlabel='day', ylabel=f'{stock} ${target} price ($)')\n",
    "    ax.legend()\n",
    "    plt.show()\n",
    "  return predictions"
   ]
  },
  {
   "cell_type": "code",
   "execution_count": 27,
   "metadata": {
    "colab": {
     "base_uri": "https://localhost:8080/",
     "height": 602
    },
    "id": "QzXZGuIaaWTW",
    "outputId": "e555c78b-94b5-4995-8f14-23eedcc5f45a"
   },
   "outputs": [
    {
     "name": "stdout",
     "output_type": "stream",
     "text": [
      "[*********************100%***********************]  1 of 1 completed\n",
      "[*********************100%***********************]  1 of 1 completed\n"
     ]
    },
    {
     "data": {
      "image/png": "[encoded data removed]",
      "text/plain": [
       "<Figure size 864x648 with 1 Axes>"
      ]
     },
     "metadata": {
      "needs_background": "light"
     },
     "output_type": "display_data"
    }
   ],
   "source": [
    "predict_from = '2021-2-9'\n",
    "predictions = generate_prediction(predict_from=predict_from, stock=stock, \n",
    "                                  target=target, model=model, n_prior=n_prior, \n",
    "                                  valid=True)"
   ]
  },
  {
   "cell_type": "code",
   "execution_count": 28,
   "metadata": {
    "id": "__MswHX8bH_Z"
   },
   "outputs": [
    {
     "data": {
      "text/html": [
       "<div>\n",
       "<style scoped>\n",
       "    .dataframe tbody tr th:only-of-type {\n",
       "        vertical-align: middle;\n",
       "    }\n",
       "\n",
       "    .dataframe tbody tr th {\n",
       "        vertical-align: top;\n",
       "    }\n",
       "\n",
       "    .dataframe thead th {\n",
       "        text-align: right;\n",
       "    }\n",
       "</style>\n",
       "<table border=\"1\" class=\"dataframe\">\n",
       "  <thead>\n",
       "    <tr style=\"text-align: right;\">\n",
       "      <th></th>\n",
       "      <th>prediction</th>\n",
       "    </tr>\n",
       "    <tr>\n",
       "      <th>date</th>\n",
       "      <th></th>\n",
       "    </tr>\n",
       "  </thead>\n",
       "  <tbody>\n",
       "    <tr>\n",
       "      <th>2021-02-10</th>\n",
       "      <td>128.063675</td>\n",
       "    </tr>\n",
       "    <tr>\n",
       "      <th>2021-02-11</th>\n",
       "      <td>127.622528</td>\n",
       "    </tr>\n",
       "    <tr>\n",
       "      <th>2021-02-12</th>\n",
       "      <td>127.231339</td>\n",
       "    </tr>\n",
       "    <tr>\n",
       "      <th>2021-02-13</th>\n",
       "      <td>127.593712</td>\n",
       "    </tr>\n",
       "    <tr>\n",
       "      <th>2021-02-14</th>\n",
       "      <td>127.928680</td>\n",
       "    </tr>\n",
       "    <tr>\n",
       "      <th>2021-02-15</th>\n",
       "      <td>127.645912</td>\n",
       "    </tr>\n",
       "    <tr>\n",
       "      <th>2021-02-16</th>\n",
       "      <td>127.375771</td>\n",
       "    </tr>\n",
       "  </tbody>\n",
       "</table>\n",
       "</div>"
      ],
      "text/plain": [
       "            prediction\n",
       "date                  \n",
       "2021-02-10  128.063675\n",
       "2021-02-11  127.622528\n",
       "2021-02-12  127.231339\n",
       "2021-02-13  127.593712\n",
       "2021-02-14  127.928680\n",
       "2021-02-15  127.645912\n",
       "2021-02-16  127.375771"
      ]
     },
     "execution_count": 28,
     "metadata": {},
     "output_type": "execute_result"
    }
   ],
   "source": [
    "predictions"
   ]
  },
  {
   "cell_type": "code",
   "execution_count": null,
   "metadata": {
    "id": "w9Zvkh8K03e9"
   },
   "outputs": [],
   "source": []
  }
 ],
 "metadata": {
  "colab": {
   "name": "stock_prediction.ipynb",
   "provenance": []
  },
  "kernelspec": {
   "display_name": "Python 3",
   "language": "python",
   "name": "python3"
  },
  "language_info": {
   "codemirror_mode": {
    "name": "ipython",
    "version": 3
   },
   "file_extension": ".py",
   "mimetype": "text/x-python",
   "name": "python",
   "nbconvert_exporter": "python",
   "pygments_lexer": "ipython3",
   "version": "3.8.6"
  },
  "toc": {
   "base_numbering": 1,
   "nav_menu": {},
   "number_sections": true,
   "sideBar": true,
   "skip_h1_title": false,
   "title_cell": "Table of Contents",
   "title_sidebar": "Contents",
   "toc_cell": false,
   "toc_position": {},
   "toc_section_display": true,
   "toc_window_display": false
  }
 },
 "nbformat": 4,
 "nbformat_minor": 1
}
