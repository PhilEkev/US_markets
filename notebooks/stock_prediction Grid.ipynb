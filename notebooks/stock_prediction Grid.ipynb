{
 "cells": [
  {
   "cell_type": "markdown",
   "metadata": {
    "id": "k_Djzu2SAl-H"
   },
   "source": [
    "# Predict Stock price\n",
    "\n",
    "This is a notebook illustrating how to predict stock price from [Yahoo Finance](https://finance.yahoo.com/) data with a recurrent neural network."
   ]
  },
  {
   "cell_type": "code",
   "execution_count": 1,
   "metadata": {
    "colab": {
     "base_uri": "https://localhost:8080/"
    },
    "id": "1UmAmERoB7kG",
    "outputId": "97c7c3a9-b4d8-437f-a24e-a6144440d341"
   },
   "outputs": [
    {
     "name": "stdout",
     "output_type": "stream",
     "text": [
      "Requirement already satisfied: yfinance in /home/philekev/.pyenv/versions/3.8.6/envs/lewagon/lib/python3.8/site-packages (0.1.59)\n",
      "Requirement already satisfied: numpy>=1.15 in /home/philekev/.pyenv/versions/3.8.6/envs/lewagon/lib/python3.8/site-packages (from yfinance) (1.18.5)\n",
      "Requirement already satisfied: multitasking>=0.0.7 in /home/philekev/.pyenv/versions/3.8.6/envs/lewagon/lib/python3.8/site-packages (from yfinance) (0.0.9)\n",
      "Requirement already satisfied: pandas>=0.24 in /home/philekev/.pyenv/versions/3.8.6/envs/lewagon/lib/python3.8/site-packages (from yfinance) (1.2.4)\n",
      "Requirement already satisfied: requests>=2.20 in /home/philekev/.pyenv/versions/3.8.6/envs/lewagon/lib/python3.8/site-packages (from yfinance) (2.25.1)\n",
      "Requirement already satisfied: lxml>=4.5.1 in /home/philekev/.pyenv/versions/3.8.6/envs/lewagon/lib/python3.8/site-packages (from yfinance) (4.6.3)\n",
      "Requirement already satisfied: python-dateutil>=2.7.3 in /home/philekev/.pyenv/versions/3.8.6/envs/lewagon/lib/python3.8/site-packages (from pandas>=0.24->yfinance) (2.8.1)\n",
      "Requirement already satisfied: pytz>=2017.3 in /home/philekev/.pyenv/versions/3.8.6/envs/lewagon/lib/python3.8/site-packages (from pandas>=0.24->yfinance) (2021.1)\n",
      "Requirement already satisfied: six>=1.5 in /home/philekev/.pyenv/versions/3.8.6/envs/lewagon/lib/python3.8/site-packages (from python-dateutil>=2.7.3->pandas>=0.24->yfinance) (1.14.0)\n",
      "Requirement already satisfied: idna<3,>=2.5 in /home/philekev/.pyenv/versions/3.8.6/envs/lewagon/lib/python3.8/site-packages (from requests>=2.20->yfinance) (2.10)\n",
      "Requirement already satisfied: urllib3<1.27,>=1.21.1 in /home/philekev/.pyenv/versions/3.8.6/envs/lewagon/lib/python3.8/site-packages (from requests>=2.20->yfinance) (1.26.4)\n",
      "Requirement already satisfied: certifi>=2017.4.17 in /home/philekev/.pyenv/versions/3.8.6/envs/lewagon/lib/python3.8/site-packages (from requests>=2.20->yfinance) (2020.12.5)\n",
      "Requirement already satisfied: chardet<5,>=3.0.2 in /home/philekev/.pyenv/versions/3.8.6/envs/lewagon/lib/python3.8/site-packages (from requests>=2.20->yfinance) (4.0.0)\n"
     ]
    }
   ],
   "source": [
    "# Install library for fetching Yahoo Finance data\n",
    "!pip install yfinance"
   ]
  },
  {
   "cell_type": "code",
   "execution_count": 2,
   "metadata": {
    "id": "Et_lSzUwCEat"
   },
   "outputs": [],
   "source": [
    "import yfinance as yf\n",
    "import matplotlib.pyplot as plt\n",
    "from pandas import DataFrame, Series\n",
    "from typing import Dict, List, Tuple, Union\n",
    "from numpy import array, arange, zeros\n",
    "from numpy.random import permutation, randint, uniform\n",
    "from pathlib import Path\n",
    "from datetime import datetime, timedelta\n",
    "\n",
    "plt.rcParams['figure.figsize'] = [12, 9]  # plot larger than default"
   ]
  },
  {
   "cell_type": "markdown",
   "metadata": {
    "id": "6SuxbKnF25Rv"
   },
   "source": [
    "Define some constants (adapt the values to your use case):"
   ]
  },
  {
   "cell_type": "code",
   "execution_count": 3,
   "metadata": {
    "id": "dUmkwqnnETdz"
   },
   "outputs": [],
   "source": [
    "stock = 'KO'\n",
    "# Train model with daily data between `start` and `end`\n",
    "start = '2016-01-01'\n",
    "end = '2020-12-31'\n",
    "target = 'Close'\n",
    "# We will use the `n_prior` previous days to predict the nex `n_to_predict` days\n",
    "n_prior = 14\n",
    "n_to_predict = 3\n",
    "# Proportion of validation and test data\n",
    "p_val = .1\n",
    "p_test = .2 "
   ]
  },
  {
   "cell_type": "markdown",
   "metadata": {
    "id": "ueSqgtuxDe1C"
   },
   "source": [
    "## Fetching data\n",
    "Fetch data directly from the *yfinance* library"
   ]
  },
  {
   "cell_type": "code",
   "execution_count": 4,
   "metadata": {
    "colab": {
     "base_uri": "https://localhost:8080/"
    },
    "id": "S-HD3SLCApHj",
    "outputId": "557cb66d-ea0d-4330-e121-7acd2b48dc7e"
   },
   "outputs": [
    {
     "name": "stdout",
     "output_type": "stream",
     "text": [
      "[*********************100%***********************]  1 of 1 completed\n"
     ]
    }
   ],
   "source": [
    "data = yf.download(tickers=stock, period='1d', start=start, end=end)"
   ]
  },
  {
   "cell_type": "code",
   "execution_count": 5,
   "metadata": {
    "colab": {
     "base_uri": "https://localhost:8080/",
     "height": 455
    },
    "id": "BMuJUezaBOlG",
    "outputId": "36043ebf-73c8-4291-f571-8f41a5e89b80"
   },
   "outputs": [
    {
     "data": {
      "text/html": [
       "<div>\n",
       "<style scoped>\n",
       "    .dataframe tbody tr th:only-of-type {\n",
       "        vertical-align: middle;\n",
       "    }\n",
       "\n",
       "    .dataframe tbody tr th {\n",
       "        vertical-align: top;\n",
       "    }\n",
       "\n",
       "    .dataframe thead th {\n",
       "        text-align: right;\n",
       "    }\n",
       "</style>\n",
       "<table border=\"1\" class=\"dataframe\">\n",
       "  <thead>\n",
       "    <tr style=\"text-align: right;\">\n",
       "      <th></th>\n",
       "      <th>Open</th>\n",
       "      <th>High</th>\n",
       "      <th>Low</th>\n",
       "      <th>Close</th>\n",
       "      <th>Adj Close</th>\n",
       "      <th>Volume</th>\n",
       "    </tr>\n",
       "    <tr>\n",
       "      <th>Date</th>\n",
       "      <th></th>\n",
       "      <th></th>\n",
       "      <th></th>\n",
       "      <th></th>\n",
       "      <th></th>\n",
       "      <th></th>\n",
       "    </tr>\n",
       "  </thead>\n",
       "  <tbody>\n",
       "    <tr>\n",
       "      <th>2017-01-03</th>\n",
       "      <td>41.500000</td>\n",
       "      <td>41.810001</td>\n",
       "      <td>41.279999</td>\n",
       "      <td>41.799999</td>\n",
       "      <td>36.059914</td>\n",
       "      <td>14711000</td>\n",
       "    </tr>\n",
       "    <tr>\n",
       "      <th>2017-01-04</th>\n",
       "      <td>41.880001</td>\n",
       "      <td>41.970001</td>\n",
       "      <td>41.590000</td>\n",
       "      <td>41.650002</td>\n",
       "      <td>35.930508</td>\n",
       "      <td>9959400</td>\n",
       "    </tr>\n",
       "    <tr>\n",
       "      <th>2017-01-05</th>\n",
       "      <td>41.660000</td>\n",
       "      <td>41.860001</td>\n",
       "      <td>41.529999</td>\n",
       "      <td>41.750000</td>\n",
       "      <td>36.016781</td>\n",
       "      <td>8968300</td>\n",
       "    </tr>\n",
       "    <tr>\n",
       "      <th>2017-01-06</th>\n",
       "      <td>41.700001</td>\n",
       "      <td>41.810001</td>\n",
       "      <td>41.540001</td>\n",
       "      <td>41.740002</td>\n",
       "      <td>36.008144</td>\n",
       "      <td>10246600</td>\n",
       "    </tr>\n",
       "    <tr>\n",
       "      <th>2017-01-09</th>\n",
       "      <td>41.230000</td>\n",
       "      <td>41.580002</td>\n",
       "      <td>41.209999</td>\n",
       "      <td>41.320000</td>\n",
       "      <td>35.645828</td>\n",
       "      <td>14822500</td>\n",
       "    </tr>\n",
       "    <tr>\n",
       "      <th>...</th>\n",
       "      <td>...</td>\n",
       "      <td>...</td>\n",
       "      <td>...</td>\n",
       "      <td>...</td>\n",
       "      <td>...</td>\n",
       "      <td>...</td>\n",
       "    </tr>\n",
       "    <tr>\n",
       "      <th>2020-12-23</th>\n",
       "      <td>52.950001</td>\n",
       "      <td>53.389999</td>\n",
       "      <td>52.939999</td>\n",
       "      <td>53.080002</td>\n",
       "      <td>52.248150</td>\n",
       "      <td>7040300</td>\n",
       "    </tr>\n",
       "    <tr>\n",
       "      <th>2020-12-24</th>\n",
       "      <td>53.020000</td>\n",
       "      <td>53.549999</td>\n",
       "      <td>53.020000</td>\n",
       "      <td>53.439999</td>\n",
       "      <td>52.602509</td>\n",
       "      <td>3265500</td>\n",
       "    </tr>\n",
       "    <tr>\n",
       "      <th>2020-12-28</th>\n",
       "      <td>53.849998</td>\n",
       "      <td>54.439999</td>\n",
       "      <td>53.730000</td>\n",
       "      <td>54.160000</td>\n",
       "      <td>53.311226</td>\n",
       "      <td>9020500</td>\n",
       "    </tr>\n",
       "    <tr>\n",
       "      <th>2020-12-29</th>\n",
       "      <td>54.450001</td>\n",
       "      <td>54.490002</td>\n",
       "      <td>54.020000</td>\n",
       "      <td>54.130001</td>\n",
       "      <td>53.281696</td>\n",
       "      <td>8320600</td>\n",
       "    </tr>\n",
       "    <tr>\n",
       "      <th>2020-12-30</th>\n",
       "      <td>54.049999</td>\n",
       "      <td>54.630001</td>\n",
       "      <td>54.029999</td>\n",
       "      <td>54.439999</td>\n",
       "      <td>53.586834</td>\n",
       "      <td>8142700</td>\n",
       "    </tr>\n",
       "  </tbody>\n",
       "</table>\n",
       "<p>1006 rows × 6 columns</p>\n",
       "</div>"
      ],
      "text/plain": [
       "                 Open       High        Low      Close  Adj Close    Volume\n",
       "Date                                                                       \n",
       "2017-01-03  41.500000  41.810001  41.279999  41.799999  36.059914  14711000\n",
       "2017-01-04  41.880001  41.970001  41.590000  41.650002  35.930508   9959400\n",
       "2017-01-05  41.660000  41.860001  41.529999  41.750000  36.016781   8968300\n",
       "2017-01-06  41.700001  41.810001  41.540001  41.740002  36.008144  10246600\n",
       "2017-01-09  41.230000  41.580002  41.209999  41.320000  35.645828  14822500\n",
       "...               ...        ...        ...        ...        ...       ...\n",
       "2020-12-23  52.950001  53.389999  52.939999  53.080002  52.248150   7040300\n",
       "2020-12-24  53.020000  53.549999  53.020000  53.439999  52.602509   3265500\n",
       "2020-12-28  53.849998  54.439999  53.730000  54.160000  53.311226   9020500\n",
       "2020-12-29  54.450001  54.490002  54.020000  54.130001  53.281696   8320600\n",
       "2020-12-30  54.049999  54.630001  54.029999  54.439999  53.586834   8142700\n",
       "\n",
       "[1006 rows x 6 columns]"
      ]
     },
     "execution_count": 5,
     "metadata": {},
     "output_type": "execute_result"
    }
   ],
   "source": [
    "data"
   ]
  },
  {
   "cell_type": "markdown",
   "metadata": {
    "id": "rJ3v3bHhD4YX"
   },
   "source": [
    "We want only the `target` values:"
   ]
  },
  {
   "cell_type": "code",
   "execution_count": 6,
   "metadata": {
    "id": "Rk5S7Px-BV_R"
   },
   "outputs": [],
   "source": [
    "data = data[[target]]"
   ]
  },
  {
   "cell_type": "code",
   "execution_count": 7,
   "metadata": {
    "colab": {
     "base_uri": "https://localhost:8080/",
     "height": 538
    },
    "id": "_alp-YAED-lM",
    "outputId": "da0d697e-1ed3-4d28-9427-00ee4c75b271"
   },
   "outputs": [
    {
     "data": {
      "image/png": "[encoded data removed]",
      "text/plain": [
       "<Figure size 864x648 with 1 Axes>"
      ]
     },
     "metadata": {
      "needs_background": "light"
     },
     "output_type": "display_data"
    }
   ],
   "source": [
    "data.plot()\n",
    "plt.xlabel(f'Date')\n",
    "plt.ylabel(f'{stock} price ($)')\n",
    "plt.title(f'{stock} price between {start} and {end}')\n",
    "plt.show()"
   ]
  },
  {
   "cell_type": "markdown",
   "metadata": {
    "id": "AULpGIBSIqb2"
   },
   "source": [
    "## Prepare training data\n",
    "First we define a function `build_x_y()` that will take slices from the column `target` of `data`. Each slice will be split into a range of `n_prior` days for `X` and the following `n_to_predict` day for `y`.\n",
    "\n",
    "### Create `X` and `y`"
   ]
  },
  {
   "cell_type": "code",
   "execution_count": 8,
   "metadata": {
    "id": "x9OKE8gyGllO"
   },
   "outputs": [],
   "source": [
    "def build_x_y(data: DataFrame, target: str = 'Close',  n_prior: int = 21, \n",
    "              n_to_predict: int = 14) -> Tuple[array, array]:\n",
    "    \"\"\" Split `df` into X and y. X is a 2-dimensional numpy array. The first \n",
    "    dimension corresponds to the sample, the second to the sequence in a sample \n",
    "    and the third to the features in each element of the sequence. `y` is a \n",
    "    2-dimensional array, the first is for the samples and the second for the \n",
    "    output values of the corresponding sequence.\n",
    "\n",
    "    Args:\n",
    "        data (DataFrame): Preprocessed input dataset\n",
    "        target (str, optional): Column name of the target variable in `data`. \n",
    "            Defaults to 'Close'.\n",
    "        n_prior (int, optional): Number of days in the past used in each sample\n",
    "           of the training dataset. Defaults to 21.\n",
    "        n_to_predict (int, optional): Numbers of day to predict ahead. \n",
    "            Defaults to 14.\n",
    "\n",
    "    Returns:\n",
    "        Tuple[array, array]: Input and output corresponding to the preprocessed \n",
    "          samples in `data`.\n",
    "    \"\"\"\n",
    "    n = n_prior + n_to_predict  # batch \"width\"\n",
    "    s0, s1 = data.shape[0], data.shape[1]\n",
    "    s = s0 - n  # size of training data\n",
    "\n",
    "    X, y = zeros(shape=(s, n_prior, s1)), zeros(shape=(s, n_to_predict))\n",
    "    shuffled_order = permutation(arange(0, s, 1)) # shuffle data directly\n",
    "    for i in shuffled_order:\n",
    "        X[i] = data.iloc[i: i + n_prior,:].values\n",
    "        y[i] = data[target][i + n_prior: i + n]\n",
    "        # Normalize each batch individually\n",
    "        min_value, max_value = X[i].min(), X[i].max()\n",
    "        X[i] = (X[i] - min_value) / (max_value - min_value) \n",
    "        y[i] = (y[i] - min_value) / (max_value - min_value)\n",
    "        \n",
    "    return X, y"
   ]
  },
  {
   "cell_type": "code",
   "execution_count": 9,
   "metadata": {
    "id": "Vm-lTZg8H74L"
   },
   "outputs": [],
   "source": [
    "X, y = build_x_y(data=data, target='Close', n_prior=n_prior, n_to_predict=n_to_predict)"
   ]
  },
  {
   "cell_type": "markdown",
   "metadata": {
    "id": "ZK-WLxOALyEe"
   },
   "source": [
    "### Split `X` and `y`\n",
    "Compute where to split `X` and `y` to obtain a proportion `p_val` of validation data and `p_test` of test data:"
   ]
  },
  {
   "cell_type": "code",
   "execution_count": 10,
   "metadata": {
    "id": "C8TEgt2RJ9hQ"
   },
   "outputs": [],
   "source": [
    "def get_split_inds(size: int, p_val: float = .1, p_test: float = .2, \n",
    "                   do_shuffle: bool = False) -> Tuple[array, array, array]:\n",
    "    \"\"\" Compute indices corresponding to the random splitting of `size` samples in train, validation and test sets \n",
    "    with size corresponding to `p_test` and `p_val`.\n",
    "\n",
    "    Args:\n",
    "        size (int): Number of samples in the dataset to split.\n",
    "        p_val (float, optional): Proportion of validation data in the split. Defaults to .1.\n",
    "        p_test (float, optional): Proportion of test data in the split. Defaults to .2.\n",
    "\n",
    "    Returns:\n",
    "        Tuple[array, array, array]: Three arrays corresponding to the indices of the train, validation and test sets.\n",
    "    \"\"\"\n",
    "    indices = arange(0, size, 1)\n",
    "    if do_shuffle:\n",
    "      indices = permutation(indices)\n",
    "\n",
    "    val_split_ind = round(size * (1 - p_test - p_val))\n",
    "    test_split_ind = round(size * (1 - p_test))\n",
    "\n",
    "    train_inds = indices[:val_split_ind]\n",
    "    val_inds = indices[val_split_ind: test_split_ind]\n",
    "    test_inds = indices[test_split_ind:]\n",
    "    \n",
    "    return train_inds, val_inds, test_inds"
   ]
  },
  {
   "cell_type": "code",
   "execution_count": 11,
   "metadata": {
    "id": "FI4jBHsRMIbK"
   },
   "outputs": [],
   "source": [
    "size = X.shape[0]\n",
    "train_inds, val_inds, test_inds = get_split_inds(size=size, p_val=p_val, p_test=p_test)\n",
    "X_train, X_val, X_test = X[train_inds], X[val_inds], X[test_inds]\n",
    "y_train, y_val, y_test = y[train_inds], y[val_inds], y[test_inds]"
   ]
  },
  {
   "cell_type": "markdown",
   "metadata": {
    "id": "NS7Xdc0gPCvk"
   },
   "source": [
    "## Modelization\n",
    "\n"
   ]
  },
  {
   "cell_type": "code",
   "execution_count": 12,
   "metadata": {
    "id": "av1lwHsSp1BT"
   },
   "outputs": [],
   "source": [
    "from tensorflow.keras.layers import Input, GRU, Lambda, Dense, Dropout\n",
    "from tensorflow.keras.models import Model\n",
    "from tensorflow.keras.callbacks import EarlyStopping, LearningRateScheduler, History\n",
    "from tensorflow.keras.optimizers import Adam\n",
    "from tensorflow.keras.losses import Huber\n",
    "from tensorflow.keras.metrics import MeanAbsolutePercentageError\n",
    "from tensorflow import expand_dims, matmul\n",
    "from tensorflow.nn import softmax"
   ]
  },
  {
   "cell_type": "markdown",
   "metadata": {
    "id": "nQUgua962_0j"
   },
   "source": [
    "Define some model trainin specific constants:"
   ]
  },
  {
   "cell_type": "code",
   "execution_count": 13,
   "metadata": {
    "id": "bIEPvilITFA_"
   },
   "outputs": [],
   "source": [
    "n_recurrent_units = 100  # size of the recurrent layers\n",
    "n_dense_units = 64  # size of the final dense layer\n",
    "scale = .05  # scale for attention layer\n",
    "lr = 1e-2  # learning rate\n",
    "dr = .9  # decay rate\n",
    "max_epochs = 300\n",
    "patience = 4\n",
    "batch_size = 32\n",
    "model_path = None  # if None: will not be persisted\n"
   ]
  },
  {
   "cell_type": "markdown",
   "metadata": {
    "id": "SjNnh9yPTAc1"
   },
   "source": [
    "Define a function to provide a deep recurrent model:"
   ]
  },
  {
   "cell_type": "code",
   "execution_count": 14,
   "metadata": {
    "id": "ushSAEhMOs4W"
   },
   "outputs": [],
   "source": [
    "def attention_seq(query_value, scale):\n",
    "    \"\"\" Define time series specific attention layer\n",
    "    see: https://stackoverflow.com/questions/61757475/sequence-to-sequence-for-time-series-prediction \"\"\"\n",
    "    query, value = query_value\n",
    "    score = matmul(query, value, transpose_b=True) # (batch, timestamp, 1)\n",
    "    score = scale * score # scale with a fixed number (it can be finetuned or learned during train)\n",
    "    score = softmax(score, axis=1) # softmax on timestamp axis\n",
    "    score = score * query # (batch, timestamp, feat)\n",
    "    return score\n",
    "\n",
    "\n",
    "def get_model(n_prior: int, n_features: int, n_to_predict: int, scale: float = .05,\n",
    "              n_recurrent_units: int = 100, n_dense_units=62) -> Model:\n",
    "    \"\"\" Build and return a recurrent auto-encoder model for predicting.\n",
    "\n",
    "    Args:\n",
    "        n_prior (int): number of days in the past used in each sample of the training dataset.\n",
    "        n_features (int): number of  (columns) in the input dataset.\n",
    "        n_to_predict (int): numbers of day to predict ahead\n",
    "        n_units (int): size of the recurrent layer\n",
    "\n",
    "    Returns:\n",
    "        tf.keras.models.Model: reccurent auto-encoder model for predicting\n",
    "    \"\"\"\n",
    "    inp = Input((n_prior, n_features))\n",
    "    seq, state = GRU(n_recurrent_units, activation='relu',\n",
    "                    return_state=True, return_sequences=True)(inp)\n",
    "    att = Lambda(attention_seq, arguments={'scale': scale})([seq, expand_dims(state, 1)])\n",
    "    x = GRU(n_recurrent_units, activation='relu')(att)\n",
    "    x = Dense(n_dense_units, activation='relu')(x)\n",
    "    x = Dropout(0.2)(x)\n",
    "    out = Dense(n_to_predict)(x)\n",
    "\n",
    "    model = Model(inp, out)\n",
    "    return model"
   ]
  },
  {
   "cell_type": "markdown",
   "metadata": {
    "id": "LD6Oe7SwRBgv"
   },
   "source": [
    "Define a function for training the model:"
   ]
  },
  {
   "cell_type": "code",
   "execution_count": 15,
   "metadata": {
    "id": "7DSZzfXCMwu6"
   },
   "outputs": [],
   "source": [
    "def train_persist_model(model: Model, X_train: DataFrame, X_val: DataFrame, X_test: DataFrame, y_train: Series,\n",
    "                        y_val: Series, y_test: Series, model_name: str, model_path: Union[str, Path, None], lr: float = 1e-3, dr: float = .99, \n",
    "                        max_epochs: int = 300, patience: int = 10, batch_size: int = 32, plot: bool = True, verbose: int = 0) -> None:\n",
    "    \"\"\" Train and persist a model for predicting.\n",
    "\n",
    "    Args:\n",
    "        model (tf.keras.models.Model): Tensorflow Keras model to train and persist\n",
    "        X_train (DataFrame): Training input dataset corresponding to past data with their features\n",
    "        X_val (DataFrame): Validation input dataset. Used at each batch to monitor model performance.\n",
    "        X_test (DataFrame): Test input dataset, for measuring model performance after training.\n",
    "        y_train (Series): Training output ground truth\n",
    "        y_val (Series): Validation output ground truth\n",
    "        y_test (Series): Test output ground truth.\n",
    "        model_name (str): name of the model\n",
    "        model_path (Union[str, Path]): Path under which the model will be persisted. If None, the model will not be persisted.\n",
    "        lr (float, optional): Learning rate for the optimizer training the model. Defaults to 1e-3.\n",
    "        dr (float, optional): Decay rate for the learning rate. Defaults to .99.\n",
    "        max_epochs (int, optional): Max. number of epochs for training the model. Defaults to 300.\n",
    "        patience (int, optional): number of epochs without improvement of val_loss before stopping\n",
    "        batch_size (int, optional): Number of training data samples in each batch. Defaults to 32.\n",
    "        plot (bool, optional): If to generate and persist plot corresponding to the training history. Defaults to True.\n",
    "        verbose (int, optional): If to print details during the training. Defaults to 0.\n",
    "    \"\"\"\n",
    "    reduce_lr = LearningRateScheduler(lambda x: lr * dr ** x)\n",
    "    early_stopping = EarlyStopping(monitor='val_loss',\n",
    "                                   patience=patience,\n",
    "                                   mode='min',\n",
    "                                   restore_best_weights=True)\n",
    "\n",
    "\n",
    "    model.compile(optimizer=Adam(),\n",
    "                loss='mse',\n",
    "                metrics=[MeanAbsolutePercentageError()])\n",
    "\n",
    "    history = model.fit(X_train, y_train, \n",
    "                        epochs=max_epochs, \n",
    "                        validation_data=(X_val, y_val),\n",
    "                        batch_size=batch_size,\n",
    "                        verbose=verbose,\n",
    "                        callbacks=[reduce_lr, early_stopping])\n",
    "\n",
    "    if plot:\n",
    "        plot_training(history=history, model_name=model_name)\n",
    "    \n",
    "    if model_path:\n",
    "      model.save(model_path)\n",
    "      print(f'INFO: model {model_path} saved under {model_path}')\n",
    "\n",
    "    results = model.evaluate(X_test, y_test)\n",
    "    test_loss, test_mape = results[0], results[1]\n",
    "    print(f'INFO: model evaluation on test data:\\n\\tloss: {test_loss}\\n\\tMAPE: {test_mape}')\n",
    "    return test_mape"
   ]
  },
  {
   "cell_type": "markdown",
   "metadata": {
    "id": "V8TFkjbPSHnq"
   },
   "source": [
    "And finally, define a function to plot the model training:"
   ]
  },
  {
   "cell_type": "code",
   "execution_count": 16,
   "metadata": {
    "id": "e3RqRCYRRLd9"
   },
   "outputs": [],
   "source": [
    "def plot_training(history: History, model_name: str) -> None:\n",
    "    \"\"\" Plot history of model training. The model must contain MAE as a metric.\n",
    "        Saves the plot in the folder `plots_dir` defined in *parameters.py* under the name `model_name`.jpg\n",
    "    Args:\n",
    "        history (tf.keras.callbacks.History): model history resulting from `.fit()`\n",
    "        model_name (str): [description]\n",
    "    \"\"\"\n",
    "    fig, (ax1, ax2) = plt.subplots(2)\n",
    "    fig.suptitle(f'{model_name} training')\n",
    "    \n",
    "    ax1.plot(history.history['mean_absolute_percentage_error'])\n",
    "    ax1.plot(history.history['val_mean_absolute_percentage_error'])\n",
    "    ax1.set_title(f'{model_name} mean_absolute_percentage_error')\n",
    "    ax1.set(xlabel='epoch', ylabel='mean_absolute_error')\n",
    "    ax1.legend(['train', 'val'], loc='upper left')\n",
    "    # summarize history for loss\n",
    "    ax2.plot(history.history['loss'])\n",
    "    ax2.plot(history.history['val_loss'])\n",
    "    ax2.set_title(f'{model_name} loss')\n",
    "    ax2.set(xlabel='epoch', ylabel='loss')\n",
    "    ax2.legend(['train', 'val'], loc='upper left')\n",
    "    \n",
    "    plt.show()"
   ]
  },
  {
   "cell_type": "markdown",
   "metadata": {
    "id": "v6iG2mDQWMF2"
   },
   "source": [
    "Now combine all this to train the model:"
   ]
  },
  {
   "cell_type": "code",
   "execution_count": 17,
   "metadata": {
    "colab": {
     "base_uri": "https://localhost:8080/"
    },
    "id": "R_-w5MkOSOEh",
    "outputId": "314f2e7b-2ec8-4a0f-bd38-8b5d8f6d1d11"
   },
   "outputs": [
    {
     "name": "stdout",
     "output_type": "stream",
     "text": [
      "Model: \"model\"\n",
      "__________________________________________________________________________________________________\n",
      "Layer (type)                    Output Shape         Param #     Connected to                     \n",
      "==================================================================================================\n",
      "input_1 (InputLayer)            [(None, 14, 1)]      0                                            \n",
      "__________________________________________________________________________________________________\n",
      "gru (GRU)                       [(None, 14, 100), (N 30900       input_1[0][0]                    \n",
      "__________________________________________________________________________________________________\n",
      "tf.expand_dims (TFOpLambda)     (None, 1, 100)       0           gru[0][1]                        \n",
      "__________________________________________________________________________________________________\n",
      "lambda (Lambda)                 (None, 14, 100)      0           gru[0][0]                        \n",
      "                                                                 tf.expand_dims[0][0]             \n",
      "__________________________________________________________________________________________________\n",
      "gru_1 (GRU)                     (None, 100)          60600       lambda[0][0]                     \n",
      "__________________________________________________________________________________________________\n",
      "dense (Dense)                   (None, 64)           6464        gru_1[0][0]                      \n",
      "__________________________________________________________________________________________________\n",
      "dropout (Dropout)               (None, 64)           0           dense[0][0]                      \n",
      "__________________________________________________________________________________________________\n",
      "dense_1 (Dense)                 (None, 3)            195         dropout[0][0]                    \n",
      "==================================================================================================\n",
      "Total params: 98,159\n",
      "Trainable params: 98,159\n",
      "Non-trainable params: 0\n",
      "__________________________________________________________________________________________________\n"
     ]
    }
   ],
   "source": [
    "model = get_model(n_prior=n_prior, n_features=1, n_to_predict=n_to_predict, scale=scale, n_recurrent_units=n_recurrent_units, n_dense_units=n_dense_units)\n",
    "model.summary()"
   ]
  },
  {
   "cell_type": "code",
   "execution_count": 18,
   "metadata": {
    "colab": {
     "base_uri": "https://localhost:8080/",
     "height": 1000
    },
    "id": "ZfqW9WHZeEbI",
    "outputId": "b3c27cad-03c0-44ef-8909-38c13e2e8e16"
   },
   "outputs": [
    {
     "name": "stdout",
     "output_type": "stream",
     "text": [
      "Epoch 1/300\n",
      "22/22 [==============================] - 22s 298ms/step - loss: 0.4016 - mean_absolute_percentage_error: 1068901.8010 - val_loss: 0.4112 - val_mean_absolute_percentage_error: 315.9137\n",
      "Epoch 2/300\n",
      "22/22 [==============================] - 2s 99ms/step - loss: 0.2521 - mean_absolute_percentage_error: 633655.9210 - val_loss: 0.3205 - val_mean_absolute_percentage_error: 324.2612\n",
      "Epoch 3/300\n",
      "22/22 [==============================] - 3s 121ms/step - loss: 0.2057 - mean_absolute_percentage_error: 908166.3168 - val_loss: 0.2484 - val_mean_absolute_percentage_error: 194.9246\n",
      "Epoch 4/300\n",
      "22/22 [==============================] - 2s 70ms/step - loss: 0.1587 - mean_absolute_percentage_error: 655127.8369 - val_loss: 0.2491 - val_mean_absolute_percentage_error: 209.4627\n",
      "Epoch 5/300\n",
      "22/22 [==============================] - 2s 83ms/step - loss: 0.1747 - mean_absolute_percentage_error: 1402409.8065 - val_loss: 0.2675 - val_mean_absolute_percentage_error: 160.2661\n",
      "Epoch 6/300\n",
      "22/22 [==============================] - 2s 90ms/step - loss: 0.1634 - mean_absolute_percentage_error: 696733.0134 - val_loss: 0.2528 - val_mean_absolute_percentage_error: 213.7061\n",
      "Epoch 7/300\n",
      "22/22 [==============================] - 1s 68ms/step - loss: 0.1636 - mean_absolute_percentage_error: 296600.3293 - val_loss: 0.2413 - val_mean_absolute_percentage_error: 190.2650\n",
      "Epoch 8/300\n",
      "22/22 [==============================] - 1s 69ms/step - loss: 0.1890 - mean_absolute_percentage_error: 1505002.9803 - val_loss: 0.2403 - val_mean_absolute_percentage_error: 174.3086\n",
      "Epoch 9/300\n",
      "22/22 [==============================] - 1s 69ms/step - loss: 0.1728 - mean_absolute_percentage_error: 1531785.1667 - val_loss: 0.2515 - val_mean_absolute_percentage_error: 156.3794\n",
      "Epoch 10/300\n",
      "22/22 [==============================] - 1s 63ms/step - loss: 0.1964 - mean_absolute_percentage_error: 1259605.9647 - val_loss: 0.2377 - val_mean_absolute_percentage_error: 156.8975\n",
      "Epoch 11/300\n",
      "22/22 [==============================] - 1s 60ms/step - loss: 0.1821 - mean_absolute_percentage_error: 994039.3414 - val_loss: 0.2364 - val_mean_absolute_percentage_error: 163.0322\n",
      "Epoch 12/300\n",
      "22/22 [==============================] - 1s 65ms/step - loss: 0.1589 - mean_absolute_percentage_error: 669630.2541 - val_loss: 0.2373 - val_mean_absolute_percentage_error: 174.9279\n",
      "Epoch 13/300\n",
      "22/22 [==============================] - 1s 63ms/step - loss: 0.1599 - mean_absolute_percentage_error: 1100513.4341 - val_loss: 0.2388 - val_mean_absolute_percentage_error: 180.7066\n",
      "Epoch 14/300\n",
      "22/22 [==============================] - 1s 67ms/step - loss: 0.1678 - mean_absolute_percentage_error: 475114.0425 - val_loss: 0.2428 - val_mean_absolute_percentage_error: 196.9554\n",
      "Epoch 15/300\n",
      "22/22 [==============================] - 1s 65ms/step - loss: 0.1866 - mean_absolute_percentage_error: 923029.8347 - val_loss: 0.2383 - val_mean_absolute_percentage_error: 183.2159\n"
     ]
    },
    {
     "data": {
      "image/png": "[encoded data removed]",
      "text/plain": [
       "<Figure size 864x648 with 2 Axes>"
      ]
     },
     "metadata": {
      "needs_background": "light"
     },
     "output_type": "display_data"
    },
    {
     "name": "stdout",
     "output_type": "stream",
     "text": [
      "7/7 [==============================] - 0s 15ms/step - loss: 0.1362 - mean_absolute_percentage_error: 93.1925\n",
      "INFO: model evaluation on test data:\n",
      "\tloss: 0.13617926836013794\n",
      "\tMAPE: 93.1925277709961\n"
     ]
    },
    {
     "data": {
      "text/plain": [
       "93.1925277709961"
      ]
     },
     "execution_count": 18,
     "metadata": {},
     "output_type": "execute_result"
    }
   ],
   "source": [
    "train_persist_model(model=model, X_train=X_train, X_val=X_val, X_test=X_test, \n",
    "                    y_train=y_train, y_val=y_val, y_test=y_test, \n",
    "                    model_name=f'{stock} {target} price', model_path=model_path, lr=lr, dr=dr,\n",
    "                    max_epochs=max_epochs, patience=patience, \n",
    "                    batch_size=batch_size, plot=True, verbose=1)"
   ]
  },
  {
   "cell_type": "markdown",
   "metadata": {
    "id": "RLU2WLLmVChL"
   },
   "source": [
    "## Grid search optimal model and training hyperparameters"
   ]
  },
  {
   "cell_type": "code",
   "execution_count": 19,
   "metadata": {
    "id": "c1SMz74BVNKk"
   },
   "outputs": [],
   "source": [
    "def evaluate_hp(hp: Dict):\n",
    "  model = get_model(n_prior=n_prior, n_features=1, n_to_predict=n_to_predict,\n",
    "              scale = hp.get('scale'),\n",
    "              n_recurrent_units=hp.get('n_recurrent_units'), \n",
    "              n_dense_units=hp.get('n_dense_units'))\n",
    "  error = train_persist_model(model=model, X_train=X_train, X_val=X_val, X_test=X_test, \n",
    "                    y_train=y_train, y_val=y_val, y_test=y_test, \n",
    "                    model_name=f'{stock} {target} price', model_path=None, \n",
    "                    lr=hp.get('lr'), dr=hp.get('dr'),\n",
    "                    max_epochs=max_epochs, patience=patience, \n",
    "                    batch_size=batch_size, plot=False, verbose=0)\n",
    "  return error\n",
    "  \n",
    "\n",
    "def random_grid_search(n_trials: int = 100, \n",
    "                        n_recurrent_units_min: int = 10, \n",
    "                        n_recurrent_units_max: int = 100, \n",
    "                        n_dense_units_min: int = 20, \n",
    "                        n_dense_units_max: int = 100,\n",
    "                        scale_min: float = .01, scale_max: float = .1,\n",
    "                        lr_min: float = 1e-4, lr_max: float = 1e-1, \n",
    "                        dr_min: float = 0.8, dr_max: float = 0.999):\n",
    "  mapping = {'n_recurrent_units': [n_recurrent_units_min, n_recurrent_units_max, 'int'], \n",
    "              'n_dense_units': [n_dense_units_min, n_dense_units_max, 'int'],\n",
    "              'scale': [scale_min, scale_max, 'float'],\n",
    "              'lr': [lr_min, lr_max, 'float'], \n",
    "              'dr': [dr_min, dr_max, 'float']}\n",
    "  res = []\n",
    "  for _ in range(n_trials):\n",
    "    hp = dict()\n",
    "    for name, parameters in mapping.items():\n",
    "      if parameters[2] == 'int':\n",
    "        value = int(randint(low=parameters[0], high=parameters[1]))\n",
    "      else:\n",
    "        value = uniform(low=parameters[0], high=parameters[1])\n",
    "      hp[name] = value\n",
    "    print(f'INFO: trying {hp}...')\n",
    "    error = evaluate_hp(hp)\n",
    "    print(f'INFO: error: {error}')\n",
    "    res.append({'hp': hp, 'error': error})\n",
    "  return res\n",
    "  "
   ]
  },
  {
   "cell_type": "markdown",
   "metadata": {
    "id": "WHPe1E-Ub3V4"
   },
   "source": [
    "Define parameters for random grid search:"
   ]
  },
  {
   "cell_type": "code",
   "execution_count": 20,
   "metadata": {
    "id": "AsqcW-iTboTP"
   },
   "outputs": [],
   "source": [
    "n_trials = 60\n",
    "n_recurrent_units_min = 10, \n",
    "n_recurrent_units_max = 100, \n",
    "n_dense_units_min = 20\n",
    "n_dense_units_max = 100\n",
    "scale_min = .01\n",
    "scale_max = .1\n",
    "lr_min = 1e-4\n",
    "lr_max = 1e-1\n",
    "dr_min = 0.8\n",
    "dr_max = 0.999"
   ]
  },
  {
   "cell_type": "code",
   "execution_count": 21,
   "metadata": {
    "colab": {
     "base_uri": "https://localhost:8080/"
    },
    "id": "wvtrHSCrb-2v",
    "outputId": "61ec3cbb-7f7b-4adc-94c1-8c590fc2d28d"
   },
   "outputs": [
    {
     "name": "stdout",
     "output_type": "stream",
     "text": [
      "INFO: trying {'n_recurrent_units': 34, 'n_dense_units': 47, 'scale': 0.06718186440017801, 'lr': 0.050803990919555266, 'dr': 0.9067250649634979}...\n",
      "7/7 [==============================] - 0s 16ms/step - loss: 0.1409 - mean_absolute_percentage_error: 108.3460\n",
      "INFO: model evaluation on test data:\n",
      "\tloss: 0.14091554284095764\n",
      "\tMAPE: 108.3460464477539\n",
      "INFO: error: 108.3460464477539\n",
      "INFO: trying {'n_recurrent_units': 76, 'n_dense_units': 91, 'scale': 0.046748131684606974, 'lr': 0.06728245744518077, 'dr': 0.991141258422624}...\n",
      "7/7 [==============================] - 0s 26ms/step - loss: 0.1350 - mean_absolute_percentage_error: 95.0225\n",
      "INFO: model evaluation on test data:\n",
      "\tloss: 0.13498952984809875\n",
      "\tMAPE: 95.02252960205078\n",
      "INFO: error: 95.02252960205078\n",
      "INFO: trying {'n_recurrent_units': 67, 'n_dense_units': 73, 'scale': 0.027721715842316336, 'lr': 0.011222347221809066, 'dr': 0.8620814636918679}...\n",
      "7/7 [==============================] - 0s 14ms/step - loss: 0.1348 - mean_absolute_percentage_error: 94.4402\n",
      "INFO: model evaluation on test data:\n",
      "\tloss: 0.13484247028827667\n",
      "\tMAPE: 94.44017028808594\n",
      "INFO: error: 94.44017028808594\n",
      "INFO: trying {'n_recurrent_units': 54, 'n_dense_units': 69, 'scale': 0.03538972569816484, 'lr': 0.03760063318283598, 'dr': 0.8374951287191268}...\n",
      "7/7 [==============================] - 0s 11ms/step - loss: 0.1345 - mean_absolute_percentage_error: 101.8924\n",
      "INFO: model evaluation on test data:\n",
      "\tloss: 0.13449794054031372\n",
      "\tMAPE: 101.89240264892578\n",
      "INFO: error: 101.89240264892578\n",
      "INFO: trying {'n_recurrent_units': 54, 'n_dense_units': 22, 'scale': 0.022385722621433582, 'lr': 0.05207885416335485, 'dr': 0.9363351036299221}...\n",
      "7/7 [==============================] - 0s 9ms/step - loss: 0.1387 - mean_absolute_percentage_error: 116.2900\n",
      "INFO: model evaluation on test data:\n",
      "\tloss: 0.13874247670173645\n",
      "\tMAPE: 116.29000091552734\n",
      "INFO: error: 116.29000091552734\n",
      "INFO: trying {'n_recurrent_units': 34, 'n_dense_units': 56, 'scale': 0.041798705264247976, 'lr': 0.08944170754344438, 'dr': 0.9016913817157004}...\n",
      "7/7 [==============================] - 0s 11ms/step - loss: 0.2316 - mean_absolute_percentage_error: 191.4639\n",
      "INFO: model evaluation on test data:\n",
      "\tloss: 0.23159568011760712\n",
      "\tMAPE: 191.46388244628906\n",
      "INFO: error: 191.46388244628906\n",
      "INFO: trying {'n_recurrent_units': 30, 'n_dense_units': 36, 'scale': 0.03333266202649115, 'lr': 0.028336373110457596, 'dr': 0.8518670335989225}...\n",
      "7/7 [==============================] - 0s 9ms/step - loss: 0.1363 - mean_absolute_percentage_error: 100.4686\n",
      "INFO: model evaluation on test data:\n",
      "\tloss: 0.13625814020633698\n",
      "\tMAPE: 100.46855926513672\n",
      "INFO: error: 100.46855926513672\n",
      "INFO: trying {'n_recurrent_units': 53, 'n_dense_units': 74, 'scale': 0.04210645384854498, 'lr': 0.012268642763126794, 'dr': 0.8175507037453924}...\n",
      "7/7 [==============================] - 0s 7ms/step - loss: 0.1351 - mean_absolute_percentage_error: 97.4833\n",
      "INFO: model evaluation on test data:\n",
      "\tloss: 0.13507217168807983\n",
      "\tMAPE: 97.48326873779297\n",
      "INFO: error: 97.48326873779297\n",
      "INFO: trying {'n_recurrent_units': 99, 'n_dense_units': 32, 'scale': 0.04030693616810807, 'lr': 0.05448006257139965, 'dr': 0.8788404537156631}...\n",
      "7/7 [==============================] - 0s 12ms/step - loss: 0.1386 - mean_absolute_percentage_error: 111.9225\n",
      "INFO: model evaluation on test data:\n",
      "\tloss: 0.13858439028263092\n",
      "\tMAPE: 111.92252349853516\n",
      "INFO: error: 111.92252349853516\n",
      "INFO: trying {'n_recurrent_units': 26, 'n_dense_units': 77, 'scale': 0.044721191400179605, 'lr': 0.035324772556432446, 'dr': 0.8903539386888076}...\n",
      "7/7 [==============================] - 0s 8ms/step - loss: 0.1356 - mean_absolute_percentage_error: 94.0469\n",
      "INFO: model evaluation on test data:\n",
      "\tloss: 0.13559037446975708\n",
      "\tMAPE: 94.04693603515625\n",
      "INFO: error: 94.04693603515625\n",
      "INFO: trying {'n_recurrent_units': 28, 'n_dense_units': 65, 'scale': 0.08339322223462167, 'lr': 0.07654459478984593, 'dr': 0.865405948301977}...\n",
      "7/7 [==============================] - 0s 7ms/step - loss: 0.2325 - mean_absolute_percentage_error: 186.2832\n",
      "INFO: model evaluation on test data:\n",
      "\tloss: 0.23246599733829498\n",
      "\tMAPE: 186.2832489013672\n",
      "INFO: error: 186.2832489013672\n",
      "INFO: trying {'n_recurrent_units': 65, 'n_dense_units': 67, 'scale': 0.04361099219177628, 'lr': 0.08011373275102626, 'dr': 0.9430528438710672}...\n",
      "7/7 [==============================] - 0s 8ms/step - loss: 0.1365 - mean_absolute_percentage_error: 106.0243\n",
      "INFO: model evaluation on test data:\n",
      "\tloss: 0.13651683926582336\n",
      "\tMAPE: 106.02432250976562\n",
      "INFO: error: 106.02432250976562\n",
      "INFO: trying {'n_recurrent_units': 86, 'n_dense_units': 22, 'scale': 0.03322522203945704, 'lr': 0.020991014167875587, 'dr': 0.8731458254121058}...\n",
      "7/7 [==============================] - 0s 11ms/step - loss: 0.1357 - mean_absolute_percentage_error: 103.3408\n",
      "INFO: model evaluation on test data:\n",
      "\tloss: 0.13567036390304565\n",
      "\tMAPE: 103.34082794189453\n",
      "INFO: error: 103.34082794189453\n",
      "INFO: trying {'n_recurrent_units': 37, 'n_dense_units': 44, 'scale': 0.06530970713063913, 'lr': 0.08587914496353032, 'dr': 0.9281120717559886}...\n",
      "7/7 [==============================] - 0s 9ms/step - loss: 0.2312 - mean_absolute_percentage_error: 176.4453\n",
      "INFO: model evaluation on test data:\n",
      "\tloss: 0.2312440574169159\n",
      "\tMAPE: 176.44525146484375\n",
      "INFO: error: 176.44525146484375\n",
      "INFO: trying {'n_recurrent_units': 68, 'n_dense_units': 72, 'scale': 0.08936946869311946, 'lr': 0.0224314603313896, 'dr': 0.8903601128089124}...\n",
      "7/7 [==============================] - 0s 12ms/step - loss: 0.1364 - mean_absolute_percentage_error: 98.7783\n",
      "INFO: model evaluation on test data:\n",
      "\tloss: 0.13640475273132324\n",
      "\tMAPE: 98.77828216552734\n",
      "INFO: error: 98.77828216552734\n",
      "INFO: trying {'n_recurrent_units': 32, 'n_dense_units': 56, 'scale': 0.06700301674443805, 'lr': 0.0003767362036062069, 'dr': 0.9169095106747884}...\n",
      "7/7 [==============================] - 0s 8ms/step - loss: 0.2108 - mean_absolute_percentage_error: 177.0440\n",
      "INFO: model evaluation on test data:\n",
      "\tloss: 0.21083484590053558\n",
      "\tMAPE: 177.0439910888672\n",
      "INFO: error: 177.0439910888672\n",
      "INFO: trying {'n_recurrent_units': 24, 'n_dense_units': 47, 'scale': 0.029961087491402895, 'lr': 0.03998631756508181, 'dr': 0.9821330417016157}...\n",
      "7/7 [==============================] - 0s 7ms/step - loss: 0.1446 - mean_absolute_percentage_error: 87.4200\n",
      "INFO: model evaluation on test data:\n",
      "\tloss: 0.14455175399780273\n",
      "\tMAPE: 87.41996765136719\n",
      "INFO: error: 87.41996765136719\n",
      "INFO: trying {'n_recurrent_units': 28, 'n_dense_units': 97, 'scale': 0.03750176129998002, 'lr': 0.06880988351490284, 'dr': 0.8287694590102793}...\n",
      "7/7 [==============================] - 0s 9ms/step - loss: 0.2305 - mean_absolute_percentage_error: 189.5094\n",
      "INFO: model evaluation on test data:\n",
      "\tloss: 0.23051249980926514\n",
      "\tMAPE: 189.5094451904297\n",
      "INFO: error: 189.5094451904297\n",
      "INFO: trying {'n_recurrent_units': 18, 'n_dense_units': 38, 'scale': 0.078748013051917, 'lr': 0.04613711057284349, 'dr': 0.9345511925630603}...\n",
      "7/7 [==============================] - 0s 8ms/step - loss: 0.1382 - mean_absolute_percentage_error: 107.7449\n",
      "INFO: model evaluation on test data:\n",
      "\tloss: 0.13815739750862122\n",
      "\tMAPE: 107.74485778808594\n",
      "INFO: error: 107.74485778808594\n",
      "INFO: trying {'n_recurrent_units': 95, 'n_dense_units': 72, 'scale': 0.06532226317132403, 'lr': 0.061041922274445944, 'dr': 0.976966571875077}...\n",
      "7/7 [==============================] - 0s 10ms/step - loss: 0.1336 - mean_absolute_percentage_error: 95.6046\n",
      "INFO: model evaluation on test data:\n",
      "\tloss: 0.13356468081474304\n",
      "\tMAPE: 95.60456085205078\n",
      "INFO: error: 95.60456085205078\n",
      "INFO: trying {'n_recurrent_units': 36, 'n_dense_units': 68, 'scale': 0.055663838494302315, 'lr': 0.05682640286952447, 'dr': 0.9471772064948218}...\n",
      "7/7 [==============================] - 0s 10ms/step - loss: 0.1428 - mean_absolute_percentage_error: 93.5841\n",
      "INFO: model evaluation on test data:\n",
      "\tloss: 0.14280660450458527\n",
      "\tMAPE: 93.58412170410156\n",
      "INFO: error: 93.58412170410156\n",
      "INFO: trying {'n_recurrent_units': 94, 'n_dense_units': 61, 'scale': 0.060779556024440295, 'lr': 0.05491701673876211, 'dr': 0.8746738937357912}...\n",
      "7/7 [==============================] - 0s 13ms/step - loss: 0.1340 - mean_absolute_percentage_error: 96.6258\n",
      "INFO: model evaluation on test data:\n",
      "\tloss: 0.1340392678976059\n",
      "\tMAPE: 96.62584686279297\n",
      "INFO: error: 96.62584686279297\n",
      "INFO: trying {'n_recurrent_units': 59, 'n_dense_units': 46, 'scale': 0.01730831521166886, 'lr': 0.047205508668453605, 'dr': 0.8205483458578258}...\n"
     ]
    },
    {
     "name": "stdout",
     "output_type": "stream",
     "text": [
      "7/7 [==============================] - 0s 10ms/step - loss: 0.1547 - mean_absolute_percentage_error: 123.9676\n",
      "INFO: model evaluation on test data:\n",
      "\tloss: 0.1547238826751709\n",
      "\tMAPE: 123.96758270263672\n",
      "INFO: error: 123.96758270263672\n",
      "INFO: trying {'n_recurrent_units': 64, 'n_dense_units': 63, 'scale': 0.012283822506894132, 'lr': 0.01313570149147892, 'dr': 0.8798788375699633}...\n",
      "7/7 [==============================] - 0s 11ms/step - loss: 0.1353 - mean_absolute_percentage_error: 94.7966\n",
      "INFO: model evaluation on test data:\n",
      "\tloss: 0.13529743254184723\n",
      "\tMAPE: 94.79656982421875\n",
      "INFO: error: 94.79656982421875\n",
      "INFO: trying {'n_recurrent_units': 92, 'n_dense_units': 27, 'scale': 0.09606010593654354, 'lr': 0.040291008217411245, 'dr': 0.9603600631244706}...\n",
      "7/7 [==============================] - 0s 11ms/step - loss: 0.1341 - mean_absolute_percentage_error: 99.4196\n",
      "INFO: model evaluation on test data:\n",
      "\tloss: 0.13410106301307678\n",
      "\tMAPE: 99.41964721679688\n",
      "INFO: error: 99.41964721679688\n",
      "INFO: trying {'n_recurrent_units': 33, 'n_dense_units': 44, 'scale': 0.06772926286988581, 'lr': 0.020759126744221156, 'dr': 0.9961513719811004}...\n",
      "7/7 [==============================] - 0s 8ms/step - loss: 0.1391 - mean_absolute_percentage_error: 97.4811\n",
      "INFO: model evaluation on test data:\n",
      "\tloss: 0.13913889229297638\n",
      "\tMAPE: 97.48110961914062\n",
      "INFO: error: 97.48110961914062\n",
      "INFO: trying {'n_recurrent_units': 72, 'n_dense_units': 89, 'scale': 0.09976406418990229, 'lr': 0.04616159092191399, 'dr': 0.8747342477144988}...\n",
      "7/7 [==============================] - 0s 19ms/step - loss: 0.1359 - mean_absolute_percentage_error: 101.8934\n",
      "INFO: model evaluation on test data:\n",
      "\tloss: 0.13592928647994995\n",
      "\tMAPE: 101.8934097290039\n",
      "INFO: error: 101.8934097290039\n",
      "INFO: trying {'n_recurrent_units': 94, 'n_dense_units': 80, 'scale': 0.031202618625417018, 'lr': 0.024280056358957313, 'dr': 0.9177687249620131}...\n",
      "7/7 [==============================] - 0s 17ms/step - loss: 0.1353 - mean_absolute_percentage_error: 99.9904\n",
      "INFO: model evaluation on test data:\n",
      "\tloss: 0.1352970004081726\n",
      "\tMAPE: 99.99039459228516\n",
      "INFO: error: 99.99039459228516\n",
      "INFO: trying {'n_recurrent_units': 72, 'n_dense_units': 27, 'scale': 0.05791525145842691, 'lr': 0.08224878789075846, 'dr': 0.8462000139922439}...\n",
      "7/7 [==============================] - 0s 24ms/step - loss: 0.1410 - mean_absolute_percentage_error: 121.4618\n",
      "INFO: model evaluation on test data:\n",
      "\tloss: 0.14100497961044312\n",
      "\tMAPE: 121.46184539794922\n",
      "INFO: error: 121.46184539794922\n",
      "INFO: trying {'n_recurrent_units': 14, 'n_dense_units': 76, 'scale': 0.01872252308146264, 'lr': 0.07050540584696557, 'dr': 0.8188611296458256}...\n",
      "7/7 [==============================] - 0s 6ms/step - loss: 0.2348 - mean_absolute_percentage_error: 199.7336\n",
      "INFO: model evaluation on test data:\n",
      "\tloss: 0.2348075658082962\n",
      "\tMAPE: 199.7335662841797\n",
      "INFO: error: 199.7335662841797\n",
      "INFO: trying {'n_recurrent_units': 39, 'n_dense_units': 52, 'scale': 0.016853212171538512, 'lr': 0.021926541418796602, 'dr': 0.9460545237629631}...\n",
      "7/7 [==============================] - 0s 12ms/step - loss: 0.1386 - mean_absolute_percentage_error: 94.3082\n",
      "INFO: model evaluation on test data:\n",
      "\tloss: 0.1386280357837677\n",
      "\tMAPE: 94.30821228027344\n",
      "INFO: error: 94.30821228027344\n",
      "INFO: trying {'n_recurrent_units': 73, 'n_dense_units': 68, 'scale': 0.031046183652105146, 'lr': 0.0893517356890145, 'dr': 0.9462226029610622}...\n",
      "7/7 [==============================] - 0s 17ms/step - loss: 0.2308 - mean_absolute_percentage_error: 186.1136\n",
      "INFO: model evaluation on test data:\n",
      "\tloss: 0.23077023029327393\n",
      "\tMAPE: 186.1135711669922\n",
      "INFO: error: 186.1135711669922\n",
      "INFO: trying {'n_recurrent_units': 93, 'n_dense_units': 82, 'scale': 0.06589769166888769, 'lr': 0.001671389078319744, 'dr': 0.9385799649217828}...\n",
      "7/7 [==============================] - 0s 12ms/step - loss: 0.1391 - mean_absolute_percentage_error: 94.8637\n",
      "INFO: model evaluation on test data:\n",
      "\tloss: 0.1390988677740097\n",
      "\tMAPE: 94.86371612548828\n",
      "INFO: error: 94.86371612548828\n",
      "INFO: trying {'n_recurrent_units': 47, 'n_dense_units': 80, 'scale': 0.0867146562883987, 'lr': 0.042104471725874046, 'dr': 0.8483854293253}...\n",
      "7/7 [==============================] - 0s 14ms/step - loss: 0.1347 - mean_absolute_percentage_error: 101.0791\n",
      "INFO: model evaluation on test data:\n",
      "\tloss: 0.13468652963638306\n",
      "\tMAPE: 101.07909393310547\n",
      "INFO: error: 101.07909393310547\n",
      "INFO: trying {'n_recurrent_units': 29, 'n_dense_units': 81, 'scale': 0.09360102763623965, 'lr': 0.06157229785469539, 'dr': 0.9156085919654953}...\n",
      "7/7 [==============================] - 0s 10ms/step - loss: 0.1431 - mean_absolute_percentage_error: 109.7524\n",
      "INFO: model evaluation on test data:\n",
      "\tloss: 0.1430824100971222\n",
      "\tMAPE: 109.75235748291016\n",
      "INFO: error: 109.75235748291016\n",
      "INFO: trying {'n_recurrent_units': 37, 'n_dense_units': 47, 'scale': 0.021662422327934347, 'lr': 0.0861284890659155, 'dr': 0.8284937062784506}...\n",
      "7/7 [==============================] - 0s 10ms/step - loss: 0.1350 - mean_absolute_percentage_error: 102.9531\n",
      "INFO: model evaluation on test data:\n",
      "\tloss: 0.1349555253982544\n",
      "\tMAPE: 102.95313262939453\n",
      "INFO: error: 102.95313262939453\n",
      "INFO: trying {'n_recurrent_units': 57, 'n_dense_units': 65, 'scale': 0.04399467128315557, 'lr': 0.061108307695645334, 'dr': 0.8502026758855821}...\n",
      "7/7 [==============================] - 0s 18ms/step - loss: 0.1405 - mean_absolute_percentage_error: 108.6381\n",
      "INFO: model evaluation on test data:\n",
      "\tloss: 0.14047905802726746\n",
      "\tMAPE: 108.63810729980469\n",
      "INFO: error: 108.63810729980469\n",
      "INFO: trying {'n_recurrent_units': 36, 'n_dense_units': 94, 'scale': 0.08234679791401335, 'lr': 0.021300275772687997, 'dr': 0.8103256599018662}...\n",
      "7/7 [==============================] - 0s 11ms/step - loss: 0.1342 - mean_absolute_percentage_error: 94.2260\n",
      "INFO: model evaluation on test data:\n",
      "\tloss: 0.13424426317214966\n",
      "\tMAPE: 94.22598266601562\n",
      "INFO: error: 94.22598266601562\n",
      "INFO: trying {'n_recurrent_units': 69, 'n_dense_units': 24, 'scale': 0.09714263450074578, 'lr': 0.09994155596794875, 'dr': 0.8613570923638378}...\n",
      "7/7 [==============================] - 0s 17ms/step - loss: 0.2311 - mean_absolute_percentage_error: 182.5001\n",
      "INFO: model evaluation on test data:\n",
      "\tloss: 0.2310769408941269\n",
      "\tMAPE: 182.5000762939453\n",
      "INFO: error: 182.5000762939453\n",
      "INFO: trying {'n_recurrent_units': 93, 'n_dense_units': 31, 'scale': 0.010252275900029676, 'lr': 0.07068138630136048, 'dr': 0.9513492724928146}...\n",
      "7/7 [==============================] - 0s 17ms/step - loss: 0.2333 - mean_absolute_percentage_error: 196.6512\n",
      "INFO: model evaluation on test data:\n",
      "\tloss: 0.23332534730434418\n",
      "\tMAPE: 196.65118408203125\n",
      "INFO: error: 196.65118408203125\n",
      "INFO: trying {'n_recurrent_units': 76, 'n_dense_units': 32, 'scale': 0.06688737084352048, 'lr': 0.01688902783638344, 'dr': 0.9334965230478939}...\n",
      "7/7 [==============================] - 0s 12ms/step - loss: 0.2311 - mean_absolute_percentage_error: 188.4760\n",
      "INFO: model evaluation on test data:\n",
      "\tloss: 0.23110687732696533\n",
      "\tMAPE: 188.4759521484375\n",
      "INFO: error: 188.4759521484375\n",
      "INFO: trying {'n_recurrent_units': 13, 'n_dense_units': 33, 'scale': 0.07569062632733005, 'lr': 0.0613730629727894, 'dr': 0.9207240194048278}...\n",
      "7/7 [==============================] - 0s 14ms/step - loss: 0.2333 - mean_absolute_percentage_error: 196.5567\n",
      "INFO: model evaluation on test data:\n",
      "\tloss: 0.23326770961284637\n",
      "\tMAPE: 196.55665588378906\n",
      "INFO: error: 196.55665588378906\n",
      "INFO: trying {'n_recurrent_units': 28, 'n_dense_units': 23, 'scale': 0.09399025766542236, 'lr': 0.08219110630829722, 'dr': 0.8135573969197714}...\n",
      "7/7 [==============================] - 0s 14ms/step - loss: 0.1333 - mean_absolute_percentage_error: 95.6861\n",
      "INFO: model evaluation on test data:\n",
      "\tloss: 0.13325686752796173\n",
      "\tMAPE: 95.68612670898438\n",
      "INFO: error: 95.68612670898438\n",
      "INFO: trying {'n_recurrent_units': 33, 'n_dense_units': 34, 'scale': 0.08394437802374063, 'lr': 0.08605535999820042, 'dr': 0.8592170998697168}...\n",
      "7/7 [==============================] - 0s 12ms/step - loss: 0.1355 - mean_absolute_percentage_error: 96.6020\n",
      "INFO: model evaluation on test data:\n",
      "\tloss: 0.13546395301818848\n",
      "\tMAPE: 96.60201263427734\n",
      "INFO: error: 96.60201263427734\n",
      "INFO: trying {'n_recurrent_units': 85, 'n_dense_units': 93, 'scale': 0.05272926768736684, 'lr': 0.09135192176465877, 'dr': 0.937722069086421}...\n"
     ]
    },
    {
     "name": "stdout",
     "output_type": "stream",
     "text": [
      "7/7 [==============================] - 0s 23ms/step - loss: 0.1334 - mean_absolute_percentage_error: 92.5055\n",
      "INFO: model evaluation on test data:\n",
      "\tloss: 0.13338255882263184\n",
      "\tMAPE: 92.50546264648438\n",
      "INFO: error: 92.50546264648438\n",
      "INFO: trying {'n_recurrent_units': 67, 'n_dense_units': 66, 'scale': 0.027805026065175188, 'lr': 0.08755723982299596, 'dr': 0.8118475146497287}...\n",
      "7/7 [==============================] - 0s 12ms/step - loss: 0.2324 - mean_absolute_percentage_error: 194.0379\n",
      "INFO: model evaluation on test data:\n",
      "\tloss: 0.2323502004146576\n",
      "\tMAPE: 194.0379180908203\n",
      "INFO: error: 194.0379180908203\n",
      "INFO: trying {'n_recurrent_units': 45, 'n_dense_units': 62, 'scale': 0.062255303898138936, 'lr': 0.01703314111568477, 'dr': 0.8585576497428403}...\n",
      "7/7 [==============================] - 0s 13ms/step - loss: 0.1350 - mean_absolute_percentage_error: 96.8858\n",
      "INFO: model evaluation on test data:\n",
      "\tloss: 0.13495531678199768\n",
      "\tMAPE: 96.88577270507812\n",
      "INFO: error: 96.88577270507812\n",
      "INFO: trying {'n_recurrent_units': 10, 'n_dense_units': 22, 'scale': 0.03851880163277474, 'lr': 0.049627847175234475, 'dr': 0.8277638928924389}...\n",
      "7/7 [==============================] - 0s 12ms/step - loss: 0.1395 - mean_absolute_percentage_error: 100.2695\n",
      "INFO: model evaluation on test data:\n",
      "\tloss: 0.1395409107208252\n",
      "\tMAPE: 100.26952362060547\n",
      "INFO: error: 100.26952362060547\n",
      "INFO: trying {'n_recurrent_units': 83, 'n_dense_units': 90, 'scale': 0.060985737119785756, 'lr': 0.09578021092785828, 'dr': 0.8483588508761697}...\n",
      "7/7 [==============================] - 0s 22ms/step - loss: 0.2303 - mean_absolute_percentage_error: 187.8025\n",
      "INFO: model evaluation on test data:\n",
      "\tloss: 0.23031601309776306\n",
      "\tMAPE: 187.80245971679688\n",
      "INFO: error: 187.80245971679688\n",
      "INFO: trying {'n_recurrent_units': 49, 'n_dense_units': 46, 'scale': 0.08703933898259152, 'lr': 0.02179333717255351, 'dr': 0.9000149568085979}...\n",
      "7/7 [==============================] - 0s 19ms/step - loss: 0.1357 - mean_absolute_percentage_error: 92.4112\n",
      "INFO: model evaluation on test data:\n",
      "\tloss: 0.13567043840885162\n",
      "\tMAPE: 92.41123962402344\n",
      "INFO: error: 92.41123962402344\n",
      "INFO: trying {'n_recurrent_units': 84, 'n_dense_units': 26, 'scale': 0.04742236539659967, 'lr': 0.030142831775074954, 'dr': 0.8181800639161607}...\n",
      "7/7 [==============================] - 0s 16ms/step - loss: 0.1396 - mean_absolute_percentage_error: 111.4401\n",
      "INFO: model evaluation on test data:\n",
      "\tloss: 0.13959556818008423\n",
      "\tMAPE: 111.44013214111328\n",
      "INFO: error: 111.44013214111328\n",
      "INFO: trying {'n_recurrent_units': 71, 'n_dense_units': 32, 'scale': 0.05764593200314219, 'lr': 0.03792312250947497, 'dr': 0.8559226458410719}...\n",
      "7/7 [==============================] - 0s 30ms/step - loss: 0.1366 - mean_absolute_percentage_error: 97.5984\n",
      "INFO: model evaluation on test data:\n",
      "\tloss: 0.136619433760643\n",
      "\tMAPE: 97.5983657836914\n",
      "INFO: error: 97.5983657836914\n",
      "INFO: trying {'n_recurrent_units': 77, 'n_dense_units': 63, 'scale': 0.011322246618198112, 'lr': 0.011713085659531833, 'dr': 0.8887513050267378}...\n",
      "7/7 [==============================] - 0s 20ms/step - loss: 0.1350 - mean_absolute_percentage_error: 97.4389\n",
      "INFO: model evaluation on test data:\n",
      "\tloss: 0.13504289090633392\n",
      "\tMAPE: 97.43894958496094\n",
      "INFO: error: 97.43894958496094\n",
      "INFO: trying {'n_recurrent_units': 47, 'n_dense_units': 79, 'scale': 0.03518799655471505, 'lr': 0.07300747251301783, 'dr': 0.8081145084139875}...\n",
      "7/7 [==============================] - 0s 14ms/step - loss: 0.1383 - mean_absolute_percentage_error: 105.8338\n",
      "INFO: model evaluation on test data:\n",
      "\tloss: 0.13833700120449066\n",
      "\tMAPE: 105.83384704589844\n",
      "INFO: error: 105.83384704589844\n",
      "INFO: trying {'n_recurrent_units': 30, 'n_dense_units': 97, 'scale': 0.044139301168022234, 'lr': 0.02073546127084565, 'dr': 0.9117380439935823}...\n",
      "7/7 [==============================] - 0s 11ms/step - loss: 0.1357 - mean_absolute_percentage_error: 91.7038\n",
      "INFO: model evaluation on test data:\n",
      "\tloss: 0.13565275073051453\n",
      "\tMAPE: 91.70377349853516\n",
      "INFO: error: 91.70377349853516\n",
      "INFO: trying {'n_recurrent_units': 43, 'n_dense_units': 65, 'scale': 0.07694300005066057, 'lr': 0.007859978604078366, 'dr': 0.9499405324076887}...\n",
      "7/7 [==============================] - 0s 8ms/step - loss: 0.1398 - mean_absolute_percentage_error: 100.1268\n",
      "INFO: model evaluation on test data:\n",
      "\tloss: 0.13983510434627533\n",
      "\tMAPE: 100.12676239013672\n",
      "INFO: error: 100.12676239013672\n",
      "INFO: trying {'n_recurrent_units': 48, 'n_dense_units': 86, 'scale': 0.026174014152065994, 'lr': 0.03645560043385422, 'dr': 0.8217098690138607}...\n",
      "7/7 [==============================] - 0s 11ms/step - loss: 0.1362 - mean_absolute_percentage_error: 91.7288\n",
      "INFO: model evaluation on test data:\n",
      "\tloss: 0.1362084448337555\n",
      "\tMAPE: 91.72875213623047\n",
      "INFO: error: 91.72875213623047\n",
      "INFO: trying {'n_recurrent_units': 52, 'n_dense_units': 86, 'scale': 0.07241946696663004, 'lr': 0.036100913495456806, 'dr': 0.8470680685133294}...\n",
      "7/7 [==============================] - 0s 14ms/step - loss: 0.2323 - mean_absolute_percentage_error: 194.2016\n",
      "INFO: model evaluation on test data:\n",
      "\tloss: 0.2323269546031952\n",
      "\tMAPE: 194.20156860351562\n",
      "INFO: error: 194.20156860351562\n",
      "INFO: trying {'n_recurrent_units': 54, 'n_dense_units': 82, 'scale': 0.050000623479444374, 'lr': 0.04163156206013531, 'dr': 0.9293537545197953}...\n",
      "7/7 [==============================] - 0s 14ms/step - loss: 0.1383 - mean_absolute_percentage_error: 99.4830\n",
      "INFO: model evaluation on test data:\n",
      "\tloss: 0.13831548392772675\n",
      "\tMAPE: 99.48302459716797\n",
      "INFO: error: 99.48302459716797\n",
      "INFO: trying {'n_recurrent_units': 32, 'n_dense_units': 81, 'scale': 0.08229398107169474, 'lr': 0.037555773283427935, 'dr': 0.8911415632551197}...\n",
      "7/7 [==============================] - 0s 10ms/step - loss: 0.1345 - mean_absolute_percentage_error: 98.9752\n",
      "INFO: model evaluation on test data:\n",
      "\tloss: 0.13452409207820892\n",
      "\tMAPE: 98.97515869140625\n",
      "INFO: error: 98.97515869140625\n"
     ]
    }
   ],
   "source": [
    "rgs_result = random_grid_search(n_trials=n_trials, \n",
    "                        n_recurrent_units_min=n_recurrent_units_min, \n",
    "                        n_recurrent_units_max=n_recurrent_units_max, \n",
    "                        n_dense_units_min=n_dense_units_min, \n",
    "                        n_dense_units_max=n_dense_units_max,\n",
    "                        scale_min=scale_min, scale_max=scale_max,\n",
    "                        lr_min=lr_min, lr_max=lr_max, \n",
    "                        dr_min=dr_min, dr_max=dr_max)"
   ]
  },
  {
   "cell_type": "code",
   "execution_count": 22,
   "metadata": {
    "colab": {
     "base_uri": "https://localhost:8080/",
     "height": 1000
    },
    "id": "GrmYGM_RhpKY",
    "outputId": "c16f1211-e15e-4767-d941-84e991b96a7d"
   },
   "outputs": [
    {
     "data": {
      "image/png": "[encoded data removed]",
      "text/plain": [
       "<Figure size 864x648 with 1 Axes>"
      ]
     },
     "metadata": {
      "needs_background": "light"
     },
     "output_type": "display_data"
    },
    {
     "data": {
      "image/png": "[encoded data removed]",
      "text/plain": [
       "<Figure size 864x648 with 1 Axes>"
      ]
     },
     "metadata": {
      "needs_background": "light"
     },
     "output_type": "display_data"
    },
    {
     "data": {
      "image/png": "[encoded data removed]",
      "text/plain": [
       "<Figure size 864x648 with 1 Axes>"
      ]
     },
     "metadata": {
      "needs_background": "light"
     },
     "output_type": "display_data"
    },
    {
     "data": {
      "image/png": "[encoded data removed]",
      "text/plain": [
       "<Figure size 864x648 with 1 Axes>"
      ]
     },
     "metadata": {
      "needs_background": "light"
     },
     "output_type": "display_data"
    },
    {
     "data": {
      "image/png": "[encoded data removed]",
      "text/plain": [
       "<Figure size 864x648 with 1 Axes>"
      ]
     },
     "metadata": {
      "needs_background": "light"
     },
     "output_type": "display_data"
    }
   ],
   "source": [
    "hyperparameters = list(rgs_result[0].get('hp').keys())\n",
    "ys = [d.get('error') for d in rgs_result]\n",
    "for hyperparameter in hyperparameters:\n",
    "  xs = [d.get('hp').get(hyperparameter) for d in rgs_result]\n",
    "  plt.scatter(xs, ys)\n",
    "  plt.xlabel(hyperparameter)\n",
    "  plt.ylabel('Error')\n",
    "  plt.title(f'Error by {hyperparameter}')\n",
    "  plt.show()"
   ]
  },
  {
   "cell_type": "code",
   "execution_count": 23,
   "metadata": {
    "id": "izw57AV72b_J"
   },
   "outputs": [],
   "source": [
    "def get_best_hp(rgs_result: List[Dict]):\n",
    "  best_error = None\n",
    "  for r in rgs_result:\n",
    "    if r.get('error') is None:\n",
    "      continue\n",
    "    if best_error is None or r.get('error') < best_error:\n",
    "      best_hp = r.get('hp')\n",
    "      best_error = r.get('error')\n",
    "  return best_hp, best_error"
   ]
  },
  {
   "cell_type": "code",
   "execution_count": 24,
   "metadata": {
    "colab": {
     "base_uri": "https://localhost:8080/"
    },
    "id": "Oxtv8mg73LsF",
    "outputId": "cd0c176a-0027-454b-c1b0-88a045bcbab9"
   },
   "outputs": [
    {
     "name": "stdout",
     "output_type": "stream",
     "text": [
      "best_hp: {'n_recurrent_units': 24, 'n_dense_units': 47, 'scale': 0.029961087491402895, 'lr': 0.03998631756508181, 'dr': 0.9821330417016157}\n",
      "Corresponding best_error: 87.41996765136719\n"
     ]
    }
   ],
   "source": [
    "best_hp, best_error = get_best_hp(rgs_result)\n",
    "print(f'best_hp: {best_hp}\\nCorresponding best_error: {best_error}')"
   ]
  },
  {
   "cell_type": "code",
   "execution_count": 25,
   "metadata": {
    "colab": {
     "base_uri": "https://localhost:8080/"
    },
    "id": "yvddyQ4w4Dpn",
    "outputId": "eac85249-e0b6-4195-bb45-6b229873fc9d"
   },
   "outputs": [
    {
     "name": "stdout",
     "output_type": "stream",
     "text": [
      "7/7 [==============================] - 0s 14ms/step - loss: 0.2314 - mean_absolute_percentage_error: 190.8350\n",
      "INFO: model evaluation on test data:\n",
      "\tloss: 0.2314455807209015\n",
      "\tMAPE: 190.83499145507812\n"
     ]
    },
    {
     "data": {
      "text/plain": [
       "190.83499145507812"
      ]
     },
     "execution_count": 25,
     "metadata": {},
     "output_type": "execute_result"
    }
   ],
   "source": [
    "model = get_model(n_prior=n_prior, n_features=1, n_to_predict=n_to_predict,\n",
    "              scale = best_hp.get('scale'),\n",
    "              n_recurrent_units=best_hp.get('n_recurrent_units'), \n",
    "              n_dense_units=best_hp.get('n_dense_units'))\n",
    "\n",
    "train_persist_model(model=model, X_train=X_train, X_val=X_val, X_test=X_test, \n",
    "                  y_train=y_train, y_val=y_val, y_test=y_test, \n",
    "                  model_name=f'{stock} {target} price', model_path=None, \n",
    "                  lr=best_hp.get('lr'), dr=best_hp.get('dr'),\n",
    "                  max_epochs=max_epochs, patience=patience, \n",
    "                  batch_size=batch_size, plot=False, verbose=0)"
   ]
  },
  {
   "cell_type": "markdown",
   "metadata": {
    "id": "611SyKwjZ4kG"
   },
   "source": [
    "## Make prediction"
   ]
  },
  {
   "cell_type": "code",
   "execution_count": 26,
   "metadata": {
    "id": "Vn-peZHKaQn8"
   },
   "outputs": [],
   "source": [
    "def generate_prediction(predict_from: str, stock: str, target: str, model: Model, \n",
    "                        n_prior: int = 21, valid: bool = False) -> None:\n",
    "  \"\"\" Generate predictions from the date `predict_from` based on the `n_prior` \n",
    "  previous values for the price `target` of `stock`\n",
    "    Args:\n",
    "        predict_from (str): format 'yyyy-mm-dd', date after which the predictions will start\n",
    "        stock (str): code of the stock on Yahoo Finance\n",
    "        target (str): target price to predict (e.g. 'Close')\n",
    "        model (Model): Tensorflow model trained for making predictions\n",
    "        n_prior (int): number of previous values to use for the prediction \n",
    "            (must be the same than the one used to train the `model`)\n",
    "        valid (bool): if to plot the actual vs. the predicted values \n",
    "            (only if the prediction time range lies in the past)\n",
    "    \"\"\"\n",
    "  predict_from_dt = datetime.strptime(predict_from, '%Y-%m-%d')\n",
    "  start_dt = predict_from_dt - timedelta(days=int(n_prior * 1.5))\n",
    "  start = start_dt.strftime('%Y-%m-%d')\n",
    "  data = yf.download(tickers=stock, period='1d', start=start, end=predict_from)\n",
    "  data = data[target]\n",
    "  # Normalize\n",
    "  min_value, max_value = data.min(), data.max()\n",
    "  data = (data - min_value) / (max_value - min_value)\n",
    "  data = data.values[data.shape[0] - n_prior:].reshape(1, -1, 1)\n",
    "\n",
    "  predictions = model.predict(data)\n",
    "  predictions = predictions * (max_value - min_value) + min_value # de-normalize\n",
    "  predictions = predictions.flatten()\n",
    "  prediction_dates = [predict_from_dt + timedelta(days=i+1) for i in range(predictions.shape[0])]\n",
    "  predictions = DataFrame({'date': prediction_dates, 'prediction': predictions})\n",
    "  predictions = predictions.set_index('date')\n",
    "  if valid:\n",
    "    start_valid = predict_from_dt + timedelta(days=1)\n",
    "    end_valid = predict_from_dt + timedelta(int(1.5 * predictions.shape[0]))\n",
    "    start_valid = start_valid.strftime('%Y-%m-%d')\n",
    "    end_valid = end_valid.strftime('%Y-%m-%d')\n",
    "    true_values = yf.download(tickers=stock, period='1d', start=start_valid, end=end_valid)\n",
    "    true_values = true_values[[target]].loc[:predictions.index.max(),:]\n",
    "    fig, ax = plt.subplots(1)\n",
    "    ax.plot(true_values, label='actual')\n",
    "    ax.plot(predictions, label='predicted')\n",
    "    ax.set_title(f'Actual vs. Prediction for stock {stock} between {start_valid} and {end_valid}')\n",
    "    ax.set(xlabel='day', ylabel=f'{stock} ${target} price ($)')\n",
    "    ax.legend()\n",
    "    plt.show()\n",
    "  return predictions"
   ]
  },
  {
   "cell_type": "code",
   "execution_count": 27,
   "metadata": {
    "colab": {
     "base_uri": "https://localhost:8080/",
     "height": 602
    },
    "id": "QzXZGuIaaWTW",
    "outputId": "e555c78b-94b5-4995-8f14-23eedcc5f45a"
   },
   "outputs": [
    {
     "name": "stdout",
     "output_type": "stream",
     "text": [
      "[*********************100%***********************]  1 of 1 completed\n",
      "[*********************100%***********************]  1 of 1 completed\n"
     ]
    },
    {
     "data": {
      "image/png": "[encoded data removed]",
      "text/plain": [
       "<Figure size 864x648 with 1 Axes>"
      ]
     },
     "metadata": {
      "needs_background": "light"
     },
     "output_type": "display_data"
    }
   ],
   "source": [
    "predict_from = '2021-06-01'\n",
    "predictions = generate_prediction(predict_from=predict_from, stock=stock, \n",
    "                                  target=target, model=model, n_prior=n_prior, \n",
    "                                  valid=True)"
   ]
  },
  {
   "cell_type": "code",
   "execution_count": 28,
   "metadata": {
    "id": "__MswHX8bH_Z"
   },
   "outputs": [
    {
     "data": {
      "text/html": [
       "<div>\n",
       "<style scoped>\n",
       "    .dataframe tbody tr th:only-of-type {\n",
       "        vertical-align: middle;\n",
       "    }\n",
       "\n",
       "    .dataframe tbody tr th {\n",
       "        vertical-align: top;\n",
       "    }\n",
       "\n",
       "    .dataframe thead th {\n",
       "        text-align: right;\n",
       "    }\n",
       "</style>\n",
       "<table border=\"1\" class=\"dataframe\">\n",
       "  <thead>\n",
       "    <tr style=\"text-align: right;\">\n",
       "      <th></th>\n",
       "      <th>prediction</th>\n",
       "    </tr>\n",
       "    <tr>\n",
       "      <th>date</th>\n",
       "      <th></th>\n",
       "    </tr>\n",
       "  </thead>\n",
       "  <tbody>\n",
       "    <tr>\n",
       "      <th>2021-06-02</th>\n",
       "      <td>54.928391</td>\n",
       "    </tr>\n",
       "    <tr>\n",
       "      <th>2021-06-03</th>\n",
       "      <td>54.967957</td>\n",
       "    </tr>\n",
       "    <tr>\n",
       "      <th>2021-06-04</th>\n",
       "      <td>54.972664</td>\n",
       "    </tr>\n",
       "  </tbody>\n",
       "</table>\n",
       "</div>"
      ],
      "text/plain": [
       "            prediction\n",
       "date                  \n",
       "2021-06-02   54.928391\n",
       "2021-06-03   54.967957\n",
       "2021-06-04   54.972664"
      ]
     },
     "execution_count": 28,
     "metadata": {},
     "output_type": "execute_result"
    }
   ],
   "source": [
    "predictions"
   ]
  },
  {
   "cell_type": "code",
   "execution_count": null,
   "metadata": {
    "id": "w9Zvkh8K03e9"
   },
   "outputs": [],
   "source": []
  }
 ],
 "metadata": {
  "colab": {
   "name": "stock_prediction.ipynb",
   "provenance": []
  },
  "kernelspec": {
   "display_name": "Python 3",
   "language": "python",
   "name": "python3"
  },
  "language_info": {
   "codemirror_mode": {
    "name": "ipython",
    "version": 3
   },
   "file_extension": ".py",
   "mimetype": "text/x-python",
   "name": "python",
   "nbconvert_exporter": "python",
   "pygments_lexer": "ipython3",
   "version": "3.8.6"
  },
  "toc": {
   "base_numbering": 1,
   "nav_menu": {},
   "number_sections": true,
   "sideBar": true,
   "skip_h1_title": false,
   "title_cell": "Table of Contents",
   "title_sidebar": "Contents",
   "toc_cell": false,
   "toc_position": {},
   "toc_section_display": true,
   "toc_window_display": false
  }
 },
 "nbformat": 4,
 "nbformat_minor": 1
}
