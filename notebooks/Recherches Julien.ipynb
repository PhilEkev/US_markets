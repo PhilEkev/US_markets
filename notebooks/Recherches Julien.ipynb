{
 "cells": [
  {
   "cell_type": "markdown",
   "id": "4cb91dab",
   "metadata": {},
   "source": [
    "# Exploration package ARIMA"
   ]
  },
  {
   "cell_type": "markdown",
   "id": "bb75873d",
   "metadata": {},
   "source": [
    "## Imports"
   ]
  },
  {
   "cell_type": "code",
   "execution_count": 1,
   "id": "7ed3ab62",
   "metadata": {},
   "outputs": [],
   "source": [
    "%load_ext autoreload\n",
    "%autoreload 2"
   ]
  },
  {
   "cell_type": "code",
   "execution_count": 2,
   "id": "012fbeb9",
   "metadata": {},
   "outputs": [],
   "source": [
    "from US_markets.arima import *"
   ]
  },
  {
   "cell_type": "code",
   "execution_count": 3,
   "id": "0e34df5d",
   "metadata": {},
   "outputs": [],
   "source": [
    "data = get_data()"
   ]
  },
  {
   "cell_type": "code",
   "execution_count": null,
   "id": "01385533",
   "metadata": {},
   "outputs": [],
   "source": [
    "df_sym, train, test, date_test = preprocess(data, 'MSFT')"
   ]
  },
  {
   "cell_type": "code",
   "execution_count": null,
   "id": "af556297",
   "metadata": {},
   "outputs": [],
   "source": [
    "df_sym"
   ]
  },
  {
   "cell_type": "code",
   "execution_count": null,
   "id": "ff623dde",
   "metadata": {},
   "outputs": [],
   "source": [
    "train.shape, test.shape"
   ]
  },
  {
   "cell_type": "code",
   "execution_count": null,
   "id": "47492178",
   "metadata": {},
   "outputs": [],
   "source": [
    "best_order = get_best_model(df_sym, train)"
   ]
  },
  {
   "cell_type": "code",
   "execution_count": null,
   "id": "5ef5d5b8",
   "metadata": {},
   "outputs": [],
   "source": [
    "best_order"
   ]
  },
  {
   "cell_type": "code",
   "execution_count": null,
   "id": "5295f3a1",
   "metadata": {},
   "outputs": [],
   "source": [
    "model = ARIMA(train, order=best_order).fit()"
   ]
  },
  {
   "cell_type": "code",
   "execution_count": null,
   "id": "30aae312",
   "metadata": {},
   "outputs": [],
   "source": [
    "len_test = len(test)"
   ]
  },
  {
   "cell_type": "code",
   "execution_count": null,
   "id": "050b10b1",
   "metadata": {},
   "outputs": [],
   "source": [
    "forecast, stderr, conf_int = forecast(model, len_test)"
   ]
  },
  {
   "cell_type": "code",
   "execution_count": null,
   "id": "54f05b81",
   "metadata": {},
   "outputs": [],
   "source": [
    "accuracy = forecast_accuracy(forecast, test)"
   ]
  },
  {
   "cell_type": "code",
   "execution_count": null,
   "id": "d00d7f35",
   "metadata": {},
   "outputs": [],
   "source": [
    "accuracy"
   ]
  },
  {
   "cell_type": "code",
   "execution_count": null,
   "id": "7fb26b59",
   "metadata": {},
   "outputs": [],
   "source": [
    "import matplotlib.pyplot as plt\n",
    "\n",
    "forecast.index = test.index\n",
    "conf_int.index = test.index"
   ]
  },
  {
   "cell_type": "code",
   "execution_count": null,
   "id": "afe8a0e0",
   "metadata": {},
   "outputs": [],
   "source": [
    "plt.figure(figsize=(15,5))\n",
    "plt.plot(forecast, c='orange')\n",
    "plt.plot(conf_int['low'], label='low', c='orange', ls='--')\n",
    "plt.plot(conf_int['high'], label='high', c='orange', ls='--')\n",
    "plt.plot(test, c='blue')\n",
    "plt.legend()\n",
    "plt.fill_between(test.index, conf_int['low'], conf_int['high'], color='k', alpha=.15)"
   ]
  },
  {
   "cell_type": "code",
   "execution_count": null,
   "id": "5e219651",
   "metadata": {},
   "outputs": [],
   "source": [
    "data2 = get_data()"
   ]
  },
  {
   "cell_type": "code",
   "execution_count": null,
   "id": "193fa89b",
   "metadata": {},
   "outputs": [],
   "source": [
    "df_sym, train, test, date_test = preprocess(data2, 'MSFT')"
   ]
  },
  {
   "cell_type": "code",
   "execution_count": null,
   "id": "5365662b",
   "metadata": {},
   "outputs": [],
   "source": [
    "df_sym"
   ]
  },
  {
   "cell_type": "code",
   "execution_count": 4,
   "id": "3d94d9e9",
   "metadata": {},
   "outputs": [
    {
     "data": {
      "text/plain": [
       "0           MSFT\n",
       "1           MSFT\n",
       "2           MSFT\n",
       "3           MSFT\n",
       "4           MSFT\n",
       "            ... \n",
       "23528430    FATE\n",
       "23528431    FATE\n",
       "23528432    FATE\n",
       "23528433    FATE\n",
       "23528434    FATE\n",
       "Name: symbol, Length: 23528435, dtype: object"
      ]
     },
     "execution_count": 4,
     "metadata": {},
     "output_type": "execute_result"
    }
   ],
   "source": [
    "data = data['symbol']\n",
    "data"
   ]
  },
  {
   "cell_type": "code",
   "execution_count": 7,
   "id": "36732bd7",
   "metadata": {},
   "outputs": [],
   "source": [
    "data = data.unique()"
   ]
  },
  {
   "cell_type": "code",
   "execution_count": 8,
   "id": "0a4fd11a",
   "metadata": {},
   "outputs": [
    {
     "data": {
      "text/plain": [
       "array(['MSFT', 'AAPL', 'EBAY', ..., 'TSHA', 'OYST', 'SAQNW'], dtype=object)"
      ]
     },
     "execution_count": 8,
     "metadata": {},
     "output_type": "execute_result"
    }
   ],
   "source": [
    "data"
   ]
  },
  {
   "cell_type": "code",
   "execution_count": 20,
   "id": "936a8721",
   "metadata": {},
   "outputs": [],
   "source": [
    "tab_cmp = pd.DataFrame(data, columns=['symbol']).sort_values(by='symbol')"
   ]
  },
  {
   "cell_type": "code",
   "execution_count": 21,
   "id": "e5df688d",
   "metadata": {},
   "outputs": [],
   "source": [
    "tab_cmp.to_csv('../raw_data/compagny.csv', encoding='utf-8', index=False)"
   ]
  },
  {
   "cell_type": "code",
   "execution_count": 1,
   "id": "ba020830",
   "metadata": {},
   "outputs": [],
   "source": [
    "import yfinance as yf"
   ]
  },
  {
   "cell_type": "code",
   "execution_count": 5,
   "id": "ff9a17e8",
   "metadata": {},
   "outputs": [],
   "source": [
    "msft = yf.Ticker('AAPL')"
   ]
  },
  {
   "cell_type": "code",
   "execution_count": 6,
   "id": "856b1036",
   "metadata": {},
   "outputs": [
    {
     "data": {
      "text/html": [
       "<div>\n",
       "<style scoped>\n",
       "    .dataframe tbody tr th:only-of-type {\n",
       "        vertical-align: middle;\n",
       "    }\n",
       "\n",
       "    .dataframe tbody tr th {\n",
       "        vertical-align: top;\n",
       "    }\n",
       "\n",
       "    .dataframe thead th {\n",
       "        text-align: right;\n",
       "    }\n",
       "</style>\n",
       "<table border=\"1\" class=\"dataframe\">\n",
       "  <thead>\n",
       "    <tr style=\"text-align: right;\">\n",
       "      <th></th>\n",
       "      <th>Open</th>\n",
       "      <th>High</th>\n",
       "      <th>Low</th>\n",
       "      <th>Close</th>\n",
       "      <th>Volume</th>\n",
       "      <th>Dividends</th>\n",
       "      <th>Stock Splits</th>\n",
       "    </tr>\n",
       "    <tr>\n",
       "      <th>Date</th>\n",
       "      <th></th>\n",
       "      <th></th>\n",
       "      <th></th>\n",
       "      <th></th>\n",
       "      <th></th>\n",
       "      <th></th>\n",
       "      <th></th>\n",
       "    </tr>\n",
       "  </thead>\n",
       "  <tbody>\n",
       "    <tr>\n",
       "      <th>1980-12-12</th>\n",
       "      <td>0.100751</td>\n",
       "      <td>0.101189</td>\n",
       "      <td>0.100751</td>\n",
       "      <td>0.100751</td>\n",
       "      <td>469033600</td>\n",
       "      <td>0.0</td>\n",
       "      <td>0.0</td>\n",
       "    </tr>\n",
       "    <tr>\n",
       "      <th>1980-12-15</th>\n",
       "      <td>0.095933</td>\n",
       "      <td>0.095933</td>\n",
       "      <td>0.095495</td>\n",
       "      <td>0.095495</td>\n",
       "      <td>175884800</td>\n",
       "      <td>0.0</td>\n",
       "      <td>0.0</td>\n",
       "    </tr>\n",
       "    <tr>\n",
       "      <th>1980-12-16</th>\n",
       "      <td>0.088923</td>\n",
       "      <td>0.088923</td>\n",
       "      <td>0.088485</td>\n",
       "      <td>0.088485</td>\n",
       "      <td>105728000</td>\n",
       "      <td>0.0</td>\n",
       "      <td>0.0</td>\n",
       "    </tr>\n",
       "    <tr>\n",
       "      <th>1980-12-17</th>\n",
       "      <td>0.090676</td>\n",
       "      <td>0.091114</td>\n",
       "      <td>0.090676</td>\n",
       "      <td>0.090676</td>\n",
       "      <td>86441600</td>\n",
       "      <td>0.0</td>\n",
       "      <td>0.0</td>\n",
       "    </tr>\n",
       "    <tr>\n",
       "      <th>1980-12-18</th>\n",
       "      <td>0.093304</td>\n",
       "      <td>0.093742</td>\n",
       "      <td>0.093304</td>\n",
       "      <td>0.093304</td>\n",
       "      <td>73449600</td>\n",
       "      <td>0.0</td>\n",
       "      <td>0.0</td>\n",
       "    </tr>\n",
       "    <tr>\n",
       "      <th>...</th>\n",
       "      <td>...</td>\n",
       "      <td>...</td>\n",
       "      <td>...</td>\n",
       "      <td>...</td>\n",
       "      <td>...</td>\n",
       "      <td>...</td>\n",
       "      <td>...</td>\n",
       "    </tr>\n",
       "    <tr>\n",
       "      <th>2021-06-08</th>\n",
       "      <td>126.599998</td>\n",
       "      <td>128.460007</td>\n",
       "      <td>126.209999</td>\n",
       "      <td>126.739998</td>\n",
       "      <td>74403800</td>\n",
       "      <td>0.0</td>\n",
       "      <td>0.0</td>\n",
       "    </tr>\n",
       "    <tr>\n",
       "      <th>2021-06-09</th>\n",
       "      <td>127.209999</td>\n",
       "      <td>127.750000</td>\n",
       "      <td>126.519997</td>\n",
       "      <td>127.129997</td>\n",
       "      <td>56877900</td>\n",
       "      <td>0.0</td>\n",
       "      <td>0.0</td>\n",
       "    </tr>\n",
       "    <tr>\n",
       "      <th>2021-06-10</th>\n",
       "      <td>127.019997</td>\n",
       "      <td>128.190002</td>\n",
       "      <td>125.940002</td>\n",
       "      <td>126.110001</td>\n",
       "      <td>71186400</td>\n",
       "      <td>0.0</td>\n",
       "      <td>0.0</td>\n",
       "    </tr>\n",
       "    <tr>\n",
       "      <th>2021-06-11</th>\n",
       "      <td>126.529999</td>\n",
       "      <td>127.440002</td>\n",
       "      <td>126.099998</td>\n",
       "      <td>127.349998</td>\n",
       "      <td>53415300</td>\n",
       "      <td>0.0</td>\n",
       "      <td>0.0</td>\n",
       "    </tr>\n",
       "    <tr>\n",
       "      <th>2021-06-14</th>\n",
       "      <td>127.820000</td>\n",
       "      <td>130.490005</td>\n",
       "      <td>127.070000</td>\n",
       "      <td>130.479996</td>\n",
       "      <td>96906490</td>\n",
       "      <td>0.0</td>\n",
       "      <td>0.0</td>\n",
       "    </tr>\n",
       "  </tbody>\n",
       "</table>\n",
       "<p>10212 rows × 7 columns</p>\n",
       "</div>"
      ],
      "text/plain": [
       "                  Open        High         Low       Close     Volume  \\\n",
       "Date                                                                    \n",
       "1980-12-12    0.100751    0.101189    0.100751    0.100751  469033600   \n",
       "1980-12-15    0.095933    0.095933    0.095495    0.095495  175884800   \n",
       "1980-12-16    0.088923    0.088923    0.088485    0.088485  105728000   \n",
       "1980-12-17    0.090676    0.091114    0.090676    0.090676   86441600   \n",
       "1980-12-18    0.093304    0.093742    0.093304    0.093304   73449600   \n",
       "...                ...         ...         ...         ...        ...   \n",
       "2021-06-08  126.599998  128.460007  126.209999  126.739998   74403800   \n",
       "2021-06-09  127.209999  127.750000  126.519997  127.129997   56877900   \n",
       "2021-06-10  127.019997  128.190002  125.940002  126.110001   71186400   \n",
       "2021-06-11  126.529999  127.440002  126.099998  127.349998   53415300   \n",
       "2021-06-14  127.820000  130.490005  127.070000  130.479996   96906490   \n",
       "\n",
       "            Dividends  Stock Splits  \n",
       "Date                                 \n",
       "1980-12-12        0.0           0.0  \n",
       "1980-12-15        0.0           0.0  \n",
       "1980-12-16        0.0           0.0  \n",
       "1980-12-17        0.0           0.0  \n",
       "1980-12-18        0.0           0.0  \n",
       "...               ...           ...  \n",
       "2021-06-08        0.0           0.0  \n",
       "2021-06-09        0.0           0.0  \n",
       "2021-06-10        0.0           0.0  \n",
       "2021-06-11        0.0           0.0  \n",
       "2021-06-14        0.0           0.0  \n",
       "\n",
       "[10212 rows x 7 columns]"
      ]
     },
     "execution_count": 6,
     "metadata": {},
     "output_type": "execute_result"
    }
   ],
   "source": [
    "msft.history(period=\"max\")"
   ]
  },
  {
   "cell_type": "code",
   "execution_count": null,
   "id": "a621d844",
   "metadata": {},
   "outputs": [],
   "source": []
  }
 ],
 "metadata": {
  "kernelspec": {
   "display_name": "Python 3",
   "language": "python",
   "name": "python3"
  },
  "language_info": {
   "codemirror_mode": {
    "name": "ipython",
    "version": 3
   },
   "file_extension": ".py",
   "mimetype": "text/x-python",
   "name": "python",
   "nbconvert_exporter": "python",
   "pygments_lexer": "ipython3",
   "version": "3.8.6"
  },
  "toc": {
   "base_numbering": 1,
   "nav_menu": {},
   "number_sections": true,
   "sideBar": true,
   "skip_h1_title": false,
   "title_cell": "Table of Contents",
   "title_sidebar": "Contents",
   "toc_cell": false,
   "toc_position": {
    "height": "calc(100% - 180px)",
    "left": "10px",
    "top": "150px",
    "width": "192px"
   },
   "toc_section_display": true,
   "toc_window_display": true
  }
 },
 "nbformat": 4,
 "nbformat_minor": 5
}
